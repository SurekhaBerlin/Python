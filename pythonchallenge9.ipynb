{
  "nbformat": 4,
  "nbformat_minor": 0,
  "metadata": {
    "colab": {
      "provenance": [],
      "authorship_tag": "ABX9TyOAUNHBmExVBKkrLfriNUfH",
      "include_colab_link": true
    },
    "kernelspec": {
      "name": "python3",
      "display_name": "Python 3"
    },
    "language_info": {
      "name": "python"
    }
  },
  "cells": [
    {
      "cell_type": "markdown",
      "metadata": {
        "id": "view-in-github",
        "colab_type": "text"
      },
      "source": [
        "<a href=\"https://colab.research.google.com/github/SurekhaBerlin/Python/blob/main/pythonchallenge9.ipynb\" target=\"_parent\"><img src=\"https://colab.research.google.com/assets/colab-badge.svg\" alt=\"Open In Colab\"/></a>"
      ]
    },
    {
      "cell_type": "code",
      "execution_count": null,
      "metadata": {
        "colab": {
          "base_uri": "https://localhost:8080/"
        },
        "id": "DBw0lXu8PqOM",
        "outputId": "6ce6faa3-9506-46d7-9427-abca941e9bc1"
      },
      "outputs": [
        {
          "output_type": "stream",
          "name": "stdout",
          "text": [
            "Enter the first name: Surekha\n",
            "7\n",
            "Enter the sur name: Berlin\n",
            "6\n",
            "Surekha Berlin\n",
            "14\n"
          ]
        }
      ],
      "source": [
        "name = str(input(\"Enter the first name: \"))\n",
        "print(len(name))\n",
        "surname = str(input(\"Enter the sur name: \"))\n",
        "print(len(surname))\n",
        "full_name = name + ' ' + surname\n",
        "print(full_name)\n",
        "print(len(full_name))"
      ]
    },
    {
      "cell_type": "code",
      "source": [
        "subject = str(input('Enter your favourite subject: '))\n",
        "for letter in subject:\n",
        "  print(letter, end = '-')"
      ],
      "metadata": {
        "colab": {
          "base_uri": "https://localhost:8080/"
        },
        "id": "lF7OoFfYRV8n",
        "outputId": "3b485f42-f8d4-40e4-bbc8-696ad301c5a8"
      },
      "execution_count": null,
      "outputs": [
        {
          "output_type": "stream",
          "name": "stdout",
          "text": [
            "Enter your favourite subject: maths\n",
            "m-a-t-h-s-"
          ]
        }
      ]
    },
    {
      "cell_type": "code",
      "source": [
        "poem = \"Twinkle Twinkle Little Star\"\n",
        "print(poem)\n",
        "print()\n",
        "start = int(input('Enter a starting point:  '))\n",
        "end = int(input('Enter an ending point:  '))\n",
        "print(poem[start:end])"
      ],
      "metadata": {
        "colab": {
          "base_uri": "https://localhost:8080/"
        },
        "id": "tKnLBz4kSXne",
        "outputId": "414c6ef1-3413-4212-c989-1467db0c5f4d"
      },
      "execution_count": null,
      "outputs": [
        {
          "output_type": "stream",
          "name": "stdout",
          "text": [
            "Twinkle Twinkle Little Star\n",
            "\n",
            "Enter a starting point:  3\n",
            "Enter an ending point:  9\n",
            "nkle T\n"
          ]
        }
      ]
    },
    {
      "cell_type": "code",
      "source": [
        "msg = str(input('Enter a msg in uppercase !'))\n",
        "tryagain = False\n",
        "\n",
        "while tryagain == False:\n",
        "\n",
        "  if msg.isupper():\n",
        "    tryagain = True\n",
        "    print('Thank you !')\n",
        "\n",
        "\n",
        "  else:\n",
        "    print('Try Again!')\n",
        "    msg = str(input('Enter a msg in uppercase !'))\n",
        "\n"
      ],
      "metadata": {
        "colab": {
          "base_uri": "https://localhost:8080/"
        },
        "id": "6FKGQotZ3fPI",
        "outputId": "963b70af-4e57-4996-f026-45ec8b45edbd"
      },
      "execution_count": null,
      "outputs": [
        {
          "output_type": "stream",
          "name": "stdout",
          "text": [
            "Enter a msg in uppercase !fafkaf\n",
            "Try Again!\n",
            "Enter a msg in uppercase !addadad\n",
            "Try Again!\n",
            "Enter a msg in uppercase !adadadad\n",
            "Try Again!\n",
            "Enter a msg in uppercase !DEAR\n",
            "Thank you !\n"
          ]
        }
      ]
    },
    {
      "cell_type": "code",
      "source": [
        "postcode = input('Enter your postcode:   ')\n",
        "upperpost = postcode[0:2] . upper()\n",
        "print(upperpost)"
      ],
      "metadata": {
        "colab": {
          "base_uri": "https://localhost:8080/"
        },
        "id": "6gJIMKO36YDl",
        "outputId": "f81606c3-627a-4c0f-b156-c4aee6d3d534"
      },
      "execution_count": null,
      "outputs": [
        {
          "output_type": "stream",
          "name": "stdout",
          "text": [
            "Enter your postcode:   afnagdy\n",
            "AF\n"
          ]
        }
      ]
    },
    {
      "cell_type": "code",
      "source": [
        "name = str(input('Enter your name here: '))\n",
        "count = 0\n",
        "name = name.lower()\n",
        "for x in name:\n",
        "  if x == 'a' or x == 'e'or x == 'i' or x == 'o' or x =='u':\n",
        "    count = count + 1\n",
        "print(\"vowels = \" , count)"
      ],
      "metadata": {
        "colab": {
          "base_uri": "https://localhost:8080/"
        },
        "id": "Cu4JX94A9CUd",
        "outputId": "a240172d-af65-4390-dcd8-27bb15e9d1fd"
      },
      "execution_count": null,
      "outputs": [
        {
          "output_type": "stream",
          "name": "stdout",
          "text": [
            "Enter your name here: SurekhaBerlin\n",
            "vowels =  5\n"
          ]
        }
      ]
    },
    {
      "cell_type": "code",
      "source": [],
      "metadata": {
        "id": "sddRmJDn8Mgj"
      },
      "execution_count": null,
      "outputs": []
    },
    {
      "cell_type": "code",
      "source": [
        "password = str(input('Enter a new password:   '))\n",
        "reenter = str(input('Enter it again: '))\n",
        "if password == reenter:\n",
        "  print('Thank you ! ')\n",
        "elif password.lower() == reenter.lower():\n",
        "  print('They must be in the same case!  ')\n",
        "else:\n",
        "  print('Incorrect !!')"
      ],
      "metadata": {
        "id": "15zrbqu89t-I",
        "colab": {
          "base_uri": "https://localhost:8080/"
        },
        "outputId": "b9bbf68f-a66e-4197-fafe-4fde567f665d"
      },
      "execution_count": 7,
      "outputs": [
        {
          "output_type": "stream",
          "name": "stdout",
          "text": [
            "Enter a new password:   surekhaBee\n",
            "Enter it again: surekhabee\n",
            "They must be in the same case!  \n"
          ]
        }
      ]
    },
    {
      "cell_type": "code",
      "source": [
        "word = str(input('Enter a word:  '))\n",
        "length = len(word)\n",
        "num = 1\n",
        "for x in word:\n",
        "  position = length - num\n",
        "  letter = word[position]\n",
        "  print (letter)\n",
        "  num = num + 1"
      ],
      "metadata": {
        "colab": {
          "base_uri": "https://localhost:8080/"
        },
        "id": "NE3SgtYC8y78",
        "outputId": "aaea631d-ef0b-4060-fe54-977eca21e883"
      },
      "execution_count": 13,
      "outputs": [
        {
          "output_type": "stream",
          "name": "stdout",
          "text": [
            "Enter a word:  Berlin\n",
            "n\n",
            "i\n",
            "l\n",
            "r\n",
            "e\n",
            "B\n"
          ]
        }
      ]
    },
    {
      "cell_type": "code",
      "source": [],
      "metadata": {
        "id": "TonTqkoy_lHd"
      },
      "execution_count": null,
      "outputs": []
    }
  ]
}