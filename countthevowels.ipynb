{
  "nbformat": 4,
  "nbformat_minor": 0,
  "metadata": {
    "colab": {
      "provenance": [],
      "authorship_tag": "ABX9TyM9VuliAKuAF//ywx9tavp7",
      "include_colab_link": true
    },
    "kernelspec": {
      "name": "python3",
      "display_name": "Python 3"
    },
    "language_info": {
      "name": "python"
    }
  },
  "cells": [
    {
      "cell_type": "markdown",
      "metadata": {
        "id": "view-in-github",
        "colab_type": "text"
      },
      "source": [
        "<a href=\"https://colab.research.google.com/github/SurekhaBerlin/pythonexamples/blob/main/countthevowels.ipynb\" target=\"_parent\"><img src=\"https://colab.research.google.com/assets/colab-badge.svg\" alt=\"Open In Colab\"/></a>"
      ]
    },
    {
      "cell_type": "markdown",
      "source": [
        "Count the Number of Vowels using Python count()\n"
      ],
      "metadata": {
        "id": "jBKeQh8eq-6x"
      }
    },
    {
      "cell_type": "code",
      "source": [
        "string = input(\"Enter the word: \")\n",
        "vowels = \"aeiouAEIOU\"\n",
        "\n",
        "count = sum(string . count(vowel) for vowel in vowels)\n",
        "print(count)"
      ],
      "metadata": {
        "colab": {
          "base_uri": "https://localhost:8080/"
        },
        "id": "owdISqHErFqG",
        "outputId": "f056df00-ba7e-4463-de1a-f1967a335250"
      },
      "execution_count": 5,
      "outputs": [
        {
          "output_type": "stream",
          "name": "stdout",
          "text": [
            "Enter the word: Berlin\n",
            "2\n"
          ]
        }
      ]
    },
    {
      "cell_type": "code",
      "source": [
        "string = input(\"Enter the word: \")\n",
        "vowels = \"aeiouAEIOU\"\n",
        "\n",
        "count = sum(string . count(vowel) for vowel in vowels)\n",
        "print(count)"
      ],
      "metadata": {
        "colab": {
          "base_uri": "https://localhost:8080/"
        },
        "id": "kovPiLUwrjhM",
        "outputId": "33306459-150b-4835-c917-30467b59dc91"
      },
      "execution_count": 3,
      "outputs": [
        {
          "output_type": "stream",
          "name": "stdout",
          "text": [
            "Enter the word: dictionary\n",
            "4\n"
          ]
        }
      ]
    },
    {
      "cell_type": "code",
      "source": [
        "string = input(\"Enter the word: \")\n",
        "vowels = \"aeiouAEIOU\"\n",
        "\n",
        "count = sum(string . count(vowel) for vowel in vowels)\n",
        "print(count)\n"
      ],
      "metadata": {
        "colab": {
          "base_uri": "https://localhost:8080/"
        },
        "id": "GkQhnPUur-FE",
        "outputId": "fa62668e-ed91-4e10-9795-1be051f9124a"
      },
      "execution_count": 4,
      "outputs": [
        {
          "output_type": "stream",
          "name": "stdout",
          "text": [
            "Enter the word: Achan\n",
            "2\n"
          ]
        }
      ]
    },
    {
      "cell_type": "code",
      "source": [],
      "metadata": {
        "id": "ZS5t3n-ssDRi"
      },
      "execution_count": 4,
      "outputs": []
    }
  ]
}