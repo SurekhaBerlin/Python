{
  "nbformat": 4,
  "nbformat_minor": 0,
  "metadata": {
    "colab": {
      "provenance": [],
      "authorship_tag": "ABX9TyO8X0yu4+Tb7IA2oTUTeqV+",
      "include_colab_link": true
    },
    "kernelspec": {
      "name": "python3",
      "display_name": "Python 3"
    },
    "language_info": {
      "name": "python"
    }
  },
  "cells": [
    {
      "cell_type": "markdown",
      "metadata": {
        "id": "view-in-github",
        "colab_type": "text"
      },
      "source": [
        "<a href=\"https://colab.research.google.com/github/SurekhaBerlin/Python/blob/main/countthevowels.ipynb\" target=\"_parent\"><img src=\"https://colab.research.google.com/assets/colab-badge.svg\" alt=\"Open In Colab\"/></a>"
      ]
    },
    {
      "cell_type": "markdown",
      "source": [
        "Count the Number of Vowels using Python count()\n"
      ],
      "metadata": {
        "id": "jBKeQh8eq-6x"
      }
    },
    {
      "cell_type": "code",
      "source": [
        "string = input(\"Enter the word: \")\n",
        "vowels = \"aeiouAEIOU\"\n",
        "\n",
        "count = sum(string . count(vowel) for vowel in vowels)\n",
        "print(count)"
      ],
      "metadata": {
        "colab": {
          "base_uri": "https://localhost:8080/"
        },
        "id": "owdISqHErFqG",
        "outputId": "f056df00-ba7e-4463-de1a-f1967a335250"
      },
      "execution_count": 5,
      "outputs": [
        {
          "output_type": "stream",
          "name": "stdout",
          "text": [
            "Enter the word: Berlin\n",
            "2\n"
          ]
        }
      ]
    },
    {
      "cell_type": "code",
      "source": [
        "string = input(\"Enter the word: \")\n",
        "vowels = \"aeiouAEIOU\"\n",
        "\n",
        "count = sum(string . count(vowel) for vowel in vowels)\n",
        "print(count)"
      ],
      "metadata": {
        "colab": {
          "base_uri": "https://localhost:8080/"
        },
        "id": "kovPiLUwrjhM",
        "outputId": "33306459-150b-4835-c917-30467b59dc91"
      },
      "execution_count": 3,
      "outputs": [
        {
          "output_type": "stream",
          "name": "stdout",
          "text": [
            "Enter the word: dictionary\n",
            "4\n"
          ]
        }
      ]
    },
    {
      "cell_type": "code",
      "source": [
        "string = input(\"Enter the word: \")\n",
        "vowels = \"aeiouAEIOU\"\n",
        "\n",
        "count = sum(string . count(vowel) for vowel in vowels)\n",
        "print(count)\n"
      ],
      "metadata": {
        "colab": {
          "base_uri": "https://localhost:8080/"
        },
        "id": "GkQhnPUur-FE",
        "outputId": "fa62668e-ed91-4e10-9795-1be051f9124a"
      },
      "execution_count": 4,
      "outputs": [
        {
          "output_type": "stream",
          "name": "stdout",
          "text": [
            "Enter the word: Achan\n",
            "2\n"
          ]
        }
      ]
    },
    {
      "cell_type": "code",
      "source": [],
      "metadata": {
        "id": "ZS5t3n-ssDRi"
      },
      "execution_count": 4,
      "outputs": []
    },
    {
      "cell_type": "markdown",
      "source": [
        "Count Vowels in String Using for Loop"
      ],
      "metadata": {
        "id": "GYOcUHFdzlC-"
      }
    },
    {
      "cell_type": "code",
      "source": [
        "def vowel_count(string):\n",
        "  count = 0\n",
        "  vowel = set(\"aeiouAEIOU\")\n",
        "  for alphabet in string:\n",
        "    if alphabet in vowel:\n",
        "      count = count + 1\n",
        "  print(\"No of Vowels :  \", count)\n",
        "string = input(\"Enter the String:  \")\n",
        "\n",
        "vowel_count(string)\n"
      ],
      "metadata": {
        "colab": {
          "base_uri": "https://localhost:8080/"
        },
        "id": "cx53wEGIzmp7",
        "outputId": "b76a376b-1130-4240-e146-591f82f44bc4"
      },
      "execution_count": 1,
      "outputs": [
        {
          "output_type": "stream",
          "name": "stdout",
          "text": [
            "Enter the String:  I am happy\n",
            "No of Vowels :   3\n"
          ]
        }
      ]
    },
    {
      "cell_type": "code",
      "source": [],
      "metadata": {
        "id": "SnGOr_frZS7R"
      },
      "execution_count": null,
      "outputs": []
    },
    {
      "cell_type": "markdown",
      "source": [
        "Count Vowels in String Using ReGex expression\n"
      ],
      "metadata": {
        "id": "iC2gqnxBZlGk"
      }
    },
    {
      "cell_type": "code",
      "source": [
        "import re\n",
        "\n",
        "string = input( \"Enter the String:  \")\n",
        "vowels = r'[aeiouAEIOU]'\n",
        "count = len(re.findall(vowels, string))\n",
        "print(count)\n"
      ],
      "metadata": {
        "colab": {
          "base_uri": "https://localhost:8080/"
        },
        "id": "vAk-l5RzZhZy",
        "outputId": "1edc6ad9-28c6-475c-bcb9-6771cde2140b"
      },
      "execution_count": 3,
      "outputs": [
        {
          "output_type": "stream",
          "name": "stdout",
          "text": [
            "Enter the String:  Just little things\n",
            "4\n"
          ]
        }
      ]
    },
    {
      "cell_type": "code",
      "source": [],
      "metadata": {
        "id": "PKz-fXltZjtd"
      },
      "execution_count": null,
      "outputs": []
    }
  ]
}