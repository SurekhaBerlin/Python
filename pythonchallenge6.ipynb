{
  "nbformat": 4,
  "nbformat_minor": 0,
  "metadata": {
    "colab": {
      "provenance": [],
      "authorship_tag": "ABX9TyMJbxcJ1x3827QP/mPt+y7m",
      "include_colab_link": true
    },
    "kernelspec": {
      "name": "python3",
      "display_name": "Python 3"
    },
    "language_info": {
      "name": "python"
    }
  },
  "cells": [
    {
      "cell_type": "markdown",
      "metadata": {
        "id": "view-in-github",
        "colab_type": "text"
      },
      "source": [
        "<a href=\"https://colab.research.google.com/github/SurekhaBerlin/Python/blob/main/pythonchallenge6.ipynb\" target=\"_parent\"><img src=\"https://colab.research.google.com/assets/colab-badge.svg\" alt=\"Open In Colab\"/></a>"
      ]
    },
    {
      "cell_type": "code",
      "execution_count": null,
      "metadata": {
        "colab": {
          "base_uri": "https://localhost:8080/"
        },
        "id": "KNbKul0Zy5V4",
        "outputId": "4dc69230-a651-4cbe-f462-b4cde7538762"
      },
      "outputs": [
        {
          "output_type": "stream",
          "name": "stdout",
          "text": [
            "Enter a number: 55\n",
            "The total is  55\n"
          ]
        }
      ],
      "source": [
        "total = 0\n",
        "while total <= 50:\n",
        "  num = int(input(\"Enter a number: \"))\n",
        "  total = total + num\n",
        "  print(\"The total is \", total)\n"
      ]
    },
    {
      "cell_type": "code",
      "source": [
        "num = 0\n",
        "while num <= 5:\n",
        "  num = int(input(\"Enter a number: \"))\n",
        "print( \"The last number you entered is \", num)\n"
      ],
      "metadata": {
        "colab": {
          "base_uri": "https://localhost:8080/"
        },
        "id": "wQU--5aDzdwR",
        "outputId": "f980b612-b4ec-43ae-879f-d05cebd168ae"
      },
      "execution_count": null,
      "outputs": [
        {
          "output_type": "stream",
          "name": "stdout",
          "text": [
            "Enter a number: 3\n",
            "Enter a number: 4\n",
            "Enter a number: 5\n",
            "Enter a number: 6\n",
            "The last number you entered is  6\n"
          ]
        }
      ]
    },
    {
      "cell_type": "code",
      "source": [
        "num1 = int(input(\"Enter a number: \"))\n",
        "total = num1\n",
        "ask = str(input(\"If they want to add another number? y/n : \"))\n",
        "while ask == \"y\":\n",
        "  num2 = int(input(\"Enter a number: \"))\n",
        "  total = total + num2\n",
        "  ask = str(input(\"If they want to add another number? y/n : \"))\n",
        "print (\"The total is\", total)"
      ],
      "metadata": {
        "colab": {
          "base_uri": "https://localhost:8080/"
        },
        "id": "6OutNQP50hMp",
        "outputId": "86efa825-5bf8-436e-8d64-3ce299012f28"
      },
      "execution_count": null,
      "outputs": [
        {
          "output_type": "stream",
          "name": "stdout",
          "text": [
            "Enter a number: 34\n",
            "If they want to add another number? y/n : y\n",
            "Enter a number: 34\n",
            "If they want to add another number? y/n : y\n",
            "Enter a number: 56\n",
            "If they want to add another number? y/n : n\n",
            "The total is 124\n"
          ]
        }
      ]
    },
    {
      "cell_type": "code",
      "source": [
        "again = \"y\"\n",
        "count = 0\n",
        "while again == 'y':\n",
        "  name = str(input(\"Enter the name who the user want to invite for the party ? \"))\n",
        "  print(name, \"has now been invited \")\n",
        "  count = count + 1\n",
        "  again = str(input(\"If they want to add another person? y/n : \"))\n",
        "print(count,\"are coming for the party\")"
      ],
      "metadata": {
        "colab": {
          "base_uri": "https://localhost:8080/"
        },
        "id": "Yyf6FMCV17Uz",
        "outputId": "5a5da8e9-99d0-4771-f204-b669f9b60d1c"
      },
      "execution_count": null,
      "outputs": [
        {
          "output_type": "stream",
          "name": "stdout",
          "text": [
            "Enter the name who the user want to invite for the party ? Bee\n",
            "Bee has now been invited \n",
            "If they want to add another person? y/n : y\n",
            "Enter the name who the user want to invite for the party ? Su\n",
            "Su has now been invited \n",
            "If they want to add another person? y/n : n\n",
            "2 are coming for the party\n"
          ]
        }
      ]
    },
    {
      "cell_type": "code",
      "source": [
        "compnum = 50\n",
        "guess = int(input(\"Enter a number: \"))\n",
        "count = 1\n",
        "while guess != compnum:\n",
        "  if guess < compnum:\n",
        "    print(\"The guess is too low !\")\n",
        "  else:\n",
        "    print(\"The guess is too high !\")\n",
        "  count = count+1\n",
        "  guess = int(input(\"Enter a number: \"))\n",
        "print(\"Well done, you took\",count, \"attempts !\")"
      ],
      "metadata": {
        "colab": {
          "base_uri": "https://localhost:8080/"
        },
        "id": "m6eW51V_4OeW",
        "outputId": "b45a288f-0dca-4a93-8436-1b50bd19b5ef"
      },
      "execution_count": null,
      "outputs": [
        {
          "output_type": "stream",
          "name": "stdout",
          "text": [
            "Enter a number: 44\n",
            "The guess is too low !\n",
            "Enter a number: 55\n",
            "The guess is too high !\n",
            "Enter a number: 50\n",
            "Well done, you took 3 attempts !\n"
          ]
        }
      ]
    },
    {
      "cell_type": "code",
      "source": [
        "num = int(input(\"Enter a number between 10 and 20 : \"))\n",
        "while num < 10 or num > 20:\n",
        "  if num < 10:\n",
        "    print(\"Too low, Please try again !\")\n",
        "  elif num > 20:\n",
        "    print(\"Too high, Please try again !\")\n",
        "  num = int(input(\"Enter a number between 10 and 20 : \"))\n",
        "print(\"Thank you ! \")\n"
      ],
      "metadata": {
        "colab": {
          "base_uri": "https://localhost:8080/"
        },
        "id": "ZJ6OCVHP6yFB",
        "outputId": "9c0946b5-2b2b-4369-e07c-4f63c579a33f"
      },
      "execution_count": null,
      "outputs": [
        {
          "output_type": "stream",
          "name": "stdout",
          "text": [
            "Enter a number between 10 and 20 : 11\n",
            "Thank you ! \n"
          ]
        }
      ]
    },
    {
      "cell_type": "code",
      "source": [
        "num = int(input(\"Enter a number : \"))\n",
        "while num > 0:\n",
        "  print(\"There are \",num , \"green bottles hanging on the wall and if 1 green bottle should accidently fall\")\n",
        "  ans = int(input(\"How may green bottles are remaining?\"))\n",
        "  num = num - 1\n",
        "  if ans == num:\n",
        "    print(\"There will be \", ans ,\"green bottles hanging on the wall\")\n",
        "  else:\n",
        "    while ans != num:\n",
        "      ans = int(input(\"No, Try again !:\"   ))\n",
        "print(\"There are no more green bottles hanging on the wall !\")\n"
      ],
      "metadata": {
        "colab": {
          "base_uri": "https://localhost:8080/"
        },
        "id": "tlBx8wMC7tHu",
        "outputId": "2dd0a2f1-3a10-4544-f7f4-4615f1984dee"
      },
      "execution_count": null,
      "outputs": [
        {
          "output_type": "stream",
          "name": "stdout",
          "text": [
            "Enter a number : 8\n",
            "There are  8 green bottles hanging on the wall and if 1 green bottle should accidently fall\n",
            "How may green bottles are remaining?7\n",
            "There will be  7 green bottles hanging on the wall\n",
            "There are  7 green bottles hanging on the wall and if 1 green bottle should accidently fall\n",
            "How may green bottles are remaining?6\n",
            "There will be  6 green bottles hanging on the wall\n",
            "There are  6 green bottles hanging on the wall and if 1 green bottle should accidently fall\n",
            "How may green bottles are remaining?5\n",
            "There will be  5 green bottles hanging on the wall\n",
            "There are  5 green bottles hanging on the wall and if 1 green bottle should accidently fall\n",
            "How may green bottles are remaining?4\n",
            "There will be  4 green bottles hanging on the wall\n",
            "There are  4 green bottles hanging on the wall and if 1 green bottle should accidently fall\n",
            "How may green bottles are remaining?3\n",
            "There will be  3 green bottles hanging on the wall\n",
            "There are  3 green bottles hanging on the wall and if 1 green bottle should accidently fall\n",
            "How may green bottles are remaining?2\n",
            "There will be  2 green bottles hanging on the wall\n",
            "There are  2 green bottles hanging on the wall and if 1 green bottle should accidently fall\n",
            "How may green bottles are remaining?1\n",
            "There will be  1 green bottles hanging on the wall\n",
            "There are  1 green bottles hanging on the wall and if 1 green bottle should accidently fall\n",
            "How may green bottles are remaining?1\n",
            "No, Try again !0\n",
            "There are no more green bottles hanging on the wall !\n"
          ]
        }
      ]
    },
    {
      "cell_type": "code",
      "source": [
        "\n"
      ],
      "metadata": {
        "id": "e636mET699bq"
      },
      "execution_count": null,
      "outputs": []
    }
  ]
}