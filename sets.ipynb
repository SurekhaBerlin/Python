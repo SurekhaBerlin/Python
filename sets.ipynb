{
  "nbformat": 4,
  "nbformat_minor": 0,
  "metadata": {
    "colab": {
      "provenance": [],
      "authorship_tag": "ABX9TyPHpKj6xAlaV4D/qk2cp2qf",
      "include_colab_link": true
    },
    "kernelspec": {
      "name": "python3",
      "display_name": "Python 3"
    },
    "language_info": {
      "name": "python"
    }
  },
  "cells": [
    {
      "cell_type": "markdown",
      "metadata": {
        "id": "view-in-github",
        "colab_type": "text"
      },
      "source": [
        "<a href=\"https://colab.research.google.com/github/SurekhaBerlin/Python/blob/master/sets.ipynb\" target=\"_parent\"><img src=\"https://colab.research.google.com/assets/colab-badge.svg\" alt=\"Open In Colab\"/></a>"
      ]
    },
    {
      "cell_type": "code",
      "execution_count": null,
      "metadata": {
        "id": "ghCVfgNnOeeA"
      },
      "outputs": [],
      "source": []
    },
    {
      "cell_type": "markdown",
      "source": [
        "Sets\n",
        "they are type pf collections like lists , tuples sorting mixed data\n",
        "They dont allow duplicated\n",
        "They are unordered"
      ],
      "metadata": {
        "id": "SzcivKBaQFMH"
      }
    },
    {
      "cell_type": "code",
      "source": [
        "list1 = [1,2,3,4,1,2,2,4,5,5,6,6]\n"
      ],
      "metadata": {
        "id": "mBxq_5JyQXk6"
      },
      "execution_count": 1,
      "outputs": []
    },
    {
      "cell_type": "code",
      "source": [
        "s1 = {1,2,3,4,5}"
      ],
      "metadata": {
        "id": "2qSj5DTKRAOY"
      },
      "execution_count": 2,
      "outputs": []
    },
    {
      "cell_type": "code",
      "source": [
        "s1.add(6)"
      ],
      "metadata": {
        "id": "7LeFfsxnRD92"
      },
      "execution_count": 3,
      "outputs": []
    },
    {
      "cell_type": "code",
      "source": [
        "s1"
      ],
      "metadata": {
        "colab": {
          "base_uri": "https://localhost:8080/"
        },
        "id": "Yh9mQsLRRF6I",
        "outputId": "1083616d-924f-4a70-d8ec-21c6b631f57e"
      },
      "execution_count": 4,
      "outputs": [
        {
          "output_type": "execute_result",
          "data": {
            "text/plain": [
              "{1, 2, 3, 4, 5, 6}"
            ]
          },
          "metadata": {},
          "execution_count": 4
        }
      ]
    },
    {
      "cell_type": "code",
      "source": [
        "\n",
        "s1.remove(4)"
      ],
      "metadata": {
        "id": "pcwvXCO7RGcW"
      },
      "execution_count": 5,
      "outputs": []
    },
    {
      "cell_type": "code",
      "source": [
        "s1"
      ],
      "metadata": {
        "colab": {
          "base_uri": "https://localhost:8080/"
        },
        "id": "cEsAO6wXRIyp",
        "outputId": "8858a3ed-e5d3-41b0-d822-72e208974924"
      },
      "execution_count": 6,
      "outputs": [
        {
          "output_type": "execute_result",
          "data": {
            "text/plain": [
              "{1, 2, 3, 5, 6}"
            ]
          },
          "metadata": {},
          "execution_count": 6
        }
      ]
    },
    {
      "cell_type": "code",
      "source": [],
      "metadata": {
        "id": "nvl_3KUXRJ3V"
      },
      "execution_count": null,
      "outputs": []
    },
    {
      "cell_type": "markdown",
      "source": [
        "set funtions|"
      ],
      "metadata": {
        "id": "xsY-nRjARMRZ"
      }
    },
    {
      "cell_type": "code",
      "source": [],
      "metadata": {
        "id": "jZw84LmCROdG"
      },
      "execution_count": null,
      "outputs": []
    },
    {
      "cell_type": "markdown",
      "source": [
        "\n",
        "\n",
        "> union A U B\n",
        "\n",
        "\n",
        "> intersection A & B\n",
        "\n",
        "\n",
        "> Difference A - B\n",
        "\n",
        "\n",
        "> Symmetric differennce\n",
        "\n",
        "\n",
        "\n",
        "\n",
        "\n",
        "\n",
        "\n"
      ],
      "metadata": {
        "id": "CIxjyx7pRPtJ"
      }
    },
    {
      "cell_type": "code",
      "source": [
        "s1 = {1,2,3,4,5,6}\n",
        "s2 = {2,4,6,8,10}"
      ],
      "metadata": {
        "id": "AOgkNQW5RcQA"
      },
      "execution_count": 7,
      "outputs": []
    },
    {
      "cell_type": "code",
      "source": [
        "print (s1 | s2 )"
      ],
      "metadata": {
        "colab": {
          "base_uri": "https://localhost:8080/"
        },
        "id": "AxgPGi4USkFy",
        "outputId": "d6cc6fba-96e4-4a21-a055-ea31b9fe2a0d"
      },
      "execution_count": 8,
      "outputs": [
        {
          "output_type": "stream",
          "name": "stdout",
          "text": [
            "{1, 2, 3, 4, 5, 6, 8, 10}\n"
          ]
        }
      ]
    },
    {
      "cell_type": "code",
      "source": [
        "print(s1. union(s2))"
      ],
      "metadata": {
        "colab": {
          "base_uri": "https://localhost:8080/"
        },
        "id": "489v4lI8Sp6g",
        "outputId": "a4da3000-8721-44a8-ba24-f3634df97c92"
      },
      "execution_count": 9,
      "outputs": [
        {
          "output_type": "stream",
          "name": "stdout",
          "text": [
            "{1, 2, 3, 4, 5, 6, 8, 10}\n"
          ]
        }
      ]
    },
    {
      "cell_type": "code",
      "source": [
        "print (s1 & s2)"
      ],
      "metadata": {
        "colab": {
          "base_uri": "https://localhost:8080/"
        },
        "id": "TqDV7vZXStzg",
        "outputId": "04c07306-7b45-4075-e18c-e1fff4e73c2a"
      },
      "execution_count": 10,
      "outputs": [
        {
          "output_type": "stream",
          "name": "stdout",
          "text": [
            "{2, 4, 6}\n"
          ]
        }
      ]
    },
    {
      "cell_type": "code",
      "source": [
        "print(s1.intersection(s2))"
      ],
      "metadata": {
        "colab": {
          "base_uri": "https://localhost:8080/"
        },
        "id": "sFrpgZ0ISyLS",
        "outputId": "a04d8b5e-aab7-49f6-fcf2-363fef156b18"
      },
      "execution_count": 11,
      "outputs": [
        {
          "output_type": "stream",
          "name": "stdout",
          "text": [
            "{2, 4, 6}\n"
          ]
        }
      ]
    },
    {
      "cell_type": "code",
      "source": [
        "print (s1 - s2)"
      ],
      "metadata": {
        "colab": {
          "base_uri": "https://localhost:8080/"
        },
        "id": "-iKutqK_S1fQ",
        "outputId": "7be90488-b5ec-4196-f350-65e774a3bf3f"
      },
      "execution_count": 12,
      "outputs": [
        {
          "output_type": "stream",
          "name": "stdout",
          "text": [
            "{1, 3, 5}\n"
          ]
        }
      ]
    },
    {
      "cell_type": "code",
      "source": [
        "print(s1.difference(s2))"
      ],
      "metadata": {
        "colab": {
          "base_uri": "https://localhost:8080/"
        },
        "id": "CC2HuIccS5Lv",
        "outputId": "9dcae2ec-4e6d-4df2-f7d3-e7c930777ac7"
      },
      "execution_count": 13,
      "outputs": [
        {
          "output_type": "stream",
          "name": "stdout",
          "text": [
            "{1, 3, 5}\n"
          ]
        }
      ]
    },
    {
      "cell_type": "code",
      "source": [
        "print (s1 ^ s2)"
      ],
      "metadata": {
        "colab": {
          "base_uri": "https://localhost:8080/"
        },
        "id": "F2VGRmewS8o_",
        "outputId": "b2a39fcc-5342-4d52-e085-16d8d5aa8292"
      },
      "execution_count": 14,
      "outputs": [
        {
          "output_type": "stream",
          "name": "stdout",
          "text": [
            "{1, 3, 5, 8, 10}\n"
          ]
        }
      ]
    },
    {
      "cell_type": "code",
      "source": [
        "print(s1.symmetric_difference(s2))\n"
      ],
      "metadata": {
        "colab": {
          "base_uri": "https://localhost:8080/"
        },
        "id": "sDux-rdsS_kv",
        "outputId": "5f8a84cb-903c-4951-c2df-224ce7f3204b"
      },
      "execution_count": 15,
      "outputs": [
        {
          "output_type": "stream",
          "name": "stdout",
          "text": [
            "{1, 3, 5, 8, 10}\n"
          ]
        }
      ]
    },
    {
      "cell_type": "code",
      "source": [
        "print(s1.union(s2).difference(s1.intersection(s2)))"
      ],
      "metadata": {
        "colab": {
          "base_uri": "https://localhost:8080/"
        },
        "id": "xFhhXj97TFV-",
        "outputId": "7961b004-9486-4581-c0cd-13d6f1bc71dc"
      },
      "execution_count": 16,
      "outputs": [
        {
          "output_type": "stream",
          "name": "stdout",
          "text": [
            "{1, 3, 5, 8, 10}\n"
          ]
        }
      ]
    },
    {
      "cell_type": "code",
      "source": [],
      "metadata": {
        "id": "dlF7eP0XTRyu"
      },
      "execution_count": null,
      "outputs": []
    },
    {
      "cell_type": "markdown",
      "source": [
        "Practice"
      ],
      "metadata": {
        "id": "d8aUEMaTTXeW"
      }
    },
    {
      "cell_type": "code",
      "source": [
        "A = [5,1,3,4,4,5,6,7]\n",
        "B = [3,3,5,5,1,7,2]"
      ],
      "metadata": {
        "id": "wVxu7jFdTYy_"
      },
      "execution_count": 17,
      "outputs": []
    },
    {
      "cell_type": "code",
      "source": [],
      "metadata": {
        "id": "wd7AHTuxTkL9"
      },
      "execution_count": null,
      "outputs": []
    },
    {
      "cell_type": "markdown",
      "source": [
        "Let's say you have two lists: A--> 5,1,3,4,4,5,6,7 and B--> 3,3,5,5,1,7,2. Identify the elements which are common in two lists and return them in a sorted manner."
      ],
      "metadata": {
        "id": "Cs1IjJ4VTotc"
      }
    },
    {
      "cell_type": "code",
      "source": [
        "set(A)"
      ],
      "metadata": {
        "colab": {
          "base_uri": "https://localhost:8080/"
        },
        "id": "z3RoA5CrTpe_",
        "outputId": "c9e1dad9-cd0d-4cf1-e7e3-cb2b62949027"
      },
      "execution_count": 22,
      "outputs": [
        {
          "output_type": "execute_result",
          "data": {
            "text/plain": [
              "{1, 3, 4, 5, 6, 7}"
            ]
          },
          "metadata": {},
          "execution_count": 22
        }
      ]
    },
    {
      "cell_type": "code",
      "source": [
        "set(B)"
      ],
      "metadata": {
        "colab": {
          "base_uri": "https://localhost:8080/"
        },
        "id": "W9P1NU2_TwAM",
        "outputId": "08cc24fc-e8c5-4332-866a-696b8da9c986"
      },
      "execution_count": 23,
      "outputs": [
        {
          "output_type": "execute_result",
          "data": {
            "text/plain": [
              "{1, 2, 3, 5, 7}"
            ]
          },
          "metadata": {},
          "execution_count": 23
        }
      ]
    },
    {
      "cell_type": "code",
      "source": [
        "print (A & B )"
      ],
      "metadata": {
        "colab": {
          "base_uri": "https://localhost:8080/"
        },
        "id": "bmUCKsODUDyL",
        "outputId": "aa10c678-eb14-40e1-f8e9-d77aa5a56f68"
      },
      "execution_count": 24,
      "outputs": [
        {
          "output_type": "stream",
          "name": "stdout",
          "text": [
            "{1, 3, 5, 7}\n"
          ]
        }
      ]
    },
    {
      "cell_type": "code",
      "source": [
        "sorted (list(set (A & B)))"
      ],
      "metadata": {
        "colab": {
          "base_uri": "https://localhost:8080/"
        },
        "id": "_WDERQG5UtdM",
        "outputId": "f999441e-d9b2-45e2-be4c-a5bab315a0ec"
      },
      "execution_count": 27,
      "outputs": [
        {
          "output_type": "execute_result",
          "data": {
            "text/plain": [
              "[1, 3, 5, 7]"
            ]
          },
          "metadata": {},
          "execution_count": 27
        }
      ]
    },
    {
      "cell_type": "code",
      "source": [],
      "metadata": {
        "id": "j6AIe4FeU8Ws"
      },
      "execution_count": 26,
      "outputs": []
    }
  ]
}