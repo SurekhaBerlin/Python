{
  "nbformat": 4,
  "nbformat_minor": 0,
  "metadata": {
    "colab": {
      "provenance": [],
      "authorship_tag": "ABX9TyPIl4fs7DAlQBw5duQkc76b",
      "include_colab_link": true
    },
    "kernelspec": {
      "name": "python3",
      "display_name": "Python 3"
    },
    "language_info": {
      "name": "python"
    }
  },
  "cells": [
    {
      "cell_type": "markdown",
      "metadata": {
        "id": "view-in-github",
        "colab_type": "text"
      },
      "source": [
        "<a href=\"https://colab.research.google.com/github/SurekhaBerlin/Python/blob/main/pythonchallenge12.ipynb\" target=\"_parent\"><img src=\"https://colab.research.google.com/assets/colab-badge.svg\" alt=\"Open In Colab\"/></a>"
      ]
    },
    {
      "cell_type": "markdown",
      "source": [
        "subprograms\n"
      ],
      "metadata": {
        "id": "hSAxnbWfwyeD"
      }
    },
    {
      "cell_type": "code",
      "source": [
        "def get_name():\n",
        "  user_name = input(\"Enter your name: \")\n",
        "  return user_name\n",
        "\n",
        "def print_Msg(user_name):\n",
        "  print(\"Hello\", user_name)\n",
        "\n",
        "def main():\n",
        "  user_name = get_name()\n",
        "  print_Msg(user_name)\n",
        "\n",
        "main()"
      ],
      "metadata": {
        "colab": {
          "base_uri": "https://localhost:8080/"
        },
        "id": "LP91XR_qwz5J",
        "outputId": "13793406-7002-4639-e6f1-bca3a6a05120"
      },
      "execution_count": null,
      "outputs": [
        {
          "output_type": "stream",
          "name": "stdout",
          "text": [
            "Enter your name: Berlin\n",
            "Hello Berlin\n"
          ]
        }
      ]
    },
    {
      "cell_type": "code",
      "source": [
        "def get_data():\n",
        "  user_name = input(\"Enter your name : \")\n",
        "  user_age = int(input(\"Enter your age : \"))\n",
        "  data_tuple = (user_name , user_age)\n",
        "  return data_tuple"
      ],
      "metadata": {
        "id": "x9GHSOxbxWd1"
      },
      "execution_count": null,
      "outputs": []
    },
    {
      "cell_type": "code",
      "source": [],
      "metadata": {
        "id": "ddN-H6dfyTQo"
      },
      "execution_count": null,
      "outputs": []
    }
  ]
}