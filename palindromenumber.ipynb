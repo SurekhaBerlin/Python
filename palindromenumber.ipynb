{
  "nbformat": 4,
  "nbformat_minor": 0,
  "metadata": {
    "colab": {
      "provenance": [],
      "authorship_tag": "ABX9TyPCcDnPk4EGIYA6dCvOt7mt",
      "include_colab_link": true
    },
    "kernelspec": {
      "name": "python3",
      "display_name": "Python 3"
    },
    "language_info": {
      "name": "python"
    }
  },
  "cells": [
    {
      "cell_type": "markdown",
      "metadata": {
        "id": "view-in-github",
        "colab_type": "text"
      },
      "source": [
        "<a href=\"https://colab.research.google.com/github/SurekhaBerlin/Python/blob/main/palindromenumber.ipynb\" target=\"_parent\"><img src=\"https://colab.research.google.com/assets/colab-badge.svg\" alt=\"Open In Colab\"/></a>"
      ]
    },
    {
      "cell_type": "code",
      "execution_count": null,
      "metadata": {
        "id": "XcjYWZ0yKG5X"
      },
      "outputs": [],
      "source": []
    },
    {
      "cell_type": "markdown",
      "source": [
        " check a number is palindrome or not\n"
      ],
      "metadata": {
        "id": "TqUdpais1xqr"
      }
    },
    {
      "cell_type": "code",
      "source": [
        "num = 19991\n",
        "temp = num\n",
        "rev = 0\n",
        "\n",
        "while(num > 0):\n",
        "\n",
        "  digit = num % 10\n",
        "  rev = rev * 10 + digit\n",
        "  num  = num // 10\n",
        "\n",
        "if(temp == rev):\n",
        "\n",
        "   print(\"Yes, the number is a palindrome!\")\n",
        "\n",
        "else:\n",
        "\n",
        "   print(\"No, the number is not a palindrome!\")"
      ],
      "metadata": {
        "id": "pwotNcFL10ff",
        "colab": {
          "base_uri": "https://localhost:8080/"
        },
        "outputId": "332dfdc4-3986-4f88-e945-fd340fc56154"
      },
      "execution_count": 20,
      "outputs": [
        {
          "output_type": "stream",
          "name": "stdout",
          "text": [
            "Yes, the number is a palindrome!\n"
          ]
        }
      ]
    },
    {
      "cell_type": "code",
      "source": [
        "n=123211\n",
        "temp=n\n",
        "rev=0\n",
        "\n",
        "while n > 0:\n",
        "   dig=n%10\n",
        "   rev=rev*10+dig\n",
        "   n=n//10\n",
        "\n",
        "if(temp==rev):\n",
        "   print(\"Yes, the number is a palindrome!\")\n",
        "else:\n",
        "   print(\"No, the number isn't a palindrome!\")"
      ],
      "metadata": {
        "colab": {
          "base_uri": "https://localhost:8080/"
        },
        "id": "122BNUlKleGU",
        "outputId": "9f5f2ef3-800d-4ba2-8c9a-a09082386cea"
      },
      "execution_count": 19,
      "outputs": [
        {
          "output_type": "stream",
          "name": "stdout",
          "text": [
            "No, the number isn't a palindrome!\n"
          ]
        }
      ]
    },
    {
      "cell_type": "code",
      "source": [],
      "metadata": {
        "id": "wW400RqslkxE"
      },
      "execution_count": null,
      "outputs": []
    }
  ]
}