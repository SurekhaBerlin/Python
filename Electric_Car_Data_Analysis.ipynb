{
 "cells": [
  {
   "cell_type": "markdown",
   "id": "a2af1eed",
   "metadata": {
    "id": "R_bHoo6WKfzf",
    "papermill": {
     "duration": 0.029897,
     "end_time": "2024-08-29T05:10:33.408037",
     "exception": false,
     "start_time": "2024-08-29T05:10:33.378140",
     "status": "completed"
    },
    "tags": []
   },
   "source": [
    "# ELECTRIC VEHICLE DATA ANALYSIS"
   ]
  },
  {
   "cell_type": "markdown",
   "id": "45c13ca3",
   "metadata": {
    "id": "bSW_H_yUKYHH",
    "papermill": {
     "duration": 0.023959,
     "end_time": "2024-08-29T05:10:33.457924",
     "exception": false,
     "start_time": "2024-08-29T05:10:33.433965",
     "status": "completed"
    },
    "tags": []
   },
   "source": [
    "## STEP 1: Importing Libraries"
   ]
  },
  {
   "cell_type": "code",
   "execution_count": 1,
   "id": "5f9745d9",
   "metadata": {
    "execution": {
     "iopub.execute_input": "2024-08-29T05:10:33.507669Z",
     "iopub.status.busy": "2024-08-29T05:10:33.507215Z",
     "iopub.status.idle": "2024-08-29T05:10:35.984316Z",
     "shell.execute_reply": "2024-08-29T05:10:35.982736Z"
    },
    "id": "PyGAeyZjFgpn",
    "papermill": {
     "duration": 2.505695,
     "end_time": "2024-08-29T05:10:35.987534",
     "exception": false,
     "start_time": "2024-08-29T05:10:33.481839",
     "status": "completed"
    },
    "tags": []
   },
   "outputs": [],
   "source": [
    "import pandas as pd\n",
    "import matplotlib.pyplot as plt\n",
    "import seaborn as sns\n",
    "from sklearn.preprocessing import LabelEncoder\n"
   ]
  },
  {
   "cell_type": "markdown",
   "id": "19bd9c26",
   "metadata": {
    "id": "_KZRJheNKlP-",
    "papermill": {
     "duration": 0.023113,
     "end_time": "2024-08-29T05:10:36.034674",
     "exception": false,
     "start_time": "2024-08-29T05:10:36.011561",
     "status": "completed"
    },
    "tags": []
   },
   "source": [
    "## STEP 2: Reading the Data"
   ]
  },
  {
   "cell_type": "code",
   "execution_count": 2,
   "id": "8997040d",
   "metadata": {
    "execution": {
     "iopub.execute_input": "2024-08-29T05:10:36.087115Z",
     "iopub.status.busy": "2024-08-29T05:10:36.086222Z",
     "iopub.status.idle": "2024-08-29T05:10:37.115350Z",
     "shell.execute_reply": "2024-08-29T05:10:37.114070Z"
    },
    "id": "AoS0Cx1LKIiz",
    "papermill": {
     "duration": 1.057712,
     "end_time": "2024-08-29T05:10:37.118366",
     "exception": false,
     "start_time": "2024-08-29T05:10:36.060654",
     "status": "completed"
    },
    "tags": []
   },
   "outputs": [],
   "source": [
    "data = pd.read_csv(\"/kaggle/input/electric-vehicle-data-1997-2024-update-version/us_car_data.csv\")"
   ]
  },
  {
   "cell_type": "markdown",
   "id": "c05f7cf3",
   "metadata": {
    "id": "qVRodtJMX9Ts",
    "papermill": {
     "duration": 0.024052,
     "end_time": "2024-08-29T05:10:37.166933",
     "exception": false,
     "start_time": "2024-08-29T05:10:37.142881",
     "status": "completed"
    },
    "tags": []
   },
   "source": [
    "## STEP 3: Data Exploring"
   ]
  },
  {
   "cell_type": "code",
   "execution_count": 3,
   "id": "2d078e25",
   "metadata": {
    "execution": {
     "iopub.execute_input": "2024-08-29T05:10:37.215961Z",
     "iopub.status.busy": "2024-08-29T05:10:37.215454Z",
     "iopub.status.idle": "2024-08-29T05:10:37.250902Z",
     "shell.execute_reply": "2024-08-29T05:10:37.249410Z"
    },
    "id": "ytb3rmcP3oP9",
    "outputId": "6fb34a61-9b1a-432c-d5c0-2fd037405b5e",
    "papermill": {
     "duration": 0.063291,
     "end_time": "2024-08-29T05:10:37.253769",
     "exception": false,
     "start_time": "2024-08-29T05:10:37.190478",
     "status": "completed"
    },
    "tags": []
   },
   "outputs": [
    {
     "data": {
      "text/html": [
       "<div>\n",
       "<style scoped>\n",
       "    .dataframe tbody tr th:only-of-type {\n",
       "        vertical-align: middle;\n",
       "    }\n",
       "\n",
       "    .dataframe tbody tr th {\n",
       "        vertical-align: top;\n",
       "    }\n",
       "\n",
       "    .dataframe thead th {\n",
       "        text-align: right;\n",
       "    }\n",
       "</style>\n",
       "<table border=\"1\" class=\"dataframe\">\n",
       "  <thead>\n",
       "    <tr style=\"text-align: right;\">\n",
       "      <th></th>\n",
       "      <th>County</th>\n",
       "      <th>City</th>\n",
       "      <th>State</th>\n",
       "      <th>Postal Code</th>\n",
       "      <th>Model Year</th>\n",
       "      <th>Make</th>\n",
       "      <th>Model</th>\n",
       "      <th>Electric Vehicle Type</th>\n",
       "      <th>CAFV</th>\n",
       "      <th>Electric Range</th>\n",
       "      <th>Base MSRP</th>\n",
       "      <th>Legislative District</th>\n",
       "      <th>DOL Vehicle ID</th>\n",
       "      <th>Electric Utility</th>\n",
       "      <th>2020 Census Tract</th>\n",
       "      <th>Longitude</th>\n",
       "      <th>latitude</th>\n",
       "    </tr>\n",
       "  </thead>\n",
       "  <tbody>\n",
       "    <tr>\n",
       "      <th>0</th>\n",
       "      <td>Thurston</td>\n",
       "      <td>Tumwater</td>\n",
       "      <td>WA</td>\n",
       "      <td>98512</td>\n",
       "      <td>2019</td>\n",
       "      <td>TESLA</td>\n",
       "      <td>MODEL 3</td>\n",
       "      <td>Battery Electric Vehicle</td>\n",
       "      <td>Clean Alternative Fuel Vehicle Eligible</td>\n",
       "      <td>220</td>\n",
       "      <td>0</td>\n",
       "      <td>22</td>\n",
       "      <td>242565116</td>\n",
       "      <td>PUGET SOUND ENERGY INC</td>\n",
       "      <td>53067010910</td>\n",
       "      <td>-122.913102</td>\n",
       "      <td>47.013593</td>\n",
       "    </tr>\n",
       "    <tr>\n",
       "      <th>1</th>\n",
       "      <td>Island</td>\n",
       "      <td>Clinton</td>\n",
       "      <td>WA</td>\n",
       "      <td>98236</td>\n",
       "      <td>2022</td>\n",
       "      <td>NISSAN</td>\n",
       "      <td>LEAF</td>\n",
       "      <td>Battery Electric Vehicle</td>\n",
       "      <td>Eligibility unknown as battery range has not b...</td>\n",
       "      <td>0</td>\n",
       "      <td>0</td>\n",
       "      <td>10</td>\n",
       "      <td>183272785</td>\n",
       "      <td>PUGET SOUND ENERGY INC</td>\n",
       "      <td>53029972000</td>\n",
       "      <td>-122.359364</td>\n",
       "      <td>47.979655</td>\n",
       "    </tr>\n",
       "    <tr>\n",
       "      <th>2</th>\n",
       "      <td>Snohomish</td>\n",
       "      <td>Snohomish</td>\n",
       "      <td>WA</td>\n",
       "      <td>98290</td>\n",
       "      <td>2020</td>\n",
       "      <td>TESLA</td>\n",
       "      <td>MODEL 3</td>\n",
       "      <td>Battery Electric Vehicle</td>\n",
       "      <td>Clean Alternative Fuel Vehicle Eligible</td>\n",
       "      <td>266</td>\n",
       "      <td>0</td>\n",
       "      <td>44</td>\n",
       "      <td>112552366</td>\n",
       "      <td>PUGET SOUND ENERGY INC</td>\n",
       "      <td>53061052502</td>\n",
       "      <td>-122.091505</td>\n",
       "      <td>47.915555</td>\n",
       "    </tr>\n",
       "    <tr>\n",
       "      <th>3</th>\n",
       "      <td>King</td>\n",
       "      <td>Seattle</td>\n",
       "      <td>WA</td>\n",
       "      <td>98134</td>\n",
       "      <td>2020</td>\n",
       "      <td>TESLA</td>\n",
       "      <td>MODEL 3</td>\n",
       "      <td>Battery Electric Vehicle</td>\n",
       "      <td>Clean Alternative Fuel Vehicle Eligible</td>\n",
       "      <td>322</td>\n",
       "      <td>0</td>\n",
       "      <td>11</td>\n",
       "      <td>6336319</td>\n",
       "      <td>CITY OF SEATTLE - (WA)|CITY OF TACOMA - (WA)</td>\n",
       "      <td>53033009300</td>\n",
       "      <td>-122.329815</td>\n",
       "      <td>47.579810</td>\n",
       "    </tr>\n",
       "    <tr>\n",
       "      <th>4</th>\n",
       "      <td>Snohomish</td>\n",
       "      <td>Edmonds</td>\n",
       "      <td>WA</td>\n",
       "      <td>98020</td>\n",
       "      <td>2013</td>\n",
       "      <td>TESLA</td>\n",
       "      <td>MODEL S</td>\n",
       "      <td>Battery Electric Vehicle</td>\n",
       "      <td>Clean Alternative Fuel Vehicle Eligible</td>\n",
       "      <td>208</td>\n",
       "      <td>69900</td>\n",
       "      <td>21</td>\n",
       "      <td>186212960</td>\n",
       "      <td>PUGET SOUND ENERGY INC</td>\n",
       "      <td>53061050403</td>\n",
       "      <td>-122.375070</td>\n",
       "      <td>47.808070</td>\n",
       "    </tr>\n",
       "  </tbody>\n",
       "</table>\n",
       "</div>"
      ],
      "text/plain": [
       "      County       City State  Postal Code  Model Year    Make    Model  \\\n",
       "0   Thurston   Tumwater    WA        98512        2019   TESLA  MODEL 3   \n",
       "1     Island    Clinton    WA        98236        2022  NISSAN     LEAF   \n",
       "2  Snohomish  Snohomish    WA        98290        2020   TESLA  MODEL 3   \n",
       "3       King    Seattle    WA        98134        2020   TESLA  MODEL 3   \n",
       "4  Snohomish    Edmonds    WA        98020        2013   TESLA  MODEL S   \n",
       "\n",
       "         Electric Vehicle Type  \\\n",
       "0  Battery Electric Vehicle      \n",
       "1  Battery Electric Vehicle      \n",
       "2  Battery Electric Vehicle      \n",
       "3  Battery Electric Vehicle      \n",
       "4  Battery Electric Vehicle      \n",
       "\n",
       "                                                CAFV  Electric Range  \\\n",
       "0            Clean Alternative Fuel Vehicle Eligible             220   \n",
       "1  Eligibility unknown as battery range has not b...               0   \n",
       "2            Clean Alternative Fuel Vehicle Eligible             266   \n",
       "3            Clean Alternative Fuel Vehicle Eligible             322   \n",
       "4            Clean Alternative Fuel Vehicle Eligible             208   \n",
       "\n",
       "   Base MSRP  Legislative District  DOL Vehicle ID  \\\n",
       "0          0                    22       242565116   \n",
       "1          0                    10       183272785   \n",
       "2          0                    44       112552366   \n",
       "3          0                    11         6336319   \n",
       "4      69900                    21       186212960   \n",
       "\n",
       "                               Electric Utility  2020 Census Tract  \\\n",
       "0                        PUGET SOUND ENERGY INC        53067010910   \n",
       "1                        PUGET SOUND ENERGY INC        53029972000   \n",
       "2                        PUGET SOUND ENERGY INC        53061052502   \n",
       "3  CITY OF SEATTLE - (WA)|CITY OF TACOMA - (WA)        53033009300   \n",
       "4                        PUGET SOUND ENERGY INC        53061050403   \n",
       "\n",
       "    Longitude   latitude  \n",
       "0 -122.913102  47.013593  \n",
       "1 -122.359364  47.979655  \n",
       "2 -122.091505  47.915555  \n",
       "3 -122.329815  47.579810  \n",
       "4 -122.375070  47.808070  "
      ]
     },
     "execution_count": 3,
     "metadata": {},
     "output_type": "execute_result"
    }
   ],
   "source": [
    "data.head(5)"
   ]
  },
  {
   "cell_type": "code",
   "execution_count": 4,
   "id": "d0ddf310",
   "metadata": {
    "execution": {
     "iopub.execute_input": "2024-08-29T05:10:37.304586Z",
     "iopub.status.busy": "2024-08-29T05:10:37.304094Z",
     "iopub.status.idle": "2024-08-29T05:10:37.451853Z",
     "shell.execute_reply": "2024-08-29T05:10:37.450148Z"
    },
    "id": "9wYZ5FpkKRev",
    "outputId": "9736eade-d476-422c-b4ad-949775602bc1",
    "papermill": {
     "duration": 0.176304,
     "end_time": "2024-08-29T05:10:37.455205",
     "exception": false,
     "start_time": "2024-08-29T05:10:37.278901",
     "status": "completed"
    },
    "tags": []
   },
   "outputs": [
    {
     "name": "stdout",
     "output_type": "stream",
     "text": [
      "<class 'pandas.core.frame.DataFrame'>\n",
      "RangeIndex: 134474 entries, 0 to 134473\n",
      "Data columns (total 17 columns):\n",
      " #   Column                 Non-Null Count   Dtype  \n",
      "---  ------                 --------------   -----  \n",
      " 0   County                 134474 non-null  object \n",
      " 1   City                   134474 non-null  object \n",
      " 2   State                  134474 non-null  object \n",
      " 3   Postal Code            134474 non-null  int64  \n",
      " 4   Model Year             134474 non-null  int64  \n",
      " 5   Make                   134474 non-null  object \n",
      " 6   Model                  134474 non-null  object \n",
      " 7   Electric Vehicle Type  134474 non-null  object \n",
      " 8   CAFV                   134474 non-null  object \n",
      " 9   Electric Range         134474 non-null  int64  \n",
      " 10  Base MSRP              134474 non-null  int64  \n",
      " 11  Legislative District   134474 non-null  int64  \n",
      " 12  DOL Vehicle ID         134474 non-null  int64  \n",
      " 13  Electric Utility       134474 non-null  object \n",
      " 14  2020 Census Tract      134474 non-null  int64  \n",
      " 15  Longitude              134474 non-null  float64\n",
      " 16  latitude               134474 non-null  float64\n",
      "dtypes: float64(2), int64(7), object(8)\n",
      "memory usage: 17.4+ MB\n"
     ]
    }
   ],
   "source": [
    "data.info()"
   ]
  },
  {
   "cell_type": "code",
   "execution_count": 5,
   "id": "e9a32641",
   "metadata": {
    "execution": {
     "iopub.execute_input": "2024-08-29T05:10:37.505197Z",
     "iopub.status.busy": "2024-08-29T05:10:37.504726Z",
     "iopub.status.idle": "2024-08-29T05:10:37.512682Z",
     "shell.execute_reply": "2024-08-29T05:10:37.511393Z"
    },
    "id": "-cnn6WluKTRN",
    "outputId": "62b2e6b9-5a74-4d0b-f1d4-6678e46e8c3b",
    "papermill": {
     "duration": 0.035772,
     "end_time": "2024-08-29T05:10:37.515275",
     "exception": false,
     "start_time": "2024-08-29T05:10:37.479503",
     "status": "completed"
    },
    "tags": []
   },
   "outputs": [
    {
     "data": {
      "text/plain": [
       "(134474, 17)"
      ]
     },
     "execution_count": 5,
     "metadata": {},
     "output_type": "execute_result"
    }
   ],
   "source": [
    "data.shape"
   ]
  },
  {
   "cell_type": "code",
   "execution_count": 6,
   "id": "19ebd6f7",
   "metadata": {
    "execution": {
     "iopub.execute_input": "2024-08-29T05:10:37.567947Z",
     "iopub.status.busy": "2024-08-29T05:10:37.567524Z",
     "iopub.status.idle": "2024-08-29T05:10:37.662491Z",
     "shell.execute_reply": "2024-08-29T05:10:37.661154Z"
    },
    "id": "CF8UHQ97Kzze",
    "outputId": "8b36dc65-e3eb-4bf3-cc44-78799b5e6f9d",
    "papermill": {
     "duration": 0.123601,
     "end_time": "2024-08-29T05:10:37.665342",
     "exception": false,
     "start_time": "2024-08-29T05:10:37.541741",
     "status": "completed"
    },
    "tags": []
   },
   "outputs": [
    {
     "data": {
      "text/html": [
       "<div>\n",
       "<style scoped>\n",
       "    .dataframe tbody tr th:only-of-type {\n",
       "        vertical-align: middle;\n",
       "    }\n",
       "\n",
       "    .dataframe tbody tr th {\n",
       "        vertical-align: top;\n",
       "    }\n",
       "\n",
       "    .dataframe thead th {\n",
       "        text-align: right;\n",
       "    }\n",
       "</style>\n",
       "<table border=\"1\" class=\"dataframe\">\n",
       "  <thead>\n",
       "    <tr style=\"text-align: right;\">\n",
       "      <th></th>\n",
       "      <th>count</th>\n",
       "      <th>mean</th>\n",
       "      <th>std</th>\n",
       "      <th>min</th>\n",
       "      <th>25%</th>\n",
       "      <th>50%</th>\n",
       "      <th>75%</th>\n",
       "      <th>max</th>\n",
       "    </tr>\n",
       "  </thead>\n",
       "  <tbody>\n",
       "    <tr>\n",
       "      <th>Postal Code</th>\n",
       "      <td>134474.0</td>\n",
       "      <td>9.825923e+04</td>\n",
       "      <td>3.030690e+02</td>\n",
       "      <td>9.800100e+04</td>\n",
       "      <td>9.805200e+04</td>\n",
       "      <td>9.812200e+04</td>\n",
       "      <td>9.837000e+04</td>\n",
       "      <td>9.940300e+04</td>\n",
       "    </tr>\n",
       "    <tr>\n",
       "      <th>Model Year</th>\n",
       "      <td>134474.0</td>\n",
       "      <td>2.019657e+03</td>\n",
       "      <td>3.001443e+00</td>\n",
       "      <td>1.997000e+03</td>\n",
       "      <td>2.018000e+03</td>\n",
       "      <td>2.021000e+03</td>\n",
       "      <td>2.022000e+03</td>\n",
       "      <td>2.024000e+03</td>\n",
       "    </tr>\n",
       "    <tr>\n",
       "      <th>Electric Range</th>\n",
       "      <td>134474.0</td>\n",
       "      <td>7.473021e+01</td>\n",
       "      <td>9.877604e+01</td>\n",
       "      <td>0.000000e+00</td>\n",
       "      <td>0.000000e+00</td>\n",
       "      <td>2.100000e+01</td>\n",
       "      <td>1.500000e+02</td>\n",
       "      <td>3.370000e+02</td>\n",
       "    </tr>\n",
       "    <tr>\n",
       "      <th>Base MSRP</th>\n",
       "      <td>134474.0</td>\n",
       "      <td>1.451396e+03</td>\n",
       "      <td>9.691901e+03</td>\n",
       "      <td>0.000000e+00</td>\n",
       "      <td>0.000000e+00</td>\n",
       "      <td>0.000000e+00</td>\n",
       "      <td>0.000000e+00</td>\n",
       "      <td>8.450000e+05</td>\n",
       "    </tr>\n",
       "    <tr>\n",
       "      <th>Legislative District</th>\n",
       "      <td>134474.0</td>\n",
       "      <td>2.949991e+01</td>\n",
       "      <td>1.478629e+01</td>\n",
       "      <td>1.000000e+00</td>\n",
       "      <td>1.800000e+01</td>\n",
       "      <td>3.400000e+01</td>\n",
       "      <td>4.300000e+01</td>\n",
       "      <td>4.900000e+01</td>\n",
       "    </tr>\n",
       "    <tr>\n",
       "      <th>DOL Vehicle ID</th>\n",
       "      <td>134474.0</td>\n",
       "      <td>2.063218e+08</td>\n",
       "      <td>8.590842e+07</td>\n",
       "      <td>4.385000e+03</td>\n",
       "      <td>1.601798e+08</td>\n",
       "      <td>2.059191e+08</td>\n",
       "      <td>2.308773e+08</td>\n",
       "      <td>4.792548e+08</td>\n",
       "    </tr>\n",
       "    <tr>\n",
       "      <th>2020 Census Tract</th>\n",
       "      <td>134474.0</td>\n",
       "      <td>5.303964e+10</td>\n",
       "      <td>1.617660e+07</td>\n",
       "      <td>5.300195e+10</td>\n",
       "      <td>5.303301e+10</td>\n",
       "      <td>5.303303e+10</td>\n",
       "      <td>5.305307e+10</td>\n",
       "      <td>5.307794e+10</td>\n",
       "    </tr>\n",
       "    <tr>\n",
       "      <th>Longitude</th>\n",
       "      <td>134474.0</td>\n",
       "      <td>-1.220927e+02</td>\n",
       "      <td>1.006671e+00</td>\n",
       "      <td>-1.246251e+02</td>\n",
       "      <td>-1.224056e+02</td>\n",
       "      <td>-1.222964e+02</td>\n",
       "      <td>-1.221517e+02</td>\n",
       "      <td>-1.170444e+02</td>\n",
       "    </tr>\n",
       "    <tr>\n",
       "      <th>latitude</th>\n",
       "      <td>134474.0</td>\n",
       "      <td>4.746771e+01</td>\n",
       "      <td>6.152750e-01</td>\n",
       "      <td>4.558386e+01</td>\n",
       "      <td>4.735798e+01</td>\n",
       "      <td>4.761385e+01</td>\n",
       "      <td>4.771558e+01</td>\n",
       "      <td>4.899634e+01</td>\n",
       "    </tr>\n",
       "  </tbody>\n",
       "</table>\n",
       "</div>"
      ],
      "text/plain": [
       "                         count          mean           std           min  \\\n",
       "Postal Code           134474.0  9.825923e+04  3.030690e+02  9.800100e+04   \n",
       "Model Year            134474.0  2.019657e+03  3.001443e+00  1.997000e+03   \n",
       "Electric Range        134474.0  7.473021e+01  9.877604e+01  0.000000e+00   \n",
       "Base MSRP             134474.0  1.451396e+03  9.691901e+03  0.000000e+00   \n",
       "Legislative District  134474.0  2.949991e+01  1.478629e+01  1.000000e+00   \n",
       "DOL Vehicle ID        134474.0  2.063218e+08  8.590842e+07  4.385000e+03   \n",
       "2020 Census Tract     134474.0  5.303964e+10  1.617660e+07  5.300195e+10   \n",
       "Longitude             134474.0 -1.220927e+02  1.006671e+00 -1.246251e+02   \n",
       "latitude              134474.0  4.746771e+01  6.152750e-01  4.558386e+01   \n",
       "\n",
       "                               25%           50%           75%           max  \n",
       "Postal Code           9.805200e+04  9.812200e+04  9.837000e+04  9.940300e+04  \n",
       "Model Year            2.018000e+03  2.021000e+03  2.022000e+03  2.024000e+03  \n",
       "Electric Range        0.000000e+00  2.100000e+01  1.500000e+02  3.370000e+02  \n",
       "Base MSRP             0.000000e+00  0.000000e+00  0.000000e+00  8.450000e+05  \n",
       "Legislative District  1.800000e+01  3.400000e+01  4.300000e+01  4.900000e+01  \n",
       "DOL Vehicle ID        1.601798e+08  2.059191e+08  2.308773e+08  4.792548e+08  \n",
       "2020 Census Tract     5.303301e+10  5.303303e+10  5.305307e+10  5.307794e+10  \n",
       "Longitude            -1.224056e+02 -1.222964e+02 -1.221517e+02 -1.170444e+02  \n",
       "latitude              4.735798e+01  4.761385e+01  4.771558e+01  4.899634e+01  "
      ]
     },
     "execution_count": 6,
     "metadata": {},
     "output_type": "execute_result"
    }
   ],
   "source": [
    "data.describe().T"
   ]
  },
  {
   "cell_type": "code",
   "execution_count": 7,
   "id": "6addb6dc",
   "metadata": {
    "execution": {
     "iopub.execute_input": "2024-08-29T05:10:37.716866Z",
     "iopub.status.busy": "2024-08-29T05:10:37.716400Z",
     "iopub.status.idle": "2024-08-29T05:10:37.724506Z",
     "shell.execute_reply": "2024-08-29T05:10:37.723367Z"
    },
    "id": "6FJINm_sK3k2",
    "outputId": "9ff53756-dc04-4da5-ba6c-3f8d95942191",
    "papermill": {
     "duration": 0.036728,
     "end_time": "2024-08-29T05:10:37.727128",
     "exception": false,
     "start_time": "2024-08-29T05:10:37.690400",
     "status": "completed"
    },
    "tags": []
   },
   "outputs": [
    {
     "data": {
      "text/plain": [
       "Index(['County', 'City', 'State', 'Postal Code', 'Model Year', 'Make', 'Model',\n",
       "       'Electric Vehicle Type', 'CAFV', 'Electric Range', 'Base MSRP',\n",
       "       'Legislative District', 'DOL Vehicle ID', 'Electric Utility',\n",
       "       '2020 Census Tract', 'Longitude', 'latitude'],\n",
       "      dtype='object')"
      ]
     },
     "execution_count": 7,
     "metadata": {},
     "output_type": "execute_result"
    }
   ],
   "source": [
    "data.columns"
   ]
  },
  {
   "cell_type": "markdown",
   "id": "0d103c33",
   "metadata": {
    "id": "gFu9o9O_Zany",
    "papermill": {
     "duration": 0.027101,
     "end_time": "2024-08-29T05:10:37.779099",
     "exception": false,
     "start_time": "2024-08-29T05:10:37.751998",
     "status": "completed"
    },
    "tags": []
   },
   "source": [
    "## STEP 4: Data Cleaning"
   ]
  },
  {
   "cell_type": "code",
   "execution_count": 8,
   "id": "78229c22",
   "metadata": {
    "execution": {
     "iopub.execute_input": "2024-08-29T05:10:37.833012Z",
     "iopub.status.busy": "2024-08-29T05:10:37.832512Z",
     "iopub.status.idle": "2024-08-29T05:10:37.960812Z",
     "shell.execute_reply": "2024-08-29T05:10:37.959532Z"
    },
    "id": "XoouioQP4iJG",
    "outputId": "de6df9f9-9ffa-4aeb-ad72-99402d951177",
    "papermill": {
     "duration": 0.158204,
     "end_time": "2024-08-29T05:10:37.963676",
     "exception": false,
     "start_time": "2024-08-29T05:10:37.805472",
     "status": "completed"
    },
    "tags": []
   },
   "outputs": [
    {
     "data": {
      "text/plain": [
       "County                   0\n",
       "City                     0\n",
       "State                    0\n",
       "Postal Code              0\n",
       "Model Year               0\n",
       "Make                     0\n",
       "Model                    0\n",
       "Electric Vehicle Type    0\n",
       "CAFV                     0\n",
       "Electric Range           0\n",
       "Base MSRP                0\n",
       "Legislative District     0\n",
       "DOL Vehicle ID           0\n",
       "Electric Utility         0\n",
       "2020 Census Tract        0\n",
       "Longitude                0\n",
       "latitude                 0\n",
       "dtype: int64"
      ]
     },
     "execution_count": 8,
     "metadata": {},
     "output_type": "execute_result"
    }
   ],
   "source": [
    "data.isnull().sum()"
   ]
  },
  {
   "cell_type": "code",
   "execution_count": 9,
   "id": "e616aa3e",
   "metadata": {
    "execution": {
     "iopub.execute_input": "2024-08-29T05:10:38.016512Z",
     "iopub.status.busy": "2024-08-29T05:10:38.015321Z",
     "iopub.status.idle": "2024-08-29T05:10:38.146136Z",
     "shell.execute_reply": "2024-08-29T05:10:38.144155Z"
    },
    "id": "_BJ-ZN5W4h76",
    "outputId": "248e7785-e95d-4ddc-e948-00918daffc3f",
    "papermill": {
     "duration": 0.160759,
     "end_time": "2024-08-29T05:10:38.149160",
     "exception": false,
     "start_time": "2024-08-29T05:10:37.988401",
     "status": "completed"
    },
    "tags": []
   },
   "outputs": [
    {
     "name": "stdout",
     "output_type": "stream",
     "text": [
      "                       Null Count  Null Percentage\n",
      "County                          0              0.0\n",
      "City                            0              0.0\n",
      "State                           0              0.0\n",
      "Postal Code                     0              0.0\n",
      "Model Year                      0              0.0\n",
      "Make                            0              0.0\n",
      "Model                           0              0.0\n",
      "Electric Vehicle Type           0              0.0\n",
      "CAFV                            0              0.0\n",
      "Electric Range                  0              0.0\n",
      "Base MSRP                       0              0.0\n",
      "Legislative District            0              0.0\n",
      "DOL Vehicle ID                  0              0.0\n",
      "Electric Utility                0              0.0\n",
      "2020 Census Tract               0              0.0\n",
      "Longitude                       0              0.0\n",
      "latitude                        0              0.0\n"
     ]
    }
   ],
   "source": [
    "# Calculate the number of null values for each column\n",
    "null_counts = data.isnull().sum()\n",
    "\n",
    "# Calculate the percentage of null values for each column\n",
    "null_percentage = ((null_counts / len(data))*100)\n",
    "\n",
    "# Create a DataFrame to display the results\n",
    "null_summary = pd.DataFrame({\n",
    "    'Null Count': null_counts,\n",
    "    'Null Percentage': null_percentage\n",
    "})\n",
    "\n",
    "# Display the summary\n",
    "print(null_summary)"
   ]
  },
  {
   "cell_type": "code",
   "execution_count": 10,
   "id": "71e7d24e",
   "metadata": {
    "execution": {
     "iopub.execute_input": "2024-08-29T05:10:38.201926Z",
     "iopub.status.busy": "2024-08-29T05:10:38.200572Z",
     "iopub.status.idle": "2024-08-29T05:10:38.390419Z",
     "shell.execute_reply": "2024-08-29T05:10:38.388771Z"
    },
    "papermill": {
     "duration": 0.22017,
     "end_time": "2024-08-29T05:10:38.394449",
     "exception": false,
     "start_time": "2024-08-29T05:10:38.174279",
     "status": "completed"
    },
    "tags": []
   },
   "outputs": [
    {
     "name": "stdout",
     "output_type": "stream",
     "text": [
      "County                     0\n",
      "City                       0\n",
      "State                      0\n",
      "Postal Code                0\n",
      "Model Year                 0\n",
      "Make                       0\n",
      "Model                      0\n",
      "Electric Vehicle Type      0\n",
      "CAFV                       0\n",
      "Electric Range             0\n",
      "Base MSRP                  0\n",
      "Legislative District       0\n",
      "DOL Vehicle ID             0\n",
      "Electric Utility           0\n",
      "2020 Census Tract          0\n",
      "Longitude                0.0\n",
      "latitude                 0.0\n",
      "dtype: object\n"
     ]
    }
   ],
   "source": [
    "# Find duplicate rows\n",
    "duplicates = data[data.duplicated()].sum()\n",
    "\n",
    "print(duplicates)"
   ]
  },
  {
   "cell_type": "markdown",
   "id": "8aab0ffa",
   "metadata": {
    "papermill": {
     "duration": 0.024776,
     "end_time": "2024-08-29T05:10:38.445655",
     "exception": false,
     "start_time": "2024-08-29T05:10:38.420879",
     "status": "completed"
    },
    "tags": []
   },
   "source": [
    "> Checking for outlier "
   ]
  },
  {
   "cell_type": "code",
   "execution_count": 11,
   "id": "80056220",
   "metadata": {
    "execution": {
     "iopub.execute_input": "2024-08-29T05:10:38.499505Z",
     "iopub.status.busy": "2024-08-29T05:10:38.498849Z",
     "iopub.status.idle": "2024-08-29T05:10:39.499874Z",
     "shell.execute_reply": "2024-08-29T05:10:39.498581Z"
    },
    "papermill": {
     "duration": 1.032899,
     "end_time": "2024-08-29T05:10:39.503282",
     "exception": false,
     "start_time": "2024-08-29T05:10:38.470383",
     "status": "completed"
    },
    "tags": []
   },
   "outputs": [
    {
     "data": {
      "image/png": "[encoded data removed]",
      "text/plain": [
       "<Figure size 1500x600 with 3 Axes>"
      ]
     },
     "metadata": {},
     "output_type": "display_data"
    }
   ],
   "source": [
    "# Convert categorical variables to numeric if needed for plotting\n",
    "data_encoded = data.copy()\n",
    "data_encoded['Make'] = pd.factorize(data_encoded['Make'])[0]\n",
    "data_encoded['Model'] = pd.factorize(data_encoded['Model'])[0]\n",
    "data_encoded['Electric Vehicle Type'] = pd.factorize(data_encoded['Electric Vehicle Type'])[0]\n",
    "\n",
    "# Convert categorical variables to numeric if needed for plotting\n",
    "data_encoded = data.copy()\n",
    "data_encoded['Make'] = pd.factorize(data_encoded['Make'])[0]\n",
    "data_encoded['Model'] = pd.factorize(data_encoded['Model'])[0]\n",
    "data_encoded['Electric Vehicle Type'] = pd.factorize(data_encoded['Electric Vehicle Type'])[0]\n",
    "\n",
    "# Define the color palette for the plots\n",
    "color = sns.color_palette(\"viridis\", as_cmap=True)\n",
    "\n",
    "# Plot box plots for each feature\n",
    "plt.figure(figsize=(15, 6))\n",
    "\n",
    "# Box plot for 'Model Year'\n",
    "plt.subplot(1, 3, 1)\n",
    "sns.boxplot(y=data['Model Year'], color=color(0.2))  # Use a color from the colormap\n",
    "plt.title('Box Plot of Model Year')\n",
    "\n",
    "# Box plot for 'Make'\n",
    "plt.subplot(1, 3, 2)\n",
    "sns.boxplot(y=data_encoded['Make'], color=color(0.5))  # Use a different color from the colormap\n",
    "plt.title('Box Plot of Make')\n",
    "\n",
    "# Box plot for 'Model'\n",
    "plt.subplot(1, 3, 3)\n",
    "sns.boxplot(y=data_encoded['Model'], color=color(0.8))  # Use a different color from the colormap\n",
    "plt.title('Box Plot of Model')\n",
    "\n",
    "plt.tight_layout()\n",
    "plt.show()"
   ]
  },
  {
   "cell_type": "code",
   "execution_count": 12,
   "id": "11a1bdc0",
   "metadata": {
    "execution": {
     "iopub.execute_input": "2024-08-29T05:10:39.559058Z",
     "iopub.status.busy": "2024-08-29T05:10:39.558145Z",
     "iopub.status.idle": "2024-08-29T05:10:40.591325Z",
     "shell.execute_reply": "2024-08-29T05:10:40.590135Z"
    },
    "papermill": {
     "duration": 1.065227,
     "end_time": "2024-08-29T05:10:40.594296",
     "exception": false,
     "start_time": "2024-08-29T05:10:39.529069",
     "status": "completed"
    },
    "tags": []
   },
   "outputs": [
    {
     "data": {
      "image/png": "[encoded data removed]",
      "text/plain": [
       "<Figure size 1500x600 with 3 Axes>"
      ]
     },
     "metadata": {},
     "output_type": "display_data"
    }
   ],
   "source": [
    "# Convert categorical variables to numeric\n",
    "data_encoded = data.copy()\n",
    "data_encoded['Make'] = pd.factorize(data_encoded['Make'])[0]\n",
    "data_encoded['Model'] = pd.factorize(data_encoded['Model'])[0]\n",
    "data_encoded['Electric Vehicle Type'] = pd.factorize(data_encoded['Electric Vehicle Type'])[0]\n",
    "\n",
    "# Function to remove outliers using IQR for a single column\n",
    "def remove_outliers(df, column):\n",
    "    Q1 = df[column].quantile(0.25)\n",
    "    Q3 = df[column].quantile(0.75)\n",
    "    IQR = Q3 - Q1\n",
    "    lower_bound = Q1 - 1.5 * IQR\n",
    "    upper_bound = Q3 + 1.5 * IQR\n",
    "    return df[(df[column] >= lower_bound) & (df[column] <= upper_bound)]\n",
    "\n",
    "# Remove outliers for each column separately\n",
    "cleaned_data_model_year = remove_outliers(data_encoded, 'Model Year')\n",
    "cleaned_data_make = remove_outliers(cleaned_data_model_year, 'Make')\n",
    "cleaned_data = remove_outliers(cleaned_data_make, 'Model')\n",
    "\n",
    "# Assign cleaned data back to the original variable\n",
    "data = cleaned_data\n",
    "\n",
    "# Define the color palette for the plots\n",
    "color_palette = sns.color_palette(\"viridis\", 3)  # Get 3 distinct colors\n",
    "\n",
    "# Plotting the cleaned data\n",
    "plt.figure(figsize=(15, 6))\n",
    "\n",
    "# Box plot for 'Model Year'\n",
    "plt.subplot(1, 3, 1)\n",
    "sns.boxplot(y=data['Model Year'], color=color_palette[0])\n",
    "plt.title('Box Plot of Model Year (Cleaned)')\n",
    "\n",
    "# Box plot for 'Make'\n",
    "plt.subplot(1, 3, 2)\n",
    "sns.boxplot(y=data['Make'], color=color_palette[1])\n",
    "plt.title('Box Plot of Make (Cleaned)')\n",
    "\n",
    "# Box plot for 'Model'\n",
    "plt.subplot(1, 3, 3)\n",
    "sns.boxplot(y=data['Model'], color=color_palette[2])\n",
    "plt.title('Box Plot of Model (Cleaned)')\n",
    "\n",
    "plt.tight_layout()"
   ]
  },
  {
   "cell_type": "code",
   "execution_count": 13,
   "id": "2ce16e26",
   "metadata": {
    "execution": {
     "iopub.execute_input": "2024-08-29T05:10:40.649138Z",
     "iopub.status.busy": "2024-08-29T05:10:40.648651Z",
     "iopub.status.idle": "2024-08-29T05:10:40.681566Z",
     "shell.execute_reply": "2024-08-29T05:10:40.680411Z"
    },
    "papermill": {
     "duration": 0.063665,
     "end_time": "2024-08-29T05:10:40.684392",
     "exception": false,
     "start_time": "2024-08-29T05:10:40.620727",
     "status": "completed"
    },
    "tags": []
   },
   "outputs": [],
   "source": [
    "string_columns = data.select_dtypes(include=['object']).columns"
   ]
  },
  {
   "cell_type": "code",
   "execution_count": 14,
   "id": "731c2c6c",
   "metadata": {
    "execution": {
     "iopub.execute_input": "2024-08-29T05:10:40.739315Z",
     "iopub.status.busy": "2024-08-29T05:10:40.738456Z",
     "iopub.status.idle": "2024-08-29T05:10:40.744435Z",
     "shell.execute_reply": "2024-08-29T05:10:40.743333Z"
    },
    "papermill": {
     "duration": 0.036783,
     "end_time": "2024-08-29T05:10:40.747391",
     "exception": false,
     "start_time": "2024-08-29T05:10:40.710608",
     "status": "completed"
    },
    "tags": []
   },
   "outputs": [
    {
     "name": "stdout",
     "output_type": "stream",
     "text": [
      "County\n",
      "City\n",
      "State\n",
      "CAFV\n",
      "Electric Utility\n"
     ]
    }
   ],
   "source": [
    "for column in string_columns:\n",
    "    print(column)"
   ]
  },
  {
   "cell_type": "markdown",
   "id": "4e8bbf78",
   "metadata": {
    "id": "6p2hoKBh4fQ7",
    "papermill": {
     "duration": 0.026868,
     "end_time": "2024-08-29T05:10:40.800682",
     "exception": false,
     "start_time": "2024-08-29T05:10:40.773814",
     "status": "completed"
    },
    "tags": []
   },
   "source": [
    "## STEP 5: Data Analysis"
   ]
  },
  {
   "cell_type": "code",
   "execution_count": 15,
   "id": "14c4cd7d",
   "metadata": {
    "execution": {
     "iopub.execute_input": "2024-08-29T05:10:40.856326Z",
     "iopub.status.busy": "2024-08-29T05:10:40.855854Z",
     "iopub.status.idle": "2024-08-29T05:10:40.886724Z",
     "shell.execute_reply": "2024-08-29T05:10:40.885673Z"
    },
    "id": "2cevVbfCMr1m",
    "papermill": {
     "duration": 0.062451,
     "end_time": "2024-08-29T05:10:40.889894",
     "exception": false,
     "start_time": "2024-08-29T05:10:40.827443",
     "status": "completed"
    },
    "tags": []
   },
   "outputs": [],
   "source": [
    "count_by_county = data[\"County\"].value_counts()\n",
    "count_by_county.to_csv(\"count_by_county.csv\")"
   ]
  },
  {
   "cell_type": "code",
   "execution_count": 16,
   "id": "b62a30c4",
   "metadata": {
    "execution": {
     "iopub.execute_input": "2024-08-29T05:10:40.944732Z",
     "iopub.status.busy": "2024-08-29T05:10:40.944299Z",
     "iopub.status.idle": "2024-08-29T05:10:40.953598Z",
     "shell.execute_reply": "2024-08-29T05:10:40.952216Z"
    },
    "id": "X9kdw959YQE2",
    "outputId": "497e605b-542c-4c5e-aba1-ec270f7c7c48",
    "papermill": {
     "duration": 0.039796,
     "end_time": "2024-08-29T05:10:40.956142",
     "exception": false,
     "start_time": "2024-08-29T05:10:40.916346",
     "status": "completed"
    },
    "tags": []
   },
   "outputs": [
    {
     "data": {
      "text/plain": [
       "County\n",
       "King         63695\n",
       "Snohomish    13902\n",
       "Pierce        9270\n",
       "Clark         7134\n",
       "Thurston      4328\n",
       "Kitsap        3933\n",
       "Spokane       2960\n",
       "Whatcom       2916\n",
       "Benton        1505\n",
       "Island        1350\n",
       "Name: count, dtype: int64"
      ]
     },
     "execution_count": 16,
     "metadata": {},
     "output_type": "execute_result"
    }
   ],
   "source": [
    "count_by_county.head(10)"
   ]
  },
  {
   "cell_type": "code",
   "execution_count": 17,
   "id": "fd895eb7",
   "metadata": {
    "execution": {
     "iopub.execute_input": "2024-08-29T05:10:41.011433Z",
     "iopub.status.busy": "2024-08-29T05:10:41.010948Z",
     "iopub.status.idle": "2024-08-29T05:10:41.458610Z",
     "shell.execute_reply": "2024-08-29T05:10:41.457368Z"
    },
    "id": "UXqi0I2TYVXe",
    "outputId": "36ab166a-a005-4096-db2a-a563eec87fd0",
    "papermill": {
     "duration": 0.478598,
     "end_time": "2024-08-29T05:10:41.461422",
     "exception": false,
     "start_time": "2024-08-29T05:10:40.982824",
     "status": "completed"
    },
    "tags": []
   },
   "outputs": [
    {
     "data": {
      "image/png": "[encoded data removed]",
      "text/plain": [
       "<Figure size 1200x800 with 1 Axes>"
      ]
     },
     "metadata": {},
     "output_type": "display_data"
    }
   ],
   "source": [
    "import pandas as pd\n",
    "import matplotlib.pyplot as plt\n",
    "import seaborn as sns\n",
    "\n",
    "# Assuming 'data' is your DataFrame\n",
    "# Calculate the number of vehicles per county\n",
    "county_counts = data['County'].value_counts()\n",
    "\n",
    "# Get the top 10 counties\n",
    "top_10_counties = county_counts.head(10)\n",
    "\n",
    "# Plotting the top 10 counties\n",
    "plt.figure(figsize=(12, 8))\n",
    "ax = sns.barplot(x=top_10_counties.values, y=top_10_counties.index, palette='viridis')\n",
    "\n",
    "for p in ax.patches:\n",
    "    ax.annotate(f'{p.get_width()}',\n",
    "                (p.get_width() + 100, p.get_y() + p.get_height() / 2),\n",
    "                ha='center', va='center',\n",
    "                color='black', fontsize=10)\n",
    "plt.title('Top 10 Counties with the Most Electric Vehicles')\n",
    "plt.xlabel('Number of Electric Vehicles')\n",
    "plt.ylabel('County')\n",
    "plt.show()\n"
   ]
  },
  {
   "cell_type": "code",
   "execution_count": 18,
   "id": "5c0734b0",
   "metadata": {
    "execution": {
     "iopub.execute_input": "2024-08-29T05:10:41.520123Z",
     "iopub.status.busy": "2024-08-29T05:10:41.519677Z",
     "iopub.status.idle": "2024-08-29T05:10:41.552451Z",
     "shell.execute_reply": "2024-08-29T05:10:41.551142Z"
    },
    "id": "zm0kUO0MY9nu",
    "papermill": {
     "duration": 0.066099,
     "end_time": "2024-08-29T05:10:41.555440",
     "exception": false,
     "start_time": "2024-08-29T05:10:41.489341",
     "status": "completed"
    },
    "tags": []
   },
   "outputs": [],
   "source": [
    "count_by_city = data[\"City\"].value_counts()\n",
    "count_by_city.to_csv(\"count_by_city.csv\")"
   ]
  },
  {
   "cell_type": "code",
   "execution_count": 19,
   "id": "91ccd71b",
   "metadata": {
    "execution": {
     "iopub.execute_input": "2024-08-29T05:10:41.612995Z",
     "iopub.status.busy": "2024-08-29T05:10:41.611949Z",
     "iopub.status.idle": "2024-08-29T05:10:41.621265Z",
     "shell.execute_reply": "2024-08-29T05:10:41.620143Z"
    },
    "id": "pzN_b53CaQ2m",
    "outputId": "261a7f15-0757-4242-9032-f2d8878feded",
    "papermill": {
     "duration": 0.041388,
     "end_time": "2024-08-29T05:10:41.623985",
     "exception": false,
     "start_time": "2024-08-29T05:10:41.582597",
     "status": "completed"
    },
    "tags": []
   },
   "outputs": [
    {
     "data": {
      "text/plain": [
       "City\n",
       "Seattle      20842\n",
       "Bellevue      6281\n",
       "Redmond       4593\n",
       "Vancouver     4302\n",
       "Bothell       3890\n",
       "Kirkland      3809\n",
       "Sammamish     3642\n",
       "Renton        3246\n",
       "Olympia       2867\n",
       "Tacoma        2510\n",
       "Name: count, dtype: int64"
      ]
     },
     "execution_count": 19,
     "metadata": {},
     "output_type": "execute_result"
    }
   ],
   "source": [
    "count_by_city.head(10)"
   ]
  },
  {
   "cell_type": "code",
   "execution_count": 20,
   "id": "ee379060",
   "metadata": {
    "execution": {
     "iopub.execute_input": "2024-08-29T05:10:41.680856Z",
     "iopub.status.busy": "2024-08-29T05:10:41.680416Z",
     "iopub.status.idle": "2024-08-29T05:10:42.136563Z",
     "shell.execute_reply": "2024-08-29T05:10:42.135288Z"
    },
    "id": "OmTdUpRqaSB1",
    "outputId": "113a8413-9935-462d-e574-84e4a9b99057",
    "papermill": {
     "duration": 0.487749,
     "end_time": "2024-08-29T05:10:42.139391",
     "exception": false,
     "start_time": "2024-08-29T05:10:41.651642",
     "status": "completed"
    },
    "tags": []
   },
   "outputs": [
    {
     "data": {
      "image/png": "[encoded data removed]",
      "text/plain": [
       "<Figure size 1200x800 with 1 Axes>"
      ]
     },
     "metadata": {},
     "output_type": "display_data"
    }
   ],
   "source": [
    "import pandas as pd\n",
    "import matplotlib.pyplot as plt\n",
    "import seaborn as sns\n",
    "\n",
    "# Assuming 'data' is your DataFrame\n",
    "# Calculate the number of vehicles per county\n",
    "city_counts = data['City'].value_counts()\n",
    "\n",
    "# Get the top 10 counties\n",
    "top_10_cities = city_counts.head(10)\n",
    "\n",
    "# Plotting the top 10 counties\n",
    "plt.figure(figsize=(12, 8))\n",
    "ax = sns.barplot(x=top_10_cities.values, y=top_10_cities.index,palette='viridis')\n",
    "\n",
    "\n",
    "for p in ax.patches:\n",
    "    ax.annotate(f'{p.get_width()}',\n",
    "                (p.get_width() + 100, p.get_y() + p.get_height() / 2),\n",
    "                ha='center', va='center',\n",
    "                color='black', fontsize=10)\n",
    "plt.title('Top 10 City with the Most Electric Vehicles')\n",
    "plt.xlabel('Number of Electric Vehicles')\n",
    "plt.ylabel('City')\n",
    "plt.show()"
   ]
  },
  {
   "cell_type": "code",
   "execution_count": 21,
   "id": "702f0632",
   "metadata": {
    "execution": {
     "iopub.execute_input": "2024-08-29T05:10:42.197910Z",
     "iopub.status.busy": "2024-08-29T05:10:42.197478Z",
     "iopub.status.idle": "2024-08-29T05:10:42.227329Z",
     "shell.execute_reply": "2024-08-29T05:10:42.226286Z"
    },
    "id": "tmW7ykaT0Y4y",
    "papermill": {
     "duration": 0.061838,
     "end_time": "2024-08-29T05:10:42.229635",
     "exception": false,
     "start_time": "2024-08-29T05:10:42.167797",
     "status": "completed"
    },
    "tags": []
   },
   "outputs": [],
   "source": [
    "count_by_state = data[\"State\"].value_counts()\n",
    "count_by_state.to_csv(\"count_by_state.csv\")"
   ]
  },
  {
   "cell_type": "code",
   "execution_count": 22,
   "id": "0ff7cb37",
   "metadata": {
    "execution": {
     "iopub.execute_input": "2024-08-29T05:10:42.288421Z",
     "iopub.status.busy": "2024-08-29T05:10:42.287560Z",
     "iopub.status.idle": "2024-08-29T05:10:42.296431Z",
     "shell.execute_reply": "2024-08-29T05:10:42.295242Z"
    },
    "id": "81f_Zr7c0Yxd",
    "outputId": "12c5977b-4463-4c3c-98e2-ec56c7d91eba",
    "papermill": {
     "duration": 0.040782,
     "end_time": "2024-08-29T05:10:42.298726",
     "exception": false,
     "start_time": "2024-08-29T05:10:42.257944",
     "status": "completed"
    },
    "tags": []
   },
   "outputs": [
    {
     "data": {
      "text/plain": [
       "State\n",
       "WA    120892\n",
       "Name: count, dtype: int64"
      ]
     },
     "execution_count": 22,
     "metadata": {},
     "output_type": "execute_result"
    }
   ],
   "source": [
    "count_by_state .head(10)"
   ]
  },
  {
   "cell_type": "code",
   "execution_count": 23,
   "id": "ac0a365b",
   "metadata": {
    "execution": {
     "iopub.execute_input": "2024-08-29T05:10:42.358425Z",
     "iopub.status.busy": "2024-08-29T05:10:42.357961Z",
     "iopub.status.idle": "2024-08-29T05:10:42.368444Z",
     "shell.execute_reply": "2024-08-29T05:10:42.367256Z"
    },
    "id": "rRKwF4kdbprL",
    "papermill": {
     "duration": 0.043759,
     "end_time": "2024-08-29T05:10:42.371083",
     "exception": false,
     "start_time": "2024-08-29T05:10:42.327324",
     "status": "completed"
    },
    "tags": []
   },
   "outputs": [],
   "source": [
    "count_by_ModelYear = data[\"Model Year\"].value_counts()\n",
    "count_by_ModelYear.to_csv(\"count_by_ModelYear.csv\")"
   ]
  },
  {
   "cell_type": "code",
   "execution_count": 24,
   "id": "2fd2e85a",
   "metadata": {
    "execution": {
     "iopub.execute_input": "2024-08-29T05:10:42.429841Z",
     "iopub.status.busy": "2024-08-29T05:10:42.429373Z",
     "iopub.status.idle": "2024-08-29T05:10:42.438210Z",
     "shell.execute_reply": "2024-08-29T05:10:42.437022Z"
    },
    "id": "3lnrlIcYbzfW",
    "outputId": "f7302415-8cb3-4614-dfba-1fbda8e10741",
    "papermill": {
     "duration": 0.041425,
     "end_time": "2024-08-29T05:10:42.440929",
     "exception": false,
     "start_time": "2024-08-29T05:10:42.399504",
     "status": "completed"
    },
    "tags": []
   },
   "outputs": [
    {
     "data": {
      "text/plain": [
       "Model Year\n",
       "2022    24287\n",
       "2023    18313\n",
       "2021    17816\n",
       "2018    13558\n",
       "2020    10480\n",
       "2019     9744\n",
       "2017     8198\n",
       "2016     5095\n",
       "2015     4685\n",
       "2013     4276\n",
       "Name: count, dtype: int64"
      ]
     },
     "execution_count": 24,
     "metadata": {},
     "output_type": "execute_result"
    }
   ],
   "source": [
    "count_by_ModelYear.head(10)"
   ]
  },
  {
   "cell_type": "code",
   "execution_count": 25,
   "id": "27e1c970",
   "metadata": {
    "execution": {
     "iopub.execute_input": "2024-08-29T05:10:42.502519Z",
     "iopub.status.busy": "2024-08-29T05:10:42.502046Z",
     "iopub.status.idle": "2024-08-29T05:10:42.845662Z",
     "shell.execute_reply": "2024-08-29T05:10:42.844318Z"
    },
    "id": "HZeGls7DqqvR",
    "outputId": "7921ac62-d7bf-492e-b420-5466e5abbf94",
    "papermill": {
     "duration": 0.377366,
     "end_time": "2024-08-29T05:10:42.848482",
     "exception": false,
     "start_time": "2024-08-29T05:10:42.471116",
     "status": "completed"
    },
    "tags": []
   },
   "outputs": [
    {
     "data": {
      "image/png": "[encoded data removed]",
      "text/plain": [
       "<Figure size 1000x600 with 1 Axes>"
      ]
     },
     "metadata": {},
     "output_type": "display_data"
    }
   ],
   "source": [
    "# Calculate the number of vehicles per model year\n",
    "count_by_ModelYear = data['Model Year'].value_counts().sort_index()\n",
    "\n",
    "# Sort the counts in descending order and select the top 10\n",
    "top_10_model_years = count_by_ModelYear.sort_values(ascending=False).head(10)\n",
    "\n",
    "# Plotting the data\n",
    "plt.figure(figsize=(10, 6))\n",
    "\n",
    "# Create a bar plot using seaborn with the 'viridis' color palette\n",
    "sns.barplot(x=top_10_model_years.index, y=top_10_model_years.values,palette=sns.color_palette('viridis', len(top_10_model_years)))\n",
    "\n",
    "# Add data labels\n",
    "ax = plt.gca()\n",
    "for p in ax.patches:\n",
    "    ax.annotate(f'{p.get_height()}',\n",
    "                (p.get_x() + p.get_width() / 2, p.get_height() + 0.5),\n",
    "                ha='center', va='bottom',\n",
    "                color='black', fontsize=10)\n",
    "\n",
    "# Set labels and title\n",
    "plt.xlabel(\"Model Year\")\n",
    "plt.ylabel(\"Count of Vehicles\")\n",
    "plt.title(\"Top 10 Model Years with the Most Electric Vehicles\")\n",
    "\n",
    "# Show plot\n",
    "plt.show()"
   ]
  },
  {
   "cell_type": "code",
   "execution_count": 26,
   "id": "bb61ebf9",
   "metadata": {
    "execution": {
     "iopub.execute_input": "2024-08-29T05:10:42.969159Z",
     "iopub.status.busy": "2024-08-29T05:10:42.968682Z",
     "iopub.status.idle": "2024-08-29T05:10:42.978004Z",
     "shell.execute_reply": "2024-08-29T05:10:42.976787Z"
    },
    "id": "L8-rkgeRrOM4",
    "papermill": {
     "duration": 0.102276,
     "end_time": "2024-08-29T05:10:42.980713",
     "exception": false,
     "start_time": "2024-08-29T05:10:42.878437",
     "status": "completed"
    },
    "tags": []
   },
   "outputs": [],
   "source": [
    "count_by_Model = data[\"Model\"].value_counts()\n",
    "count_by_Model.to_csv(\"count_by_Model.csv\")"
   ]
  },
  {
   "cell_type": "code",
   "execution_count": 27,
   "id": "90b02056",
   "metadata": {
    "execution": {
     "iopub.execute_input": "2024-08-29T05:10:43.042259Z",
     "iopub.status.busy": "2024-08-29T05:10:43.041776Z",
     "iopub.status.idle": "2024-08-29T05:10:43.051768Z",
     "shell.execute_reply": "2024-08-29T05:10:43.050269Z"
    },
    "id": "TIEAhkiMtX8x",
    "outputId": "6f372d4e-1d5b-4666-b1f5-986ad89d495d",
    "papermill": {
     "duration": 0.043874,
     "end_time": "2024-08-29T05:10:43.054501",
     "exception": false,
     "start_time": "2024-08-29T05:10:43.010627",
     "status": "completed"
    },
    "tags": []
   },
   "outputs": [
    {
     "data": {
      "text/plain": [
       "Model\n",
       "0     25752\n",
       "7     23531\n",
       "1     12284\n",
       "2      7455\n",
       "19     5414\n",
       "10     4866\n",
       "11     4793\n",
       "6      2603\n",
       "32     2473\n",
       "5      2464\n",
       "Name: count, dtype: int64"
      ]
     },
     "execution_count": 27,
     "metadata": {},
     "output_type": "execute_result"
    }
   ],
   "source": [
    "count_by_Model.head(10)"
   ]
  },
  {
   "cell_type": "code",
   "execution_count": 28,
   "id": "48c57e33",
   "metadata": {
    "execution": {
     "iopub.execute_input": "2024-08-29T05:10:43.117405Z",
     "iopub.status.busy": "2024-08-29T05:10:43.116938Z",
     "iopub.status.idle": "2024-08-29T05:10:43.500401Z",
     "shell.execute_reply": "2024-08-29T05:10:43.499240Z"
    },
    "id": "guvocOaptmDR",
    "outputId": "520e4b17-f604-4f69-a96e-9401ff83a77b",
    "papermill": {
     "duration": 0.41942,
     "end_time": "2024-08-29T05:10:43.504310",
     "exception": false,
     "start_time": "2024-08-29T05:10:43.084890",
     "status": "completed"
    },
    "tags": []
   },
   "outputs": [
    {
     "data": {
      "image/png": "[encoded data removed]",
      "text/plain": [
       "<Figure size 1200x800 with 1 Axes>"
      ]
     },
     "metadata": {},
     "output_type": "display_data"
    }
   ],
   "source": [
    "# Get the top 10 counties\n",
    "top_10_models = count_by_Model.head(10)\n",
    "\n",
    "# Plotting the top 10 counties\n",
    "plt.figure(figsize=(12, 8))\n",
    "ax = sns.barplot(x=top_10_models.values, y=top_10_models.index,palette='viridis')\n",
    "\n",
    "# Add data labels\n",
    "for p in ax.patches:\n",
    "    ax.annotate(f'{p.get_width()}',\n",
    "                (p.get_width() + 100, p.get_y() + p.get_height() / 2),\n",
    "                ha='center', va='center',\n",
    "                color='black', fontsize=10)\n",
    "\n",
    "plt.title('Top 10 Model of Electric Vehicles')\n",
    "plt.xlabel('Number of Electric Vehicles')\n",
    "plt.ylabel('Models')\n",
    "plt.show()"
   ]
  },
  {
   "cell_type": "code",
   "execution_count": 29,
   "id": "07d4cadf",
   "metadata": {
    "execution": {
     "iopub.execute_input": "2024-08-29T05:10:43.567734Z",
     "iopub.status.busy": "2024-08-29T05:10:43.567282Z",
     "iopub.status.idle": "2024-08-29T05:10:43.577293Z",
     "shell.execute_reply": "2024-08-29T05:10:43.576151Z"
    },
    "id": "sESdewLktzcR",
    "papermill": {
     "duration": 0.045877,
     "end_time": "2024-08-29T05:10:43.580322",
     "exception": false,
     "start_time": "2024-08-29T05:10:43.534445",
     "status": "completed"
    },
    "tags": []
   },
   "outputs": [],
   "source": [
    "count_by_Make = data[\"Make\"].value_counts()\n",
    "count_by_Make.to_csv(\"count_by_Make.csv\")"
   ]
  },
  {
   "cell_type": "code",
   "execution_count": 30,
   "id": "e3178576",
   "metadata": {
    "execution": {
     "iopub.execute_input": "2024-08-29T05:10:43.643622Z",
     "iopub.status.busy": "2024-08-29T05:10:43.643094Z",
     "iopub.status.idle": "2024-08-29T05:10:43.652340Z",
     "shell.execute_reply": "2024-08-29T05:10:43.651037Z"
    },
    "id": "vxy-IPFKuUNJ",
    "outputId": "4265bfbb-b919-4be5-e725-d06c074b7824",
    "papermill": {
     "duration": 0.043723,
     "end_time": "2024-08-29T05:10:43.655012",
     "exception": false,
     "start_time": "2024-08-29T05:10:43.611289",
     "status": "completed"
    },
    "tags": []
   },
   "outputs": [
    {
     "data": {
      "text/plain": [
       "Make\n",
       "0     61604\n",
       "1     12284\n",
       "8     10458\n",
       "7      6359\n",
       "2      4605\n",
       "5      4494\n",
       "4      3859\n",
       "11     3518\n",
       "10     2840\n",
       "12     2222\n",
       "Name: count, dtype: int64"
      ]
     },
     "execution_count": 30,
     "metadata": {},
     "output_type": "execute_result"
    }
   ],
   "source": [
    "count_by_Make.head(10)"
   ]
  },
  {
   "cell_type": "code",
   "execution_count": 31,
   "id": "c199bcca",
   "metadata": {
    "execution": {
     "iopub.execute_input": "2024-08-29T05:10:43.717899Z",
     "iopub.status.busy": "2024-08-29T05:10:43.717030Z",
     "iopub.status.idle": "2024-08-29T05:10:44.090430Z",
     "shell.execute_reply": "2024-08-29T05:10:44.089254Z"
    },
    "id": "vG2qYlkMuV8Q",
    "outputId": "fbfa0a50-f082-447d-b0a3-cfcf67a1871c",
    "papermill": {
     "duration": 0.407628,
     "end_time": "2024-08-29T05:10:44.093030",
     "exception": false,
     "start_time": "2024-08-29T05:10:43.685402",
     "status": "completed"
    },
    "tags": []
   },
   "outputs": [
    {
     "data": {
      "image/png": "[encoded data removed]",
      "text/plain": [
       "<Figure size 1200x800 with 1 Axes>"
      ]
     },
     "metadata": {},
     "output_type": "display_data"
    }
   ],
   "source": [
    "# Get the top 10 counties\n",
    "top_10_make = count_by_Make.head(10)\n",
    "\n",
    "# Plotting the top 10 counties\n",
    "plt.figure(figsize=(12, 8))\n",
    "ax = sns.barplot(x=top_10_make.values, y=top_10_make.index,palette='viridis')\n",
    "\n",
    "# Add data labels\n",
    "for p in ax.patches:\n",
    "    ax.annotate(f'{p.get_width()}',\n",
    "                (p.get_width() + 100, p.get_y() + p.get_height() / 2),\n",
    "                ha='center', va='center',\n",
    "                color='black', fontsize=10)\n",
    "\n",
    "plt.title('Top 10 Make of Electric Vehicles')\n",
    "plt.xlabel('Number of Electric Vehicles')\n",
    "plt.ylabel('Make')\n",
    "plt.show()"
   ]
  },
  {
   "cell_type": "code",
   "execution_count": 32,
   "id": "39acfdec",
   "metadata": {
    "execution": {
     "iopub.execute_input": "2024-08-29T05:10:44.157563Z",
     "iopub.status.busy": "2024-08-29T05:10:44.157067Z",
     "iopub.status.idle": "2024-08-29T05:10:44.166817Z",
     "shell.execute_reply": "2024-08-29T05:10:44.165520Z"
    },
    "papermill": {
     "duration": 0.045404,
     "end_time": "2024-08-29T05:10:44.169483",
     "exception": false,
     "start_time": "2024-08-29T05:10:44.124079",
     "status": "completed"
    },
    "tags": []
   },
   "outputs": [],
   "source": [
    "popular_makes = data[\"Make\"].value_counts().head(5)\n",
    "popular_makes.to_csv(\"popular_makes.csv\")"
   ]
  },
  {
   "cell_type": "code",
   "execution_count": 33,
   "id": "94a23aa4",
   "metadata": {
    "execution": {
     "iopub.execute_input": "2024-08-29T05:10:44.233749Z",
     "iopub.status.busy": "2024-08-29T05:10:44.233323Z",
     "iopub.status.idle": "2024-08-29T05:10:44.241686Z",
     "shell.execute_reply": "2024-08-29T05:10:44.240439Z"
    },
    "papermill": {
     "duration": 0.043726,
     "end_time": "2024-08-29T05:10:44.244226",
     "exception": false,
     "start_time": "2024-08-29T05:10:44.200500",
     "status": "completed"
    },
    "tags": []
   },
   "outputs": [
    {
     "data": {
      "text/plain": [
       "Make\n",
       "0    61604\n",
       "1    12284\n",
       "8    10458\n",
       "7     6359\n",
       "2     4605\n",
       "Name: count, dtype: int64"
      ]
     },
     "execution_count": 33,
     "metadata": {},
     "output_type": "execute_result"
    }
   ],
   "source": [
    "popular_makes "
   ]
  },
  {
   "cell_type": "code",
   "execution_count": 34,
   "id": "538d786a",
   "metadata": {
    "execution": {
     "iopub.execute_input": "2024-08-29T05:10:44.309132Z",
     "iopub.status.busy": "2024-08-29T05:10:44.308675Z",
     "iopub.status.idle": "2024-08-29T05:10:44.759629Z",
     "shell.execute_reply": "2024-08-29T05:10:44.758269Z"
    },
    "papermill": {
     "duration": 0.487067,
     "end_time": "2024-08-29T05:10:44.762345",
     "exception": false,
     "start_time": "2024-08-29T05:10:44.275278",
     "status": "completed"
    },
    "tags": []
   },
   "outputs": [
    {
     "data": {
      "image/png": "[encoded data removed]",
      "text/plain": [
       "<Figure size 1000x600 with 1 Axes>"
      ]
     },
     "metadata": {},
     "output_type": "display_data"
    }
   ],
   "source": [
    "\n",
    "import numpy as np\n",
    "# Generate a color palette from 'viridis'\n",
    "colors = plt.get_cmap('viridis')(np.linspace(0, 1, len(popular_makes)))\n",
    "\n",
    "# Plotting\n",
    "plt.figure(figsize=(10, 6))\n",
    "\n",
    "# Create a bar plot with different colors\n",
    "bars = popular_makes.plot(kind='bar', color=colors)\n",
    "\n",
    "# Add data labels\n",
    "for bar in bars.patches:\n",
    "    height = bar.get_height()\n",
    "    bars.annotate(f'{height}', \n",
    "                  xy=(bar.get_x() + bar.get_width() / 2, height),\n",
    "                  xytext=(0, 3),  # 3 points vertical offset\n",
    "                  textcoords=\"offset points\",\n",
    "                  ha='center', va='bottom')\n",
    "\n",
    "# Set labels and title\n",
    "plt.xlabel(\"Make\")\n",
    "plt.ylabel(\"Count\")\n",
    "plt.title(\"Popular Electric Vehicle Manufacturers\")\n",
    "\n",
    "# Show plot\n",
    "plt.show()"
   ]
  },
  {
   "cell_type": "code",
   "execution_count": 35,
   "id": "73fa0e8d",
   "metadata": {
    "execution": {
     "iopub.execute_input": "2024-08-29T05:10:44.829256Z",
     "iopub.status.busy": "2024-08-29T05:10:44.828004Z",
     "iopub.status.idle": "2024-08-29T05:10:44.837217Z",
     "shell.execute_reply": "2024-08-29T05:10:44.835966Z"
    },
    "id": "YgU98LfYzSvX",
    "papermill": {
     "duration": 0.045892,
     "end_time": "2024-08-29T05:10:44.839902",
     "exception": false,
     "start_time": "2024-08-29T05:10:44.794010",
     "status": "completed"
    },
    "tags": []
   },
   "outputs": [],
   "source": [
    "count_by_Vehicle_Type  = data[\"Electric Vehicle Type\"].value_counts()\n",
    "count_by_Vehicle_Type .to_csv(\"count_by_Vehicle_Type .csv\")"
   ]
  },
  {
   "cell_type": "code",
   "execution_count": 36,
   "id": "5e9883a7",
   "metadata": {
    "execution": {
     "iopub.execute_input": "2024-08-29T05:10:44.905555Z",
     "iopub.status.busy": "2024-08-29T05:10:44.905054Z",
     "iopub.status.idle": "2024-08-29T05:10:44.913618Z",
     "shell.execute_reply": "2024-08-29T05:10:44.912432Z"
    },
    "id": "FdpwXlOdzi93",
    "outputId": "5ad92580-bfba-4598-e38d-ecd25404b00d",
    "papermill": {
     "duration": 0.044739,
     "end_time": "2024-08-29T05:10:44.916209",
     "exception": false,
     "start_time": "2024-08-29T05:10:44.871470",
     "status": "completed"
    },
    "tags": []
   },
   "outputs": [
    {
     "data": {
      "text/plain": [
       "Electric Vehicle Type\n",
       "0    94946\n",
       "1    25946\n",
       "Name: count, dtype: int64"
      ]
     },
     "execution_count": 36,
     "metadata": {},
     "output_type": "execute_result"
    }
   ],
   "source": [
    "count_by_Vehicle_Type"
   ]
  },
  {
   "cell_type": "code",
   "execution_count": 37,
   "id": "b43fbc1c",
   "metadata": {
    "execution": {
     "iopub.execute_input": "2024-08-29T05:10:44.981603Z",
     "iopub.status.busy": "2024-08-29T05:10:44.981107Z",
     "iopub.status.idle": "2024-08-29T05:10:45.156437Z",
     "shell.execute_reply": "2024-08-29T05:10:45.154530Z"
    },
    "id": "rBXKEQemzrCs",
    "outputId": "df6c4ffa-a3cf-4237-a9b0-9a997298706e",
    "papermill": {
     "duration": 0.213453,
     "end_time": "2024-08-29T05:10:45.161352",
     "exception": false,
     "start_time": "2024-08-29T05:10:44.947899",
     "status": "completed"
    },
    "tags": []
   },
   "outputs": [
    {
     "data": {
      "image/png": "[encoded data removed]",
      "text/plain": [
       "<Figure size 800x600 with 1 Axes>"
      ]
     },
     "metadata": {},
     "output_type": "display_data"
    }
   ],
   "source": [
    "# Calculate the number of vehicles by type\n",
    "count_by_Vehicle_Type = data['Electric Vehicle Type'].value_counts()\n",
    "\n",
    "# Save the data to a CSV file\n",
    "count_by_Vehicle_Type.to_csv(\"count_by_Vehicle_Type.csv\", header=True)\n",
    "\n",
    "# Plotting the pie chart\n",
    "plt.figure(figsize=(8, 6))\n",
    "\n",
    "# Create a color palette with enough colors for the pie chart\n",
    "colors = sns.color_palette('crest', len(count_by_Vehicle_Type))\n",
    "\n",
    "# Create a pie chart\n",
    "plt.pie(count_by_Vehicle_Type, labels=count_by_Vehicle_Type.index, autopct='%1.1f%%', colors=colors)\n",
    "\n",
    "# Set title\n",
    "plt.title(\"Distribution of Electric Vehicle Types\")\n",
    "\n",
    "# Show the plot\n",
    "plt.show()"
   ]
  },
  {
   "cell_type": "code",
   "execution_count": 38,
   "id": "3ff4c51b",
   "metadata": {
    "execution": {
     "iopub.execute_input": "2024-08-29T05:10:45.251012Z",
     "iopub.status.busy": "2024-08-29T05:10:45.250568Z",
     "iopub.status.idle": "2024-08-29T05:10:45.260030Z",
     "shell.execute_reply": "2024-08-29T05:10:45.258774Z"
    },
    "id": "n1o5o8F7z5K8",
    "papermill": {
     "duration": 0.046829,
     "end_time": "2024-08-29T05:10:45.262663",
     "exception": false,
     "start_time": "2024-08-29T05:10:45.215834",
     "status": "completed"
    },
    "tags": []
   },
   "outputs": [],
   "source": [
    "count_by_Electric_Range = data[\"Electric Range\"].value_counts()\n",
    "count_by_Electric_Range.to_csv(\"count_by_Electric_Range.csv\")"
   ]
  },
  {
   "cell_type": "code",
   "execution_count": 39,
   "id": "650bf0d6",
   "metadata": {
    "execution": {
     "iopub.execute_input": "2024-08-29T05:10:45.328779Z",
     "iopub.status.busy": "2024-08-29T05:10:45.328357Z",
     "iopub.status.idle": "2024-08-29T05:10:45.337507Z",
     "shell.execute_reply": "2024-08-29T05:10:45.336147Z"
    },
    "id": "X8FFaQPd4KlL",
    "outputId": "193e98c1-b10f-47fe-f5de-e14ef3b968fa",
    "papermill": {
     "duration": 0.0451,
     "end_time": "2024-08-29T05:10:45.339974",
     "exception": false,
     "start_time": "2024-08-29T05:10:45.294874",
     "status": "completed"
    },
    "tags": []
   },
   "outputs": [
    {
     "data": {
      "text/plain": [
       "Electric Range\n",
       "0      50842\n",
       "215     6422\n",
       "220     4131\n",
       "84      4036\n",
       "238     3508\n",
       "25      2844\n",
       "208     2499\n",
       "19      2492\n",
       "53      2487\n",
       "291     2367\n",
       "Name: count, dtype: int64"
      ]
     },
     "execution_count": 39,
     "metadata": {},
     "output_type": "execute_result"
    }
   ],
   "source": [
    "count_by_Electric_Range.head(10)"
   ]
  },
  {
   "cell_type": "code",
   "execution_count": 40,
   "id": "f7c6613a",
   "metadata": {
    "execution": {
     "iopub.execute_input": "2024-08-29T05:10:45.406812Z",
     "iopub.status.busy": "2024-08-29T05:10:45.406387Z",
     "iopub.status.idle": "2024-08-29T05:10:45.416755Z",
     "shell.execute_reply": "2024-08-29T05:10:45.415487Z"
    },
    "papermill": {
     "duration": 0.047325,
     "end_time": "2024-08-29T05:10:45.419441",
     "exception": false,
     "start_time": "2024-08-29T05:10:45.372116",
     "status": "completed"
    },
    "tags": []
   },
   "outputs": [],
   "source": [
    "max_range = data[\"Electric Range\"].max()\n",
    "min_range = data[\"Electric Range\"].min()\n",
    "avg_range = data[\"Electric Range\"].mean()\n",
    "\n",
    "range_stats = pd.DataFrame({\n",
    "    \"Max Range\": [max_range],\n",
    "    \"Min Range\": [min_range],\n",
    "    \"Average Range\": [avg_range]\n",
    "})\n",
    "\n",
    "range_stats.to_csv(\"range_stats.csv\")"
   ]
  },
  {
   "cell_type": "code",
   "execution_count": 41,
   "id": "81e4f1c6",
   "metadata": {
    "execution": {
     "iopub.execute_input": "2024-08-29T05:10:45.485780Z",
     "iopub.status.busy": "2024-08-29T05:10:45.485316Z",
     "iopub.status.idle": "2024-08-29T05:10:45.497067Z",
     "shell.execute_reply": "2024-08-29T05:10:45.495845Z"
    },
    "papermill": {
     "duration": 0.047889,
     "end_time": "2024-08-29T05:10:45.499538",
     "exception": false,
     "start_time": "2024-08-29T05:10:45.451649",
     "status": "completed"
    },
    "tags": []
   },
   "outputs": [
    {
     "data": {
      "text/html": [
       "<div>\n",
       "<style scoped>\n",
       "    .dataframe tbody tr th:only-of-type {\n",
       "        vertical-align: middle;\n",
       "    }\n",
       "\n",
       "    .dataframe tbody tr th {\n",
       "        vertical-align: top;\n",
       "    }\n",
       "\n",
       "    .dataframe thead th {\n",
       "        text-align: right;\n",
       "    }\n",
       "</style>\n",
       "<table border=\"1\" class=\"dataframe\">\n",
       "  <thead>\n",
       "    <tr style=\"text-align: right;\">\n",
       "      <th></th>\n",
       "      <th>Max Range</th>\n",
       "      <th>Min Range</th>\n",
       "      <th>Average Range</th>\n",
       "    </tr>\n",
       "  </thead>\n",
       "  <tbody>\n",
       "    <tr>\n",
       "      <th>0</th>\n",
       "      <td>337</td>\n",
       "      <td>0</td>\n",
       "      <td>79.426422</td>\n",
       "    </tr>\n",
       "  </tbody>\n",
       "</table>\n",
       "</div>"
      ],
      "text/plain": [
       "   Max Range  Min Range  Average Range\n",
       "0        337          0      79.426422"
      ]
     },
     "execution_count": 41,
     "metadata": {},
     "output_type": "execute_result"
    }
   ],
   "source": [
    "range_stats"
   ]
  },
  {
   "cell_type": "code",
   "execution_count": 42,
   "id": "2a02a5db",
   "metadata": {
    "execution": {
     "iopub.execute_input": "2024-08-29T05:10:45.569486Z",
     "iopub.status.busy": "2024-08-29T05:10:45.568506Z",
     "iopub.status.idle": "2024-08-29T05:10:46.104806Z",
     "shell.execute_reply": "2024-08-29T05:10:46.103563Z"
    },
    "id": "eIAZrri04NNr",
    "papermill": {
     "duration": 0.575847,
     "end_time": "2024-08-29T05:10:46.107549",
     "exception": false,
     "start_time": "2024-08-29T05:10:45.531702",
     "status": "completed"
    },
    "tags": []
   },
   "outputs": [
    {
     "data": {
      "text/plain": [
       "(array([ 0,  1,  2,  3,  4,  5,  6,  7,  8,  9, 10, 11, 12, 13, 14, 15, 16,\n",
       "        17]),\n",
       " [Text(0, 0, '0'),\n",
       "  Text(1, 0, '1'),\n",
       "  Text(2, 0, '2'),\n",
       "  Text(3, 0, '3'),\n",
       "  Text(4, 0, '4'),\n",
       "  Text(5, 0, '5'),\n",
       "  Text(6, 0, '6'),\n",
       "  Text(7, 0, '7'),\n",
       "  Text(8, 0, '8'),\n",
       "  Text(9, 0, '9'),\n",
       "  Text(10, 0, '10'),\n",
       "  Text(11, 0, '11'),\n",
       "  Text(12, 0, '12'),\n",
       "  Text(13, 0, '13'),\n",
       "  Text(14, 0, '14'),\n",
       "  Text(15, 0, '15'),\n",
       "  Text(16, 0, '16'),\n",
       "  Text(17, 0, '17')])"
      ]
     },
     "execution_count": 42,
     "metadata": {},
     "output_type": "execute_result"
    },
    {
     "data": {
      "image/png": "[encoded data removed]",
      "text/plain": [
       "<Figure size 1000x500 with 1 Axes>"
      ]
     },
     "metadata": {},
     "output_type": "display_data"
    }
   ],
   "source": [
    "# showing visualization of company located in legislative district of sate washingston\n",
    "\n",
    "plt.figure(figsize=(10,5))\n",
    "sns.boxplot(y=\"Legislative District\",x=\"Make\",data=data,palette = 'viridis')\n",
    "plt.xticks(rotation=90)"
   ]
  },
  {
   "cell_type": "markdown",
   "id": "16fe51c5",
   "metadata": {
    "papermill": {
     "duration": 0.033472,
     "end_time": "2024-08-29T05:10:46.174400",
     "exception": false,
     "start_time": "2024-08-29T05:10:46.140928",
     "status": "completed"
    },
    "tags": []
   },
   "source": [
    "# STEP 6 : Feature Selection "
   ]
  },
  {
   "cell_type": "code",
   "execution_count": 43,
   "id": "4a97b26a",
   "metadata": {
    "execution": {
     "iopub.execute_input": "2024-08-29T05:10:46.244788Z",
     "iopub.status.busy": "2024-08-29T05:10:46.244360Z",
     "iopub.status.idle": "2024-08-29T05:10:46.259284Z",
     "shell.execute_reply": "2024-08-29T05:10:46.257731Z"
    },
    "papermill": {
     "duration": 0.053968,
     "end_time": "2024-08-29T05:10:46.262325",
     "exception": false,
     "start_time": "2024-08-29T05:10:46.208357",
     "status": "completed"
    },
    "tags": []
   },
   "outputs": [],
   "source": [
    "columns_to_drop = ['County', 'Electric Utility']\n",
    "data_new = data.drop(columns_to_drop, axis=1)"
   ]
  },
  {
   "cell_type": "code",
   "execution_count": 44,
   "id": "cfe423ba",
   "metadata": {
    "execution": {
     "iopub.execute_input": "2024-08-29T05:10:46.331299Z",
     "iopub.status.busy": "2024-08-29T05:10:46.330763Z",
     "iopub.status.idle": "2024-08-29T05:10:46.431626Z",
     "shell.execute_reply": "2024-08-29T05:10:46.430533Z"
    },
    "papermill": {
     "duration": 0.138039,
     "end_time": "2024-08-29T05:10:46.434546",
     "exception": false,
     "start_time": "2024-08-29T05:10:46.296507",
     "status": "completed"
    },
    "tags": []
   },
   "outputs": [],
   "source": [
    "label_encoder = LabelEncoder()\n",
    "categorical_columns = ['City', 'State', 'Make', 'Model', 'Electric Vehicle Type']\n",
    "for column in categorical_columns:\n",
    "    data_new[column] = label_encoder.fit_transform(data[column])"
   ]
  },
  {
   "cell_type": "code",
   "execution_count": 45,
   "id": "4d853fdc",
   "metadata": {
    "execution": {
     "iopub.execute_input": "2024-08-29T05:10:46.503637Z",
     "iopub.status.busy": "2024-08-29T05:10:46.503141Z",
     "iopub.status.idle": "2024-08-29T05:10:46.559977Z",
     "shell.execute_reply": "2024-08-29T05:10:46.558764Z"
    },
    "papermill": {
     "duration": 0.095039,
     "end_time": "2024-08-29T05:10:46.562961",
     "exception": false,
     "start_time": "2024-08-29T05:10:46.467922",
     "status": "completed"
    },
    "tags": []
   },
   "outputs": [],
   "source": [
    "one_hot_encoded = pd.get_dummies(data['Electric Vehicle Type'], prefix='EVType')\n",
    "data_new = pd.concat([data, one_hot_encoded], axis=1)"
   ]
  },
  {
   "cell_type": "code",
   "execution_count": 46,
   "id": "e51aacab",
   "metadata": {
    "execution": {
     "iopub.execute_input": "2024-08-29T05:10:46.632794Z",
     "iopub.status.busy": "2024-08-29T05:10:46.632325Z",
     "iopub.status.idle": "2024-08-29T05:10:46.637725Z",
     "shell.execute_reply": "2024-08-29T05:10:46.636554Z"
    },
    "papermill": {
     "duration": 0.042722,
     "end_time": "2024-08-29T05:10:46.640413",
     "exception": false,
     "start_time": "2024-08-29T05:10:46.597691",
     "status": "completed"
    },
    "tags": []
   },
   "outputs": [],
   "source": [
    "features = ['Model Year', 'Make', 'Model']\n",
    "target = 'Electric Vehicle Type'"
   ]
  },
  {
   "cell_type": "markdown",
   "id": "924204e7",
   "metadata": {
    "papermill": {
     "duration": 0.032894,
     "end_time": "2024-08-29T05:10:46.706348",
     "exception": false,
     "start_time": "2024-08-29T05:10:46.673454",
     "status": "completed"
    },
    "tags": []
   },
   "source": [
    "# STEP 7 : Data Modeling"
   ]
  },
  {
   "cell_type": "markdown",
   "id": "f40bff5b",
   "metadata": {
    "papermill": {
     "duration": 0.032974,
     "end_time": "2024-08-29T05:10:46.772951",
     "exception": false,
     "start_time": "2024-08-29T05:10:46.739977",
     "status": "completed"
    },
    "tags": []
   },
   "source": [
    "# 7.1 . Splitting Data into Train and Test Sets :"
   ]
  },
  {
   "cell_type": "code",
   "execution_count": 47,
   "id": "1b2c5a70",
   "metadata": {
    "execution": {
     "iopub.execute_input": "2024-08-29T05:10:46.842041Z",
     "iopub.status.busy": "2024-08-29T05:10:46.841559Z",
     "iopub.status.idle": "2024-08-29T05:10:46.980990Z",
     "shell.execute_reply": "2024-08-29T05:10:46.979530Z"
    },
    "papermill": {
     "duration": 0.178127,
     "end_time": "2024-08-29T05:10:46.983961",
     "exception": false,
     "start_time": "2024-08-29T05:10:46.805834",
     "status": "completed"
    },
    "tags": []
   },
   "outputs": [],
   "source": [
    "from sklearn.model_selection import train_test_split\n",
    "train_data, test_data, train_target, test_target = train_test_split(data[features], data[target], test_size=0.2, random_state=42)"
   ]
  },
  {
   "cell_type": "markdown",
   "id": "4ed57899",
   "metadata": {
    "papermill": {
     "duration": 0.034303,
     "end_time": "2024-08-29T05:10:47.051456",
     "exception": false,
     "start_time": "2024-08-29T05:10:47.017153",
     "status": "completed"
    },
    "tags": []
   },
   "source": [
    "# 7.2. Creating DMatrix for Training and Testing Data :\n"
   ]
  },
  {
   "cell_type": "code",
   "execution_count": 48,
   "id": "f3f19d40",
   "metadata": {
    "execution": {
     "iopub.execute_input": "2024-08-29T05:10:47.123855Z",
     "iopub.status.busy": "2024-08-29T05:10:47.123406Z",
     "iopub.status.idle": "2024-08-29T05:10:47.351464Z",
     "shell.execute_reply": "2024-08-29T05:10:47.350452Z"
    },
    "papermill": {
     "duration": 0.267062,
     "end_time": "2024-08-29T05:10:47.354376",
     "exception": false,
     "start_time": "2024-08-29T05:10:47.087314",
     "status": "completed"
    },
    "tags": []
   },
   "outputs": [],
   "source": [
    "import xgboost as xgb\n",
    "from xgboost import XGBClassifier\n",
    "dtrain = xgb.DMatrix(train_data, label=train_target)\n",
    "dtest = xgb.DMatrix(test_data, label=test_target)"
   ]
  },
  {
   "cell_type": "markdown",
   "id": "44e239d8",
   "metadata": {
    "papermill": {
     "duration": 0.033355,
     "end_time": "2024-08-29T05:10:47.422255",
     "exception": false,
     "start_time": "2024-08-29T05:10:47.388900",
     "status": "completed"
    },
    "tags": []
   },
   "source": [
    "# 7.3. Defining XGBoost Model Parameters :"
   ]
  },
  {
   "cell_type": "code",
   "execution_count": 49,
   "id": "549d2461",
   "metadata": {
    "execution": {
     "iopub.execute_input": "2024-08-29T05:10:47.491135Z",
     "iopub.status.busy": "2024-08-29T05:10:47.490555Z",
     "iopub.status.idle": "2024-08-29T05:10:47.497929Z",
     "shell.execute_reply": "2024-08-29T05:10:47.496737Z"
    },
    "papermill": {
     "duration": 0.044667,
     "end_time": "2024-08-29T05:10:47.500515",
     "exception": false,
     "start_time": "2024-08-29T05:10:47.455848",
     "status": "completed"
    },
    "tags": []
   },
   "outputs": [],
   "source": [
    "params = {\n",
    "    'objective': 'multi:softmax',\n",
    "    'num_class': len(data[target].unique()), \n",
    "    'eta': 0.1,\n",
    "    'max_depth': 6,\n",
    "    'min_child_weight': 1,\n",
    "    'gamma': 0.1,\n",
    "    'subsample': 0.8,\n",
    "    'colsample_bytree': 0.8,\n",
    "    'eval_metric': 'merror'\n",
    "}"
   ]
  },
  {
   "cell_type": "markdown",
   "id": "7bbc1c17",
   "metadata": {
    "papermill": {
     "duration": 0.032676,
     "end_time": "2024-08-29T05:10:47.566095",
     "exception": false,
     "start_time": "2024-08-29T05:10:47.533419",
     "status": "completed"
    },
    "tags": []
   },
   "source": [
    "# 7.4. Training the XGBoost Model :"
   ]
  },
  {
   "cell_type": "code",
   "execution_count": 50,
   "id": "8f981ccd",
   "metadata": {
    "execution": {
     "iopub.execute_input": "2024-08-29T05:10:47.636385Z",
     "iopub.status.busy": "2024-08-29T05:10:47.635887Z",
     "iopub.status.idle": "2024-08-29T05:10:48.756764Z",
     "shell.execute_reply": "2024-08-29T05:10:48.755710Z"
    },
    "papermill": {
     "duration": 1.158901,
     "end_time": "2024-08-29T05:10:48.759943",
     "exception": false,
     "start_time": "2024-08-29T05:10:47.601042",
     "status": "completed"
    },
    "tags": []
   },
   "outputs": [],
   "source": [
    "model = xgb.train(params, dtrain, num_boost_round=100)"
   ]
  },
  {
   "cell_type": "markdown",
   "id": "50bdec99",
   "metadata": {
    "papermill": {
     "duration": 0.033411,
     "end_time": "2024-08-29T05:10:48.836841",
     "exception": false,
     "start_time": "2024-08-29T05:10:48.803430",
     "status": "completed"
    },
    "tags": []
   },
   "source": [
    "# 7.5. Making Predictions and Calculating Accuracy :"
   ]
  },
  {
   "cell_type": "code",
   "execution_count": 51,
   "id": "b6266ea9",
   "metadata": {
    "execution": {
     "iopub.execute_input": "2024-08-29T05:10:48.904530Z",
     "iopub.status.busy": "2024-08-29T05:10:48.904070Z",
     "iopub.status.idle": "2024-08-29T05:10:48.943386Z",
     "shell.execute_reply": "2024-08-29T05:10:48.942220Z"
    },
    "papermill": {
     "duration": 0.076356,
     "end_time": "2024-08-29T05:10:48.946212",
     "exception": false,
     "start_time": "2024-08-29T05:10:48.869856",
     "status": "completed"
    },
    "tags": []
   },
   "outputs": [],
   "source": [
    "predictions = model.predict(dtest)"
   ]
  },
  {
   "cell_type": "code",
   "execution_count": 52,
   "id": "07493aeb",
   "metadata": {
    "execution": {
     "iopub.execute_input": "2024-08-29T05:10:49.017116Z",
     "iopub.status.busy": "2024-08-29T05:10:49.016109Z",
     "iopub.status.idle": "2024-08-29T05:10:49.087908Z",
     "shell.execute_reply": "2024-08-29T05:10:49.086567Z"
    },
    "papermill": {
     "duration": 0.110198,
     "end_time": "2024-08-29T05:10:49.090948",
     "exception": false,
     "start_time": "2024-08-29T05:10:48.980750",
     "status": "completed"
    },
    "tags": []
   },
   "outputs": [],
   "source": [
    "predictions = [int(round(pred)) for pred in predictions]"
   ]
  },
  {
   "cell_type": "code",
   "execution_count": 53,
   "id": "2da96ba6",
   "metadata": {
    "execution": {
     "iopub.execute_input": "2024-08-29T05:10:49.160412Z",
     "iopub.status.busy": "2024-08-29T05:10:49.159910Z",
     "iopub.status.idle": "2024-08-29T05:10:49.177997Z",
     "shell.execute_reply": "2024-08-29T05:10:49.176691Z"
    },
    "papermill": {
     "duration": 0.056238,
     "end_time": "2024-08-29T05:10:49.180538",
     "exception": false,
     "start_time": "2024-08-29T05:10:49.124300",
     "status": "completed"
    },
    "tags": []
   },
   "outputs": [
    {
     "name": "stdout",
     "output_type": "stream",
     "text": [
      "Exactitude : 98.89%\n"
     ]
    }
   ],
   "source": [
    "from sklearn.metrics import accuracy_score \n",
    "accuracy = accuracy_score(test_target, predictions)\n",
    "print(\"Exactitude : {:.2f}%\".format(accuracy * 100))"
   ]
  },
  {
   "cell_type": "markdown",
   "id": "a8793576",
   "metadata": {
    "papermill": {
     "duration": 0.033016,
     "end_time": "2024-08-29T05:10:49.246491",
     "exception": false,
     "start_time": "2024-08-29T05:10:49.213475",
     "status": "completed"
    },
    "tags": []
   },
   "source": [
    "# 7.6. Comparison of Actual and Predicted Electric Vehicle Types :"
   ]
  },
  {
   "cell_type": "code",
   "execution_count": 54,
   "id": "8ed604dc",
   "metadata": {
    "execution": {
     "iopub.execute_input": "2024-08-29T05:10:49.315006Z",
     "iopub.status.busy": "2024-08-29T05:10:49.314544Z",
     "iopub.status.idle": "2024-08-29T05:10:49.319782Z",
     "shell.execute_reply": "2024-08-29T05:10:49.318681Z"
    },
    "papermill": {
     "duration": 0.042456,
     "end_time": "2024-08-29T05:10:49.322162",
     "exception": false,
     "start_time": "2024-08-29T05:10:49.279706",
     "status": "completed"
    },
    "tags": []
   },
   "outputs": [],
   "source": [
    "from sklearn.metrics import confusion_matrix\n"
   ]
  },
  {
   "cell_type": "markdown",
   "id": "21811340",
   "metadata": {
    "papermill": {
     "duration": 0.032828,
     "end_time": "2024-08-29T05:10:49.387841",
     "exception": false,
     "start_time": "2024-08-29T05:10:49.355013",
     "status": "completed"
    },
    "tags": []
   },
   "source": [
    "# 7.7. Calculating the confusion matrix :"
   ]
  },
  {
   "cell_type": "code",
   "execution_count": 55,
   "id": "e783c183",
   "metadata": {
    "execution": {
     "iopub.execute_input": "2024-08-29T05:10:49.455606Z",
     "iopub.status.busy": "2024-08-29T05:10:49.455121Z",
     "iopub.status.idle": "2024-08-29T05:10:49.474061Z",
     "shell.execute_reply": "2024-08-29T05:10:49.472737Z"
    },
    "papermill": {
     "duration": 0.056315,
     "end_time": "2024-08-29T05:10:49.477074",
     "exception": false,
     "start_time": "2024-08-29T05:10:49.420759",
     "status": "completed"
    },
    "tags": []
   },
   "outputs": [],
   "source": [
    "conf_matrix = confusion_matrix(test_target, predictions)"
   ]
  },
  {
   "cell_type": "markdown",
   "id": "ca3bbac7",
   "metadata": {
    "papermill": {
     "duration": 0.032951,
     "end_time": "2024-08-29T05:10:49.543388",
     "exception": false,
     "start_time": "2024-08-29T05:10:49.510437",
     "status": "completed"
    },
    "tags": []
   },
   "source": [
    "# 7.8. Display the confusion matrix :"
   ]
  },
  {
   "cell_type": "code",
   "execution_count": 56,
   "id": "b8f39405",
   "metadata": {
    "execution": {
     "iopub.execute_input": "2024-08-29T05:10:49.613835Z",
     "iopub.status.busy": "2024-08-29T05:10:49.613378Z",
     "iopub.status.idle": "2024-08-29T05:10:49.882128Z",
     "shell.execute_reply": "2024-08-29T05:10:49.880890Z"
    },
    "papermill": {
     "duration": 0.307997,
     "end_time": "2024-08-29T05:10:49.885062",
     "exception": false,
     "start_time": "2024-08-29T05:10:49.577065",
     "status": "completed"
    },
    "tags": []
   },
   "outputs": [
    {
     "data": {
      "image/png": "[encoded data removed]",
      "text/plain": [
       "<Figure size 640x480 with 2 Axes>"
      ]
     },
     "metadata": {},
     "output_type": "display_data"
    }
   ],
   "source": [
    "# Create a heatmap for the confusion matrix\n",
    "sns.heatmap(conf_matrix, annot=True, fmt='d', cmap='crest')\n",
    "\n",
    "# Add labels and title\n",
    "plt.xlabel('Predicted')\n",
    "plt.ylabel('Actual')\n",
    "plt.title('Confusion Matrix')\n",
    "\n",
    "# Display the confusion matrix\n",
    "plt.show()"
   ]
  },
  {
   "cell_type": "markdown",
   "id": "ae943d62",
   "metadata": {
    "papermill": {
     "duration": 0.033562,
     "end_time": "2024-08-29T05:10:49.952663",
     "exception": false,
     "start_time": "2024-08-29T05:10:49.919101",
     "status": "completed"
    },
    "tags": []
   },
   "source": [
    "# 7.9. Create a DataFrame with actual and predicted values :"
   ]
  },
  {
   "cell_type": "code",
   "execution_count": 57,
   "id": "037855ab",
   "metadata": {
    "execution": {
     "iopub.execute_input": "2024-08-29T05:10:50.021556Z",
     "iopub.status.busy": "2024-08-29T05:10:50.021058Z",
     "iopub.status.idle": "2024-08-29T05:10:50.040536Z",
     "shell.execute_reply": "2024-08-29T05:10:50.039408Z"
    },
    "papermill": {
     "duration": 0.057196,
     "end_time": "2024-08-29T05:10:50.043433",
     "exception": false,
     "start_time": "2024-08-29T05:10:49.986237",
     "status": "completed"
    },
    "tags": []
   },
   "outputs": [],
   "source": [
    "comparison_df = pd.DataFrame({'Actual': test_target, 'Predicted': predictions})"
   ]
  },
  {
   "cell_type": "markdown",
   "id": "d3af8e6e",
   "metadata": {
    "papermill": {
     "duration": 0.034438,
     "end_time": "2024-08-29T05:10:50.112922",
     "exception": false,
     "start_time": "2024-08-29T05:10:50.078484",
     "status": "completed"
    },
    "tags": []
   },
   "source": [
    "# 7.10.Add columns to indicate different prediction categories :"
   ]
  },
  {
   "cell_type": "code",
   "execution_count": 58,
   "id": "303e6046",
   "metadata": {
    "execution": {
     "iopub.execute_input": "2024-08-29T05:10:50.182029Z",
     "iopub.status.busy": "2024-08-29T05:10:50.181569Z",
     "iopub.status.idle": "2024-08-29T05:10:50.194017Z",
     "shell.execute_reply": "2024-08-29T05:10:50.192711Z"
    },
    "papermill": {
     "duration": 0.050419,
     "end_time": "2024-08-29T05:10:50.196895",
     "exception": false,
     "start_time": "2024-08-29T05:10:50.146476",
     "status": "completed"
    },
    "tags": []
   },
   "outputs": [],
   "source": [
    "comparison_df['True Positive'] = (comparison_df['Actual'] == 1) & (comparison_df['Predicted'] == 1)\n",
    "comparison_df['True Negative'] = (comparison_df['Actual'] == 0) & (comparison_df['Predicted'] == 0)\n",
    "comparison_df['False Positive'] = (comparison_df['Actual'] == 0) & (comparison_df['Predicted'] == 1)\n",
    "comparison_df['False Negative'] = (comparison_df['Actual'] == 1) & (comparison_df['Predicted'] == 0)"
   ]
  },
  {
   "cell_type": "code",
   "execution_count": 59,
   "id": "128b15a9",
   "metadata": {
    "execution": {
     "iopub.execute_input": "2024-08-29T05:10:50.268405Z",
     "iopub.status.busy": "2024-08-29T05:10:50.267166Z",
     "iopub.status.idle": "2024-08-29T05:10:50.274096Z",
     "shell.execute_reply": "2024-08-29T05:10:50.272791Z"
    },
    "papermill": {
     "duration": 0.044744,
     "end_time": "2024-08-29T05:10:50.276940",
     "exception": false,
     "start_time": "2024-08-29T05:10:50.232196",
     "status": "completed"
    },
    "tags": []
   },
   "outputs": [],
   "source": [
    "sns.set(style='whitegrid')"
   ]
  },
  {
   "cell_type": "markdown",
   "id": "5b0f7e24",
   "metadata": {
    "papermill": {
     "duration": 0.033449,
     "end_time": "2024-08-29T05:10:50.345405",
     "exception": false,
     "start_time": "2024-08-29T05:10:50.311956",
     "status": "completed"
    },
    "tags": []
   },
   "source": [
    "# 7.11. Set the style of the plot :"
   ]
  },
  {
   "cell_type": "code",
   "execution_count": 60,
   "id": "c3519c7f",
   "metadata": {
    "execution": {
     "iopub.execute_input": "2024-08-29T05:10:50.414945Z",
     "iopub.status.busy": "2024-08-29T05:10:50.414467Z",
     "iopub.status.idle": "2024-08-29T05:10:50.773256Z",
     "shell.execute_reply": "2024-08-29T05:10:50.771805Z"
    },
    "papermill": {
     "duration": 0.39773,
     "end_time": "2024-08-29T05:10:50.776602",
     "exception": false,
     "start_time": "2024-08-29T05:10:50.378872",
     "status": "completed"
    },
    "tags": []
   },
   "outputs": [
    {
     "data": {
      "image/png": "[encoded data removed]",
      "text/plain": [
       "<Figure size 1000x600 with 1 Axes>"
      ]
     },
     "metadata": {},
     "output_type": "display_data"
    }
   ],
   "source": [
    "plt.figure(figsize=(10, 6))  \n",
    "\n",
    "# Create the count plot with 'viridis' color palette\n",
    "ax = sns.countplot(x='Actual', hue='Predicted', data=comparison_df, palette='viridis')\n",
    "\n",
    "plt.xlabel('Electric Vehicle Type', fontsize=12)  # Set the label for the x-axis\n",
    "plt.ylabel('Count', fontsize=12)  # Set the label for the y-axis\n",
    "plt.title('Comparison of Actual and Predicted Electric Vehicle Types', fontsize=12) \n",
    "\n",
    "plt.legend(title='Predicted', loc='upper right', fontsize=10)\n",
    "\n",
    "# Add data labels\n",
    "for p in ax.patches:\n",
    "    height = p.get_height()\n",
    "    x = p.get_x() + p.get_width() / 2\n",
    "    y = height + 3  # Position the label a bit above the bar\n",
    "    ax.annotate(f'{height}', \n",
    "                (x, y), ha='center', va='bottom', fontsize=10, color='black')\n",
    "\n",
    "plt.tight_layout()\n",
    "plt.show()"
   ]
  },
  {
   "cell_type": "code",
   "execution_count": null,
   "id": "e16108f2",
   "metadata": {
    "papermill": {
     "duration": 0.034941,
     "end_time": "2024-08-29T05:10:50.847804",
     "exception": false,
     "start_time": "2024-08-29T05:10:50.812863",
     "status": "completed"
    },
    "tags": []
   },
   "outputs": [],
   "source": []
  },
  {
   "cell_type": "code",
   "execution_count": null,
   "id": "7058f1e7",
   "metadata": {
    "papermill": {
     "duration": 0.034882,
     "end_time": "2024-08-29T05:10:50.918974",
     "exception": false,
     "start_time": "2024-08-29T05:10:50.884092",
     "status": "completed"
    },
    "tags": []
   },
   "outputs": [],
   "source": []
  }
 ],
 "metadata": {
  "colab": {
   "provenance": []
  },
  "kaggle": {
   "accelerator": "none",
   "dataSources": [
    {
     "datasetId": 3445661,
     "sourceId": 6020584,
     "sourceType": "datasetVersion"
    }
   ],
   "dockerImageVersionId": 30761,
   "isGpuEnabled": false,
   "isInternetEnabled": true,
   "language": "python",
   "sourceType": "notebook"
  },
  "kernelspec": {
   "display_name": "Python 3",
   "language": "python",
   "name": "python3"
  },
  "language_info": {
   "codemirror_mode": {
    "name": "ipython",
    "version": 3
   },
   "file_extension": ".py",
   "mimetype": "text/x-python",
   "name": "python",
   "nbconvert_exporter": "python",
   "pygments_lexer": "ipython3",
   "version": "3.10.14"
  },
  "papermill": {
   "default_parameters": {},
   "duration": 21.584896,
   "end_time": "2024-08-29T05:10:51.777412",
   "environment_variables": {},
   "exception": null,
   "input_path": "__notebook__.ipynb",
   "output_path": "__notebook__.ipynb",
   "parameters": {},
   "start_time": "2024-08-29T05:10:30.192516",
   "version": "2.6.0"
  }
 },
 "nbformat": 4,
 "nbformat_minor": 5
}
