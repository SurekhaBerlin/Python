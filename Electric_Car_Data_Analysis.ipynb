{
  "nbformat": 4,
  "nbformat_minor": 0,
  "metadata": {
    "colab": {
      "provenance": [],
      "authorship_tag": "ABX9TyM08cEJ0+kxZY8nHAYnDsJ7",
      "include_colab_link": true
    },
    "kernelspec": {
      "name": "python3",
      "display_name": "Python 3"
    },
    "language_info": {
      "name": "python"
    }
  },
  "cells": [
    {
      "cell_type": "markdown",
      "metadata": {
        "id": "view-in-github",
        "colab_type": "text"
      },
      "source": [
        "<a href=\"https://colab.research.google.com/github/SurekhaBerlin/Python/blob/main/Electric_Car_Data_Analysis.ipynb\" target=\"_parent\"><img src=\"https://colab.research.google.com/assets/colab-badge.svg\" alt=\"Open In Colab\"/></a>"
      ]
    },
    {
      "cell_type": "markdown",
      "source": [
        "# ELECTRIC VEHICLE DATA ANALYSIS"
      ],
      "metadata": {
        "id": "R_bHoo6WKfzf"
      }
    },
    {
      "cell_type": "markdown",
      "source": [
        "## STEP 1: Importing Libraries"
      ],
      "metadata": {
        "id": "bSW_H_yUKYHH"
      }
    },
    {
      "cell_type": "code",
      "execution_count": 119,
      "metadata": {
        "id": "PyGAeyZjFgpn"
      },
      "outputs": [],
      "source": [
        "import pandas as pd\n",
        "import matplotlib.pyplot as plt\n",
        "import seaborn as sns"
      ]
    },
    {
      "cell_type": "markdown",
      "source": [
        "## STEP 2: Reading the Data"
      ],
      "metadata": {
        "id": "_KZRJheNKlP-"
      }
    },
    {
      "cell_type": "code",
      "source": [
        "data = pd.read_csv(\"/content/Electric_Vehicle_Population_Data.csv\")"
      ],
      "metadata": {
        "id": "AoS0Cx1LKIiz"
      },
      "execution_count": 120,
      "outputs": []
    },
    {
      "cell_type": "markdown",
      "source": [
        "## STEP 3: Data Exploring"
      ],
      "metadata": {
        "id": "qVRodtJMX9Ts"
      }
    },
    {
      "cell_type": "code",
      "source": [
        "data.head(5)"
      ],
      "metadata": {
        "colab": {
          "base_uri": "https://localhost:8080/",
          "height": 683
        },
        "id": "ytb3rmcP3oP9",
        "outputId": "c203a850-a596-4f20-c6cb-bfc760b1cfe0"
      },
      "execution_count": 182,
      "outputs": [
        {
          "output_type": "execute_result",
          "data": {
            "text/plain": [
              "   VIN (1-10)    County      City State  Postal Code  Model Year     Make  \\\n",
              "0  KM8K33AGXL      King   Seattle    WA      98103.0        2020  HYUNDAI   \n",
              "1  1C4RJYB61N      King   Bothell    WA      98011.0        2022     JEEP   \n",
              "2  1C4RJYD61P    Yakima    Yakima    WA      98908.0        2023     JEEP   \n",
              "3  5YJ3E1EA7J      King  Kirkland    WA      98034.0        2018    TESLA   \n",
              "4  WBY7Z8C5XJ  Thurston   Olympia    WA      98501.0        2018      BMW   \n",
              "\n",
              "            Model                   Electric Vehicle Type  \\\n",
              "0            KONA          Battery Electric Vehicle (BEV)   \n",
              "1  GRAND CHEROKEE  Plug-in Hybrid Electric Vehicle (PHEV)   \n",
              "2  GRAND CHEROKEE  Plug-in Hybrid Electric Vehicle (PHEV)   \n",
              "3         MODEL 3          Battery Electric Vehicle (BEV)   \n",
              "4              I3  Plug-in Hybrid Electric Vehicle (PHEV)   \n",
              "\n",
              "  Clean Alternative Fuel Vehicle (CAFV) Eligibility  Electric Range  \\\n",
              "0           Clean Alternative Fuel Vehicle Eligible             258   \n",
              "1             Not eligible due to low battery range              25   \n",
              "2             Not eligible due to low battery range              25   \n",
              "3           Clean Alternative Fuel Vehicle Eligible             215   \n",
              "4           Clean Alternative Fuel Vehicle Eligible              97   \n",
              "\n",
              "   Base MSRP  Legislative District  DOL Vehicle ID  \\\n",
              "0          0                  43.0       249675142   \n",
              "1          0                   1.0       233928502   \n",
              "2          0                  14.0       229675939   \n",
              "3          0                  45.0       104714466   \n",
              "4          0                  22.0       185498386   \n",
              "\n",
              "                  Vehicle Location  \\\n",
              "0     POINT (-122.34301 47.659185)   \n",
              "1     POINT (-122.20578 47.762405)   \n",
              "2  POINT (-120.6027202 46.5965625)   \n",
              "3     POINT (-122.209285 47.71124)   \n",
              "4     POINT (-122.89692 47.043535)   \n",
              "\n",
              "                                Electric Utility  2020 Census Tract  \n",
              "0   CITY OF SEATTLE - (WA)|CITY OF TACOMA - (WA)       5.303300e+10  \n",
              "1  PUGET SOUND ENERGY INC||CITY OF TACOMA - (WA)       5.303302e+10  \n",
              "2                                     PACIFICORP       5.307700e+10  \n",
              "3  PUGET SOUND ENERGY INC||CITY OF TACOMA - (WA)       5.303302e+10  \n",
              "4                         PUGET SOUND ENERGY INC       5.306701e+10  "
            ],
            "text/html": [
              "\n",
              "  <div id=\"df-24d1ed9c-11d7-4a75-ae29-99c3e6061e5a\" class=\"colab-df-container\">\n",
              "    <div>\n",
              "<style scoped>\n",
              "    .dataframe tbody tr th:only-of-type {\n",
              "        vertical-align: middle;\n",
              "    }\n",
              "\n",
              "    .dataframe tbody tr th {\n",
              "        vertical-align: top;\n",
              "    }\n",
              "\n",
              "    .dataframe thead th {\n",
              "        text-align: right;\n",
              "    }\n",
              "</style>\n",
              "<table border=\"1\" class=\"dataframe\">\n",
              "  <thead>\n",
              "    <tr style=\"text-align: right;\">\n",
              "      <th></th>\n",
              "      <th>VIN (1-10)</th>\n",
              "      <th>County</th>\n",
              "      <th>City</th>\n",
              "      <th>State</th>\n",
              "      <th>Postal Code</th>\n",
              "      <th>Model Year</th>\n",
              "      <th>Make</th>\n",
              "      <th>Model</th>\n",
              "      <th>Electric Vehicle Type</th>\n",
              "      <th>Clean Alternative Fuel Vehicle (CAFV) Eligibility</th>\n",
              "      <th>Electric Range</th>\n",
              "      <th>Base MSRP</th>\n",
              "      <th>Legislative District</th>\n",
              "      <th>DOL Vehicle ID</th>\n",
              "      <th>Vehicle Location</th>\n",
              "      <th>Electric Utility</th>\n",
              "      <th>2020 Census Tract</th>\n",
              "    </tr>\n",
              "  </thead>\n",
              "  <tbody>\n",
              "    <tr>\n",
              "      <th>0</th>\n",
              "      <td>KM8K33AGXL</td>\n",
              "      <td>King</td>\n",
              "      <td>Seattle</td>\n",
              "      <td>WA</td>\n",
              "      <td>98103.0</td>\n",
              "      <td>2020</td>\n",
              "      <td>HYUNDAI</td>\n",
              "      <td>KONA</td>\n",
              "      <td>Battery Electric Vehicle (BEV)</td>\n",
              "      <td>Clean Alternative Fuel Vehicle Eligible</td>\n",
              "      <td>258</td>\n",
              "      <td>0</td>\n",
              "      <td>43.0</td>\n",
              "      <td>249675142</td>\n",
              "      <td>POINT (-122.34301 47.659185)</td>\n",
              "      <td>CITY OF SEATTLE - (WA)|CITY OF TACOMA - (WA)</td>\n",
              "      <td>5.303300e+10</td>\n",
              "    </tr>\n",
              "    <tr>\n",
              "      <th>1</th>\n",
              "      <td>1C4RJYB61N</td>\n",
              "      <td>King</td>\n",
              "      <td>Bothell</td>\n",
              "      <td>WA</td>\n",
              "      <td>98011.0</td>\n",
              "      <td>2022</td>\n",
              "      <td>JEEP</td>\n",
              "      <td>GRAND CHEROKEE</td>\n",
              "      <td>Plug-in Hybrid Electric Vehicle (PHEV)</td>\n",
              "      <td>Not eligible due to low battery range</td>\n",
              "      <td>25</td>\n",
              "      <td>0</td>\n",
              "      <td>1.0</td>\n",
              "      <td>233928502</td>\n",
              "      <td>POINT (-122.20578 47.762405)</td>\n",
              "      <td>PUGET SOUND ENERGY INC||CITY OF TACOMA - (WA)</td>\n",
              "      <td>5.303302e+10</td>\n",
              "    </tr>\n",
              "    <tr>\n",
              "      <th>2</th>\n",
              "      <td>1C4RJYD61P</td>\n",
              "      <td>Yakima</td>\n",
              "      <td>Yakima</td>\n",
              "      <td>WA</td>\n",
              "      <td>98908.0</td>\n",
              "      <td>2023</td>\n",
              "      <td>JEEP</td>\n",
              "      <td>GRAND CHEROKEE</td>\n",
              "      <td>Plug-in Hybrid Electric Vehicle (PHEV)</td>\n",
              "      <td>Not eligible due to low battery range</td>\n",
              "      <td>25</td>\n",
              "      <td>0</td>\n",
              "      <td>14.0</td>\n",
              "      <td>229675939</td>\n",
              "      <td>POINT (-120.6027202 46.5965625)</td>\n",
              "      <td>PACIFICORP</td>\n",
              "      <td>5.307700e+10</td>\n",
              "    </tr>\n",
              "    <tr>\n",
              "      <th>3</th>\n",
              "      <td>5YJ3E1EA7J</td>\n",
              "      <td>King</td>\n",
              "      <td>Kirkland</td>\n",
              "      <td>WA</td>\n",
              "      <td>98034.0</td>\n",
              "      <td>2018</td>\n",
              "      <td>TESLA</td>\n",
              "      <td>MODEL 3</td>\n",
              "      <td>Battery Electric Vehicle (BEV)</td>\n",
              "      <td>Clean Alternative Fuel Vehicle Eligible</td>\n",
              "      <td>215</td>\n",
              "      <td>0</td>\n",
              "      <td>45.0</td>\n",
              "      <td>104714466</td>\n",
              "      <td>POINT (-122.209285 47.71124)</td>\n",
              "      <td>PUGET SOUND ENERGY INC||CITY OF TACOMA - (WA)</td>\n",
              "      <td>5.303302e+10</td>\n",
              "    </tr>\n",
              "    <tr>\n",
              "      <th>4</th>\n",
              "      <td>WBY7Z8C5XJ</td>\n",
              "      <td>Thurston</td>\n",
              "      <td>Olympia</td>\n",
              "      <td>WA</td>\n",
              "      <td>98501.0</td>\n",
              "      <td>2018</td>\n",
              "      <td>BMW</td>\n",
              "      <td>I3</td>\n",
              "      <td>Plug-in Hybrid Electric Vehicle (PHEV)</td>\n",
              "      <td>Clean Alternative Fuel Vehicle Eligible</td>\n",
              "      <td>97</td>\n",
              "      <td>0</td>\n",
              "      <td>22.0</td>\n",
              "      <td>185498386</td>\n",
              "      <td>POINT (-122.89692 47.043535)</td>\n",
              "      <td>PUGET SOUND ENERGY INC</td>\n",
              "      <td>5.306701e+10</td>\n",
              "    </tr>\n",
              "  </tbody>\n",
              "</table>\n",
              "</div>\n",
              "    <div class=\"colab-df-buttons\">\n",
              "\n",
              "  <div class=\"colab-df-container\">\n",
              "    <button class=\"colab-df-convert\" onclick=\"convertToInteractive('df-24d1ed9c-11d7-4a75-ae29-99c3e6061e5a')\"\n",
              "            title=\"Convert this dataframe to an interactive table.\"\n",
              "            style=\"display:none;\">\n",
              "\n",
              "  <svg xmlns=\"http://www.w3.org/2000/svg\" height=\"24px\" viewBox=\"0 -960 960 960\">\n",
              "    <path d=\"M120-120v-720h720v720H120Zm60-500h600v-160H180v160Zm220 220h160v-160H400v160Zm0 220h160v-160H400v160ZM180-400h160v-160H180v160Zm440 0h160v-160H620v160ZM180-180h160v-160H180v160Zm440 0h160v-160H620v160Z\"/>\n",
              "  </svg>\n",
              "    </button>\n",
              "\n",
              "  <style>\n",
              "    .colab-df-container {\n",
              "      display:flex;\n",
              "      gap: 12px;\n",
              "    }\n",
              "\n",
              "    .colab-df-convert {\n",
              "      background-color: #E8F0FE;\n",
              "      border: none;\n",
              "      border-radius: 50%;\n",
              "      cursor: pointer;\n",
              "      display: none;\n",
              "      fill: #1967D2;\n",
              "      height: 32px;\n",
              "      padding: 0 0 0 0;\n",
              "      width: 32px;\n",
              "    }\n",
              "\n",
              "    .colab-df-convert:hover {\n",
              "      background-color: #E2EBFA;\n",
              "      box-shadow: 0px 1px 2px rgba(60, 64, 67, 0.3), 0px 1px 3px 1px rgba(60, 64, 67, 0.15);\n",
              "      fill: #174EA6;\n",
              "    }\n",
              "\n",
              "    .colab-df-buttons div {\n",
              "      margin-bottom: 4px;\n",
              "    }\n",
              "\n",
              "    [theme=dark] .colab-df-convert {\n",
              "      background-color: #3B4455;\n",
              "      fill: #D2E3FC;\n",
              "    }\n",
              "\n",
              "    [theme=dark] .colab-df-convert:hover {\n",
              "      background-color: #434B5C;\n",
              "      box-shadow: 0px 1px 3px 1px rgba(0, 0, 0, 0.15);\n",
              "      filter: drop-shadow(0px 1px 2px rgba(0, 0, 0, 0.3));\n",
              "      fill: #FFFFFF;\n",
              "    }\n",
              "  </style>\n",
              "\n",
              "    <script>\n",
              "      const buttonEl =\n",
              "        document.querySelector('#df-24d1ed9c-11d7-4a75-ae29-99c3e6061e5a button.colab-df-convert');\n",
              "      buttonEl.style.display =\n",
              "        google.colab.kernel.accessAllowed ? 'block' : 'none';\n",
              "\n",
              "      async function convertToInteractive(key) {\n",
              "        const element = document.querySelector('#df-24d1ed9c-11d7-4a75-ae29-99c3e6061e5a');\n",
              "        const dataTable =\n",
              "          await google.colab.kernel.invokeFunction('convertToInteractive',\n",
              "                                                    [key], {});\n",
              "        if (!dataTable) return;\n",
              "\n",
              "        const docLinkHtml = 'Like what you see? Visit the ' +\n",
              "          '<a target=\"_blank\" href=https://colab.research.google.com/notebooks/data_table.ipynb>data table notebook</a>'\n",
              "          + ' to learn more about interactive tables.';\n",
              "        element.innerHTML = '';\n",
              "        dataTable['output_type'] = 'display_data';\n",
              "        await google.colab.output.renderOutput(dataTable, element);\n",
              "        const docLink = document.createElement('div');\n",
              "        docLink.innerHTML = docLinkHtml;\n",
              "        element.appendChild(docLink);\n",
              "      }\n",
              "    </script>\n",
              "  </div>\n",
              "\n",
              "\n",
              "<div id=\"df-23552f63-4a16-406b-a5b2-97af2ddec25b\">\n",
              "  <button class=\"colab-df-quickchart\" onclick=\"quickchart('df-23552f63-4a16-406b-a5b2-97af2ddec25b')\"\n",
              "            title=\"Suggest charts\"\n",
              "            style=\"display:none;\">\n",
              "\n",
              "<svg xmlns=\"http://www.w3.org/2000/svg\" height=\"24px\"viewBox=\"0 0 24 24\"\n",
              "     width=\"24px\">\n",
              "    <g>\n",
              "        <path d=\"M19 3H5c-1.1 0-2 .9-2 2v14c0 1.1.9 2 2 2h14c1.1 0 2-.9 2-2V5c0-1.1-.9-2-2-2zM9 17H7v-7h2v7zm4 0h-2V7h2v10zm4 0h-2v-4h2v4z\"/>\n",
              "    </g>\n",
              "</svg>\n",
              "  </button>\n",
              "\n",
              "<style>\n",
              "  .colab-df-quickchart {\n",
              "      --bg-color: #E8F0FE;\n",
              "      --fill-color: #1967D2;\n",
              "      --hover-bg-color: #E2EBFA;\n",
              "      --hover-fill-color: #174EA6;\n",
              "      --disabled-fill-color: #AAA;\n",
              "      --disabled-bg-color: #DDD;\n",
              "  }\n",
              "\n",
              "  [theme=dark] .colab-df-quickchart {\n",
              "      --bg-color: #3B4455;\n",
              "      --fill-color: #D2E3FC;\n",
              "      --hover-bg-color: #434B5C;\n",
              "      --hover-fill-color: #FFFFFF;\n",
              "      --disabled-bg-color: #3B4455;\n",
              "      --disabled-fill-color: #666;\n",
              "  }\n",
              "\n",
              "  .colab-df-quickchart {\n",
              "    background-color: var(--bg-color);\n",
              "    border: none;\n",
              "    border-radius: 50%;\n",
              "    cursor: pointer;\n",
              "    display: none;\n",
              "    fill: var(--fill-color);\n",
              "    height: 32px;\n",
              "    padding: 0;\n",
              "    width: 32px;\n",
              "  }\n",
              "\n",
              "  .colab-df-quickchart:hover {\n",
              "    background-color: var(--hover-bg-color);\n",
              "    box-shadow: 0 1px 2px rgba(60, 64, 67, 0.3), 0 1px 3px 1px rgba(60, 64, 67, 0.15);\n",
              "    fill: var(--button-hover-fill-color);\n",
              "  }\n",
              "\n",
              "  .colab-df-quickchart-complete:disabled,\n",
              "  .colab-df-quickchart-complete:disabled:hover {\n",
              "    background-color: var(--disabled-bg-color);\n",
              "    fill: var(--disabled-fill-color);\n",
              "    box-shadow: none;\n",
              "  }\n",
              "\n",
              "  .colab-df-spinner {\n",
              "    border: 2px solid var(--fill-color);\n",
              "    border-color: transparent;\n",
              "    border-bottom-color: var(--fill-color);\n",
              "    animation:\n",
              "      spin 1s steps(1) infinite;\n",
              "  }\n",
              "\n",
              "  @keyframes spin {\n",
              "    0% {\n",
              "      border-color: transparent;\n",
              "      border-bottom-color: var(--fill-color);\n",
              "      border-left-color: var(--fill-color);\n",
              "    }\n",
              "    20% {\n",
              "      border-color: transparent;\n",
              "      border-left-color: var(--fill-color);\n",
              "      border-top-color: var(--fill-color);\n",
              "    }\n",
              "    30% {\n",
              "      border-color: transparent;\n",
              "      border-left-color: var(--fill-color);\n",
              "      border-top-color: var(--fill-color);\n",
              "      border-right-color: var(--fill-color);\n",
              "    }\n",
              "    40% {\n",
              "      border-color: transparent;\n",
              "      border-right-color: var(--fill-color);\n",
              "      border-top-color: var(--fill-color);\n",
              "    }\n",
              "    60% {\n",
              "      border-color: transparent;\n",
              "      border-right-color: var(--fill-color);\n",
              "    }\n",
              "    80% {\n",
              "      border-color: transparent;\n",
              "      border-right-color: var(--fill-color);\n",
              "      border-bottom-color: var(--fill-color);\n",
              "    }\n",
              "    90% {\n",
              "      border-color: transparent;\n",
              "      border-bottom-color: var(--fill-color);\n",
              "    }\n",
              "  }\n",
              "</style>\n",
              "\n",
              "  <script>\n",
              "    async function quickchart(key) {\n",
              "      const quickchartButtonEl =\n",
              "        document.querySelector('#' + key + ' button');\n",
              "      quickchartButtonEl.disabled = true;  // To prevent multiple clicks.\n",
              "      quickchartButtonEl.classList.add('colab-df-spinner');\n",
              "      try {\n",
              "        const charts = await google.colab.kernel.invokeFunction(\n",
              "            'suggestCharts', [key], {});\n",
              "      } catch (error) {\n",
              "        console.error('Error during call to suggestCharts:', error);\n",
              "      }\n",
              "      quickchartButtonEl.classList.remove('colab-df-spinner');\n",
              "      quickchartButtonEl.classList.add('colab-df-quickchart-complete');\n",
              "    }\n",
              "    (() => {\n",
              "      let quickchartButtonEl =\n",
              "        document.querySelector('#df-23552f63-4a16-406b-a5b2-97af2ddec25b button');\n",
              "      quickchartButtonEl.style.display =\n",
              "        google.colab.kernel.accessAllowed ? 'block' : 'none';\n",
              "    })();\n",
              "  </script>\n",
              "</div>\n",
              "\n",
              "    </div>\n",
              "  </div>\n"
            ],
            "application/vnd.google.colaboratory.intrinsic+json": {
              "type": "dataframe",
              "variable_name": "data"
            }
          },
          "metadata": {},
          "execution_count": 182
        }
      ]
    },
    {
      "cell_type": "code",
      "source": [
        "data.info()"
      ],
      "metadata": {
        "colab": {
          "base_uri": "https://localhost:8080/"
        },
        "id": "9wYZ5FpkKRev",
        "outputId": "35c99cd6-64d2-483e-bb57-701e471586a2"
      },
      "execution_count": 121,
      "outputs": [
        {
          "output_type": "stream",
          "name": "stdout",
          "text": [
            "<class 'pandas.core.frame.DataFrame'>\n",
            "RangeIndex: 150482 entries, 0 to 150481\n",
            "Data columns (total 17 columns):\n",
            " #   Column                                             Non-Null Count   Dtype  \n",
            "---  ------                                             --------------   -----  \n",
            " 0   VIN (1-10)                                         150482 non-null  object \n",
            " 1   County                                             150479 non-null  object \n",
            " 2   City                                               150479 non-null  object \n",
            " 3   State                                              150482 non-null  object \n",
            " 4   Postal Code                                        150479 non-null  float64\n",
            " 5   Model Year                                         150482 non-null  int64  \n",
            " 6   Make                                               150482 non-null  object \n",
            " 7   Model                                              150482 non-null  object \n",
            " 8   Electric Vehicle Type                              150482 non-null  object \n",
            " 9   Clean Alternative Fuel Vehicle (CAFV) Eligibility  150482 non-null  object \n",
            " 10  Electric Range                                     150482 non-null  int64  \n",
            " 11  Base MSRP                                          150482 non-null  int64  \n",
            " 12  Legislative District                               150141 non-null  float64\n",
            " 13  DOL Vehicle ID                                     150482 non-null  int64  \n",
            " 14  Vehicle Location                                   150475 non-null  object \n",
            " 15  Electric Utility                                   150479 non-null  object \n",
            " 16  2020 Census Tract                                  150479 non-null  float64\n",
            "dtypes: float64(3), int64(4), object(10)\n",
            "memory usage: 19.5+ MB\n"
          ]
        }
      ]
    },
    {
      "cell_type": "code",
      "source": [
        "data.shape"
      ],
      "metadata": {
        "colab": {
          "base_uri": "https://localhost:8080/"
        },
        "id": "-cnn6WluKTRN",
        "outputId": "705e12ec-6d95-4dd9-9031-ceb7778f87ed"
      },
      "execution_count": 122,
      "outputs": [
        {
          "output_type": "execute_result",
          "data": {
            "text/plain": [
              "(150482, 17)"
            ]
          },
          "metadata": {},
          "execution_count": 122
        }
      ]
    },
    {
      "cell_type": "code",
      "source": [
        "data.describe().T"
      ],
      "metadata": {
        "colab": {
          "base_uri": "https://localhost:8080/",
          "height": 266
        },
        "id": "CF8UHQ97Kzze",
        "outputId": "75f7abb0-8b96-47f5-842a-b2674a82db95"
      },
      "execution_count": 123,
      "outputs": [
        {
          "output_type": "execute_result",
          "data": {
            "text/plain": [
              "                         count          mean           std           min  \\\n",
              "Postal Code           150479.0  9.816834e+04  2.473612e+03  1.730000e+03   \n",
              "Model Year            150482.0  2.020005e+03  3.015209e+00  1.997000e+03   \n",
              "Electric Range        150482.0  6.787784e+01  9.623001e+01  0.000000e+00   \n",
              "Base MSRP             150482.0  1.312645e+03  9.231310e+03  0.000000e+00   \n",
              "Legislative District  150141.0  2.934395e+01  1.482483e+01  1.000000e+00   \n",
              "DOL Vehicle ID        150482.0  2.111122e+08  8.196388e+07  4.385000e+03   \n",
              "2020 Census Tract     150479.0  5.297195e+10  1.638841e+09  1.081042e+09   \n",
              "\n",
              "                               25%           50%           75%           max  \n",
              "Postal Code           9.805200e+04  9.812200e+04  9.837000e+04  9.957700e+04  \n",
              "Model Year            2.018000e+03  2.021000e+03  2.023000e+03  2.024000e+03  \n",
              "Electric Range        0.000000e+00  1.800000e+01  9.700000e+01  3.370000e+02  \n",
              "Base MSRP             0.000000e+00  0.000000e+00  0.000000e+00  8.450000e+05  \n",
              "Legislative District  1.800000e+01  3.300000e+01  4.300000e+01  4.900000e+01  \n",
              "DOL Vehicle ID        1.693473e+08  2.150306e+08  2.399119e+08  4.792548e+08  \n",
              "2020 Census Tract     5.303301e+10  5.303303e+10  5.305307e+10  5.603300e+10  "
            ],
            "text/html": [
              "\n",
              "  <div id=\"df-3caa3ba3-1cb2-4b9c-9b5f-16b4b76a19a2\" class=\"colab-df-container\">\n",
              "    <div>\n",
              "<style scoped>\n",
              "    .dataframe tbody tr th:only-of-type {\n",
              "        vertical-align: middle;\n",
              "    }\n",
              "\n",
              "    .dataframe tbody tr th {\n",
              "        vertical-align: top;\n",
              "    }\n",
              "\n",
              "    .dataframe thead th {\n",
              "        text-align: right;\n",
              "    }\n",
              "</style>\n",
              "<table border=\"1\" class=\"dataframe\">\n",
              "  <thead>\n",
              "    <tr style=\"text-align: right;\">\n",
              "      <th></th>\n",
              "      <th>count</th>\n",
              "      <th>mean</th>\n",
              "      <th>std</th>\n",
              "      <th>min</th>\n",
              "      <th>25%</th>\n",
              "      <th>50%</th>\n",
              "      <th>75%</th>\n",
              "      <th>max</th>\n",
              "    </tr>\n",
              "  </thead>\n",
              "  <tbody>\n",
              "    <tr>\n",
              "      <th>Postal Code</th>\n",
              "      <td>150479.0</td>\n",
              "      <td>9.816834e+04</td>\n",
              "      <td>2.473612e+03</td>\n",
              "      <td>1.730000e+03</td>\n",
              "      <td>9.805200e+04</td>\n",
              "      <td>9.812200e+04</td>\n",
              "      <td>9.837000e+04</td>\n",
              "      <td>9.957700e+04</td>\n",
              "    </tr>\n",
              "    <tr>\n",
              "      <th>Model Year</th>\n",
              "      <td>150482.0</td>\n",
              "      <td>2.020005e+03</td>\n",
              "      <td>3.015209e+00</td>\n",
              "      <td>1.997000e+03</td>\n",
              "      <td>2.018000e+03</td>\n",
              "      <td>2.021000e+03</td>\n",
              "      <td>2.023000e+03</td>\n",
              "      <td>2.024000e+03</td>\n",
              "    </tr>\n",
              "    <tr>\n",
              "      <th>Electric Range</th>\n",
              "      <td>150482.0</td>\n",
              "      <td>6.787784e+01</td>\n",
              "      <td>9.623001e+01</td>\n",
              "      <td>0.000000e+00</td>\n",
              "      <td>0.000000e+00</td>\n",
              "      <td>1.800000e+01</td>\n",
              "      <td>9.700000e+01</td>\n",
              "      <td>3.370000e+02</td>\n",
              "    </tr>\n",
              "    <tr>\n",
              "      <th>Base MSRP</th>\n",
              "      <td>150482.0</td>\n",
              "      <td>1.312645e+03</td>\n",
              "      <td>9.231310e+03</td>\n",
              "      <td>0.000000e+00</td>\n",
              "      <td>0.000000e+00</td>\n",
              "      <td>0.000000e+00</td>\n",
              "      <td>0.000000e+00</td>\n",
              "      <td>8.450000e+05</td>\n",
              "    </tr>\n",
              "    <tr>\n",
              "      <th>Legislative District</th>\n",
              "      <td>150141.0</td>\n",
              "      <td>2.934395e+01</td>\n",
              "      <td>1.482483e+01</td>\n",
              "      <td>1.000000e+00</td>\n",
              "      <td>1.800000e+01</td>\n",
              "      <td>3.300000e+01</td>\n",
              "      <td>4.300000e+01</td>\n",
              "      <td>4.900000e+01</td>\n",
              "    </tr>\n",
              "    <tr>\n",
              "      <th>DOL Vehicle ID</th>\n",
              "      <td>150482.0</td>\n",
              "      <td>2.111122e+08</td>\n",
              "      <td>8.196388e+07</td>\n",
              "      <td>4.385000e+03</td>\n",
              "      <td>1.693473e+08</td>\n",
              "      <td>2.150306e+08</td>\n",
              "      <td>2.399119e+08</td>\n",
              "      <td>4.792548e+08</td>\n",
              "    </tr>\n",
              "    <tr>\n",
              "      <th>2020 Census Tract</th>\n",
              "      <td>150479.0</td>\n",
              "      <td>5.297195e+10</td>\n",
              "      <td>1.638841e+09</td>\n",
              "      <td>1.081042e+09</td>\n",
              "      <td>5.303301e+10</td>\n",
              "      <td>5.303303e+10</td>\n",
              "      <td>5.305307e+10</td>\n",
              "      <td>5.603300e+10</td>\n",
              "    </tr>\n",
              "  </tbody>\n",
              "</table>\n",
              "</div>\n",
              "    <div class=\"colab-df-buttons\">\n",
              "\n",
              "  <div class=\"colab-df-container\">\n",
              "    <button class=\"colab-df-convert\" onclick=\"convertToInteractive('df-3caa3ba3-1cb2-4b9c-9b5f-16b4b76a19a2')\"\n",
              "            title=\"Convert this dataframe to an interactive table.\"\n",
              "            style=\"display:none;\">\n",
              "\n",
              "  <svg xmlns=\"http://www.w3.org/2000/svg\" height=\"24px\" viewBox=\"0 -960 960 960\">\n",
              "    <path d=\"M120-120v-720h720v720H120Zm60-500h600v-160H180v160Zm220 220h160v-160H400v160Zm0 220h160v-160H400v160ZM180-400h160v-160H180v160Zm440 0h160v-160H620v160ZM180-180h160v-160H180v160Zm440 0h160v-160H620v160Z\"/>\n",
              "  </svg>\n",
              "    </button>\n",
              "\n",
              "  <style>\n",
              "    .colab-df-container {\n",
              "      display:flex;\n",
              "      gap: 12px;\n",
              "    }\n",
              "\n",
              "    .colab-df-convert {\n",
              "      background-color: #E8F0FE;\n",
              "      border: none;\n",
              "      border-radius: 50%;\n",
              "      cursor: pointer;\n",
              "      display: none;\n",
              "      fill: #1967D2;\n",
              "      height: 32px;\n",
              "      padding: 0 0 0 0;\n",
              "      width: 32px;\n",
              "    }\n",
              "\n",
              "    .colab-df-convert:hover {\n",
              "      background-color: #E2EBFA;\n",
              "      box-shadow: 0px 1px 2px rgba(60, 64, 67, 0.3), 0px 1px 3px 1px rgba(60, 64, 67, 0.15);\n",
              "      fill: #174EA6;\n",
              "    }\n",
              "\n",
              "    .colab-df-buttons div {\n",
              "      margin-bottom: 4px;\n",
              "    }\n",
              "\n",
              "    [theme=dark] .colab-df-convert {\n",
              "      background-color: #3B4455;\n",
              "      fill: #D2E3FC;\n",
              "    }\n",
              "\n",
              "    [theme=dark] .colab-df-convert:hover {\n",
              "      background-color: #434B5C;\n",
              "      box-shadow: 0px 1px 3px 1px rgba(0, 0, 0, 0.15);\n",
              "      filter: drop-shadow(0px 1px 2px rgba(0, 0, 0, 0.3));\n",
              "      fill: #FFFFFF;\n",
              "    }\n",
              "  </style>\n",
              "\n",
              "    <script>\n",
              "      const buttonEl =\n",
              "        document.querySelector('#df-3caa3ba3-1cb2-4b9c-9b5f-16b4b76a19a2 button.colab-df-convert');\n",
              "      buttonEl.style.display =\n",
              "        google.colab.kernel.accessAllowed ? 'block' : 'none';\n",
              "\n",
              "      async function convertToInteractive(key) {\n",
              "        const element = document.querySelector('#df-3caa3ba3-1cb2-4b9c-9b5f-16b4b76a19a2');\n",
              "        const dataTable =\n",
              "          await google.colab.kernel.invokeFunction('convertToInteractive',\n",
              "                                                    [key], {});\n",
              "        if (!dataTable) return;\n",
              "\n",
              "        const docLinkHtml = 'Like what you see? Visit the ' +\n",
              "          '<a target=\"_blank\" href=https://colab.research.google.com/notebooks/data_table.ipynb>data table notebook</a>'\n",
              "          + ' to learn more about interactive tables.';\n",
              "        element.innerHTML = '';\n",
              "        dataTable['output_type'] = 'display_data';\n",
              "        await google.colab.output.renderOutput(dataTable, element);\n",
              "        const docLink = document.createElement('div');\n",
              "        docLink.innerHTML = docLinkHtml;\n",
              "        element.appendChild(docLink);\n",
              "      }\n",
              "    </script>\n",
              "  </div>\n",
              "\n",
              "\n",
              "<div id=\"df-d89e544d-6727-4504-b586-e69698954609\">\n",
              "  <button class=\"colab-df-quickchart\" onclick=\"quickchart('df-d89e544d-6727-4504-b586-e69698954609')\"\n",
              "            title=\"Suggest charts\"\n",
              "            style=\"display:none;\">\n",
              "\n",
              "<svg xmlns=\"http://www.w3.org/2000/svg\" height=\"24px\"viewBox=\"0 0 24 24\"\n",
              "     width=\"24px\">\n",
              "    <g>\n",
              "        <path d=\"M19 3H5c-1.1 0-2 .9-2 2v14c0 1.1.9 2 2 2h14c1.1 0 2-.9 2-2V5c0-1.1-.9-2-2-2zM9 17H7v-7h2v7zm4 0h-2V7h2v10zm4 0h-2v-4h2v4z\"/>\n",
              "    </g>\n",
              "</svg>\n",
              "  </button>\n",
              "\n",
              "<style>\n",
              "  .colab-df-quickchart {\n",
              "      --bg-color: #E8F0FE;\n",
              "      --fill-color: #1967D2;\n",
              "      --hover-bg-color: #E2EBFA;\n",
              "      --hover-fill-color: #174EA6;\n",
              "      --disabled-fill-color: #AAA;\n",
              "      --disabled-bg-color: #DDD;\n",
              "  }\n",
              "\n",
              "  [theme=dark] .colab-df-quickchart {\n",
              "      --bg-color: #3B4455;\n",
              "      --fill-color: #D2E3FC;\n",
              "      --hover-bg-color: #434B5C;\n",
              "      --hover-fill-color: #FFFFFF;\n",
              "      --disabled-bg-color: #3B4455;\n",
              "      --disabled-fill-color: #666;\n",
              "  }\n",
              "\n",
              "  .colab-df-quickchart {\n",
              "    background-color: var(--bg-color);\n",
              "    border: none;\n",
              "    border-radius: 50%;\n",
              "    cursor: pointer;\n",
              "    display: none;\n",
              "    fill: var(--fill-color);\n",
              "    height: 32px;\n",
              "    padding: 0;\n",
              "    width: 32px;\n",
              "  }\n",
              "\n",
              "  .colab-df-quickchart:hover {\n",
              "    background-color: var(--hover-bg-color);\n",
              "    box-shadow: 0 1px 2px rgba(60, 64, 67, 0.3), 0 1px 3px 1px rgba(60, 64, 67, 0.15);\n",
              "    fill: var(--button-hover-fill-color);\n",
              "  }\n",
              "\n",
              "  .colab-df-quickchart-complete:disabled,\n",
              "  .colab-df-quickchart-complete:disabled:hover {\n",
              "    background-color: var(--disabled-bg-color);\n",
              "    fill: var(--disabled-fill-color);\n",
              "    box-shadow: none;\n",
              "  }\n",
              "\n",
              "  .colab-df-spinner {\n",
              "    border: 2px solid var(--fill-color);\n",
              "    border-color: transparent;\n",
              "    border-bottom-color: var(--fill-color);\n",
              "    animation:\n",
              "      spin 1s steps(1) infinite;\n",
              "  }\n",
              "\n",
              "  @keyframes spin {\n",
              "    0% {\n",
              "      border-color: transparent;\n",
              "      border-bottom-color: var(--fill-color);\n",
              "      border-left-color: var(--fill-color);\n",
              "    }\n",
              "    20% {\n",
              "      border-color: transparent;\n",
              "      border-left-color: var(--fill-color);\n",
              "      border-top-color: var(--fill-color);\n",
              "    }\n",
              "    30% {\n",
              "      border-color: transparent;\n",
              "      border-left-color: var(--fill-color);\n",
              "      border-top-color: var(--fill-color);\n",
              "      border-right-color: var(--fill-color);\n",
              "    }\n",
              "    40% {\n",
              "      border-color: transparent;\n",
              "      border-right-color: var(--fill-color);\n",
              "      border-top-color: var(--fill-color);\n",
              "    }\n",
              "    60% {\n",
              "      border-color: transparent;\n",
              "      border-right-color: var(--fill-color);\n",
              "    }\n",
              "    80% {\n",
              "      border-color: transparent;\n",
              "      border-right-color: var(--fill-color);\n",
              "      border-bottom-color: var(--fill-color);\n",
              "    }\n",
              "    90% {\n",
              "      border-color: transparent;\n",
              "      border-bottom-color: var(--fill-color);\n",
              "    }\n",
              "  }\n",
              "</style>\n",
              "\n",
              "  <script>\n",
              "    async function quickchart(key) {\n",
              "      const quickchartButtonEl =\n",
              "        document.querySelector('#' + key + ' button');\n",
              "      quickchartButtonEl.disabled = true;  // To prevent multiple clicks.\n",
              "      quickchartButtonEl.classList.add('colab-df-spinner');\n",
              "      try {\n",
              "        const charts = await google.colab.kernel.invokeFunction(\n",
              "            'suggestCharts', [key], {});\n",
              "      } catch (error) {\n",
              "        console.error('Error during call to suggestCharts:', error);\n",
              "      }\n",
              "      quickchartButtonEl.classList.remove('colab-df-spinner');\n",
              "      quickchartButtonEl.classList.add('colab-df-quickchart-complete');\n",
              "    }\n",
              "    (() => {\n",
              "      let quickchartButtonEl =\n",
              "        document.querySelector('#df-d89e544d-6727-4504-b586-e69698954609 button');\n",
              "      quickchartButtonEl.style.display =\n",
              "        google.colab.kernel.accessAllowed ? 'block' : 'none';\n",
              "    })();\n",
              "  </script>\n",
              "</div>\n",
              "\n",
              "    </div>\n",
              "  </div>\n"
            ],
            "application/vnd.google.colaboratory.intrinsic+json": {
              "type": "dataframe",
              "summary": "{\n  \"name\": \"data\",\n  \"rows\": 7,\n  \"fields\": [\n    {\n      \"column\": \"count\",\n      \"properties\": {\n        \"dtype\": \"number\",\n        \"std\": 128.51570220905194,\n        \"min\": 150141.0,\n        \"max\": 150482.0,\n        \"num_unique_values\": 3,\n        \"samples\": [\n          150479.0,\n          150482.0,\n          150141.0\n        ],\n        \"semantic_type\": \"\",\n        \"description\": \"\"\n      }\n    },\n    {\n      \"column\": \"mean\",\n      \"properties\": {\n        \"dtype\": \"number\",\n        \"std\": 20008366365.079754,\n        \"min\": 29.34395002031424,\n        \"max\": 52971954662.7863,\n        \"num_unique_values\": 7,\n        \"samples\": [\n          98168.34415433383,\n          2020.0054358660836,\n          211112233.346367\n        ],\n        \"semantic_type\": \"\",\n        \"description\": \"\"\n      }\n    },\n    {\n      \"column\": \"std\",\n      \"properties\": {\n        \"dtype\": \"number\",\n        \"std\": 615018810.0979593,\n        \"min\": 3.0152087266815197,\n        \"max\": 1638841335.7708862,\n        \"num_unique_values\": 7,\n        \"samples\": [\n          2473.6121844174118,\n          3.0152087266815197,\n          81963879.64188957\n        ],\n        \"semantic_type\": \"\",\n        \"description\": \"\"\n      }\n    },\n    {\n      \"column\": \"min\",\n      \"properties\": {\n        \"dtype\": \"number\",\n        \"std\": 408594921.34450465,\n        \"min\": 0.0,\n        \"max\": 1081041901.0,\n        \"num_unique_values\": 6,\n        \"samples\": [\n          1730.0,\n          1997.0,\n          1081041901.0\n        ],\n        \"semantic_type\": \"\",\n        \"description\": \"\"\n      }\n    },\n    {\n      \"column\": \"25%\",\n      \"properties\": {\n        \"dtype\": \"number\",\n        \"std\": 20034018691.161175,\n        \"min\": 0.0,\n        \"max\": 53033009500.0,\n        \"num_unique_values\": 6,\n        \"samples\": [\n          98052.0,\n          2018.0,\n          53033009500.0\n        ],\n        \"semantic_type\": \"\",\n        \"description\": \"\"\n      }\n    },\n    {\n      \"column\": \"50%\",\n      \"properties\": {\n        \"dtype\": \"number\",\n        \"std\": 20031209276.636684,\n        \"min\": 0.0,\n        \"max\": 53033029309.0,\n        \"num_unique_values\": 7,\n        \"samples\": [\n          98122.0,\n          2021.0,\n          215030630.0\n        ],\n        \"semantic_type\": \"\",\n        \"description\": \"\"\n      }\n    },\n    {\n      \"column\": \"75%\",\n      \"properties\": {\n        \"dtype\": \"number\",\n        \"std\": 20037256679.716766,\n        \"min\": 0.0,\n        \"max\": 53053072509.0,\n        \"num_unique_values\": 7,\n        \"samples\": [\n          98370.0,\n          2023.0,\n          239911895.5\n        ],\n        \"semantic_type\": \"\",\n        \"description\": \"\"\n      }\n    },\n    {\n      \"column\": \"max\",\n      \"properties\": {\n        \"dtype\": \"number\",\n        \"std\": 21148987096.15119,\n        \"min\": 49.0,\n        \"max\": 56033000100.0,\n        \"num_unique_values\": 7,\n        \"samples\": [\n          99577.0,\n          2024.0,\n          479254772.0\n        ],\n        \"semantic_type\": \"\",\n        \"description\": \"\"\n      }\n    }\n  ]\n}"
            }
          },
          "metadata": {},
          "execution_count": 123
        }
      ]
    },
    {
      "cell_type": "code",
      "source": [
        "data.columns"
      ],
      "metadata": {
        "colab": {
          "base_uri": "https://localhost:8080/"
        },
        "id": "6FJINm_sK3k2",
        "outputId": "f8f5f152-4434-4121-becc-e005861f7b79"
      },
      "execution_count": 124,
      "outputs": [
        {
          "output_type": "execute_result",
          "data": {
            "text/plain": [
              "Index(['VIN (1-10)', 'County', 'City', 'State', 'Postal Code', 'Model Year',\n",
              "       'Make', 'Model', 'Electric Vehicle Type',\n",
              "       'Clean Alternative Fuel Vehicle (CAFV) Eligibility', 'Electric Range',\n",
              "       'Base MSRP', 'Legislative District', 'DOL Vehicle ID',\n",
              "       'Vehicle Location', 'Electric Utility', '2020 Census Tract'],\n",
              "      dtype='object')"
            ]
          },
          "metadata": {},
          "execution_count": 124
        }
      ]
    },
    {
      "cell_type": "markdown",
      "source": [
        "## STEP 4: Data Analysis"
      ],
      "metadata": {
        "id": "gFu9o9O_Zany"
      }
    },
    {
      "cell_type": "code",
      "source": [
        "count_by_county = data[\"County\"].value_counts()\n",
        "count_by_county.to_csv(\"count_by_county.csv\")"
      ],
      "metadata": {
        "id": "2cevVbfCMr1m"
      },
      "execution_count": 125,
      "outputs": []
    },
    {
      "cell_type": "code",
      "source": [
        "count_by_county.head(10)"
      ],
      "metadata": {
        "colab": {
          "base_uri": "https://localhost:8080/",
          "height": 424
        },
        "id": "X9kdw959YQE2",
        "outputId": "358b7e38-5538-46ee-e782-61c18c7e9d68"
      },
      "execution_count": 126,
      "outputs": [
        {
          "output_type": "execute_result",
          "data": {
            "text/plain": [
              "County\n",
              "King         79075\n",
              "Snohomish    17307\n",
              "Pierce       11542\n",
              "Clark         8855\n",
              "Thurston      5403\n",
              "Kitsap        4923\n",
              "Spokane       3690\n",
              "Whatcom       3668\n",
              "Benton        1801\n",
              "Skagit        1658\n",
              "Name: count, dtype: int64"
            ],
            "text/html": [
              "<div>\n",
              "<style scoped>\n",
              "    .dataframe tbody tr th:only-of-type {\n",
              "        vertical-align: middle;\n",
              "    }\n",
              "\n",
              "    .dataframe tbody tr th {\n",
              "        vertical-align: top;\n",
              "    }\n",
              "\n",
              "    .dataframe thead th {\n",
              "        text-align: right;\n",
              "    }\n",
              "</style>\n",
              "<table border=\"1\" class=\"dataframe\">\n",
              "  <thead>\n",
              "    <tr style=\"text-align: right;\">\n",
              "      <th></th>\n",
              "      <th>count</th>\n",
              "    </tr>\n",
              "    <tr>\n",
              "      <th>County</th>\n",
              "      <th></th>\n",
              "    </tr>\n",
              "  </thead>\n",
              "  <tbody>\n",
              "    <tr>\n",
              "      <th>King</th>\n",
              "      <td>79075</td>\n",
              "    </tr>\n",
              "    <tr>\n",
              "      <th>Snohomish</th>\n",
              "      <td>17307</td>\n",
              "    </tr>\n",
              "    <tr>\n",
              "      <th>Pierce</th>\n",
              "      <td>11542</td>\n",
              "    </tr>\n",
              "    <tr>\n",
              "      <th>Clark</th>\n",
              "      <td>8855</td>\n",
              "    </tr>\n",
              "    <tr>\n",
              "      <th>Thurston</th>\n",
              "      <td>5403</td>\n",
              "    </tr>\n",
              "    <tr>\n",
              "      <th>Kitsap</th>\n",
              "      <td>4923</td>\n",
              "    </tr>\n",
              "    <tr>\n",
              "      <th>Spokane</th>\n",
              "      <td>3690</td>\n",
              "    </tr>\n",
              "    <tr>\n",
              "      <th>Whatcom</th>\n",
              "      <td>3668</td>\n",
              "    </tr>\n",
              "    <tr>\n",
              "      <th>Benton</th>\n",
              "      <td>1801</td>\n",
              "    </tr>\n",
              "    <tr>\n",
              "      <th>Skagit</th>\n",
              "      <td>1658</td>\n",
              "    </tr>\n",
              "  </tbody>\n",
              "</table>\n",
              "</div><br><label><b>dtype:</b> int64</label>"
            ]
          },
          "metadata": {},
          "execution_count": 126
        }
      ]
    },
    {
      "cell_type": "code",
      "source": [
        "import pandas as pd\n",
        "import matplotlib.pyplot as plt\n",
        "import seaborn as sns\n",
        "\n",
        "# Assuming 'data' is your DataFrame\n",
        "# Calculate the number of vehicles per county\n",
        "county_counts = data['County'].value_counts()\n",
        "\n",
        "# Get the top 10 counties\n",
        "top_10_counties = county_counts.head(10)\n",
        "\n",
        "# Plotting the top 10 counties\n",
        "plt.figure(figsize=(12, 8))\n",
        "ax = sns.barplot(x=top_10_counties.values, y=top_10_counties.index,legend = False,hue=top_10_counties.index, palette='viridis')\n",
        "\n",
        "# Add data labels\n",
        "for p in ax.patches:\n",
        "    ax.annotate(f'{p.get_width()}',\n",
        "                (p.get_width() + 100, p.get_y() + p.get_height() / 2),\n",
        "                ha='center', va='center',\n",
        "                color='black', fontsize=10)\n",
        "\n",
        "plt.title('Top 10 Counties with the Most Electric Vehicles')\n",
        "plt.xlabel('Number of Electric Vehicles')\n",
        "plt.ylabel('County')\n",
        "plt.show()\n"
      ],
      "metadata": {
        "colab": {
          "base_uri": "https://localhost:8080/",
          "height": 718
        },
        "id": "UXqi0I2TYVXe",
        "outputId": "b233bf93-5814-4f13-bfba-5f5bbf0c4121"
      },
      "execution_count": 144,
      "outputs": [
        {
          "output_type": "display_data",
          "data": {
            "text/plain": [
              "<Figure size 1200x800 with 1 Axes>"
            ],
            "image/png": "[encoded data removed]"
          },
          "metadata": {}
        }
      ]
    },
    {
      "cell_type": "code",
      "source": [
        "count_by_city = data[\"City\"].value_counts()\n",
        "count_by_city.to_csv(\"count_by_city.csv\")"
      ],
      "metadata": {
        "id": "zm0kUO0MY9nu"
      },
      "execution_count": 128,
      "outputs": []
    },
    {
      "cell_type": "code",
      "source": [
        "count_by_city.head(10)"
      ],
      "metadata": {
        "colab": {
          "base_uri": "https://localhost:8080/",
          "height": 424
        },
        "id": "pzN_b53CaQ2m",
        "outputId": "82d5a0ea-3b0d-4020-8445-a6e6f5f916fd"
      },
      "execution_count": 129,
      "outputs": [
        {
          "output_type": "execute_result",
          "data": {
            "text/plain": [
              "City\n",
              "Seattle      25675\n",
              "Bellevue      7691\n",
              "Redmond       5502\n",
              "Vancouver     5310\n",
              "Bothell       4861\n",
              "Kirkland      4622\n",
              "Sammamish     4436\n",
              "Renton        4043\n",
              "Olympia       3634\n",
              "Tacoma        3121\n",
              "Name: count, dtype: int64"
            ],
            "text/html": [
              "<div>\n",
              "<style scoped>\n",
              "    .dataframe tbody tr th:only-of-type {\n",
              "        vertical-align: middle;\n",
              "    }\n",
              "\n",
              "    .dataframe tbody tr th {\n",
              "        vertical-align: top;\n",
              "    }\n",
              "\n",
              "    .dataframe thead th {\n",
              "        text-align: right;\n",
              "    }\n",
              "</style>\n",
              "<table border=\"1\" class=\"dataframe\">\n",
              "  <thead>\n",
              "    <tr style=\"text-align: right;\">\n",
              "      <th></th>\n",
              "      <th>count</th>\n",
              "    </tr>\n",
              "    <tr>\n",
              "      <th>City</th>\n",
              "      <th></th>\n",
              "    </tr>\n",
              "  </thead>\n",
              "  <tbody>\n",
              "    <tr>\n",
              "      <th>Seattle</th>\n",
              "      <td>25675</td>\n",
              "    </tr>\n",
              "    <tr>\n",
              "      <th>Bellevue</th>\n",
              "      <td>7691</td>\n",
              "    </tr>\n",
              "    <tr>\n",
              "      <th>Redmond</th>\n",
              "      <td>5502</td>\n",
              "    </tr>\n",
              "    <tr>\n",
              "      <th>Vancouver</th>\n",
              "      <td>5310</td>\n",
              "    </tr>\n",
              "    <tr>\n",
              "      <th>Bothell</th>\n",
              "      <td>4861</td>\n",
              "    </tr>\n",
              "    <tr>\n",
              "      <th>Kirkland</th>\n",
              "      <td>4622</td>\n",
              "    </tr>\n",
              "    <tr>\n",
              "      <th>Sammamish</th>\n",
              "      <td>4436</td>\n",
              "    </tr>\n",
              "    <tr>\n",
              "      <th>Renton</th>\n",
              "      <td>4043</td>\n",
              "    </tr>\n",
              "    <tr>\n",
              "      <th>Olympia</th>\n",
              "      <td>3634</td>\n",
              "    </tr>\n",
              "    <tr>\n",
              "      <th>Tacoma</th>\n",
              "      <td>3121</td>\n",
              "    </tr>\n",
              "  </tbody>\n",
              "</table>\n",
              "</div><br><label><b>dtype:</b> int64</label>"
            ]
          },
          "metadata": {},
          "execution_count": 129
        }
      ]
    },
    {
      "cell_type": "code",
      "source": [
        "import pandas as pd\n",
        "import matplotlib.pyplot as plt\n",
        "import seaborn as sns\n",
        "\n",
        "# Assuming 'data' is your DataFrame\n",
        "# Calculate the number of vehicles per county\n",
        "city_counts = data['City'].value_counts()\n",
        "\n",
        "# Get the top 10 counties\n",
        "top_10_cities = city_counts.head(10)\n",
        "\n",
        "# Plotting the top 10 counties\n",
        "plt.figure(figsize=(12, 8))\n",
        "ax = sns.barplot(x=top_10_cities.values, y=top_10_cities.index,legend = False,hue=top_10_cities.index, palette='viridis')\n",
        "\n",
        "# Add data labels\n",
        "for p in ax.patches:\n",
        "    ax.annotate(f'{p.get_width()}',\n",
        "                (p.get_width() + 100, p.get_y() + p.get_height() / 2),\n",
        "                ha='center', va='center',\n",
        "                color='black', fontsize=10)\n",
        "\n",
        "plt.title('Top 10 City with the Most Electric Vehicles')\n",
        "plt.xlabel('Number of Electric Vehicles')\n",
        "plt.ylabel('City')\n",
        "plt.show()"
      ],
      "metadata": {
        "colab": {
          "base_uri": "https://localhost:8080/",
          "height": 718
        },
        "id": "OmTdUpRqaSB1",
        "outputId": "e116d625-b608-43c4-d912-460dd407d754"
      },
      "execution_count": 143,
      "outputs": [
        {
          "output_type": "display_data",
          "data": {
            "text/plain": [
              "<Figure size 1200x800 with 1 Axes>"
            ],
            "image/png": "[encoded data removed]"
          },
          "metadata": {}
        }
      ]
    },
    {
      "cell_type": "code",
      "source": [
        "count_by_state = data[\"State\"].value_counts()\n",
        "count_by_state.to_csv(\"count_by_state.csv\")"
      ],
      "metadata": {
        "id": "tmW7ykaT0Y4y"
      },
      "execution_count": 172,
      "outputs": []
    },
    {
      "cell_type": "code",
      "source": [
        "count_by_state .head(10)"
      ],
      "metadata": {
        "colab": {
          "base_uri": "https://localhost:8080/",
          "height": 424
        },
        "id": "81f_Zr7c0Yxd",
        "outputId": "e20014c1-0e81-4d8c-c778-0612c76c6ef4"
      },
      "execution_count": 173,
      "outputs": [
        {
          "output_type": "execute_result",
          "data": {
            "text/plain": [
              "State\n",
              "WA    150141\n",
              "CA        92\n",
              "VA        35\n",
              "MD        33\n",
              "TX        20\n",
              "NC        13\n",
              "IL        12\n",
              "AZ        11\n",
              "CO        11\n",
              "FL         9\n",
              "Name: count, dtype: int64"
            ],
            "text/html": [
              "<div>\n",
              "<style scoped>\n",
              "    .dataframe tbody tr th:only-of-type {\n",
              "        vertical-align: middle;\n",
              "    }\n",
              "\n",
              "    .dataframe tbody tr th {\n",
              "        vertical-align: top;\n",
              "    }\n",
              "\n",
              "    .dataframe thead th {\n",
              "        text-align: right;\n",
              "    }\n",
              "</style>\n",
              "<table border=\"1\" class=\"dataframe\">\n",
              "  <thead>\n",
              "    <tr style=\"text-align: right;\">\n",
              "      <th></th>\n",
              "      <th>count</th>\n",
              "    </tr>\n",
              "    <tr>\n",
              "      <th>State</th>\n",
              "      <th></th>\n",
              "    </tr>\n",
              "  </thead>\n",
              "  <tbody>\n",
              "    <tr>\n",
              "      <th>WA</th>\n",
              "      <td>150141</td>\n",
              "    </tr>\n",
              "    <tr>\n",
              "      <th>CA</th>\n",
              "      <td>92</td>\n",
              "    </tr>\n",
              "    <tr>\n",
              "      <th>VA</th>\n",
              "      <td>35</td>\n",
              "    </tr>\n",
              "    <tr>\n",
              "      <th>MD</th>\n",
              "      <td>33</td>\n",
              "    </tr>\n",
              "    <tr>\n",
              "      <th>TX</th>\n",
              "      <td>20</td>\n",
              "    </tr>\n",
              "    <tr>\n",
              "      <th>NC</th>\n",
              "      <td>13</td>\n",
              "    </tr>\n",
              "    <tr>\n",
              "      <th>IL</th>\n",
              "      <td>12</td>\n",
              "    </tr>\n",
              "    <tr>\n",
              "      <th>AZ</th>\n",
              "      <td>11</td>\n",
              "    </tr>\n",
              "    <tr>\n",
              "      <th>CO</th>\n",
              "      <td>11</td>\n",
              "    </tr>\n",
              "    <tr>\n",
              "      <th>FL</th>\n",
              "      <td>9</td>\n",
              "    </tr>\n",
              "  </tbody>\n",
              "</table>\n",
              "</div><br><label><b>dtype:</b> int64</label>"
            ]
          },
          "metadata": {},
          "execution_count": 173
        }
      ]
    },
    {
      "cell_type": "code",
      "source": [
        "plt.figure(figsize=(10, 6))\n",
        "count_by_state.plot(kind='line')\n",
        "plt.xlabel(\"State\")\n",
        "plt.ylabel(\"Count\")\n",
        "plt.title(\"Electric Vehicle by State\")\n",
        "plt.show()"
      ],
      "metadata": {
        "colab": {
          "base_uri": "https://localhost:8080/",
          "height": 564
        },
        "id": "XSgwlKbN3Ryw",
        "outputId": "9c92c443-c793-4f90-d132-a04e26ba621d"
      },
      "execution_count": 181,
      "outputs": [
        {
          "output_type": "display_data",
          "data": {
            "text/plain": [
              "<Figure size 1000x600 with 1 Axes>"
            ],
            "image/png": "[encoded data removed]"
          },
          "metadata": {}
        }
      ]
    },
    {
      "cell_type": "code",
      "source": [
        "count_by_ModelYear = data[\"Model Year\"].value_counts()\n",
        "count_by_ModelYear.to_csv(\"count_by_ModelYear.csv\")"
      ],
      "metadata": {
        "id": "rRKwF4kdbprL"
      },
      "execution_count": 146,
      "outputs": []
    },
    {
      "cell_type": "code",
      "source": [
        "count_by_ModelYear.head(10)"
      ],
      "metadata": {
        "colab": {
          "base_uri": "https://localhost:8080/",
          "height": 424
        },
        "id": "3lnrlIcYbzfW",
        "outputId": "8a18e983-85a4-40bd-d07e-08463ffb8688"
      },
      "execution_count": 147,
      "outputs": [
        {
          "output_type": "execute_result",
          "data": {
            "text/plain": [
              "Model Year\n",
              "2023    37079\n",
              "2022    27799\n",
              "2021    18684\n",
              "2018    14441\n",
              "2020    11294\n",
              "2019    10717\n",
              "2017     8574\n",
              "2016     5650\n",
              "2015     4934\n",
              "2013     4566\n",
              "Name: count, dtype: int64"
            ],
            "text/html": [
              "<div>\n",
              "<style scoped>\n",
              "    .dataframe tbody tr th:only-of-type {\n",
              "        vertical-align: middle;\n",
              "    }\n",
              "\n",
              "    .dataframe tbody tr th {\n",
              "        vertical-align: top;\n",
              "    }\n",
              "\n",
              "    .dataframe thead th {\n",
              "        text-align: right;\n",
              "    }\n",
              "</style>\n",
              "<table border=\"1\" class=\"dataframe\">\n",
              "  <thead>\n",
              "    <tr style=\"text-align: right;\">\n",
              "      <th></th>\n",
              "      <th>count</th>\n",
              "    </tr>\n",
              "    <tr>\n",
              "      <th>Model Year</th>\n",
              "      <th></th>\n",
              "    </tr>\n",
              "  </thead>\n",
              "  <tbody>\n",
              "    <tr>\n",
              "      <th>2023</th>\n",
              "      <td>37079</td>\n",
              "    </tr>\n",
              "    <tr>\n",
              "      <th>2022</th>\n",
              "      <td>27799</td>\n",
              "    </tr>\n",
              "    <tr>\n",
              "      <th>2021</th>\n",
              "      <td>18684</td>\n",
              "    </tr>\n",
              "    <tr>\n",
              "      <th>2018</th>\n",
              "      <td>14441</td>\n",
              "    </tr>\n",
              "    <tr>\n",
              "      <th>2020</th>\n",
              "      <td>11294</td>\n",
              "    </tr>\n",
              "    <tr>\n",
              "      <th>2019</th>\n",
              "      <td>10717</td>\n",
              "    </tr>\n",
              "    <tr>\n",
              "      <th>2017</th>\n",
              "      <td>8574</td>\n",
              "    </tr>\n",
              "    <tr>\n",
              "      <th>2016</th>\n",
              "      <td>5650</td>\n",
              "    </tr>\n",
              "    <tr>\n",
              "      <th>2015</th>\n",
              "      <td>4934</td>\n",
              "    </tr>\n",
              "    <tr>\n",
              "      <th>2013</th>\n",
              "      <td>4566</td>\n",
              "    </tr>\n",
              "  </tbody>\n",
              "</table>\n",
              "</div><br><label><b>dtype:</b> int64</label>"
            ]
          },
          "metadata": {},
          "execution_count": 147
        }
      ]
    },
    {
      "cell_type": "code",
      "source": [
        "# Calculate the number of vehicles per model year\n",
        "count_by_ModelYear = data['Model Year'].value_counts().sort_index()\n",
        "\n",
        "# Sort the counts in descending order and select the top 10\n",
        "top_10_model_years = count_by_ModelYear.sort_values(ascending=False).head(10)\n",
        "\n",
        "# Plotting the data\n",
        "plt.figure(figsize=(10, 6))\n",
        "\n",
        "# Create a bar plot using seaborn with the 'viridis' color palette\n",
        "sns.barplot(x=top_10_model_years.index, y=top_10_model_years.values,legend = 'False', palette=sns.color_palette('viridis', len(top_10_model_years)))\n",
        "\n",
        "# Add data labels\n",
        "ax = plt.gca()\n",
        "for p in ax.patches:\n",
        "    ax.annotate(f'{p.get_height()}',\n",
        "                (p.get_x() + p.get_width() / 2, p.get_height() + 0.5),\n",
        "                ha='center', va='bottom',\n",
        "                color='black', fontsize=10)\n",
        "\n",
        "# Set labels and title\n",
        "plt.xlabel(\"Model Year\")\n",
        "plt.ylabel(\"Count of Vehicles\")\n",
        "plt.title(\"Top 10 Model Years with the Most Electric Vehicles\")\n",
        "\n",
        "# Show plot\n",
        "plt.show()"
      ],
      "metadata": {
        "colab": {
          "base_uri": "https://localhost:8080/",
          "height": 669
        },
        "id": "HZeGls7DqqvR",
        "outputId": "0a675ef8-4055-4229-dbad-5564e76d2ffc"
      },
      "execution_count": 148,
      "outputs": [
        {
          "output_type": "stream",
          "name": "stderr",
          "text": [
            "<ipython-input-148-7d38a03bf8a0>:11: FutureWarning: \n",
            "\n",
            "Passing `palette` without assigning `hue` is deprecated and will be removed in v0.14.0. Assign the `x` variable to `hue` and set `legend=False` for the same effect.\n",
            "\n",
            "  sns.barplot(x=top_10_model_years.index, y=top_10_model_years.values,legend = 'False', palette=sns.color_palette('viridis', len(top_10_model_years)))\n"
          ]
        },
        {
          "output_type": "display_data",
          "data": {
            "text/plain": [
              "<Figure size 1000x600 with 1 Axes>"
            ],
            "image/png": "[encoded data removed]"
          },
          "metadata": {}
        }
      ]
    },
    {
      "cell_type": "code",
      "source": [
        "count_by_Model = data[\"Model\"].value_counts()\n",
        "count_by_Model.to_csv(\"count_by_Model.csv\")"
      ],
      "metadata": {
        "id": "L8-rkgeRrOM4"
      },
      "execution_count": 149,
      "outputs": []
    },
    {
      "cell_type": "code",
      "source": [
        "count_by_Model.head(10)"
      ],
      "metadata": {
        "colab": {
          "base_uri": "https://localhost:8080/",
          "height": 424
        },
        "id": "TIEAhkiMtX8x",
        "outputId": "f2e92001-d6d8-48ca-b308-7337cfe5b679"
      },
      "execution_count": 150,
      "outputs": [
        {
          "output_type": "execute_result",
          "data": {
            "text/plain": [
              "Model\n",
              "MODEL Y     28502\n",
              "MODEL 3     27709\n",
              "LEAF        13187\n",
              "MODEL S      7611\n",
              "BOLT EV      5733\n",
              "MODEL X      5114\n",
              "VOLT         4890\n",
              "ID.4         2999\n",
              "NIRO         2876\n",
              "PACIFICA     2642\n",
              "Name: count, dtype: int64"
            ],
            "text/html": [
              "<div>\n",
              "<style scoped>\n",
              "    .dataframe tbody tr th:only-of-type {\n",
              "        vertical-align: middle;\n",
              "    }\n",
              "\n",
              "    .dataframe tbody tr th {\n",
              "        vertical-align: top;\n",
              "    }\n",
              "\n",
              "    .dataframe thead th {\n",
              "        text-align: right;\n",
              "    }\n",
              "</style>\n",
              "<table border=\"1\" class=\"dataframe\">\n",
              "  <thead>\n",
              "    <tr style=\"text-align: right;\">\n",
              "      <th></th>\n",
              "      <th>count</th>\n",
              "    </tr>\n",
              "    <tr>\n",
              "      <th>Model</th>\n",
              "      <th></th>\n",
              "    </tr>\n",
              "  </thead>\n",
              "  <tbody>\n",
              "    <tr>\n",
              "      <th>MODEL Y</th>\n",
              "      <td>28502</td>\n",
              "    </tr>\n",
              "    <tr>\n",
              "      <th>MODEL 3</th>\n",
              "      <td>27709</td>\n",
              "    </tr>\n",
              "    <tr>\n",
              "      <th>LEAF</th>\n",
              "      <td>13187</td>\n",
              "    </tr>\n",
              "    <tr>\n",
              "      <th>MODEL S</th>\n",
              "      <td>7611</td>\n",
              "    </tr>\n",
              "    <tr>\n",
              "      <th>BOLT EV</th>\n",
              "      <td>5733</td>\n",
              "    </tr>\n",
              "    <tr>\n",
              "      <th>MODEL X</th>\n",
              "      <td>5114</td>\n",
              "    </tr>\n",
              "    <tr>\n",
              "      <th>VOLT</th>\n",
              "      <td>4890</td>\n",
              "    </tr>\n",
              "    <tr>\n",
              "      <th>ID.4</th>\n",
              "      <td>2999</td>\n",
              "    </tr>\n",
              "    <tr>\n",
              "      <th>NIRO</th>\n",
              "      <td>2876</td>\n",
              "    </tr>\n",
              "    <tr>\n",
              "      <th>PACIFICA</th>\n",
              "      <td>2642</td>\n",
              "    </tr>\n",
              "  </tbody>\n",
              "</table>\n",
              "</div><br><label><b>dtype:</b> int64</label>"
            ]
          },
          "metadata": {},
          "execution_count": 150
        }
      ]
    },
    {
      "cell_type": "code",
      "source": [
        "# Get the top 10 counties\n",
        "top_10_models = count_by_Model.head(10)\n",
        "\n",
        "# Plotting the top 10 counties\n",
        "plt.figure(figsize=(12, 8))\n",
        "ax = sns.barplot(x=top_10_models.values, y=top_10_models.index,legend = False,hue=top_10_cities.index, palette='viridis')\n",
        "\n",
        "# Add data labels\n",
        "for p in ax.patches:\n",
        "    ax.annotate(f'{p.get_width()}',\n",
        "                (p.get_width() + 100, p.get_y() + p.get_height() / 2),\n",
        "                ha='center', va='center',\n",
        "                color='black', fontsize=10)\n",
        "\n",
        "plt.title('Top 10 Model of Electric Vehicles')\n",
        "plt.xlabel('Number of Electric Vehicles')\n",
        "plt.ylabel('Models')\n",
        "plt.show()"
      ],
      "metadata": {
        "colab": {
          "base_uri": "https://localhost:8080/",
          "height": 718
        },
        "id": "guvocOaptmDR",
        "outputId": "1f60b701-1bd8-4b23-ac74-b999ea4f3ade"
      },
      "execution_count": 153,
      "outputs": [
        {
          "output_type": "display_data",
          "data": {
            "text/plain": [
              "<Figure size 1200x800 with 1 Axes>"
            ],
            "image/png": "[encoded data removed]"
          },
          "metadata": {}
        }
      ]
    },
    {
      "cell_type": "code",
      "source": [
        "count_by_Make = data[\"Make\"].value_counts()\n",
        "count_by_Make.to_csv(\"count_by_Make.csv\")"
      ],
      "metadata": {
        "id": "sESdewLktzcR"
      },
      "execution_count": 154,
      "outputs": []
    },
    {
      "cell_type": "code",
      "source": [
        "count_by_Make.head(10)"
      ],
      "metadata": {
        "colab": {
          "base_uri": "https://localhost:8080/",
          "height": 424
        },
        "id": "vxy-IPFKuUNJ",
        "outputId": "179dcb27-2529-42d7-a7a2-415efb9b376a"
      },
      "execution_count": 155,
      "outputs": [
        {
          "output_type": "execute_result",
          "data": {
            "text/plain": [
              "Make\n",
              "TESLA         68983\n",
              "NISSAN        13497\n",
              "CHEVROLET     12026\n",
              "FORD           7614\n",
              "BMW            6439\n",
              "KIA            6198\n",
              "TOYOTA         5223\n",
              "VOLKSWAGEN     4074\n",
              "VOLVO          3536\n",
              "JEEP           3292\n",
              "Name: count, dtype: int64"
            ],
            "text/html": [
              "<div>\n",
              "<style scoped>\n",
              "    .dataframe tbody tr th:only-of-type {\n",
              "        vertical-align: middle;\n",
              "    }\n",
              "\n",
              "    .dataframe tbody tr th {\n",
              "        vertical-align: top;\n",
              "    }\n",
              "\n",
              "    .dataframe thead th {\n",
              "        text-align: right;\n",
              "    }\n",
              "</style>\n",
              "<table border=\"1\" class=\"dataframe\">\n",
              "  <thead>\n",
              "    <tr style=\"text-align: right;\">\n",
              "      <th></th>\n",
              "      <th>count</th>\n",
              "    </tr>\n",
              "    <tr>\n",
              "      <th>Make</th>\n",
              "      <th></th>\n",
              "    </tr>\n",
              "  </thead>\n",
              "  <tbody>\n",
              "    <tr>\n",
              "      <th>TESLA</th>\n",
              "      <td>68983</td>\n",
              "    </tr>\n",
              "    <tr>\n",
              "      <th>NISSAN</th>\n",
              "      <td>13497</td>\n",
              "    </tr>\n",
              "    <tr>\n",
              "      <th>CHEVROLET</th>\n",
              "      <td>12026</td>\n",
              "    </tr>\n",
              "    <tr>\n",
              "      <th>FORD</th>\n",
              "      <td>7614</td>\n",
              "    </tr>\n",
              "    <tr>\n",
              "      <th>BMW</th>\n",
              "      <td>6439</td>\n",
              "    </tr>\n",
              "    <tr>\n",
              "      <th>KIA</th>\n",
              "      <td>6198</td>\n",
              "    </tr>\n",
              "    <tr>\n",
              "      <th>TOYOTA</th>\n",
              "      <td>5223</td>\n",
              "    </tr>\n",
              "    <tr>\n",
              "      <th>VOLKSWAGEN</th>\n",
              "      <td>4074</td>\n",
              "    </tr>\n",
              "    <tr>\n",
              "      <th>VOLVO</th>\n",
              "      <td>3536</td>\n",
              "    </tr>\n",
              "    <tr>\n",
              "      <th>JEEP</th>\n",
              "      <td>3292</td>\n",
              "    </tr>\n",
              "  </tbody>\n",
              "</table>\n",
              "</div><br><label><b>dtype:</b> int64</label>"
            ]
          },
          "metadata": {},
          "execution_count": 155
        }
      ]
    },
    {
      "cell_type": "code",
      "source": [
        "# Get the top 10 counties\n",
        "top_10_make = count_by_Make.head(10)\n",
        "\n",
        "# Plotting the top 10 counties\n",
        "plt.figure(figsize=(12, 8))\n",
        "ax = sns.barplot(x=top_10_make.values, y=top_10_make.index,legend = False,hue=top_10_make.index, palette='viridis')\n",
        "\n",
        "# Add data labels\n",
        "for p in ax.patches:\n",
        "    ax.annotate(f'{p.get_width()}',\n",
        "                (p.get_width() + 100, p.get_y() + p.get_height() / 2),\n",
        "                ha='center', va='center',\n",
        "                color='black', fontsize=10)\n",
        "\n",
        "plt.title('Top 10 Make of Electric Vehicles')\n",
        "plt.xlabel('Number of Electric Vehicles')\n",
        "plt.ylabel('Make')\n",
        "plt.show()"
      ],
      "metadata": {
        "colab": {
          "base_uri": "https://localhost:8080/",
          "height": 718
        },
        "id": "vG2qYlkMuV8Q",
        "outputId": "a91bd6c0-b4bc-4073-a576-a73f8eec81a8"
      },
      "execution_count": 163,
      "outputs": [
        {
          "output_type": "display_data",
          "data": {
            "text/plain": [
              "<Figure size 1200x800 with 1 Axes>"
            ],
            "image/png": "[encoded data removed]"
          },
          "metadata": {}
        }
      ]
    },
    {
      "cell_type": "code",
      "source": [
        "count_by_Vehicle_Type  = data[\"Electric Vehicle Type\"].value_counts()\n",
        "count_by_Vehicle_Type .to_csv(\"count_by_Vehicle_Type .csv\")"
      ],
      "metadata": {
        "id": "YgU98LfYzSvX"
      },
      "execution_count": 165,
      "outputs": []
    },
    {
      "cell_type": "code",
      "source": [
        "count_by_Vehicle_Type"
      ],
      "metadata": {
        "colab": {
          "base_uri": "https://localhost:8080/",
          "height": 176
        },
        "id": "FdpwXlOdzi93",
        "outputId": "c2b2556f-d8f4-4c7d-b9e9-c9cff05f2aee"
      },
      "execution_count": 171,
      "outputs": [
        {
          "output_type": "execute_result",
          "data": {
            "text/plain": [
              "Electric Vehicle Type\n",
              "Battery Electric Vehicle (BEV)            116807\n",
              "Plug-in Hybrid Electric Vehicle (PHEV)     33675\n",
              "Name: count, dtype: int64"
            ],
            "text/html": [
              "<div>\n",
              "<style scoped>\n",
              "    .dataframe tbody tr th:only-of-type {\n",
              "        vertical-align: middle;\n",
              "    }\n",
              "\n",
              "    .dataframe tbody tr th {\n",
              "        vertical-align: top;\n",
              "    }\n",
              "\n",
              "    .dataframe thead th {\n",
              "        text-align: right;\n",
              "    }\n",
              "</style>\n",
              "<table border=\"1\" class=\"dataframe\">\n",
              "  <thead>\n",
              "    <tr style=\"text-align: right;\">\n",
              "      <th></th>\n",
              "      <th>count</th>\n",
              "    </tr>\n",
              "    <tr>\n",
              "      <th>Electric Vehicle Type</th>\n",
              "      <th></th>\n",
              "    </tr>\n",
              "  </thead>\n",
              "  <tbody>\n",
              "    <tr>\n",
              "      <th>Battery Electric Vehicle (BEV)</th>\n",
              "      <td>116807</td>\n",
              "    </tr>\n",
              "    <tr>\n",
              "      <th>Plug-in Hybrid Electric Vehicle (PHEV)</th>\n",
              "      <td>33675</td>\n",
              "    </tr>\n",
              "  </tbody>\n",
              "</table>\n",
              "</div><br><label><b>dtype:</b> int64</label>"
            ]
          },
          "metadata": {},
          "execution_count": 171
        }
      ]
    },
    {
      "cell_type": "code",
      "source": [
        "# Calculate the number of vehicles by type\n",
        "count_by_Vehicle_Type = data['Electric Vehicle Type'].value_counts()\n",
        "\n",
        "# Save the data to a CSV file\n",
        "count_by_Vehicle_Type.to_csv(\"count_by_Vehicle_Type.csv\", header=True)\n",
        "\n",
        "# Plotting the pie chart\n",
        "plt.figure(figsize=(8, 6))\n",
        "\n",
        "# Create a color palette with enough colors for the pie chart\n",
        "colors = sns.color_palette('crest', len(count_by_Vehicle_Type))\n",
        "\n",
        "# Create a pie chart\n",
        "plt.pie(count_by_Vehicle_Type, labels=count_by_Vehicle_Type.index, autopct='%1.1f%%', colors=colors)\n",
        "\n",
        "# Set title\n",
        "plt.title(\"Distribution of Electric Vehicle Types\")\n",
        "\n",
        "# Show the plot\n",
        "plt.show()"
      ],
      "metadata": {
        "colab": {
          "base_uri": "https://localhost:8080/",
          "height": 521
        },
        "id": "rBXKEQemzrCs",
        "outputId": "7723eb53-5780-4bf1-c22b-be3af3ba7f6e"
      },
      "execution_count": 170,
      "outputs": [
        {
          "output_type": "display_data",
          "data": {
            "text/plain": [
              "<Figure size 800x600 with 1 Axes>"
            ],
            "image/png": "[encoded data removed]"
          },
          "metadata": {}
        }
      ]
    },
    {
      "cell_type": "code",
      "source": [
        "count_by_Electric_Range = data[\"Electric Range\"].value_counts()\n",
        "count_by_Electric_Range.to_csv(\"count_by_Electric_Range.csv\")"
      ],
      "metadata": {
        "id": "n1o5o8F7z5K8"
      },
      "execution_count": 183,
      "outputs": []
    },
    {
      "cell_type": "code",
      "source": [
        "count_by_Electric_Range.head(5)"
      ],
      "metadata": {
        "colab": {
          "base_uri": "https://localhost:8080/",
          "height": 269
        },
        "id": "X8FFaQPd4KlL",
        "outputId": "43a27ab2-9eac-4c7f-9175-a9d1b1f78249"
      },
      "execution_count": 184,
      "outputs": [
        {
          "output_type": "execute_result",
          "data": {
            "text/plain": [
              "Electric Range\n",
              "0      69698\n",
              "215     6490\n",
              "220     4125\n",
              "84      4023\n",
              "238     3611\n",
              "Name: count, dtype: int64"
            ],
            "text/html": [
              "<div>\n",
              "<style scoped>\n",
              "    .dataframe tbody tr th:only-of-type {\n",
              "        vertical-align: middle;\n",
              "    }\n",
              "\n",
              "    .dataframe tbody tr th {\n",
              "        vertical-align: top;\n",
              "    }\n",
              "\n",
              "    .dataframe thead th {\n",
              "        text-align: right;\n",
              "    }\n",
              "</style>\n",
              "<table border=\"1\" class=\"dataframe\">\n",
              "  <thead>\n",
              "    <tr style=\"text-align: right;\">\n",
              "      <th></th>\n",
              "      <th>count</th>\n",
              "    </tr>\n",
              "    <tr>\n",
              "      <th>Electric Range</th>\n",
              "      <th></th>\n",
              "    </tr>\n",
              "  </thead>\n",
              "  <tbody>\n",
              "    <tr>\n",
              "      <th>0</th>\n",
              "      <td>69698</td>\n",
              "    </tr>\n",
              "    <tr>\n",
              "      <th>215</th>\n",
              "      <td>6490</td>\n",
              "    </tr>\n",
              "    <tr>\n",
              "      <th>220</th>\n",
              "      <td>4125</td>\n",
              "    </tr>\n",
              "    <tr>\n",
              "      <th>84</th>\n",
              "      <td>4023</td>\n",
              "    </tr>\n",
              "    <tr>\n",
              "      <th>238</th>\n",
              "      <td>3611</td>\n",
              "    </tr>\n",
              "  </tbody>\n",
              "</table>\n",
              "</div><br><label><b>dtype:</b> int64</label>"
            ]
          },
          "metadata": {},
          "execution_count": 184
        }
      ]
    },
    {
      "cell_type": "code",
      "source": [],
      "metadata": {
        "id": "eIAZrri04NNr"
      },
      "execution_count": null,
      "outputs": []
    }
  ]
}