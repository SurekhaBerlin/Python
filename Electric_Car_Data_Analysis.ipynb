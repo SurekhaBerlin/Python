{
  "nbformat": 4,
  "nbformat_minor": 0,
  "metadata": {
    "colab": {
      "provenance": [],
      "authorship_tag": "ABX9TyPMjBatllkpoHKw75I/4wiD",
      "include_colab_link": true
    },
    "kernelspec": {
      "name": "python3",
      "display_name": "Python 3"
    },
    "language_info": {
      "name": "python"
    }
  },
  "cells": [
    {
      "cell_type": "markdown",
      "metadata": {
        "id": "view-in-github",
        "colab_type": "text"
      },
      "source": [
        "<a href=\"https://colab.research.google.com/github/SurekhaBerlin/Python/blob/main/Electric_Car_Data_Analysis.ipynb\" target=\"_parent\"><img src=\"https://colab.research.google.com/assets/colab-badge.svg\" alt=\"Open In Colab\"/></a>"
      ]
    },
    {
      "cell_type": "markdown",
      "source": [
        "# ELECTRIC VEHICLE DATA ANALYSIS"
      ],
      "metadata": {
        "id": "R_bHoo6WKfzf"
      }
    },
    {
      "cell_type": "markdown",
      "source": [
        "## STEP 1: Importing Libraries"
      ],
      "metadata": {
        "id": "bSW_H_yUKYHH"
      }
    },
    {
      "cell_type": "code",
      "execution_count": 1,
      "metadata": {
        "id": "PyGAeyZjFgpn"
      },
      "outputs": [],
      "source": [
        "import pandas as pd\n",
        "import matplotlib.pyplot as plt\n",
        "import seaborn as sns"
      ]
    },
    {
      "cell_type": "markdown",
      "source": [
        "## STEP 2: Reading the Data"
      ],
      "metadata": {
        "id": "_KZRJheNKlP-"
      }
    },
    {
      "cell_type": "code",
      "source": [
        "vehicle_df = pd.read_csv(\"/content/Electric_Vehicle_Population_Data.csv\")"
      ],
      "metadata": {
        "id": "AoS0Cx1LKIiz"
      },
      "execution_count": 7,
      "outputs": []
    },
    {
      "cell_type": "code",
      "source": [
        "vehicle_df.info()"
      ],
      "metadata": {
        "colab": {
          "base_uri": "https://localhost:8080/"
        },
        "id": "9wYZ5FpkKRev",
        "outputId": "ce622c59-4acc-40f0-d650-a29d27227d44"
      },
      "execution_count": 8,
      "outputs": [
        {
          "output_type": "stream",
          "name": "stdout",
          "text": [
            "<class 'pandas.core.frame.DataFrame'>\n",
            "RangeIndex: 150482 entries, 0 to 150481\n",
            "Data columns (total 17 columns):\n",
            " #   Column                                             Non-Null Count   Dtype  \n",
            "---  ------                                             --------------   -----  \n",
            " 0   VIN (1-10)                                         150482 non-null  object \n",
            " 1   County                                             150479 non-null  object \n",
            " 2   City                                               150479 non-null  object \n",
            " 3   State                                              150482 non-null  object \n",
            " 4   Postal Code                                        150479 non-null  float64\n",
            " 5   Model Year                                         150482 non-null  int64  \n",
            " 6   Make                                               150482 non-null  object \n",
            " 7   Model                                              150482 non-null  object \n",
            " 8   Electric Vehicle Type                              150482 non-null  object \n",
            " 9   Clean Alternative Fuel Vehicle (CAFV) Eligibility  150482 non-null  object \n",
            " 10  Electric Range                                     150482 non-null  int64  \n",
            " 11  Base MSRP                                          150482 non-null  int64  \n",
            " 12  Legislative District                               150141 non-null  float64\n",
            " 13  DOL Vehicle ID                                     150482 non-null  int64  \n",
            " 14  Vehicle Location                                   150475 non-null  object \n",
            " 15  Electric Utility                                   150479 non-null  object \n",
            " 16  2020 Census Tract                                  150479 non-null  float64\n",
            "dtypes: float64(3), int64(4), object(10)\n",
            "memory usage: 19.5+ MB\n"
          ]
        }
      ]
    },
    {
      "cell_type": "code",
      "source": [
        "vehicle_df.shape"
      ],
      "metadata": {
        "colab": {
          "base_uri": "https://localhost:8080/"
        },
        "id": "-cnn6WluKTRN",
        "outputId": "ebb44491-1ce6-4d64-dcdf-f1cbf2168a4b"
      },
      "execution_count": 9,
      "outputs": [
        {
          "output_type": "execute_result",
          "data": {
            "text/plain": [
              "(150482, 17)"
            ]
          },
          "metadata": {},
          "execution_count": 9
        }
      ]
    },
    {
      "cell_type": "code",
      "source": [
        "vehicle_df.describe().T"
      ],
      "metadata": {
        "colab": {
          "base_uri": "https://localhost:8080/",
          "height": 422
        },
        "id": "CF8UHQ97Kzze",
        "outputId": "1a0550f8-5b17-4e9c-f285-d88cae4bf8ca"
      },
      "execution_count": 10,
      "outputs": [
        {
          "output_type": "execute_result",
          "data": {
            "text/plain": [
              "                         count          mean           std           min  \\\n",
              "Postal Code           150479.0  9.816834e+04  2.473612e+03  1.730000e+03   \n",
              "Model Year            150482.0  2.020005e+03  3.015209e+00  1.997000e+03   \n",
              "Electric Range        150482.0  6.787784e+01  9.623001e+01  0.000000e+00   \n",
              "Base MSRP             150482.0  1.312645e+03  9.231310e+03  0.000000e+00   \n",
              "Legislative District  150141.0  2.934395e+01  1.482483e+01  1.000000e+00   \n",
              "DOL Vehicle ID        150482.0  2.111122e+08  8.196388e+07  4.385000e+03   \n",
              "2020 Census Tract     150479.0  5.297195e+10  1.638841e+09  1.081042e+09   \n",
              "\n",
              "                               25%           50%           75%           max  \n",
              "Postal Code           9.805200e+04  9.812200e+04  9.837000e+04  9.957700e+04  \n",
              "Model Year            2.018000e+03  2.021000e+03  2.023000e+03  2.024000e+03  \n",
              "Electric Range        0.000000e+00  1.800000e+01  9.700000e+01  3.370000e+02  \n",
              "Base MSRP             0.000000e+00  0.000000e+00  0.000000e+00  8.450000e+05  \n",
              "Legislative District  1.800000e+01  3.300000e+01  4.300000e+01  4.900000e+01  \n",
              "DOL Vehicle ID        1.693473e+08  2.150306e+08  2.399119e+08  4.792548e+08  \n",
              "2020 Census Tract     5.303301e+10  5.303303e+10  5.305307e+10  5.603300e+10  "
            ],
            "text/html": [
              "\n",
              "  <div id=\"df-72b4e2a1-ac68-4308-a5ec-3c09766927ed\" class=\"colab-df-container\">\n",
              "    <div>\n",
              "<style scoped>\n",
              "    .dataframe tbody tr th:only-of-type {\n",
              "        vertical-align: middle;\n",
              "    }\n",
              "\n",
              "    .dataframe tbody tr th {\n",
              "        vertical-align: top;\n",
              "    }\n",
              "\n",
              "    .dataframe thead th {\n",
              "        text-align: right;\n",
              "    }\n",
              "</style>\n",
              "<table border=\"1\" class=\"dataframe\">\n",
              "  <thead>\n",
              "    <tr style=\"text-align: right;\">\n",
              "      <th></th>\n",
              "      <th>count</th>\n",
              "      <th>mean</th>\n",
              "      <th>std</th>\n",
              "      <th>min</th>\n",
              "      <th>25%</th>\n",
              "      <th>50%</th>\n",
              "      <th>75%</th>\n",
              "      <th>max</th>\n",
              "    </tr>\n",
              "  </thead>\n",
              "  <tbody>\n",
              "    <tr>\n",
              "      <th>Postal Code</th>\n",
              "      <td>150479.0</td>\n",
              "      <td>9.816834e+04</td>\n",
              "      <td>2.473612e+03</td>\n",
              "      <td>1.730000e+03</td>\n",
              "      <td>9.805200e+04</td>\n",
              "      <td>9.812200e+04</td>\n",
              "      <td>9.837000e+04</td>\n",
              "      <td>9.957700e+04</td>\n",
              "    </tr>\n",
              "    <tr>\n",
              "      <th>Model Year</th>\n",
              "      <td>150482.0</td>\n",
              "      <td>2.020005e+03</td>\n",
              "      <td>3.015209e+00</td>\n",
              "      <td>1.997000e+03</td>\n",
              "      <td>2.018000e+03</td>\n",
              "      <td>2.021000e+03</td>\n",
              "      <td>2.023000e+03</td>\n",
              "      <td>2.024000e+03</td>\n",
              "    </tr>\n",
              "    <tr>\n",
              "      <th>Electric Range</th>\n",
              "      <td>150482.0</td>\n",
              "      <td>6.787784e+01</td>\n",
              "      <td>9.623001e+01</td>\n",
              "      <td>0.000000e+00</td>\n",
              "      <td>0.000000e+00</td>\n",
              "      <td>1.800000e+01</td>\n",
              "      <td>9.700000e+01</td>\n",
              "      <td>3.370000e+02</td>\n",
              "    </tr>\n",
              "    <tr>\n",
              "      <th>Base MSRP</th>\n",
              "      <td>150482.0</td>\n",
              "      <td>1.312645e+03</td>\n",
              "      <td>9.231310e+03</td>\n",
              "      <td>0.000000e+00</td>\n",
              "      <td>0.000000e+00</td>\n",
              "      <td>0.000000e+00</td>\n",
              "      <td>0.000000e+00</td>\n",
              "      <td>8.450000e+05</td>\n",
              "    </tr>\n",
              "    <tr>\n",
              "      <th>Legislative District</th>\n",
              "      <td>150141.0</td>\n",
              "      <td>2.934395e+01</td>\n",
              "      <td>1.482483e+01</td>\n",
              "      <td>1.000000e+00</td>\n",
              "      <td>1.800000e+01</td>\n",
              "      <td>3.300000e+01</td>\n",
              "      <td>4.300000e+01</td>\n",
              "      <td>4.900000e+01</td>\n",
              "    </tr>\n",
              "    <tr>\n",
              "      <th>DOL Vehicle ID</th>\n",
              "      <td>150482.0</td>\n",
              "      <td>2.111122e+08</td>\n",
              "      <td>8.196388e+07</td>\n",
              "      <td>4.385000e+03</td>\n",
              "      <td>1.693473e+08</td>\n",
              "      <td>2.150306e+08</td>\n",
              "      <td>2.399119e+08</td>\n",
              "      <td>4.792548e+08</td>\n",
              "    </tr>\n",
              "    <tr>\n",
              "      <th>2020 Census Tract</th>\n",
              "      <td>150479.0</td>\n",
              "      <td>5.297195e+10</td>\n",
              "      <td>1.638841e+09</td>\n",
              "      <td>1.081042e+09</td>\n",
              "      <td>5.303301e+10</td>\n",
              "      <td>5.303303e+10</td>\n",
              "      <td>5.305307e+10</td>\n",
              "      <td>5.603300e+10</td>\n",
              "    </tr>\n",
              "  </tbody>\n",
              "</table>\n",
              "</div>\n",
              "    <div class=\"colab-df-buttons\">\n",
              "\n",
              "  <div class=\"colab-df-container\">\n",
              "    <button class=\"colab-df-convert\" onclick=\"convertToInteractive('df-72b4e2a1-ac68-4308-a5ec-3c09766927ed')\"\n",
              "            title=\"Convert this dataframe to an interactive table.\"\n",
              "            style=\"display:none;\">\n",
              "\n",
              "  <svg xmlns=\"http://www.w3.org/2000/svg\" height=\"24px\" viewBox=\"0 -960 960 960\">\n",
              "    <path d=\"M120-120v-720h720v720H120Zm60-500h600v-160H180v160Zm220 220h160v-160H400v160Zm0 220h160v-160H400v160ZM180-400h160v-160H180v160Zm440 0h160v-160H620v160ZM180-180h160v-160H180v160Zm440 0h160v-160H620v160Z\"/>\n",
              "  </svg>\n",
              "    </button>\n",
              "\n",
              "  <style>\n",
              "    .colab-df-container {\n",
              "      display:flex;\n",
              "      gap: 12px;\n",
              "    }\n",
              "\n",
              "    .colab-df-convert {\n",
              "      background-color: #E8F0FE;\n",
              "      border: none;\n",
              "      border-radius: 50%;\n",
              "      cursor: pointer;\n",
              "      display: none;\n",
              "      fill: #1967D2;\n",
              "      height: 32px;\n",
              "      padding: 0 0 0 0;\n",
              "      width: 32px;\n",
              "    }\n",
              "\n",
              "    .colab-df-convert:hover {\n",
              "      background-color: #E2EBFA;\n",
              "      box-shadow: 0px 1px 2px rgba(60, 64, 67, 0.3), 0px 1px 3px 1px rgba(60, 64, 67, 0.15);\n",
              "      fill: #174EA6;\n",
              "    }\n",
              "\n",
              "    .colab-df-buttons div {\n",
              "      margin-bottom: 4px;\n",
              "    }\n",
              "\n",
              "    [theme=dark] .colab-df-convert {\n",
              "      background-color: #3B4455;\n",
              "      fill: #D2E3FC;\n",
              "    }\n",
              "\n",
              "    [theme=dark] .colab-df-convert:hover {\n",
              "      background-color: #434B5C;\n",
              "      box-shadow: 0px 1px 3px 1px rgba(0, 0, 0, 0.15);\n",
              "      filter: drop-shadow(0px 1px 2px rgba(0, 0, 0, 0.3));\n",
              "      fill: #FFFFFF;\n",
              "    }\n",
              "  </style>\n",
              "\n",
              "    <script>\n",
              "      const buttonEl =\n",
              "        document.querySelector('#df-72b4e2a1-ac68-4308-a5ec-3c09766927ed button.colab-df-convert');\n",
              "      buttonEl.style.display =\n",
              "        google.colab.kernel.accessAllowed ? 'block' : 'none';\n",
              "\n",
              "      async function convertToInteractive(key) {\n",
              "        const element = document.querySelector('#df-72b4e2a1-ac68-4308-a5ec-3c09766927ed');\n",
              "        const dataTable =\n",
              "          await google.colab.kernel.invokeFunction('convertToInteractive',\n",
              "                                                    [key], {});\n",
              "        if (!dataTable) return;\n",
              "\n",
              "        const docLinkHtml = 'Like what you see? Visit the ' +\n",
              "          '<a target=\"_blank\" href=https://colab.research.google.com/notebooks/data_table.ipynb>data table notebook</a>'\n",
              "          + ' to learn more about interactive tables.';\n",
              "        element.innerHTML = '';\n",
              "        dataTable['output_type'] = 'display_data';\n",
              "        await google.colab.output.renderOutput(dataTable, element);\n",
              "        const docLink = document.createElement('div');\n",
              "        docLink.innerHTML = docLinkHtml;\n",
              "        element.appendChild(docLink);\n",
              "      }\n",
              "    </script>\n",
              "  </div>\n",
              "\n",
              "\n",
              "<div id=\"df-58a6cc4c-da7d-4dd4-982d-08dfabc1c2b3\">\n",
              "  <button class=\"colab-df-quickchart\" onclick=\"quickchart('df-58a6cc4c-da7d-4dd4-982d-08dfabc1c2b3')\"\n",
              "            title=\"Suggest charts\"\n",
              "            style=\"display:none;\">\n",
              "\n",
              "<svg xmlns=\"http://www.w3.org/2000/svg\" height=\"24px\"viewBox=\"0 0 24 24\"\n",
              "     width=\"24px\">\n",
              "    <g>\n",
              "        <path d=\"M19 3H5c-1.1 0-2 .9-2 2v14c0 1.1.9 2 2 2h14c1.1 0 2-.9 2-2V5c0-1.1-.9-2-2-2zM9 17H7v-7h2v7zm4 0h-2V7h2v10zm4 0h-2v-4h2v4z\"/>\n",
              "    </g>\n",
              "</svg>\n",
              "  </button>\n",
              "\n",
              "<style>\n",
              "  .colab-df-quickchart {\n",
              "      --bg-color: #E8F0FE;\n",
              "      --fill-color: #1967D2;\n",
              "      --hover-bg-color: #E2EBFA;\n",
              "      --hover-fill-color: #174EA6;\n",
              "      --disabled-fill-color: #AAA;\n",
              "      --disabled-bg-color: #DDD;\n",
              "  }\n",
              "\n",
              "  [theme=dark] .colab-df-quickchart {\n",
              "      --bg-color: #3B4455;\n",
              "      --fill-color: #D2E3FC;\n",
              "      --hover-bg-color: #434B5C;\n",
              "      --hover-fill-color: #FFFFFF;\n",
              "      --disabled-bg-color: #3B4455;\n",
              "      --disabled-fill-color: #666;\n",
              "  }\n",
              "\n",
              "  .colab-df-quickchart {\n",
              "    background-color: var(--bg-color);\n",
              "    border: none;\n",
              "    border-radius: 50%;\n",
              "    cursor: pointer;\n",
              "    display: none;\n",
              "    fill: var(--fill-color);\n",
              "    height: 32px;\n",
              "    padding: 0;\n",
              "    width: 32px;\n",
              "  }\n",
              "\n",
              "  .colab-df-quickchart:hover {\n",
              "    background-color: var(--hover-bg-color);\n",
              "    box-shadow: 0 1px 2px rgba(60, 64, 67, 0.3), 0 1px 3px 1px rgba(60, 64, 67, 0.15);\n",
              "    fill: var(--button-hover-fill-color);\n",
              "  }\n",
              "\n",
              "  .colab-df-quickchart-complete:disabled,\n",
              "  .colab-df-quickchart-complete:disabled:hover {\n",
              "    background-color: var(--disabled-bg-color);\n",
              "    fill: var(--disabled-fill-color);\n",
              "    box-shadow: none;\n",
              "  }\n",
              "\n",
              "  .colab-df-spinner {\n",
              "    border: 2px solid var(--fill-color);\n",
              "    border-color: transparent;\n",
              "    border-bottom-color: var(--fill-color);\n",
              "    animation:\n",
              "      spin 1s steps(1) infinite;\n",
              "  }\n",
              "\n",
              "  @keyframes spin {\n",
              "    0% {\n",
              "      border-color: transparent;\n",
              "      border-bottom-color: var(--fill-color);\n",
              "      border-left-color: var(--fill-color);\n",
              "    }\n",
              "    20% {\n",
              "      border-color: transparent;\n",
              "      border-left-color: var(--fill-color);\n",
              "      border-top-color: var(--fill-color);\n",
              "    }\n",
              "    30% {\n",
              "      border-color: transparent;\n",
              "      border-left-color: var(--fill-color);\n",
              "      border-top-color: var(--fill-color);\n",
              "      border-right-color: var(--fill-color);\n",
              "    }\n",
              "    40% {\n",
              "      border-color: transparent;\n",
              "      border-right-color: var(--fill-color);\n",
              "      border-top-color: var(--fill-color);\n",
              "    }\n",
              "    60% {\n",
              "      border-color: transparent;\n",
              "      border-right-color: var(--fill-color);\n",
              "    }\n",
              "    80% {\n",
              "      border-color: transparent;\n",
              "      border-right-color: var(--fill-color);\n",
              "      border-bottom-color: var(--fill-color);\n",
              "    }\n",
              "    90% {\n",
              "      border-color: transparent;\n",
              "      border-bottom-color: var(--fill-color);\n",
              "    }\n",
              "  }\n",
              "</style>\n",
              "\n",
              "  <script>\n",
              "    async function quickchart(key) {\n",
              "      const quickchartButtonEl =\n",
              "        document.querySelector('#' + key + ' button');\n",
              "      quickchartButtonEl.disabled = true;  // To prevent multiple clicks.\n",
              "      quickchartButtonEl.classList.add('colab-df-spinner');\n",
              "      try {\n",
              "        const charts = await google.colab.kernel.invokeFunction(\n",
              "            'suggestCharts', [key], {});\n",
              "      } catch (error) {\n",
              "        console.error('Error during call to suggestCharts:', error);\n",
              "      }\n",
              "      quickchartButtonEl.classList.remove('colab-df-spinner');\n",
              "      quickchartButtonEl.classList.add('colab-df-quickchart-complete');\n",
              "    }\n",
              "    (() => {\n",
              "      let quickchartButtonEl =\n",
              "        document.querySelector('#df-58a6cc4c-da7d-4dd4-982d-08dfabc1c2b3 button');\n",
              "      quickchartButtonEl.style.display =\n",
              "        google.colab.kernel.accessAllowed ? 'block' : 'none';\n",
              "    })();\n",
              "  </script>\n",
              "</div>\n",
              "\n",
              "    </div>\n",
              "  </div>\n"
            ],
            "application/vnd.google.colaboratory.intrinsic+json": {
              "type": "dataframe",
              "summary": "{\n  \"name\": \"vehicle_df\",\n  \"rows\": 7,\n  \"fields\": [\n    {\n      \"column\": \"count\",\n      \"properties\": {\n        \"dtype\": \"number\",\n        \"std\": 128.51570220905194,\n        \"min\": 150141.0,\n        \"max\": 150482.0,\n        \"num_unique_values\": 3,\n        \"samples\": [\n          150479.0,\n          150482.0,\n          150141.0\n        ],\n        \"semantic_type\": \"\",\n        \"description\": \"\"\n      }\n    },\n    {\n      \"column\": \"mean\",\n      \"properties\": {\n        \"dtype\": \"number\",\n        \"std\": 20008366365.079754,\n        \"min\": 29.34395002031424,\n        \"max\": 52971954662.7863,\n        \"num_unique_values\": 7,\n        \"samples\": [\n          98168.34415433383,\n          2020.0054358660836,\n          211112233.346367\n        ],\n        \"semantic_type\": \"\",\n        \"description\": \"\"\n      }\n    },\n    {\n      \"column\": \"std\",\n      \"properties\": {\n        \"dtype\": \"number\",\n        \"std\": 615018810.0979593,\n        \"min\": 3.0152087266815197,\n        \"max\": 1638841335.7708862,\n        \"num_unique_values\": 7,\n        \"samples\": [\n          2473.6121844174118,\n          3.0152087266815197,\n          81963879.64188957\n        ],\n        \"semantic_type\": \"\",\n        \"description\": \"\"\n      }\n    },\n    {\n      \"column\": \"min\",\n      \"properties\": {\n        \"dtype\": \"number\",\n        \"std\": 408594921.34450465,\n        \"min\": 0.0,\n        \"max\": 1081041901.0,\n        \"num_unique_values\": 6,\n        \"samples\": [\n          1730.0,\n          1997.0,\n          1081041901.0\n        ],\n        \"semantic_type\": \"\",\n        \"description\": \"\"\n      }\n    },\n    {\n      \"column\": \"25%\",\n      \"properties\": {\n        \"dtype\": \"number\",\n        \"std\": 20034018691.161175,\n        \"min\": 0.0,\n        \"max\": 53033009500.0,\n        \"num_unique_values\": 6,\n        \"samples\": [\n          98052.0,\n          2018.0,\n          53033009500.0\n        ],\n        \"semantic_type\": \"\",\n        \"description\": \"\"\n      }\n    },\n    {\n      \"column\": \"50%\",\n      \"properties\": {\n        \"dtype\": \"number\",\n        \"std\": 20031209276.636684,\n        \"min\": 0.0,\n        \"max\": 53033029309.0,\n        \"num_unique_values\": 7,\n        \"samples\": [\n          98122.0,\n          2021.0,\n          215030630.0\n        ],\n        \"semantic_type\": \"\",\n        \"description\": \"\"\n      }\n    },\n    {\n      \"column\": \"75%\",\n      \"properties\": {\n        \"dtype\": \"number\",\n        \"std\": 20037256679.716766,\n        \"min\": 0.0,\n        \"max\": 53053072509.0,\n        \"num_unique_values\": 7,\n        \"samples\": [\n          98370.0,\n          2023.0,\n          239911895.5\n        ],\n        \"semantic_type\": \"\",\n        \"description\": \"\"\n      }\n    },\n    {\n      \"column\": \"max\",\n      \"properties\": {\n        \"dtype\": \"number\",\n        \"std\": 21148987096.15119,\n        \"min\": 49.0,\n        \"max\": 56033000100.0,\n        \"num_unique_values\": 7,\n        \"samples\": [\n          99577.0,\n          2024.0,\n          479254772.0\n        ],\n        \"semantic_type\": \"\",\n        \"description\": \"\"\n      }\n    }\n  ]\n}"
            }
          },
          "metadata": {},
          "execution_count": 10
        }
      ]
    },
    {
      "cell_type": "code",
      "source": [
        " vehicle_df.columns"
      ],
      "metadata": {
        "colab": {
          "base_uri": "https://localhost:8080/"
        },
        "id": "6FJINm_sK3k2",
        "outputId": "0ae2d5c3-fbac-488b-eb78-d052bb18b027"
      },
      "execution_count": 11,
      "outputs": [
        {
          "output_type": "execute_result",
          "data": {
            "text/plain": [
              "Index(['VIN (1-10)', 'County', 'City', 'State', 'Postal Code', 'Model Year',\n",
              "       'Make', 'Model', 'Electric Vehicle Type',\n",
              "       'Clean Alternative Fuel Vehicle (CAFV) Eligibility', 'Electric Range',\n",
              "       'Base MSRP', 'Legislative District', 'DOL Vehicle ID',\n",
              "       'Vehicle Location', 'Electric Utility', '2020 Census Tract'],\n",
              "      dtype='object')"
            ]
          },
          "metadata": {},
          "execution_count": 11
        }
      ]
    },
    {
      "cell_type": "code",
      "source": [],
      "metadata": {
        "id": "2cevVbfCMr1m"
      },
      "execution_count": null,
      "outputs": []
    }
  ]
}