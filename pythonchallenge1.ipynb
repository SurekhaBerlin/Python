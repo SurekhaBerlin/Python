{
  "nbformat": 4,
  "nbformat_minor": 0,
  "metadata": {
    "colab": {
      "provenance": [],
      "authorship_tag": "ABX9TyM6gaVmHz6uPzeP1rVePSCI",
      "include_colab_link": true
    },
    "kernelspec": {
      "name": "python3",
      "display_name": "Python 3"
    },
    "language_info": {
      "name": "python"
    }
  },
  "cells": [
    {
      "cell_type": "markdown",
      "metadata": {
        "id": "view-in-github",
        "colab_type": "text"
      },
      "source": [
        "<a href=\"https://colab.research.google.com/github/SurekhaBerlin/Python/blob/main/pythonchallenge1.ipynb\" target=\"_parent\"><img src=\"https://colab.research.google.com/assets/colab-badge.svg\" alt=\"Open In Colab\"/></a>"
      ]
    },
    {
      "cell_type": "code",
      "execution_count": 3,
      "metadata": {
        "colab": {
          "base_uri": "https://localhost:8080/"
        },
        "id": "BAp3RTcaNk2x",
        "outputId": "d46841e1-082d-4d30-bb18-a483e1cafd9e"
      },
      "outputs": [
        {
          "output_type": "stream",
          "name": "stdout",
          "text": [
            "Enter the First Name: Berlin\n",
            "Hello Berlin\n"
          ]
        }
      ],
      "source": [
        "firstname = input(\"Enter the First Name: \")\n",
        "print(\"Hello\",firstname)"
      ]
    },
    {
      "cell_type": "code",
      "source": [
        "firstname = input(\"Enter the First Name: \")\n",
        "surname = input(\"Enter the Sur Name: \")\n",
        "print(\"Hello\",firstname , surname)"
      ],
      "metadata": {
        "colab": {
          "base_uri": "https://localhost:8080/"
        },
        "id": "A4IQm_TlN899",
        "outputId": "42052c24-4aed-4c4c-c44b-9fc9d03fe0f7"
      },
      "execution_count": 4,
      "outputs": [
        {
          "output_type": "stream",
          "name": "stdout",
          "text": [
            "Enter the First Name: Berlin\n",
            "Enter the Sur Name: surekha\n",
            "Hello Berlin surekha\n"
          ]
        }
      ]
    },
    {
      "cell_type": "code",
      "source": [
        "print(\"What do you call a bear with no teeth?\\nA gummy bear\")"
      ],
      "metadata": {
        "colab": {
          "base_uri": "https://localhost:8080/"
        },
        "id": "Sa2bw4f3OkFW",
        "outputId": "5c429593-04ec-4cb5-cdc7-1870c4ab1cc7"
      },
      "execution_count": 21,
      "outputs": [
        {
          "output_type": "stream",
          "name": "stdout",
          "text": [
            "What do you call a bear with no teeth?\n",
            "A gummy bear\n"
          ]
        }
      ]
    },
    {
      "cell_type": "code",
      "source": [
        "num1 = int(input(\"Enter the first number: \"))\n",
        "num2 = int(input(\"Enter the second number: \"))\n",
        "answer = num1+num2\n",
        "print(\"The answer is:\",answer)"
      ],
      "metadata": {
        "colab": {
          "base_uri": "https://localhost:8080/"
        },
        "id": "SFjjRg-APFyl",
        "outputId": "ebfc29b6-4e39-4679-a984-152b37bd4ffa"
      },
      "execution_count": 29,
      "outputs": [
        {
          "output_type": "stream",
          "name": "stdout",
          "text": [
            "Enter the first number: 45\n",
            "Enter the second number: 55\n",
            "The answer is: 100\n"
          ]
        }
      ]
    },
    {
      "cell_type": "code",
      "source": [
        "num1 = int(input(\"Enter the first number: \"))\n",
        "num2 = int(input(\"Enter the second number: \"))\n",
        "num3 = int(input(\"Enter the third number: \"))\n",
        "answer = (num1+num2) * (num3)\n",
        "print(\"The answer is:\",answer)"
      ],
      "metadata": {
        "colab": {
          "base_uri": "https://localhost:8080/"
        },
        "id": "tS83yPVFQZKc",
        "outputId": "3affc10e-4840-4c1d-c736-e3bd38b2d721"
      },
      "execution_count": 30,
      "outputs": [
        {
          "output_type": "stream",
          "name": "stdout",
          "text": [
            "Enter the first number: 3\n",
            "Enter the second number: 4\n",
            "Enter the third number: 5\n",
            "The answer is: 35\n"
          ]
        }
      ]
    },
    {
      "cell_type": "code",
      "source": [
        "startnum = int(input(\"Enter the slices of pizza the user started with: \"))\n",
        "endnum = int(input(\"Enter the slices of pizza the user ended with: \"))\n",
        "slicesleft = startnum - endnum\n",
        "print(\"you have\" ,slicesleft , \"slices left\")"
      ],
      "metadata": {
        "colab": {
          "base_uri": "https://localhost:8080/"
        },
        "id": "dAmtSX-yRPph",
        "outputId": "fecdd726-59dc-49a8-eced-2b56fc5115be"
      },
      "execution_count": 32,
      "outputs": [
        {
          "output_type": "stream",
          "name": "stdout",
          "text": [
            "Enter the slices of pizza the user started with: 8\n",
            "Enter the slices of pizza the user ended with: 3\n",
            "you have 5 slices left\n"
          ]
        }
      ]
    },
    {
      "cell_type": "code",
      "source": [
        "name = input(\"Enter the Name: \")\n",
        "age = int(input(\"Enter the Age: \"))\n",
        "newage = age+1\n",
        "print(name,\"next birthday your age will be \",newage)"
      ],
      "metadata": {
        "colab": {
          "base_uri": "https://localhost:8080/"
        },
        "id": "6ie_evq8SDoC",
        "outputId": "dd9215d9-0ada-45d1-e669-7ef5c82b9662"
      },
      "execution_count": 33,
      "outputs": [
        {
          "output_type": "stream",
          "name": "stdout",
          "text": [
            "Enter the Name: Berlin\n",
            "Enter the Age: 23\n",
            "Berlin next birthday your age will be  24\n"
          ]
        }
      ]
    },
    {
      "cell_type": "code",
      "source": [
        "totalBill = int(input(\"Enter the total bill amount: \"))\n",
        "dinnerNum = int(input(\"How many dinners are there: \"))\n",
        "price = (totalBill / dinnerNum)\n",
        "print(\"Each person must pay\",price)"
      ],
      "metadata": {
        "colab": {
          "base_uri": "https://localhost:8080/"
        },
        "id": "GG2RIIqbSpUR",
        "outputId": "d47b16f3-ac55-47ee-f634-858b3f51eb00"
      },
      "execution_count": 34,
      "outputs": [
        {
          "output_type": "stream",
          "name": "stdout",
          "text": [
            "Enter the total bill amount: 100\n",
            "How many dinners are there: 5\n",
            "Each person must pay 20.0\n"
          ]
        }
      ]
    },
    {
      "cell_type": "code",
      "source": [
        "days = int(input(\"No. of days: \"))\n",
        "hours = days * 24\n",
        "minutes = hours * 60\n",
        "seconds = minutes *60\n",
        "print(\"There will be \",hours,\"hours\",minutes,\"minutes &\",seconds,\"seconds in\", days,\"days\")"
      ],
      "metadata": {
        "colab": {
          "base_uri": "https://localhost:8080/"
        },
        "id": "Syjly3XITZEf",
        "outputId": "edd1fb2b-db2a-4fe2-b4f0-9ca420905117"
      },
      "execution_count": 44,
      "outputs": [
        {
          "output_type": "stream",
          "name": "stdout",
          "text": [
            "No. of days: 20\n",
            "There will be  480 hours 28800 minutes & 1728000 seconds in 20 days\n"
          ]
        }
      ]
    },
    {
      "cell_type": "code",
      "source": [
        "weight = float(input(\"Enter the weight in kilogram: \"))\n",
        "pound = weight * 2.204\n",
        "print(\"The weight in pounds is: \", pound)"
      ],
      "metadata": {
        "colab": {
          "base_uri": "https://localhost:8080/"
        },
        "id": "_e_62ZBmUxaU",
        "outputId": "ae2b509a-5461-4690-d1b3-6ec0712b23ef"
      },
      "execution_count": 49,
      "outputs": [
        {
          "output_type": "stream",
          "name": "stdout",
          "text": [
            "Enter the weight in kilogram: 6\n",
            "The weight in pounds is:  13.224\n"
          ]
        }
      ]
    },
    {
      "cell_type": "code",
      "source": [
        "num1 = int(input(\"Enter the number greater than 100: \"))\n",
        "num2 = int(input(\"Enter the number less than 10: \"))\n",
        "value = num1//num2\n",
        "print(\"The smaller number goes\",value , \"times in the larger number\")"
      ],
      "metadata": {
        "colab": {
          "base_uri": "https://localhost:8080/"
        },
        "id": "-bNnWWDqWbDE",
        "outputId": "bfa813e5-c02d-4e87-ed5a-afbd9c3e8e73"
      },
      "execution_count": 52,
      "outputs": [
        {
          "output_type": "stream",
          "name": "stdout",
          "text": [
            "Enter the number greater than 100: 123\n",
            "Enter the number less than 10: 11\n",
            "The smaller number goes 11 times in the larger number\n"
          ]
        }
      ]
    },
    {
      "cell_type": "code",
      "source": [],
      "metadata": {
        "id": "j5JdqEhPXW68"
      },
      "execution_count": null,
      "outputs": []
    }
  ]
}