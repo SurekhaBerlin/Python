{
  "nbformat": 4,
  "nbformat_minor": 0,
  "metadata": {
    "colab": {
      "provenance": [],
      "authorship_tag": "ABX9TyNLF2Y8rFD3k/+6G6bW6qzF",
      "include_colab_link": true
    },
    "kernelspec": {
      "name": "python3",
      "display_name": "Python 3"
    },
    "language_info": {
      "name": "python"
    }
  },
  "cells": [
    {
      "cell_type": "markdown",
      "metadata": {
        "id": "view-in-github",
        "colab_type": "text"
      },
      "source": [
        "<a href=\"https://colab.research.google.com/github/SurekhaBerlin/Python/blob/main/pythonchallenge4.ipynb\" target=\"_parent\"><img src=\"https://colab.research.google.com/assets/colab-badge.svg\" alt=\"Open In Colab\"/></a>"
      ]
    },
    {
      "cell_type": "code",
      "execution_count": 2,
      "metadata": {
        "colab": {
          "base_uri": "https://localhost:8080/"
        },
        "id": "_8y_5BuJqjqd",
        "outputId": "01ddc200-58ae-48bb-f6dc-84ad9b56d933"
      },
      "outputs": [
        {
          "output_type": "stream",
          "name": "stdout",
          "text": [
            "Enter a number with decimal places: 2.44\n",
            "4.88\n"
          ]
        }
      ],
      "source": [
        "num = float(input(\"Enter a number with decimal places: \"))\n",
        "num = num * 2\n",
        "print(num)"
      ]
    },
    {
      "cell_type": "code",
      "source": [
        "num = float(input(\"Enter a number with decimal places: \"))\n",
        "num = num * 2\n",
        "print(num)\n",
        "print(round(num,2))"
      ],
      "metadata": {
        "colab": {
          "base_uri": "https://localhost:8080/"
        },
        "id": "eimQH6hDrFwI",
        "outputId": "e6cee28e-0d8d-4277-e2a3-56047eeee8d1"
      },
      "execution_count": 3,
      "outputs": [
        {
          "output_type": "stream",
          "name": "stdout",
          "text": [
            "Enter a number with decimal places: 3.234\n",
            "6.468\n",
            "6.47\n"
          ]
        }
      ]
    },
    {
      "cell_type": "code",
      "source": [
        "import math\n",
        "num = int(input(\"Enter a number greater than 500: \"))\n",
        "answer = math.sqrt(num)\n",
        "print(round(answer,2))"
      ],
      "metadata": {
        "colab": {
          "base_uri": "https://localhost:8080/"
        },
        "id": "vTKMOVHqrXpG",
        "outputId": "97549472-d22f-47e7-ece9-fd5ecd828eaf"
      },
      "execution_count": 4,
      "outputs": [
        {
          "output_type": "stream",
          "name": "stdout",
          "text": [
            "Enter a number greater than 500: 7666\n",
            "87.56\n"
          ]
        }
      ]
    },
    {
      "cell_type": "code",
      "source": [
        "radius = int(input(\"Enter the radius of the circle:\"))\n",
        "area = math.pi * (radius ** 2)\n",
        "print(area)"
      ],
      "metadata": {
        "colab": {
          "base_uri": "https://localhost:8080/"
        },
        "id": "HFUz-Y-xc169",
        "outputId": "76f85711-af5b-485e-971c-09c18ecb61f9"
      },
      "execution_count": 6,
      "outputs": [
        {
          "output_type": "stream",
          "name": "stdout",
          "text": [
            "Enter the radius of the circle:4\n",
            "50.26548245743669\n"
          ]
        }
      ]
    },
    {
      "cell_type": "code",
      "source": [
        "radius = float(input(\"Enter the radius of the cylinder: \"))\n",
        "depth = float(input(\"Enter the depth of the cylinder: \"))\n",
        "circleArea = math.pi * (radius ** 2)\n",
        "volume = circleArea * depth\n",
        "print(round(volume,3))\n"
      ],
      "metadata": {
        "colab": {
          "base_uri": "https://localhost:8080/"
        },
        "id": "QbA8bq53d0Jo",
        "outputId": "ffa814e7-ce77-48ec-a2b0-61bb803e9081"
      },
      "execution_count": 8,
      "outputs": [
        {
          "output_type": "stream",
          "name": "stdout",
          "text": [
            "Enter the radius of the cylinder: 6\n",
            "Enter the depth of the cylinder: 4\n",
            "452.389\n"
          ]
        }
      ]
    },
    {
      "cell_type": "code",
      "source": [
        "num1 = int(input(\"Enter a number: \"))\n",
        "num2 = int(input(\"Enter a number: \"))\n",
        "ans1 = num1 // num2\n",
        "ans2 = num1 % num2\n",
        "print(num1, \"divided by\" ,num2 ,\"is\" ,ans1 ,\"with\", ans2, \"remaining\")"
      ],
      "metadata": {
        "colab": {
          "base_uri": "https://localhost:8080/"
        },
        "id": "WWDiPmvjekHf",
        "outputId": "784ba04c-2782-44b4-bcd7-70ed8ef0e9cf"
      },
      "execution_count": 10,
      "outputs": [
        {
          "output_type": "stream",
          "name": "stdout",
          "text": [
            "Enter a number: 10\n",
            "Enter a number: 4\n",
            "10 divided by 4 is 2 with 2 remaining\n"
          ]
        }
      ]
    },
    {
      "cell_type": "code",
      "source": [
        "print(\"1) Square\")\n",
        "print(\"2) Triangle\")\n",
        "menuselection = int(input(\"Enter a number: \"))\n",
        "\n",
        "if menuselection == 1:\n",
        "  length = int(input(\"Enter the length of one side:\"))\n",
        "  area = length ** 2\n",
        "  print(area)\n",
        "elif menuselection == 2:\n",
        "  base = int(input(\"Enter the base of the triangle: \"))\n",
        "  height = int(input(\"Enter the height of the triangle: \"))\n",
        "  area = .5 * base * height\n",
        "  print(area)\n",
        "else:\n",
        "  print(\"Error Message\")"
      ],
      "metadata": {
        "colab": {
          "base_uri": "https://localhost:8080/"
        },
        "id": "Ja9HpSxPffME",
        "outputId": "2110803a-5a95-4208-d10b-aa511b4e3b5b"
      },
      "execution_count": 19,
      "outputs": [
        {
          "output_type": "stream",
          "name": "stdout",
          "text": [
            "1) Square\n",
            "2) Triangle\n",
            "Enter a number: 2\n",
            "Enter the base of the triangle: 6\n",
            "Enter the height of the triangle: 9\n",
            "27.0\n"
          ]
        }
      ]
    },
    {
      "cell_type": "code",
      "source": [],
      "metadata": {
        "id": "oABm9LGQhMg5"
      },
      "execution_count": null,
      "outputs": []
    }
  ]
}