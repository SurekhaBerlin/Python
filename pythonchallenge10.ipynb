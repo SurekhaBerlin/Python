{
  "nbformat": 4,
  "nbformat_minor": 0,
  "metadata": {
    "colab": {
      "provenance": [],
      "authorship_tag": "ABX9TyMm/zWMHhu7o09fqBlm0IGk",
      "include_colab_link": true
    },
    "kernelspec": {
      "name": "python3",
      "display_name": "Python 3"
    },
    "language_info": {
      "name": "python"
    }
  },
  "cells": [
    {
      "cell_type": "markdown",
      "metadata": {
        "id": "view-in-github",
        "colab_type": "text"
      },
      "source": [
        "<a href=\"https://colab.research.google.com/github/SurekhaBerlin/Python/blob/main/pythonchallenge10.ipynb\" target=\"_parent\"><img src=\"https://colab.research.google.com/assets/colab-badge.svg\" alt=\"Open In Colab\"/></a>"
      ]
    },
    {
      "cell_type": "code",
      "execution_count": 1,
      "metadata": {
        "id": "709LIfaCBehF"
      },
      "outputs": [],
      "source": [
        "from array import*"
      ]
    },
    {
      "cell_type": "code",
      "source": [
        "nums = array('i',[34,45,45,34,55,33])\n",
        "print(nums)"
      ],
      "metadata": {
        "colab": {
          "base_uri": "https://localhost:8080/"
        },
        "id": "ABOduTfPDR_l",
        "outputId": "25f65db7-fea7-49f2-da1b-320a9dfe3795"
      },
      "execution_count": 2,
      "outputs": [
        {
          "output_type": "stream",
          "name": "stdout",
          "text": [
            "array('i', [34, 45, 45, 34, 55, 33])\n"
          ]
        }
      ]
    },
    {
      "cell_type": "code",
      "source": [
        "newValue = int(input('Enter number: '))\n",
        "nums.append(newValue)"
      ],
      "metadata": {
        "colab": {
          "base_uri": "https://localhost:8080/"
        },
        "id": "bz1CDF2BEWNS",
        "outputId": "9c1bc530-f781-421b-c3d0-d9b05bc53480"
      },
      "execution_count": 3,
      "outputs": [
        {
          "name": "stdout",
          "output_type": "stream",
          "text": [
            "ENter number: 34\n"
          ]
        }
      ]
    },
    {
      "cell_type": "code",
      "source": [
        "from array import*\n",
        "nums = array('i',[])\n",
        "for i in range(0,5):\n",
        "  num = int(input(\"Enter a number:  \"))\n",
        "  nums.append(num)\n",
        "nums = sorted(nums)\n",
        "nums.reverse()\n",
        "print(nums)"
      ],
      "metadata": {
        "colab": {
          "base_uri": "https://localhost:8080/"
        },
        "id": "TOlk-EBMEhUk",
        "outputId": "61d8f62d-c6a6-45d1-b3c9-28b16b5d8cf9"
      },
      "execution_count": 6,
      "outputs": [
        {
          "output_type": "stream",
          "name": "stdout",
          "text": [
            "Enter a number:  34\n",
            "Enter a number:  55\n",
            "Enter a number:  33\n",
            "Enter a number:  44\n",
            "Enter a number:  55\n",
            "[55, 55, 44, 34, 33]\n"
          ]
        }
      ]
    },
    {
      "cell_type": "code",
      "source": [
        "from array import*\n",
        "import random\n",
        "\n",
        "nums = array('i',[])\n",
        "for i in range(0,5):\n",
        "  num = random.randint(1,100)\n",
        "  nums.append(num)\n",
        "for i in nums:\n",
        "  print(i)\n"
      ],
      "metadata": {
        "colab": {
          "base_uri": "https://localhost:8080/"
        },
        "id": "RAc5U7ikMA3E",
        "outputId": "5200eb35-20f1-40b3-8551-54426e358119"
      },
      "execution_count": 39,
      "outputs": [
        {
          "output_type": "stream",
          "name": "stdout",
          "text": [
            "73\n",
            "96\n",
            "15\n",
            "45\n",
            "38\n"
          ]
        }
      ]
    },
    {
      "cell_type": "code",
      "source": [
        "from array import*\n",
        "\n",
        "nums = array('i',[])\n",
        "while  len(nums) < 5:\n",
        "  num = int(input(\"Enter a number between 10 and 20 :  \"))\n",
        "  if num >= 10 and num <= 20:\n",
        "    nums.append(num)\n",
        "    print('Thank you !')\n",
        "\n",
        "  else:\n",
        "    print('Outside the range! ')\n",
        "\n",
        "for i in nums:\n",
        "  print(i)"
      ],
      "metadata": {
        "colab": {
          "base_uri": "https://localhost:8080/"
        },
        "id": "3vTplFW5P-Iy",
        "outputId": "573e9bca-b9d9-422c-864e-09d2883c9b39"
      },
      "execution_count": 18,
      "outputs": [
        {
          "output_type": "stream",
          "name": "stdout",
          "text": [
            "Enter a number between 10 and 20 :  12\n",
            "Thank you !\n",
            "Enter a number between 10 and 20 :  14\n",
            "Thank you !\n",
            "Enter a number between 10 and 20 :  16\n",
            "Thank you !\n",
            "Enter a number between 10 and 20 :  23\n",
            "Outside the range! \n",
            "Enter a number between 10 and 20 :  17\n",
            "Thank you !\n",
            "Enter a number between 10 and 20 :  18\n",
            "Thank you !\n",
            "12\n",
            "14\n",
            "16\n",
            "17\n",
            "18\n"
          ]
        }
      ]
    },
    {
      "cell_type": "code",
      "source": [
        "from array import*\n",
        "\n",
        "nums = array('i',[2,3,5,6,5])\n",
        "\n",
        "for i in nums:\n",
        "  print(i)\n",
        "\n",
        "num = int(input('Enter one number from the array: '))\n",
        "\n",
        "if nums.count(num) == 1:\n",
        "  print('Number is the in the array once ! ')\n",
        "else:\n",
        "\n",
        "  print('Number is in the array ', nums.count(num),'times')\n",
        "\n"
      ],
      "metadata": {
        "colab": {
          "base_uri": "https://localhost:8080/"
        },
        "id": "Rp3udcm9T-4P",
        "outputId": "ed909273-5e81-4dc2-fb53-d2cdfa4a4c09"
      },
      "execution_count": 6,
      "outputs": [
        {
          "output_type": "stream",
          "name": "stdout",
          "text": [
            "2\n",
            "3\n",
            "5\n",
            "6\n",
            "5\n",
            "Enter one number from the array: 5\n",
            "Number is in the array  2 times\n"
          ]
        }
      ]
    },
    {
      "cell_type": "code",
      "source": [
        "from array import*\n",
        "import random\n",
        "\n",
        "nums1 = array('i',[])\n",
        "nums2 = array('i',[])\n",
        "\n",
        "for i in range(0,3):\n",
        "  nums = int(input('Enter a number:  '))\n",
        "  nums1.append(nums)\n",
        "\n",
        "for i in range(0,5):\n",
        "  nums  = random.randint(1,100)\n",
        "  nums2.append(nums)\n",
        "\n",
        "nums1.extend(nums2)\n",
        "nums1 = sorted(nums1)\n",
        "for i in nums1:\n",
        "  print(i)"
      ],
      "metadata": {
        "colab": {
          "base_uri": "https://localhost:8080/"
        },
        "id": "WypkTxGdsBwo",
        "outputId": "142292c6-1406-469e-8a8a-be708eb53886"
      },
      "execution_count": 12,
      "outputs": [
        {
          "output_type": "stream",
          "name": "stdout",
          "text": [
            "Enter a number:  45\n",
            "Enter a number:  56\n",
            "Enter a number:  66\n",
            "20\n",
            "24\n",
            "45\n",
            "56\n",
            "63\n",
            "66\n",
            "74\n",
            "93\n"
          ]
        }
      ]
    },
    {
      "cell_type": "code",
      "source": [
        "from array import*\n",
        "import random\n",
        "\n",
        "nums1 = array('i',[])\n",
        "nums2 = array('i',[])\n",
        "\n",
        "for i in range(0,5):\n",
        "  nums = int(input('Enter a number:  '))\n",
        "  nums1.append(nums)\n",
        "  nums1 = sorted(nums1)\n",
        "for i in nums1:\n",
        "  print(i)\n",
        "\n",
        "getRid = int(input('Enter a number:  '))\n",
        "nums1.remove(getRid)\n",
        "for i in nums1:\n",
        "  print(i)"
      ],
      "metadata": {
        "colab": {
          "base_uri": "https://localhost:8080/"
        },
        "id": "_RAo_NK2vAv6",
        "outputId": "d72ac00c-d723-4dd2-8f8b-e3033406942e"
      },
      "execution_count": 19,
      "outputs": [
        {
          "output_type": "stream",
          "name": "stdout",
          "text": [
            "Enter a number:  99\n",
            "Enter a number:  66\n",
            "Enter a number:  88\n",
            "Enter a number:  44\n",
            "Enter a number:  88\n",
            "44\n",
            "66\n",
            "88\n",
            "88\n",
            "99\n",
            "Enter a number:  88\n",
            "44\n",
            "66\n",
            "88\n",
            "99\n"
          ]
        }
      ]
    },
    {
      "cell_type": "code",
      "source": [
        "from array import*\n",
        "import random\n",
        "\n",
        "nums1 = array('i',[])\n",
        "for i in range(0,5):\n",
        "  nums = int(input('Enter a number:  '))\n",
        "  nums1.append(nums)\n",
        "  nums1 = sorted(nums1)\n",
        "\n",
        "for i in nums1:\n",
        "  print(i)\n",
        "\n",
        "getRid = int(input('Enter a number:  '))\n",
        "\n",
        "if getRid in nums1:\n",
        "  nums1.remove(getRid)\n",
        "  nums2 = array('i',[])\n",
        "  nums2.append(getRid)\n",
        "  print(nums1)\n",
        "  print(nums2)\n",
        "\n",
        "else:\n",
        "  print(\"Number not in the list\")"
      ],
      "metadata": {
        "colab": {
          "base_uri": "https://localhost:8080/"
        },
        "id": "I_ALc3yzxPw0",
        "outputId": "ac5938d1-239a-4740-f7ab-2dbaa8c05d11"
      },
      "execution_count": 29,
      "outputs": [
        {
          "output_type": "stream",
          "name": "stdout",
          "text": [
            "Enter a number:  32\n",
            "Enter a number:  2121\n",
            "Enter a number:  12\n",
            "Enter a number:  11\n",
            "Enter a number:  21\n",
            "11\n",
            "12\n",
            "21\n",
            "32\n",
            "2121\n",
            "Enter a number:  21\n",
            "[11, 12, 32, 2121]\n",
            "array('i', [21])\n"
          ]
        }
      ]
    },
    {
      "cell_type": "code",
      "source": [
        "from array import*\n",
        "import random\n",
        "\n",
        "nums1 = array('i',[])\n",
        "for i in range(0,5):\n",
        "  nums = int(input('Enter a number:  '))\n",
        "  nums1.append(nums)\n",
        "  nums1 = sorted(nums1)\n",
        "\n",
        "for i in nums1:\n",
        "  print(i)\n",
        "\n",
        "numb = int(input('Enter a number:  '))\n",
        "tryagain = True\n",
        "\n",
        "\n",
        "while tryagain == True:\n",
        "\n",
        "  if numb in nums1:\n",
        "    print('The position of the number entered is' ,nums1.index(numb))\n",
        "    tryagain = False\n",
        "\n",
        "  else:\n",
        "    print('Try Again !!')\n",
        "    numb = int(input('Enter a number:  '))"
      ],
      "metadata": {
        "colab": {
          "base_uri": "https://localhost:8080/"
        },
        "id": "ossvZy-lDqbr",
        "outputId": "1abce639-19c4-4804-bfa4-d09f97aaf4f6"
      },
      "execution_count": 30,
      "outputs": [
        {
          "output_type": "stream",
          "name": "stdout",
          "text": [
            "Enter a number:  3422\n",
            "Enter a number:  24242\n",
            "Enter a number:  141414\n",
            "Enter a number:  311311\n",
            "Enter a number:  31131\n",
            "3422\n",
            "24242\n",
            "31131\n",
            "141414\n",
            "311311\n",
            "Enter a number:  131313\n",
            "Try Again !!\n",
            "Enter a number:  31131\n",
            "The position of the number entered is 2\n"
          ]
        }
      ]
    },
    {
      "cell_type": "code",
      "source": [
        "from array import*\n",
        "import random\n",
        "import math\n",
        "\n",
        "\n",
        "nums = array('f',[])\n",
        "\n",
        "for i in range(0,5):\n",
        "  num = random.randrange(10,100)\n",
        "  nums.append(num)\n",
        "\n",
        "for i in nums:\n",
        "  print(i)\n",
        "\n",
        "tryagain = True\n",
        "\n",
        "while tryagain == True:\n",
        "\n",
        "  newnum = int(input('Enter a whole number between 2 and 5:  '))\n",
        "\n",
        "  if newnum < 2 or  newnum > 5:\n",
        "    print('The number is not in the range !!')\n",
        "    tryagain = True\n",
        "  else:\n",
        "    tryagain = False\n",
        "\n",
        "for i in range(0,5):\n",
        "  ans = (nums[i])/(newnum)\n",
        "  print(round(ans,2))"
      ],
      "metadata": {
        "colab": {
          "base_uri": "https://localhost:8080/"
        },
        "id": "f0mQOMm4LaVm",
        "outputId": "ea187773-8537-400e-e59a-87798c6396de"
      },
      "execution_count": 48,
      "outputs": [
        {
          "output_type": "stream",
          "name": "stdout",
          "text": [
            "39.0\n",
            "23.0\n",
            "17.0\n",
            "75.0\n",
            "84.0\n",
            "Enter a whole number between 2 and 5:  3\n",
            "13.0\n",
            "7.67\n",
            "5.67\n",
            "25.0\n",
            "28.0\n"
          ]
        }
      ]
    },
    {
      "cell_type": "code",
      "source": [],
      "metadata": {
        "id": "TqoiSkJZR7gr"
      },
      "execution_count": null,
      "outputs": []
    }
  ]
}