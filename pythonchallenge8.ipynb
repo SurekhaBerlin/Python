{
  "nbformat": 4,
  "nbformat_minor": 0,
  "metadata": {
    "colab": {
      "provenance": [],
      "authorship_tag": "ABX9TyOqs2nnpJX63tPirnVonoWi",
      "include_colab_link": true
    },
    "kernelspec": {
      "name": "python3",
      "display_name": "Python 3"
    },
    "language_info": {
      "name": "python"
    }
  },
  "cells": [
    {
      "cell_type": "markdown",
      "metadata": {
        "id": "view-in-github",
        "colab_type": "text"
      },
      "source": [
        "<a href=\"https://colab.research.google.com/github/SurekhaBerlin/Python/blob/main/pythonchallenge8.ipynb\" target=\"_parent\"><img src=\"https://colab.research.google.com/assets/colab-badge.svg\" alt=\"Open In Colab\"/></a>"
      ]
    },
    {
      "cell_type": "code",
      "source": [
        "fruit_tuple = (\"apple\",\"banana\",\"strawberry\",\"orange\")\n",
        "print(fruit_tuple.index(\"strawberry\"))"
      ],
      "metadata": {
        "colab": {
          "base_uri": "https://localhost:8080/"
        },
        "id": "ez7qIOHcmN6O",
        "outputId": "467ccbb7-68ce-42e6-bd4f-f4d6d861e031"
      },
      "execution_count": 1,
      "outputs": [
        {
          "output_type": "stream",
          "name": "stdout",
          "text": [
            "2\n"
          ]
        }
      ]
    },
    {
      "cell_type": "code",
      "source": [
        "country_tuple = (\"India\",\"Canada\",\"Australia\",\"France\",\"Spain\")\n",
        "print(country_tuple)\n",
        "print()\n",
        "country = str(input(\"Enter the name of the country:  \"))\n",
        "print(country, \"has an index number \", country_tuple.index(country))"
      ],
      "metadata": {
        "colab": {
          "base_uri": "https://localhost:8080/"
        },
        "id": "VzKtr67rB_AK",
        "outputId": "8a59fdc1-be0a-4d69-8639-589d9162b342"
      },
      "execution_count": 8,
      "outputs": [
        {
          "output_type": "stream",
          "name": "stdout",
          "text": [
            "('India', 'Canada', 'Australia', 'France', 'Spain')\n",
            "\n",
            "Enter the name of the country:  Spain\n",
            "Spain has an index number  4\n"
          ]
        }
      ]
    },
    {
      "cell_type": "code",
      "source": [
        "country_tuple = (\"India\",\"Canada\",\"Australia\",\"France\",\"Spain\")\n",
        "print(country_tuple)\n",
        "print()\n",
        "index = int(input(\"Enter the number of the country:  \"))\n",
        "print(\"The country in this position is: \",country_tuple[index])"
      ],
      "metadata": {
        "colab": {
          "base_uri": "https://localhost:8080/"
        },
        "id": "bnuTRt7gCc_F",
        "outputId": "406d0eac-483d-43e1-d745-d64088c60426"
      },
      "execution_count": 9,
      "outputs": [
        {
          "output_type": "stream",
          "name": "stdout",
          "text": [
            "('India', 'Canada', 'Australia', 'France', 'Spain')\n",
            "\n",
            "Enter the number of the country:  4\n",
            "The country in this position is:  Spain\n"
          ]
        }
      ]
    },
    {
      "cell_type": "code",
      "source": [
        "sports_list = [\"cricket\",\"badminton\"]\n",
        "sports_list.append(input(\"Enter your favourite sport:  \"))\n",
        "sports_list.sort()\n",
        "print(\"The list of sports is : \",sports_list)"
      ],
      "metadata": {
        "colab": {
          "base_uri": "https://localhost:8080/"
        },
        "id": "7GgDRrIaEQk1",
        "outputId": "0a208338-b867-439c-ba36-a4514a0443c4"
      },
      "execution_count": 17,
      "outputs": [
        {
          "output_type": "stream",
          "name": "stdout",
          "text": [
            "Enter your favourite sport:  Volleyball\n",
            "The list of sports is :  ['Volleyball', 'badminton', 'cricket']\n"
          ]
        }
      ]
    },
    {
      "cell_type": "code",
      "source": [
        "subjects = [\"Maths\",\"Social\",\"Science\",\"English\",\"Hindi\"]\n",
        "sub = str(input(\"Subject they don't like: \"))\n",
        "subjects.remove(sub)\n",
        "print(\"The new list of subject is : \",subjects)"
      ],
      "metadata": {
        "colab": {
          "base_uri": "https://localhost:8080/"
        },
        "id": "8BKsn45tJlbc",
        "outputId": "8b755e41-3c89-42a8-f78e-fb1058d7b81d"
      },
      "execution_count": 20,
      "outputs": [
        {
          "output_type": "stream",
          "name": "stdout",
          "text": [
            "Subject they don't like: Maths\n",
            "The new list of subject is :  ['Social', 'Science', 'English', 'Hindi']\n"
          ]
        }
      ]
    },
    {
      "cell_type": "code",
      "source": [
        "food_dic = {}\n",
        "for i in range (0,4):\n",
        "  food= str(input(\"Enter four of your favourite food: \"))\n",
        "  food_dic[i] = food\n",
        "\n",
        "print(food_dic)\n"
      ],
      "metadata": {
        "colab": {
          "base_uri": "https://localhost:8080/"
        },
        "id": "3HQuyQIYLfeL",
        "outputId": "574f41dd-94fc-47c3-f4b9-afed3e4556e9"
      },
      "execution_count": 44,
      "outputs": [
        {
          "output_type": "stream",
          "name": "stdout",
          "text": [
            "Enter four of your favourite food: biriyani\n",
            "Enter four of your favourite food: dosa\n",
            "Enter four of your favourite food: fish\n",
            "Enter four of your favourite food: samosa\n",
            "{0: 'biriyani', 1: 'dosa', 2: 'fish', 3: 'samosa'}\n"
          ]
        }
      ]
    },
    {
      "cell_type": "code",
      "source": [
        "from ast import Del\n",
        "food_dic = {}\n",
        "\n",
        "for i in range (0,4):\n",
        "  food= str(input(\"Enter four of your favourite food: \"))\n",
        "  food_dic[i] = food\n",
        "\n",
        "print(food_dic)\n",
        "dislike = int(input(\"Which food to remove from the dictionary: \"))\n",
        "\n",
        "del food_dic[dislike]\n",
        "\n",
        "print(sorted(food_dic.values()))"
      ],
      "metadata": {
        "colab": {
          "base_uri": "https://localhost:8080/"
        },
        "id": "IyzjIU0LOZ56",
        "outputId": "24d6277e-a9c6-4c14-ea50-c3050b7b6edd"
      },
      "execution_count": 74,
      "outputs": [
        {
          "output_type": "stream",
          "name": "stdout",
          "text": [
            "Enter four of your favourite food: Biriyani\n",
            "Enter four of your favourite food: Fish\n",
            "Enter four of your favourite food: Cake\n",
            "Enter four of your favourite food: Butter\n",
            "{0: 'Biriyani', 1: 'Fish', 2: 'Cake', 3: 'Butter'}\n",
            "Which food to remove from the dictionary: 3\n",
            "['Biriyani', 'Cake', 'Fish']\n"
          ]
        }
      ]
    },
    {
      "cell_type": "code",
      "source": [
        "colours = [\"Black\",\"Blue\",\"Pink\",\"Red\",\"Green\",\"White\",\"Silver\",\"Violet\",\"Purple\",\"Yellow\"]\n",
        "startnum = int(input(\"Enter a number between o and 4 : \"))\n",
        "endnum = int(input(\"Enter a number between 5 and 9 : \"))\n",
        "print(colours[startnum:endnum])"
      ],
      "metadata": {
        "colab": {
          "base_uri": "https://localhost:8080/"
        },
        "id": "ldkHO_TCN15w",
        "outputId": "ac9cfd62-b70b-4df1-e1e9-6916567a81cb"
      },
      "execution_count": 77,
      "outputs": [
        {
          "output_type": "stream",
          "name": "stdout",
          "text": [
            "Enter a number between o and 4 : 2\n",
            "Enter a number between 5 and 9 : 7\n",
            "['Pink', 'Red', 'Green', 'White', 'Silver']\n"
          ]
        }
      ]
    },
    {
      "cell_type": "code",
      "source": [
        "num = [333,222,111,123]\n",
        "for i in num:\n",
        "  print(i)\n",
        "num_new = int(input(\"Enter a three digit number: \"))\n",
        "if num_new in num:\n",
        "  print(\"The positon of the number is \", num.index(num_new))\n",
        "else:\n",
        "  print(\"The number is not there in the list !\")"
      ],
      "metadata": {
        "colab": {
          "base_uri": "https://localhost:8080/"
        },
        "id": "xlgPi4uNe5K6",
        "outputId": "af626b5a-4d92-4a0e-a854-8644469ff773"
      },
      "execution_count": 108,
      "outputs": [
        {
          "output_type": "stream",
          "name": "stdout",
          "text": [
            "333\n",
            "222\n",
            "111\n",
            "123\n",
            "Enter a three digit number: 124\n",
            "The number is not there in the list !\n"
          ]
        }
      ]
    },
    {
      "cell_type": "code",
      "source": [
        "name_list= []\n",
        "new_list = []\n",
        "for i in range (0,3):\n",
        "  name = input(\"Enter the names of the person you want to invite for the party:\" )\n",
        "  [name_list.append(name)]\n",
        "\n",
        "add_name = str(input(\"Do you want to add more people? y/n \"))\n",
        "while add_name == \"y\":\n",
        "\n",
        "  name_list.append(input(\"Add another person:  \"))\n",
        "  add_name = str(input(\"Do you want to add more people? y/n \"))\n",
        "\n",
        "print(\"They have invited \", len(name_list))\n",
        "print(\"The list is as shown : \",name_list)\n"
      ],
      "metadata": {
        "colab": {
          "base_uri": "https://localhost:8080/"
        },
        "id": "7fk5STyDfeZt",
        "outputId": "c6b3fcb8-8a9a-4687-e2e1-c685ab09bc4b"
      },
      "execution_count": 3,
      "outputs": [
        {
          "output_type": "stream",
          "name": "stdout",
          "text": [
            "Enter the names of the person you want to invite for the party:bee\n",
            "Enter the names of the person you want to invite for the party:su\n",
            "Enter the names of the person you want to invite for the party:bry\n",
            "Do you want to add more people? y/n y\n",
            "Add another person:  st\n",
            "Do you want to add more people? y/n y\n",
            "Add another person:  suku\n",
            "Do you want to add more people? y/n y\n",
            "Add another person:  ren\n",
            "Do you want to add more people? y/n y\n",
            "Add another person:  soo\n",
            "Do you want to add more people? y/n n\n",
            "They have invited  7\n",
            "The list is as shown :  ['bee', 'su', 'bry', 'st', 'suku', 'ren', 'soo']\n"
          ]
        }
      ]
    },
    {
      "cell_type": "code",
      "source": [
        "name_list = []\n",
        "\n",
        "for i in range (0,3):\n",
        "  name = input(\"Enter the names of the person you want to invite for the party:\" )\n",
        "  name_list.append(name)\n",
        "add_name = str(input(\"Do you want to add more people? y/n \"))\n",
        "\n",
        "while add_name == \"y\":\n",
        "\n",
        "  name_list.append(input(\"Add another person:  \"))\n",
        "  add_name = str(input(\"Do you want to add more people? y/n \"))\n",
        "\n",
        "print(\"They have invited \", len(name_list))\n",
        "print(\"The list is as shown : \",name_list)\n",
        "\n",
        "newname = str(input(\"Type a name in the list : \"))\n",
        "print(newname, \"has a positon \",name_list.index(newname))\n",
        "rename = str(input(\"Do you want to still invite that person? y/n \"))\n",
        "\n",
        "if rename == 'n':\n",
        "    name_list.remove(newname)\n",
        "    print(\"The list is as shown : \",name_list)\n",
        "    print(\"They have invited \", len(name_list))\n",
        "\n",
        "else:\n",
        "    print(\"The list is as shown : \",name_list)\n",
        "    print(\"They have invited \", len(name_list))"
      ],
      "metadata": {
        "colab": {
          "base_uri": "https://localhost:8080/"
        },
        "id": "MqlP9MIthao5",
        "outputId": "c1eb1009-4654-46b2-f6aa-a98632662c54"
      },
      "execution_count": 9,
      "outputs": [
        {
          "output_type": "stream",
          "name": "stdout",
          "text": [
            "Enter the names of the person you want to invite for the party:berlin\n",
            "Enter the names of the person you want to invite for the party:surekha\n",
            "Enter the names of the person you want to invite for the party:brayn\n",
            "Do you want to add more people? y/n y\n",
            "Add another person:  steve\n",
            "Do you want to add more people? y/n y\n",
            "Add another person:  sooraj\n",
            "Do you want to add more people? y/n y\n",
            "Add another person:  riya\n",
            "Do you want to add more people? y/n n\n",
            "They have invited  6\n",
            "The list is as shown :  ['berlin', 'surekha', 'brayn', 'steve', 'sooraj', 'riya']\n",
            "Type a name in the list : riya\n",
            "riya has a positon  5\n",
            "Do you want to still invite that person? y/n n\n",
            "The list is as shown :  ['berlin', 'surekha', 'brayn', 'steve', 'sooraj']\n",
            "They have invited  5\n"
          ]
        }
      ]
    },
    {
      "cell_type": "code",
      "source": [],
      "metadata": {
        "id": "bVpY0lY2lOm8"
      },
      "execution_count": null,
      "outputs": []
    }
  ]
}