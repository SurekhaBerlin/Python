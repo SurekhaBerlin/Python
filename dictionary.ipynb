{
  "nbformat": 4,
  "nbformat_minor": 0,
  "metadata": {
    "colab": {
      "provenance": [],
      "authorship_tag": "ABX9TyPJiuOvml2W32KW+9BgFDgL",
      "include_colab_link": true
    },
    "kernelspec": {
      "name": "python3",
      "display_name": "Python 3"
    },
    "language_info": {
      "name": "python"
    }
  },
  "cells": [
    {
      "cell_type": "markdown",
      "metadata": {
        "id": "view-in-github",
        "colab_type": "text"
      },
      "source": [
        "<a href=\"https://colab.research.google.com/github/SurekhaBerlin/Python/blob/master/dictionary.ipynb\" target=\"_parent\"><img src=\"https://colab.research.google.com/assets/colab-badge.svg\" alt=\"Open In Colab\"/></a>"
      ]
    },
    {
      "cell_type": "code",
      "execution_count": null,
      "metadata": {
        "id": "PPoof_5eVQlh"
      },
      "outputs": [],
      "source": []
    },
    {
      "cell_type": "markdown",
      "source": [
        "Dictionary\n",
        "\n",
        "\n",
        ">A pair of key and value\n",
        "\n",
        ">{}\n",
        "\n",
        "> Key: index, unique and immutable\n",
        "\n",
        "> value: mutable ,carry the information\n",
        "\n",
        "\n",
        "\n",
        "\n",
        "\n",
        "\n"
      ],
      "metadata": {
        "id": "LasRTbk2VSTb"
      }
    },
    {
      "cell_type": "code",
      "source": [],
      "metadata": {
        "id": "ijqA_5jxVg8Y"
      },
      "execution_count": null,
      "outputs": []
    },
    {
      "cell_type": "code",
      "source": [],
      "metadata": {
        "id": "uIEyW0B-V-z8"
      },
      "execution_count": null,
      "outputs": []
    },
    {
      "cell_type": "markdown",
      "source": [],
      "metadata": {
        "id": "aNUTfCSMXsDD"
      }
    },
    {
      "cell_type": "code",
      "source": [
        "Employee_data = {101: ['Shiva', 24, 'Content Strategist'],\n",
        " 102: ['Udit', 25, 'Content Strategist'],\n",
        " 103: ['Sonam', 28, 'Sr Manager'],\n",
        " 104: ['Ansari', 29, 'Product Lead'],\n",
        " 105: ['Huzefa', 32, 'Project Manager']}"
      ],
      "metadata": {
        "id": "LV83SN8DYLMK"
      },
      "execution_count": 2,
      "outputs": []
    },
    {
      "cell_type": "code",
      "source": [
        "Employee_data[104]"
      ],
      "metadata": {
        "colab": {
          "base_uri": "https://localhost:8080/"
        },
        "id": "sz8aQQshYMUw",
        "outputId": "020b0b7d-12eb-40b8-82d2-a238e086c75c"
      },
      "execution_count": 5,
      "outputs": [
        {
          "output_type": "execute_result",
          "data": {
            "text/plain": [
              "['Ansari', 29, 'Product Lead']"
            ]
          },
          "metadata": {},
          "execution_count": 5
        }
      ]
    },
    {
      "cell_type": "code",
      "source": [
        "Employee_data[104][2]"
      ],
      "metadata": {
        "colab": {
          "base_uri": "https://localhost:8080/",
          "height": 35
        },
        "id": "vvhOkBrrYT7u",
        "outputId": "ebbfb89e-30e8-4418-a435-5860a0c80903"
      },
      "execution_count": 6,
      "outputs": [
        {
          "output_type": "execute_result",
          "data": {
            "text/plain": [
              "'Product Lead'"
            ],
            "application/vnd.google.colaboratory.intrinsic+json": {
              "type": "string"
            }
          },
          "metadata": {},
          "execution_count": 6
        }
      ]
    },
    {
      "cell_type": "code",
      "source": [],
      "metadata": {
        "id": "n1vQ77spYmCM"
      },
      "execution_count": null,
      "outputs": []
    }
  ]
}