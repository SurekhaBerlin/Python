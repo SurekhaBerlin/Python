{
  "nbformat": 4,
  "nbformat_minor": 0,
  "metadata": {
    "colab": {
      "provenance": [],
      "authorship_tag": "ABX9TyOGA/ua9dR/N1PvETDxpAV3",
      "include_colab_link": true
    },
    "kernelspec": {
      "name": "python3",
      "display_name": "Python 3"
    },
    "language_info": {
      "name": "python"
    }
  },
  "cells": [
    {
      "cell_type": "markdown",
      "metadata": {
        "id": "view-in-github",
        "colab_type": "text"
      },
      "source": [
        "<a href=\"https://colab.research.google.com/github/SurekhaBerlin/Python/blob/main/fibonacciseries.ipynb\" target=\"_parent\"><img src=\"https://colab.research.google.com/assets/colab-badge.svg\" alt=\"Open In Colab\"/></a>"
      ]
    },
    {
      "cell_type": "code",
      "execution_count": 9,
      "metadata": {
        "colab": {
          "base_uri": "https://localhost:8080/"
        },
        "id": "fdWI2SCnnWqu",
        "outputId": "e419f4b9-37f1-4e7b-c9e8-f408829d6617"
      },
      "outputs": [
        {
          "output_type": "stream",
          "name": "stdout",
          "text": [
            "Enter the Number: 5\n",
            "Given below is a Fibonacci Series...\n",
            "0\n",
            "1\n",
            "1\n",
            "2\n",
            "3\n"
          ]
        }
      ],
      "source": [
        "num = int(input(\"Enter the Number: \"))\n",
        "print(\"Given below is a Fibonacci Series...\")\n",
        "a = 0\n",
        "b = 1\n",
        "\n",
        "\n",
        "for i in range(0,num):\n",
        "  if i <= 1:\n",
        "    print(i)\n",
        "  else:\n",
        "    result = a + b\n",
        "    a = b\n",
        "    b = result\n",
        "    print(result)"
      ]
    },
    {
      "cell_type": "code",
      "source": [],
      "metadata": {
        "id": "lSCFVNB1Jr9L"
      },
      "execution_count": 5,
      "outputs": []
    }
  ]
}