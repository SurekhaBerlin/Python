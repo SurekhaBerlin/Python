{
  "nbformat": 4,
  "nbformat_minor": 0,
  "metadata": {
    "colab": {
      "provenance": [],
      "authorship_tag": "ABX9TyOiwLV6sCeIo0hXvkMV25f/",
      "include_colab_link": true
    },
    "kernelspec": {
      "name": "python3",
      "display_name": "Python 3"
    },
    "language_info": {
      "name": "python"
    }
  },
  "cells": [
    {
      "cell_type": "markdown",
      "metadata": {
        "id": "view-in-github",
        "colab_type": "text"
      },
      "source": [
        "<a href=\"https://colab.research.google.com/github/SurekhaBerlin/Python/blob/main/pythonchallenge11.ipynb\" target=\"_parent\"><img src=\"https://colab.research.google.com/assets/colab-badge.svg\" alt=\"Open In Colab\"/></a>"
      ]
    },
    {
      "cell_type": "code",
      "execution_count": null,
      "metadata": {
        "id": "il6YDUw6m0dg"
      },
      "outputs": [],
      "source": [
        "file = open('Countries.txt','w')\n",
        "file.write('Italy\\n')\n",
        "file.write('Germany\\n')\n",
        "file.write('Spain\\n')\n",
        "file.close()"
      ]
    },
    {
      "cell_type": "code",
      "source": [
        "file = open('Countries.txt','r')\n",
        "print(file.read())"
      ],
      "metadata": {
        "colab": {
          "base_uri": "https://localhost:8080/"
        },
        "id": "qcHnGMwknWfb",
        "outputId": "dfde2a48-a5ec-4a89-9e29-4a91213e59e1"
      },
      "execution_count": null,
      "outputs": [
        {
          "output_type": "stream",
          "name": "stdout",
          "text": [
            "Italy\n",
            "Germany\n",
            "Spain\n",
            "\n"
          ]
        }
      ]
    },
    {
      "cell_type": "code",
      "source": [
        "file = open('Countries.txt','a')\n",
        "file.write('France\\n')\n",
        "file.close()"
      ],
      "metadata": {
        "id": "ZEAHIG1hnfO3"
      },
      "execution_count": null,
      "outputs": []
    },
    {
      "cell_type": "code",
      "source": [
        "file = open('Countries.txt','r')\n",
        "print(file.read())\n"
      ],
      "metadata": {
        "id": "BAcRMNzHnt0L"
      },
      "execution_count": null,
      "outputs": []
    },
    {
      "cell_type": "code",
      "source": [
        "file = open('Numbers.txt','w')\n",
        "file.write('4 , ')\n",
        "file.write('56 , ')\n",
        "file.write('34 , ')\n",
        "file.write('22 , ')\n",
        "file.write('12 , ')\n",
        "file.close()"
      ],
      "metadata": {
        "id": "Akq1h_m9n7Ki"
      },
      "execution_count": null,
      "outputs": []
    },
    {
      "cell_type": "code",
      "source": [
        "file = open('Names.txt','w')\n",
        "file.write('Berlin\\n')\n",
        "file.write('Surekha\\n')\n",
        "file.write('Bryan\\n')\n",
        "file.write('Steve\\n')\n",
        "file.write('Tara\\n')\n",
        "file.close()"
      ],
      "metadata": {
        "id": "ysLQwqH_pMfm"
      },
      "execution_count": null,
      "outputs": []
    },
    {
      "cell_type": "code",
      "source": [
        "file = open('Names.txt','r')\n",
        "print(file.read())\n",
        "file.close()"
      ],
      "metadata": {
        "colab": {
          "base_uri": "https://localhost:8080/"
        },
        "id": "jKJ0chADps1a",
        "outputId": "60d90407-5e2a-4cf1-8a18-a39dfd6be57e"
      },
      "execution_count": null,
      "outputs": [
        {
          "output_type": "stream",
          "name": "stdout",
          "text": [
            "Berlin\n",
            "Surekha\n",
            "Bryan\n",
            "Steve\n",
            "Tara\n",
            "\n"
          ]
        }
      ]
    },
    {
      "cell_type": "code",
      "source": [
        "file = open('Names.txt','a')\n",
        "newname = input('Enter a new name: ')\n",
        "file.write(newname+'\\n')\n",
        "file.close()\n",
        "file = open('Names.txt','r')\n",
        "print(file.read())\n",
        "file.close()"
      ],
      "metadata": {
        "colab": {
          "base_uri": "https://localhost:8080/"
        },
        "id": "FDVESJE1qg4C",
        "outputId": "58519941-5165-4856-8c81-57d18da8cbe1"
      },
      "execution_count": null,
      "outputs": [
        {
          "output_type": "stream",
          "name": "stdout",
          "text": [
            "Enter a new name: Nia\n",
            "Berlin\n",
            "Surekha\n",
            "Bryan\n",
            "Steve\n",
            "Tara\n",
            "Nila\\ nnilaNilaNia\n",
            "Nia\n",
            "\n"
          ]
        }
      ]
    },
    {
      "cell_type": "code",
      "source": [
        "print(\"1) Create a new file :  \")\n",
        "print(\"2) Display the file :  \")\n",
        "print(\"3) Add a new item to the file :  \")\n",
        "selection  = int(input(\"Enter a selection 1, 2 or 3:  \"))\n",
        "\n",
        "\n",
        "if selection == 1:\n",
        "  subject  = input(\"Enter a school subject: \")\n",
        "  file = open(\"Subject.txt\" ,\"w\")\n",
        "  file.write(subject +'\\n')\n",
        "  file.close()\n",
        "\n",
        "elif selection == 2:\n",
        "  file = open('Subject.txt','r')\n",
        "  print(file.read())\n",
        "\n",
        "\n",
        "elif selection == 3:\n",
        "  file = open(\"Subject.txt\" ,\"a\")\n",
        "  subject  = input(\"Enter a new subject: \")\n",
        "  file.write(subject +'\\n')\n",
        "  file.close\n",
        "  file = open('Subject.txt','r')\n",
        "  print(file.read())\n",
        "\n",
        "else:\n",
        "  print('Not a proper selection !!!!  ')"
      ],
      "metadata": {
        "colab": {
          "base_uri": "https://localhost:8080/"
        },
        "id": "ciaOZXvJri9o",
        "outputId": "ed9cf125-ef33-4612-eb42-25fb9f558833"
      },
      "execution_count": null,
      "outputs": [
        {
          "output_type": "stream",
          "name": "stdout",
          "text": [
            "1) Create a new file :  \n",
            "2) Display the file :  \n",
            "3) Add a new item to the file :  \n",
            "Enter a selection 1, 2 or 3:  3\n",
            "Enter a new subject: Physics\n",
            "Maths\n",
            "\n"
          ]
        }
      ]
    },
    {
      "cell_type": "code",
      "source": [
        "file = open(\"Names.txt\",\"r\")\n",
        "print(file.read())\n",
        "file.close()\n",
        "\n",
        "file = open('Names.txt',\"r\")\n",
        "selectedname = input(\"Enter a name from the list:  \")\n",
        "selectedname = selectedname + '\\n'\n",
        "\n",
        "\n",
        "for row in file :\n",
        "\n",
        "  if row != selectedname:\n",
        "\n",
        "    file = open(\"Namesa3.txt\",\"a\")\n",
        "    newrecord = row\n",
        "    file.write(newrecord)\n",
        "    file.close()\n",
        "file.close()\n",
        "\n",
        "\n",
        "file = open(\"Namesa3.txt\",\"r\")\n",
        "print(file.read())\n",
        "file.close()"
      ],
      "metadata": {
        "colab": {
          "base_uri": "https://localhost:8080/"
        },
        "id": "9bPEkfibvDJB",
        "outputId": "22e5df68-e55b-4999-dea3-57b826229251"
      },
      "execution_count": null,
      "outputs": [
        {
          "output_type": "stream",
          "name": "stdout",
          "text": [
            "Berlin\n",
            "Surekha\n",
            "Bryan\n",
            "Steve\n",
            "Tara\n",
            "\n",
            "Enter a name from the list:  Tara\n",
            "Berlin\n",
            "Surekha\n",
            "Bryan\n",
            "Steve\n",
            "\n"
          ]
        }
      ]
    },
    {
      "cell_type": "code",
      "source": [
        "import csv\n",
        "file = open(\"Stars.csv\",\"w\")\n",
        "newRecord = \"Brian,73,Taurus\\n\"\n",
        "file.write(str(newRecord))\n",
        "file.close()"
      ],
      "metadata": {
        "id": "vfMO4y3SzQJi"
      },
      "execution_count": 30,
      "outputs": []
    },
    {
      "cell_type": "code",
      "source": [
        "file = open (\"Stars.csv\",\"a\")\n",
        "name = input(\"Enter a name: \")\n",
        "age = input(\"Enter the age: \")\n",
        "star = input(\"Enter the star: \")\n",
        "newRecord =name + \"  \" + age + \" \" + star + \"\\n\"\n",
        "file.write(str(newRecord))\n",
        "file.close()"
      ],
      "metadata": {
        "id": "thqzImdjpxRl"
      },
      "execution_count": null,
      "outputs": []
    },
    {
      "cell_type": "code",
      "source": [
        "for row in range(0,4):\n",
        "  file = open (\"Stars.csv\",\"a\")\n",
        "  name = input(\"Enter a name: \")\n",
        "  age = input(\"Enter the age: \")\n",
        "  star = input(\"Enter the star: \")\n",
        "\n",
        "  newRecord = name + \"  \" + age + \" \" + star + \"\\n\"\n",
        "\n",
        "  file.write(str(newRecord))\n",
        "  file.close()"
      ],
      "metadata": {
        "colab": {
          "base_uri": "https://localhost:8080/"
        },
        "id": "uJ3aO_K-qXQi",
        "outputId": "3b778e29-4f42-47ba-fc12-2277d5faf180"
      },
      "execution_count": 13,
      "outputs": [
        {
          "name": "stdout",
          "output_type": "stream",
          "text": [
            "Enter a name: Surekha\n",
            "Enter the age: 29\n",
            "Enter the star: Leo\n",
            "Enter a name: Brayan\n",
            "Enter the age: 5\n",
            "Enter the star: Scorpio\n",
            "Enter a name: Steve\n",
            "Enter the age: 3\n",
            "Enter the star: Scorpio\n",
            "Enter a name: Tara\n",
            "Enter the age: 2\n",
            "Enter the star: Leo\n"
          ]
        }
      ]
    },
    {
      "cell_type": "code",
      "source": [
        "file = open(\"Stars.csv\" , \"r\")\n",
        "for row in file:\n",
        "  print(row)"
      ],
      "metadata": {
        "colab": {
          "base_uri": "https://localhost:8080/"
        },
        "id": "Qn6sNJ2TqvT5",
        "outputId": "aea1f844-2800-4d90-f94b-4d3a6eacd12e"
      },
      "execution_count": 14,
      "outputs": [
        {
          "output_type": "stream",
          "name": "stdout",
          "text": [
            "Berlin   30 Aquarius\n",
            "\n",
            "Surekha  29 Leo\n",
            "\n",
            "Brayan  5 Scorpio\n",
            "\n",
            "Steve  3 Scorpio\n",
            "\n",
            "Tara  2 Leo\n",
            "\n"
          ]
        }
      ]
    },
    {
      "cell_type": "code",
      "source": [
        "file = open(\"Stars.csv\",\"r\")\n",
        "reader = csv.reader(file)\n",
        "rows = list(reader)\n",
        "print(rows[1])"
      ],
      "metadata": {
        "colab": {
          "base_uri": "https://localhost:8080/"
        },
        "id": "jviaInWGrNHN",
        "outputId": "89acad6f-611c-4eb7-c223-c428e239f974"
      },
      "execution_count": 15,
      "outputs": [
        {
          "output_type": "stream",
          "name": "stdout",
          "text": [
            "['Surekha  29 Leo']\n"
          ]
        }
      ]
    },
    {
      "cell_type": "code",
      "source": [
        "file = open(\"Stars.csv\",\"r\")\n",
        "search = input(\"Enter the data you are searching for:  \")\n",
        "reader = csv.reader(file)\n",
        "\n",
        "for row in file:\n",
        "  if search in str(row):\n",
        "    print(row)"
      ],
      "metadata": {
        "id": "OUkDmM-ctPGm"
      },
      "execution_count": null,
      "outputs": []
    },
    {
      "cell_type": "code",
      "source": [
        "import csv\n",
        "file = list(csv.reader(open(\"Stars.csv\")))\n",
        "tmp = []\n",
        "for row in file:\n",
        "  tmp.append(row)"
      ],
      "metadata": {
        "id": "tdmhCbT2uCUM"
      },
      "execution_count": 19,
      "outputs": []
    },
    {
      "cell_type": "code",
      "source": [
        "file = open(\"NewStars.csv\",\"w\")\n",
        "x = 0\n",
        "for row in tmp:\n",
        "  newRec =  tmp[x][0] + \" , \" +  tmp[x][1] + \" , \" + tmp[x][2] + \" \\n \"\n",
        "  file.write(newRec)\n",
        "  x = x + 1\n",
        "file.close()\n",
        ""
      ],
      "metadata": {
        "id": "Dfa87O1Uwbmf"
      },
      "execution_count": null,
      "outputs": []
    },
    {
      "cell_type": "code",
      "source": [
        "import csv\n",
        "\n",
        "file = open(\"Books.csv\" , \"w\")\n",
        "\n",
        "newrecord = \"To kill a mocking bird , Harper Lee, 1960 \\n\"\n",
        "file.write(str(newrecord))\n",
        "newrecord = \"A brief history of time , Stephen Hawking, 1988 \\n\"\n",
        "file.write(str(newrecord))\n",
        "newrecord = \"The great gatsby , F.Scott Fitzgerald, 1922 \\n\"\n",
        "file.write(str(newrecord))\n",
        "newrecord = \"The man who mistook his wife for a hat , Oliver Sacks, 1985 \\n\"\n",
        "file.write(str(newrecord))\n",
        "newrecord = \"Pride and Prejudice , Jane Austen , 1813 \\n\"\n",
        "file.write(str(newrecord))\n",
        "\n",
        "file.close()"
      ],
      "metadata": {
        "id": "5qRZzUd8x9JE"
      },
      "execution_count": 38,
      "outputs": []
    },
    {
      "cell_type": "code",
      "source": [
        "num = int(input(\"How many records they want to add to the list :\" ))\n",
        "file = open(\"Books.csv\",\"a\")\n",
        "\n",
        "for x in range(0,num):\n",
        "\n",
        "  name = input(\"Enter the name of a book: \")\n",
        "  author = input(\"Enter the author of the book: \")\n",
        "  year = input(\"Enter the year released: \")\n",
        "  newrecord =name + \"  \" + author + \" \" + year + \"\\n\"\n",
        "  file.write(str(newrecord))\n",
        "\n",
        "file.close\n",
        "\n",
        "search = input(\"Enter the book you are searching for:  \")\n",
        "file = open(\"Books.csv\",\"r\")\n",
        "count = 0\n",
        "\n",
        "for row in file:\n",
        "  if search in str(row):\n",
        "    print(row)\n",
        "    count = count + 1\n",
        "if count == 0:\n",
        "  print(\"There are no books by that author in the list:  \")\n",
        "\n",
        "file.close()\n"
      ],
      "metadata": {
        "colab": {
          "base_uri": "https://localhost:8080/"
        },
        "id": "1YL5Umr71ADl",
        "outputId": "bef11894-bb97-4379-f06d-babf689aa3f4"
      },
      "execution_count": 18,
      "outputs": [
        {
          "output_type": "stream",
          "name": "stdout",
          "text": [
            "How many records they want to add to the list :2\n",
            "Enter the name of a book: little things\n",
            "Enter the author of the book: su\n",
            "Enter the year released: 2000\n",
            "Enter the name of a book: Happydays\n",
            "Enter the author of the book: berlin\n",
            "Enter the year released: 2000\n",
            "Enter the book you are searching for:  ikigai\n",
            "There are no books by that author in the list:  \n"
          ]
        }
      ]
    },
    {
      "cell_type": "code",
      "source": [
        "file = open (\"Books.csv\",\"a\")\n",
        "name = input(\"Enter the name of a book: \")\n",
        "author = input(\"Enter the author of the book: \")\n",
        "year = input(\"Enter the year released: \")\n",
        "newrecord =name + \"  \" + author + \" \" + year + \"\\n\"\n",
        "file.write(str(newrecord))\n",
        "file.close()\n"
      ],
      "metadata": {
        "colab": {
          "base_uri": "https://localhost:8080/"
        },
        "id": "0_afFaZmz0zk",
        "outputId": "66ce3ebf-e5bb-42d5-b33f-6019742cdece"
      },
      "execution_count": 11,
      "outputs": [
        {
          "name": "stdout",
          "output_type": "stream",
          "text": [
            "Enter the name of a book: Ikigai\n",
            "Enter the author of the book: Hector Gracia\n",
            "Enter the year released: 2020\n"
          ]
        }
      ]
    },
    {
      "cell_type": "code",
      "source": [
        "import csv\n",
        "\n",
        "start = int(input(\"Enter a starting year: \"))\n",
        "end = int(input(\"Enter an ending year: \"))\n",
        "\n",
        "file  = list(csv.reader(open(\"Books.csv\")))\n",
        "tmp = []\n",
        "\n",
        "for row in file:\n",
        "  tmp.append(row)\n",
        "\n",
        "x = 0\n",
        "\n",
        "for row in tmp:\n",
        "  if int(tmp[x][2]) >= start and int(tmp[x][2]) <= end:\n",
        "    print(tmp[x])\n",
        "  x = x + 1\n"
      ],
      "metadata": {
        "colab": {
          "base_uri": "https://localhost:8080/"
        },
        "id": "__wg33oa2X13",
        "outputId": "719605a1-6717-4fcc-a68e-3b83fcab2a7f"
      },
      "execution_count": 39,
      "outputs": [
        {
          "output_type": "stream",
          "name": "stdout",
          "text": [
            "Enter a starting year: 1800\n",
            "Enter an ending year: 1980\n",
            "['To kill a mocking bird ', ' Harper Lee', ' 1960 ']\n",
            "['The great gatsby ', ' F.Scott Fitzgerald', ' 1922 ']\n",
            "['Pride and Prejudice ', ' Jane Austen ', ' 1813 ']\n"
          ]
        }
      ]
    },
    {
      "cell_type": "code",
      "source": [
        "file = open(\"Books.csv\" , \"r\")\n",
        "x = 0\n",
        "\n",
        "for row in file:\n",
        "  display = str(x) + \"- \" + row\n",
        "  print(display)\n",
        "  x = x + 1"
      ],
      "metadata": {
        "colab": {
          "base_uri": "https://localhost:8080/"
        },
        "id": "8BUUu0kz6CZr",
        "outputId": "a991b0d9-6d2a-425a-dc22-fed92519020e"
      },
      "execution_count": 44,
      "outputs": [
        {
          "output_type": "stream",
          "name": "stdout",
          "text": [
            "0- To kill a mocking bird , Harper Lee, 1960 \n",
            "\n",
            "1- A brief history of time , Stephen Hawking, 1988 \n",
            "\n",
            "2- The great gatsby , F.Scott Fitzgerald, 1922 \n",
            "\n",
            "3- The man who mistook his wife for a hat , Oliver Sacks, 1985 \n",
            "\n",
            "4- Pride and Prejudice , Jane Austen , 1813 \n",
            "\n"
          ]
        }
      ]
    },
    {
      "cell_type": "code",
      "source": [
        "import csv\n",
        "file = list(csv.reader(open(\"Books.csv\")))\n",
        "Booklist = []\n",
        "\n",
        "for row in file :\n",
        "  Booklist.append(row)\n",
        "x = 0\n",
        "\n",
        "\n",
        "for row in Booklist:\n",
        "  display = x, Booklist[x]\n",
        "  print(display)\n",
        "  x = x + 1\n",
        "getrid = int (input ( \"Enter the row to delete : \"))\n",
        "del Booklist[getrid]\n",
        "\n",
        "x = 0\n",
        "\n",
        "for row in Booklist:\n",
        "  display = x, Booklist[x]\n",
        "  print(display)\n",
        "  x = x + 1\n",
        "alter = int(input(\"Enter the row to be altered: \"))\n",
        "x = 0\n",
        "\n",
        "for row in Booklist[alter]:\n",
        "  display  = x, Booklist [alter][x]\n",
        "  print(display)\n",
        "  x = x + 1\n",
        "\n",
        "part = int(input(\"Which part do you want to change?:  \"))\n",
        "newdata = input(\"Enter new data : \")\n",
        "Booklist[alter][part] = newdata\n",
        "print(Booklist[alter])\n",
        "\n",
        "file = open(\"Books.csv\",\"w\")\n",
        "x = 0\n",
        "\n",
        "for row in Booklist:\n",
        "  newrecord  = Booklist[x][0] + \",\" + Booklist[x][1] + \" , \"+ Booklist[x][2] + \"\\n\"\n",
        "  file.write(newrecord)\n",
        "  x = x + 1\n",
        "\n",
        "file.close()\n"
      ],
      "metadata": {
        "colab": {
          "base_uri": "https://localhost:8080/"
        },
        "id": "PcnskHMNhiA_",
        "outputId": "ef996809-5cc0-4672-e757-a5b48cf2e18d"
      },
      "execution_count": 48,
      "outputs": [
        {
          "output_type": "stream",
          "name": "stdout",
          "text": [
            "(0, ['To kill a mocking bird ', ' Harper Lee ', '  1960 '])\n",
            "(1, ['A brief history of time ', ' Stephen Hawking ', '  1988 '])\n",
            "(2, ['The man who mistook his wife for a hat ', ' Oliver Sacks ', '  1985 '])\n",
            "(3, ['Pride and Prejudice ', ' Jane Austen  ', ' 1814'])\n",
            "Enter the row to delete : 0\n",
            "(0, ['A brief history of time ', ' Stephen Hawking ', '  1988 '])\n",
            "(1, ['The man who mistook his wife for a hat ', ' Oliver Sacks ', '  1985 '])\n",
            "(2, ['Pride and Prejudice ', ' Jane Austen  ', ' 1814'])\n",
            "Enter the row to be altered: 2\n",
            "(0, 'Pride and Prejudice ')\n",
            "(1, ' Jane Austen  ')\n",
            "(2, ' 1814')\n",
            "Which part do you want to change?:  2\n",
            "Enter new data : 1900\n",
            "['Pride and Prejudice ', ' Jane Austen  ', '1900']\n"
          ]
        }
      ]
    },
    {
      "cell_type": "code",
      "source": [
        "import csv\n",
        "import random\n",
        "\n",
        "score = 0\n",
        "name = input(\"What is your name? : \")\n",
        "\n",
        "q1_num1 = random.randint(10 ,50)\n",
        "q1_num2 = random.randint(10 ,50)\n",
        "question1 = str(q1_num1) + \" + \" + str(q1_num2) + \" = \"\n",
        "ans1 = int(input(question1))\n",
        "realans1 = q1_num1 + q1_num2\n",
        "\n",
        "if ans1 == realans1:\n",
        "  score = score + 1\n",
        "\n",
        "q2_num1 = random.randint(10 ,50)\n",
        "q2_num2 = random.randint(10 ,50)\n",
        "question2 = str(q2_num1) + \" + \" + str(q2_num2) + \" = \"\n",
        "ans2 = int(input(question2))\n",
        "realans2 = q2_num1 + q2_num2\n",
        "\n",
        "if ans2 == realans2:\n",
        "  score = score + 1\n",
        "\n",
        "file = open(\"Quizscore1.csv\",\"a\")\n",
        "newrecord  = name + \" - \" + question1 + str(ans1)+ \", \" + question2 + str(ans2) + \", \" + \"Score = \" + str(score) + \" \\n \"\n",
        "file.write(str(newrecord))\n",
        "\n",
        "\n",
        "file = open(\"Quizscore1.csv\" , \"r\")\n",
        "display = str(newrecord)\n",
        "print(display)\n",
        "file.close()"
      ],
      "metadata": {
        "colab": {
          "base_uri": "https://localhost:8080/"
        },
        "id": "-sDyYz-ul4VW",
        "outputId": "cabcceed-c197-492b-d64c-535826efd92d"
      },
      "execution_count": 62,
      "outputs": [
        {
          "output_type": "stream",
          "name": "stdout",
          "text": [
            "What is your name? : Berlin\n",
            "40 + 44 = 84\n",
            "46 + 24 = 70\n",
            "Berlin - 40 + 44 = 84 , 46 + 24 = 70, Score = 2 \n",
            " \n"
          ]
        }
      ]
    }
  ]
}