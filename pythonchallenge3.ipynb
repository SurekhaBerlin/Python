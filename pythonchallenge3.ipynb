{
  "nbformat": 4,
  "nbformat_minor": 0,
  "metadata": {
    "colab": {
      "provenance": [],
      "authorship_tag": "ABX9TyMrlg2RL+VuxHOk/B6eZcP8",
      "include_colab_link": true
    },
    "kernelspec": {
      "name": "python3",
      "display_name": "Python 3"
    },
    "language_info": {
      "name": "python"
    }
  },
  "cells": [
    {
      "cell_type": "markdown",
      "metadata": {
        "id": "view-in-github",
        "colab_type": "text"
      },
      "source": [
        "<a href=\"https://colab.research.google.com/github/SurekhaBerlin/Python/blob/main/pythonchallenge3.ipynb\" target=\"_parent\"><img src=\"https://colab.research.google.com/assets/colab-badge.svg\" alt=\"Open In Colab\"/></a>"
      ]
    },
    {
      "cell_type": "code",
      "execution_count": null,
      "metadata": {
        "colab": {
          "base_uri": "https://localhost:8080/"
        },
        "id": "ZAdkg_0GjNyD",
        "outputId": "f5e57d79-b1dd-470c-f504-b73cf02f144c"
      },
      "outputs": [
        {
          "output_type": "stream",
          "name": "stdout",
          "text": [
            "Enter your First Name: Berlin\n",
            "6\n"
          ]
        }
      ],
      "source": [
        "name = str(input(\"Enter your First Name: \"))\n",
        "print (len(name))"
      ]
    },
    {
      "cell_type": "code",
      "source": [
        "firstName =  str(input(\"Enter your First Name: \"))\n",
        "surName =  str(input(\"Enter your Sur Name: \"))\n",
        "print(firstName,\"\",surName)\n",
        "print(len(firstName+surName))"
      ],
      "metadata": {
        "colab": {
          "base_uri": "https://localhost:8080/"
        },
        "id": "bTZUiVLLpVc_",
        "outputId": "8e4cf943-9306-4e8a-e441-634942b80256"
      },
      "execution_count": null,
      "outputs": [
        {
          "output_type": "stream",
          "name": "stdout",
          "text": [
            "Enter your First Name: Surekha\n",
            "Enter your Sur Name: Berlin\n",
            "Surekha  Berlin\n",
            "13\n"
          ]
        }
      ]
    },
    {
      "cell_type": "code",
      "source": [
        "firstName =  str(input(\"Enter your First Name in lower case: \"))\n",
        "surName =  str(input(\"Enter your Sur Name in lower case: \"))\n",
        "firstName = firstName.title()\n",
        "surName = surName.title()\n",
        "name = firstName+' '+surName\n",
        "print(name)"
      ],
      "metadata": {
        "colab": {
          "base_uri": "https://localhost:8080/"
        },
        "id": "KEaYi6pkpxnQ",
        "outputId": "f7fde41e-c2db-4ec8-aae5-b27a65f4ae44"
      },
      "execution_count": null,
      "outputs": [
        {
          "output_type": "stream",
          "name": "stdout",
          "text": [
            "Enter your First Name in lower case: suerkha\n",
            "Enter your Sur Name in lower case: berlin\n",
            "Suerkha Berlin\n"
          ]
        }
      ]
    },
    {
      "cell_type": "code",
      "source": [
        "rhyme = str(input(\"Enter the first line of a nursery rhyme: \"))\n",
        "length = len(rhyme)\n",
        "print(length)\n",
        "start = int(input(\"Enter a starting number: \"))\n",
        "end = int(input(\"Enter a ending number: \"))\n",
        "part = (rhyme[start:end])\n",
        "print(part)"
      ],
      "metadata": {
        "colab": {
          "base_uri": "https://localhost:8080/"
        },
        "id": "C3BsZQwYqWDd",
        "outputId": "600b9807-cf76-4ab2-d944-ce48e8f4b11c"
      },
      "execution_count": null,
      "outputs": [
        {
          "output_type": "stream",
          "name": "stdout",
          "text": [
            "Enter the first line of a nursery rhyme: Johny Johny yes papa\n",
            "20\n",
            "Enter a starting number: 3\n",
            "Enter a ending number: 7\n",
            "ny J\n"
          ]
        }
      ]
    },
    {
      "cell_type": "code",
      "source": [
        "word = str(input(\"Enter any word: \"))\n",
        "newWord = word.upper()\n",
        "print(newWord)"
      ],
      "metadata": {
        "colab": {
          "base_uri": "https://localhost:8080/"
        },
        "id": "bEtqmI04r98l",
        "outputId": "d5c8563f-0520-4042-b757-6623d2bd4bde"
      },
      "execution_count": null,
      "outputs": [
        {
          "output_type": "stream",
          "name": "stdout",
          "text": [
            "Enter any word: Berlin\n",
            "BERLIN\n"
          ]
        }
      ]
    },
    {
      "cell_type": "code",
      "source": [
        "firstName =  str(input(\"Enter your First Name in lower case: \"))\n",
        "if len(firstName) < 5:\n",
        "  surName = str(input(\"Enter the Sur Name:\"))\n",
        "  name = firstName+surName\n",
        "  name = name.upper()\n",
        "  print(name)\n",
        "else:\n",
        "  firstName = firstName.lower()\n",
        "  print(firstName)\n"
      ],
      "metadata": {
        "colab": {
          "base_uri": "https://localhost:8080/"
        },
        "id": "Sw1zJZQ8s21S",
        "outputId": "3e59fa19-1411-432a-ebec-ceedb4e03d0d"
      },
      "execution_count": null,
      "outputs": [
        {
          "output_type": "stream",
          "name": "stdout",
          "text": [
            "Enter your First Name in lower case: ana\n",
            "Enter the Sur Name:jacob\n",
            "ANAJACOB\n"
          ]
        }
      ]
    },
    {
      "cell_type": "code",
      "source": [
        "word = str(input(\"Enter any word: \"))\n",
        "first = word[0]\n",
        "length = len(word)\n",
        "rest = word[1:length]\n",
        "if first != \"a\" and first != \"e\" and first != \"i\" and first != \"o\" and first != \"u\":\n",
        "  newWord = (rest + first +'ay')\n",
        "\n",
        "else:\n",
        "  newWord = (word + 'way')\n",
        "print(newWord.lower())"
      ],
      "metadata": {
        "colab": {
          "base_uri": "https://localhost:8080/"
        },
        "id": "jpoj654F1eTF",
        "outputId": "b21c4ddb-f98b-4926-efb8-ac84a55bb0ce"
      },
      "execution_count": null,
      "outputs": [
        {
          "output_type": "stream",
          "name": "stdout",
          "text": [
            "Enter any word: pig\n",
            "igpay\n"
          ]
        }
      ]
    },
    {
      "cell_type": "code",
      "source": [],
      "metadata": {
        "id": "2hDC9iwP4FJL"
      },
      "execution_count": null,
      "outputs": []
    }
  ]
}