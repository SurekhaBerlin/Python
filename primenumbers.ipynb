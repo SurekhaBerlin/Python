{
  "nbformat": 4,
  "nbformat_minor": 0,
  "metadata": {
    "colab": {
      "provenance": [],
      "authorship_tag": "ABX9TyPCFbSwZ/V+2/25/AwrEaBF",
      "include_colab_link": true
    },
    "kernelspec": {
      "name": "python3",
      "display_name": "Python 3"
    },
    "language_info": {
      "name": "python"
    }
  },
  "cells": [
    {
      "cell_type": "markdown",
      "metadata": {
        "id": "view-in-github",
        "colab_type": "text"
      },
      "source": [
        "<a href=\"https://colab.research.google.com/github/SurekhaBerlin/Python/blob/main/primenumbers.ipynb\" target=\"_parent\"><img src=\"https://colab.research.google.com/assets/colab-badge.svg\" alt=\"Open In Colab\"/></a>"
      ]
    },
    {
      "cell_type": "code",
      "execution_count": null,
      "metadata": {
        "id": "TLQ9IgyeaQlo"
      },
      "outputs": [],
      "source": []
    },
    {
      "cell_type": "markdown",
      "source": [
        "***Write a function to check if a given number is a prime number***\n",
        "\n",
        "\n",
        "\n"
      ],
      "metadata": {
        "id": "CAXwEU-WaR5z"
      }
    },
    {
      "cell_type": "markdown",
      "source": [
        " A prime number is a natural number greater than 1 that\n",
        " has no positive divisors other than 1 and itself.\n",
        "  The first few prime numbers are {2, 3, 5, 7, 11, ….}. *italicized text*\n",
        "  "
      ],
      "metadata": {
        "id": "JN6eR2dbahXn"
      }
    },
    {
      "cell_type": "markdown",
      "source": [
        "Python Program to Check Prime Number"
      ],
      "metadata": {
        "id": "oknxBKikatD7"
      }
    },
    {
      "cell_type": "code",
      "source": [
        "num = int(input(\"Enter the number: \"))\n",
        "if (num > 1):\n",
        "  for i in range (2,int(num/2)+1):\n",
        "    if (num % i) == 0 :\n",
        "      print(num,\"is not a prime number\")\n",
        "      break\n",
        "  else:\n",
        "    print(num,\"is a prime number\")\n",
        "\n",
        "else:\n",
        "  print(num,\"is not a prime number\")"
      ],
      "metadata": {
        "colab": {
          "base_uri": "https://localhost:8080/"
        },
        "id": "5ntiTDlEayjI",
        "outputId": "984fbb66-5d14-470b-faa1-f3746cb6718b"
      },
      "execution_count": 5,
      "outputs": [
        {
          "output_type": "stream",
          "name": "stdout",
          "text": [
            "Enter the number: 11\n",
            "11 is a prime number\n"
          ]
        }
      ]
    },
    {
      "cell_type": "code",
      "source": [],
      "metadata": {
        "id": "RHMd3OVYbmsk"
      },
      "execution_count": 5,
      "outputs": []
    }
  ]
}