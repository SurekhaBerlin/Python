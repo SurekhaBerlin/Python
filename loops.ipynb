{
  "nbformat": 4,
  "nbformat_minor": 0,
  "metadata": {
    "colab": {
      "provenance": [],
      "authorship_tag": "ABX9TyNgI5JL6oXHVKDmLYh6cYKw",
      "include_colab_link": true
    },
    "kernelspec": {
      "name": "python3",
      "display_name": "Python 3"
    },
    "language_info": {
      "name": "python"
    }
  },
  "cells": [
    {
      "cell_type": "markdown",
      "metadata": {
        "id": "view-in-github",
        "colab_type": "text"
      },
      "source": [
        "<a href=\"https://colab.research.google.com/github/SurekhaBerlin/Python/blob/master/loops.ipynb\" target=\"_parent\"><img src=\"https://colab.research.google.com/assets/colab-badge.svg\" alt=\"Open In Colab\"/></a>"
      ]
    },
    {
      "cell_type": "code",
      "execution_count": null,
      "metadata": {
        "colab": {
          "base_uri": "https://localhost:8080/"
        },
        "id": "j318ItAM7f-D",
        "outputId": "d17313ea-ca1d-486c-d04c-fe694418cd68"
      },
      "outputs": [
        {
          "output_type": "stream",
          "name": "stdout",
          "text": [
            "101 is an odd number\n"
          ]
        }
      ],
      "source": [
        "x = 101\n",
        "if x % 2 == 0:\n",
        "  print (x, \"is an even number\")\n",
        "else:\n",
        "  print (x, \"is an odd number\")"
      ]
    },
    {
      "cell_type": "code",
      "source": [
        "x =int(input(\"Enter your Number\"))\n",
        "if x % 2 == 0:\n",
        "  print (x, \"is an even number\")\n",
        "else:\n",
        "  print (x, \"is an odd number\")"
      ],
      "metadata": {
        "colab": {
          "base_uri": "https://localhost:8080/"
        },
        "id": "0DY3zrKj-wfb",
        "outputId": "3983524f-d37d-44d0-b6bb-f2c5ab384a45"
      },
      "execution_count": null,
      "outputs": [
        {
          "output_type": "stream",
          "name": "stdout",
          "text": [
            "Enter your Number528582\n",
            "528582 is an even number\n"
          ]
        }
      ]
    },
    {
      "cell_type": "code",
      "source": [
        "x =int(input(\"Enter your Age\"))\n",
        "if x<18 or x>50:\n",
        "  print(\"Sorry you are not allowed to the party\")\n",
        "else:\n",
        "  print(\"welcome to the party\")\n"
      ],
      "metadata": {
        "colab": {
          "base_uri": "https://localhost:8080/"
        },
        "id": "3OR_Lzsp_VxI",
        "outputId": "24821443-0867-40eb-9f6a-fffcedefbf6d"
      },
      "execution_count": null,
      "outputs": [
        {
          "output_type": "stream",
          "name": "stdout",
          "text": [
            "Enter your Age35\n",
            "welcome to the party\n"
          ]
        }
      ]
    },
    {
      "cell_type": "code",
      "source": [],
      "metadata": {
        "id": "cbyF-E_1_5q1"
      },
      "execution_count": null,
      "outputs": []
    },
    {
      "cell_type": "markdown",
      "source": [
        "\n"
      ],
      "metadata": {
        "id": "eTYHbPpcAGCQ"
      }
    },
    {
      "cell_type": "code",
      "source": [
        "list1 = [10,20,30,40,50]\n",
        "for i in list1:\n",
        "  print(i)"
      ],
      "metadata": {
        "colab": {
          "base_uri": "https://localhost:8080/"
        },
        "id": "PQmj83DKAIuS",
        "outputId": "77cc9b0c-a2a4-42db-f0a1-2f37312d5087"
      },
      "execution_count": null,
      "outputs": [
        {
          "output_type": "stream",
          "name": "stdout",
          "text": [
            "10\n",
            "20\n",
            "30\n",
            "40\n",
            "50\n"
          ]
        }
      ]
    },
    {
      "cell_type": "code",
      "source": [
        "Employee_data = {101: ['Shiva', 24, 'Content Strategist'],\n",
        " 102: ['Udit', 25, 'Content Strategist'],\n",
        " 103: ['Sonam', 28, 'Sr Manager'],\n",
        " 104: ['Ansari', 29, 'Product Lead'],\n",
        " 105: ['Huzefa', 32, 'Project Manager']}"
      ],
      "metadata": {
        "id": "Pr514iduc3vE"
      },
      "execution_count": 3,
      "outputs": []
    },
    {
      "cell_type": "code",
      "source": [
        "for i,j in Employee_data.items():\n",
        "  print (i)"
      ],
      "metadata": {
        "colab": {
          "base_uri": "https://localhost:8080/"
        },
        "id": "dpNHDySXeQl8",
        "outputId": "c2d325dc-05c6-42f0-c18d-d19d8b8a7379"
      },
      "execution_count": 6,
      "outputs": [
        {
          "output_type": "stream",
          "name": "stdout",
          "text": [
            "101\n",
            "102\n",
            "103\n",
            "104\n",
            "105\n"
          ]
        }
      ]
    },
    {
      "cell_type": "code",
      "source": [
        "for i,j in Employee_data.items():\n",
        "  print (j)"
      ],
      "metadata": {
        "colab": {
          "base_uri": "https://localhost:8080/"
        },
        "id": "hDzgEDh5eXM6",
        "outputId": "707afe73-86a0-4f0c-f6d3-cf9402e59117"
      },
      "execution_count": 7,
      "outputs": [
        {
          "output_type": "stream",
          "name": "stdout",
          "text": [
            "['Shiva', 24, 'Content Strategist']\n",
            "['Udit', 25, 'Content Strategist']\n",
            "['Sonam', 28, 'Sr Manager']\n",
            "['Ansari', 29, 'Product Lead']\n",
            "['Huzefa', 32, 'Project Manager']\n"
          ]
        }
      ]
    },
    {
      "cell_type": "code",
      "source": [
        "name_list = []\n",
        "for i in Employee_data.values():\n",
        "  name_list.append(i[0])"
      ],
      "metadata": {
        "id": "CYdamHJUe9o6"
      },
      "execution_count": 19,
      "outputs": []
    },
    {
      "cell_type": "code",
      "source": [
        "name_list"
      ],
      "metadata": {
        "colab": {
          "base_uri": "https://localhost:8080/"
        },
        "id": "_sbBDBPUfPcn",
        "outputId": "9262d62c-0738-4f6a-d4ff-0fe943666664"
      },
      "execution_count": 20,
      "outputs": [
        {
          "output_type": "execute_result",
          "data": {
            "text/plain": [
              "['Shiva', 'Udit', 'Sonam', 'Ansari', 'Huzefa']"
            ]
          },
          "metadata": {},
          "execution_count": 20
        }
      ]
    },
    {
      "cell_type": "code",
      "source": [],
      "metadata": {
        "id": "IubfC-YafoV1"
      },
      "execution_count": null,
      "outputs": []
    }
  ]
}