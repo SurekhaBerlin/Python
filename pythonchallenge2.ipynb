{
  "nbformat": 4,
  "nbformat_minor": 0,
  "metadata": {
    "colab": {
      "provenance": [],
      "authorship_tag": "ABX9TyN3NPWxyWR1TGnq/lPW4ACl",
      "include_colab_link": true
    },
    "kernelspec": {
      "name": "python3",
      "display_name": "Python 3"
    },
    "language_info": {
      "name": "python"
    }
  },
  "cells": [
    {
      "cell_type": "markdown",
      "metadata": {
        "id": "view-in-github",
        "colab_type": "text"
      },
      "source": [
        "<a href=\"https://colab.research.google.com/github/SurekhaBerlin/Python/blob/main/pythonchallenge2.ipynb\" target=\"_parent\"><img src=\"https://colab.research.google.com/assets/colab-badge.svg\" alt=\"Open In Colab\"/></a>"
      ]
    },
    {
      "cell_type": "markdown",
      "source": [
        "//if statement"
      ],
      "metadata": {
        "id": "HIZuO9RhYwe6"
      }
    },
    {
      "cell_type": "code",
      "source": [
        "num1 = int(input(\"Enter the first number: \"))\n",
        "num2 = int(input(\"Enter the second number: \"))\n",
        "if num1 > num2 :\n",
        "  print (num2,num1)\n",
        "\n",
        "else:\n",
        "  print (num1,num2)\n"
      ],
      "metadata": {
        "colab": {
          "base_uri": "https://localhost:8080/"
        },
        "id": "erDHJduQY2Hm",
        "outputId": "2aa814be-c838-4773-eba7-fdd4bad80fd0"
      },
      "execution_count": 3,
      "outputs": [
        {
          "output_type": "stream",
          "name": "stdout",
          "text": [
            "Enter the first number: 1\n",
            "Enter the second number: 3\n",
            "1 3\n"
          ]
        }
      ]
    },
    {
      "cell_type": "code",
      "source": [
        "num1 = int(input(\"Enter the number under 20: \"))\n",
        "if num1 >= 20:\n",
        "  print(\"Too High\")\n",
        "else:\n",
        "  print(\"Thank you\")"
      ],
      "metadata": {
        "colab": {
          "base_uri": "https://localhost:8080/"
        },
        "id": "4IfXU8UyZcaf",
        "outputId": "fbdcda38-0230-4fcf-b1e6-a94b9d997d6a"
      },
      "execution_count": 5,
      "outputs": [
        {
          "output_type": "stream",
          "name": "stdout",
          "text": [
            "Enter the number under 20: 2\n",
            "Thank you\n"
          ]
        }
      ]
    },
    {
      "cell_type": "code",
      "source": [
        "num1 = int(input(\"Enter a number between 10 and 20: \"))\n",
        "if num1 <= 20 and num1 >= 10:\n",
        "  print(\"Thank you\")\n",
        "else:\n",
        "  print(\"incorrect answer\")\n",
        ""
      ],
      "metadata": {
        "colab": {
          "base_uri": "https://localhost:8080/"
        },
        "id": "LU0u25idaQiY",
        "outputId": "c1905255-4a17-4611-bfd6-2568fbd5a6f4"
      },
      "execution_count": 8,
      "outputs": [
        {
          "output_type": "stream",
          "name": "stdout",
          "text": [
            "Enter a number between 10 and 20: 20\n",
            "Thank you\n"
          ]
        }
      ]
    },
    {
      "cell_type": "code",
      "source": [
        "colour = str(input(\"Enter your favourite colour: \")).lower()\n",
        "if colour == \"red\":\n",
        "  print(\"I like red too!\")\n",
        "else:\n",
        "  print(\"I don't like\",colour,\",I prefer red!\")"
      ],
      "metadata": {
        "colab": {
          "base_uri": "https://localhost:8080/"
        },
        "id": "c2R7SjJ6cify",
        "outputId": "892ee810-902e-4090-eff0-00f68193c824"
      },
      "execution_count": 20,
      "outputs": [
        {
          "output_type": "stream",
          "name": "stdout",
          "text": [
            "Enter your favourite colour: GReen\n",
            "I don't like green ,I prefer red!\n"
          ]
        }
      ]
    },
    {
      "cell_type": "code",
      "source": [
        "question = str(input(\"Is it raining?: \")).lower()\n",
        "if question == 'yes':\n",
        "  windy = str(input('if its windy?')).lower()\n",
        "  if windy == 'yes':\n",
        "    print(\"It is too windy for an umbrella\")\n",
        "  else:\n",
        "    print(\"Take an umbrella\")\n",
        "\n",
        "else:\n",
        "  print(\"Enjoy your Day!!!\")"
      ],
      "metadata": {
        "colab": {
          "base_uri": "https://localhost:8080/"
        },
        "id": "Y7qdKrLpdb4h",
        "outputId": "d8ac723c-82f6-4d09-b6ea-857f84759895"
      },
      "execution_count": 24,
      "outputs": [
        {
          "output_type": "stream",
          "name": "stdout",
          "text": [
            "Is it raining?: yes\n",
            "if its windy?yes\n",
            "It is too windy for an umbrella\n"
          ]
        }
      ]
    },
    {
      "cell_type": "code",
      "source": [
        "usersAge = int(input(\"Enter your Age: \"))\n",
        "if usersAge >= 18:\n",
        "  print('You can vote!')\n",
        "elif usersAge == 17:\n",
        "  print(\"You can learn to drive!!\")\n",
        "elif usersAge == 16:\n",
        "  print(\"You can buy a lottery ticket!\")\n",
        "else:\n",
        "  print(\"You can go Trick or Treating!\")\n"
      ],
      "metadata": {
        "colab": {
          "base_uri": "https://localhost:8080/"
        },
        "id": "WdrjQU0TfXa6",
        "outputId": "4e9dfc4a-6ce4-4ef8-abd1-8cd3d5cccd4f"
      },
      "execution_count": 32,
      "outputs": [
        {
          "output_type": "stream",
          "name": "stdout",
          "text": [
            "Enter your Age: 2\n",
            "You can go Trick or Treating!\n"
          ]
        }
      ]
    },
    {
      "cell_type": "code",
      "source": [
        "num1 = int(input ( \"Enter a Number: \"))\n",
        "if num1 < 10:\n",
        "  print(\"Too Low!\")\n",
        "elif num1 >= 10 and num1 <= 20:\n",
        "  print(\"Correct\")\n",
        "else:\n",
        "  print(\"Too High\")\n"
      ],
      "metadata": {
        "colab": {
          "base_uri": "https://localhost:8080/"
        },
        "id": "xkp16lrsg0X9",
        "outputId": "d140a97e-919a-43e1-cd42-8b85aef4d10c"
      },
      "execution_count": 35,
      "outputs": [
        {
          "output_type": "stream",
          "name": "stdout",
          "text": [
            "Enter a Number: 23\n",
            "Too High\n"
          ]
        }
      ]
    },
    {
      "cell_type": "code",
      "source": [
        "x = int(input(\"Enter number 1,2 or 3 : \"))\n",
        "if x == 1:\n",
        "  print(\"Thank you !\")\n",
        "elif x == 2:\n",
        "  print(\"Well done !\")\n",
        "elif x == 3:\n",
        "  print(\"Correct !\")\n",
        "else:\n",
        "  print(\"Error Message!\")\n",
        "\n"
      ],
      "metadata": {
        "colab": {
          "base_uri": "https://localhost:8080/"
        },
        "id": "7P7dcZ9Ug6Um",
        "outputId": "c4ba57a2-2fe6-4c6b-b7a7-d9b7e110ffc8"
      },
      "execution_count": 37,
      "outputs": [
        {
          "output_type": "stream",
          "name": "stdout",
          "text": [
            "Enter number 1,2 or 3 : 5\n",
            "Error Message!\n"
          ]
        }
      ]
    },
    {
      "cell_type": "code",
      "source": [],
      "metadata": {
        "id": "mPR5iUt4iy0-"
      },
      "execution_count": null,
      "outputs": []
    }
  ]
}