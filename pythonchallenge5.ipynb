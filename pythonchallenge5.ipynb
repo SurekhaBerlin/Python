{
  "nbformat": 4,
  "nbformat_minor": 0,
  "metadata": {
    "colab": {
      "provenance": [],
      "authorship_tag": "ABX9TyMbXwxO2bFKb7UxTk+9Aa10",
      "include_colab_link": true
    },
    "kernelspec": {
      "name": "python3",
      "display_name": "Python 3"
    },
    "language_info": {
      "name": "python"
    }
  },
  "cells": [
    {
      "cell_type": "markdown",
      "metadata": {
        "id": "view-in-github",
        "colab_type": "text"
      },
      "source": [
        "<a href=\"https://colab.research.google.com/github/SurekhaBerlin/Python/blob/main/pythonchallenge5.ipynb\" target=\"_parent\"><img src=\"https://colab.research.google.com/assets/colab-badge.svg\" alt=\"Open In Colab\"/></a>"
      ]
    },
    {
      "cell_type": "code",
      "execution_count": 2,
      "metadata": {
        "colab": {
          "base_uri": "https://localhost:8080/"
        },
        "id": "otEghwqRiFBQ",
        "outputId": "d018b2ce-ee58-4d0b-aa72-3434e7321cfe"
      },
      "outputs": [
        {
          "output_type": "stream",
          "name": "stdout",
          "text": [
            "1\n",
            "2\n",
            "3\n",
            "4\n",
            "5\n",
            "6\n",
            "7\n",
            "8\n",
            "9\n"
          ]
        }
      ],
      "source": [
        "for i in range(1,10):\n",
        "  print(i)\n"
      ]
    },
    {
      "cell_type": "code",
      "source": [
        "for i in range (1,100,5):\n",
        "  print(i)"
      ],
      "metadata": {
        "colab": {
          "base_uri": "https://localhost:8080/"
        },
        "id": "JOy1OItQiVCQ",
        "outputId": "3f4fdbc3-f112-4fde-8e2b-29fa6d411f57"
      },
      "execution_count": 3,
      "outputs": [
        {
          "output_type": "stream",
          "name": "stdout",
          "text": [
            "1\n",
            "6\n",
            "11\n",
            "16\n",
            "21\n",
            "26\n",
            "31\n",
            "36\n",
            "41\n",
            "46\n",
            "51\n",
            "56\n",
            "61\n",
            "66\n",
            "71\n",
            "76\n",
            "81\n",
            "86\n",
            "91\n",
            "96\n"
          ]
        }
      ]
    },
    {
      "cell_type": "code",
      "source": [
        "for i in range (10,1,-3):\n",
        "  print(i)"
      ],
      "metadata": {
        "colab": {
          "base_uri": "https://localhost:8080/"
        },
        "id": "YtGhjVg1ihQN",
        "outputId": "2dbb8c75-bf2a-4c15-eefc-d4cbbf2f3ace"
      },
      "execution_count": 4,
      "outputs": [
        {
          "output_type": "stream",
          "name": "stdout",
          "text": [
            "10\n",
            "7\n",
            "4\n"
          ]
        }
      ]
    },
    {
      "cell_type": "code",
      "source": [
        "name = str(input(\"Enter the name: \"))\n",
        "num = int(input(\"Enter a number: \"))\n",
        "for i in range(0,num):\n",
        "  print(name)"
      ],
      "metadata": {
        "colab": {
          "base_uri": "https://localhost:8080/"
        },
        "id": "tQk_OS_pinF0",
        "outputId": "2fbcd565-f85a-4b98-c436-56fb5616a750"
      },
      "execution_count": 2,
      "outputs": [
        {
          "output_type": "stream",
          "name": "stdout",
          "text": [
            "Enter the name: Berlin\n",
            "Enter a number: 8\n",
            "Berlin\n",
            "Berlin\n",
            "Berlin\n",
            "Berlin\n",
            "Berlin\n",
            "Berlin\n",
            "Berlin\n",
            "Berlin\n"
          ]
        }
      ]
    },
    {
      "cell_type": "code",
      "source": [
        "name = str(input(\"Enter the name: \"))\n",
        "num = len(name)\n",
        "for i in range(0, num):\n",
        "  print(name[i])"
      ],
      "metadata": {
        "colab": {
          "base_uri": "https://localhost:8080/"
        },
        "id": "aN_pScXejoff",
        "outputId": "57d88419-8f69-468c-f65f-444482d522e1"
      },
      "execution_count": 1,
      "outputs": [
        {
          "output_type": "stream",
          "name": "stdout",
          "text": [
            "Enter the name: Berlin\n",
            "B\n",
            "e\n",
            "r\n",
            "l\n",
            "i\n",
            "n\n"
          ]
        }
      ]
    },
    {
      "cell_type": "code",
      "source": [
        "name = str(input(\"Enter the name: \"))\n",
        "num = len(name)\n",
        "t = int(input(\"Enter the number of times: \"))\n",
        "for x in range(0, t):\n",
        "  for i in range (0,num):\n",
        "    print(name[i])"
      ],
      "metadata": {
        "colab": {
          "base_uri": "https://localhost:8080/"
        },
        "id": "IMgt5CxGkXPp",
        "outputId": "c8b88a3e-03b3-4191-d8ea-5a6a7ec85ec1"
      },
      "execution_count": 10,
      "outputs": [
        {
          "output_type": "stream",
          "name": "stdout",
          "text": [
            "Enter the name: Bee\n",
            "Enter the number of times: 3\n",
            "B\n",
            "e\n",
            "e\n",
            "B\n",
            "e\n",
            "e\n",
            "B\n",
            "e\n",
            "e\n"
          ]
        }
      ]
    },
    {
      "cell_type": "code",
      "source": [
        "num = int(input(\"Enter a number between 1 and 12: \"))\n",
        "for i in range(0,13):\n",
        "  answer = num * i\n",
        "  print(num, \" * \" ,i ,\" = \",  answer )"
      ],
      "metadata": {
        "colab": {
          "base_uri": "https://localhost:8080/"
        },
        "id": "F4JLfxQElgxE",
        "outputId": "5c2f50d2-c687-47a6-b944-902c3a469a74"
      },
      "execution_count": 13,
      "outputs": [
        {
          "output_type": "stream",
          "name": "stdout",
          "text": [
            "Enter a number between 1 and 12: 7\n",
            "7  *  0  =  0\n",
            "7  *  1  =  7\n",
            "7  *  2  =  14\n",
            "7  *  3  =  21\n",
            "7  *  4  =  28\n",
            "7  *  5  =  35\n",
            "7  *  6  =  42\n",
            "7  *  7  =  49\n",
            "7  *  8  =  56\n",
            "7  *  9  =  63\n",
            "7  *  10  =  70\n",
            "7  *  11  =  77\n",
            "7  *  12  =  84\n"
          ]
        }
      ]
    },
    {
      "cell_type": "code",
      "source": [
        "num = int(input(\"Enter a number below 50: \"))\n",
        "for i in range (50,num-1,-1):\n",
        "  print(i)"
      ],
      "metadata": {
        "colab": {
          "base_uri": "https://localhost:8080/"
        },
        "id": "Psmck3Pym2Nb",
        "outputId": "6b950175-2a5e-4a0b-c60f-a5f1c62cefe5"
      },
      "execution_count": 24,
      "outputs": [
        {
          "output_type": "stream",
          "name": "stdout",
          "text": [
            "Enter a number below 50: 3\n",
            "50\n",
            "49\n",
            "48\n",
            "47\n",
            "46\n",
            "45\n",
            "44\n",
            "43\n",
            "42\n",
            "41\n",
            "40\n",
            "39\n",
            "38\n",
            "37\n",
            "36\n",
            "35\n",
            "34\n",
            "33\n",
            "32\n",
            "31\n",
            "30\n",
            "29\n",
            "28\n",
            "27\n",
            "26\n",
            "25\n",
            "24\n",
            "23\n",
            "22\n",
            "21\n",
            "20\n",
            "19\n",
            "18\n",
            "17\n",
            "16\n",
            "15\n",
            "14\n",
            "13\n",
            "12\n",
            "11\n",
            "10\n",
            "9\n",
            "8\n",
            "7\n",
            "6\n",
            "5\n",
            "4\n",
            "3\n"
          ]
        }
      ]
    },
    {
      "cell_type": "code",
      "source": [
        "name = str(input(\"Enter the name: \"))\n",
        "num = int(input(\"Enter a number: \"))\n",
        "if (num < 10):\n",
        "  for i in range(0,num):\n",
        "    print(name)\n",
        "else:\n",
        "  for i in range(0,3):\n",
        "    print(\"Too high\")"
      ],
      "metadata": {
        "colab": {
          "base_uri": "https://localhost:8080/"
        },
        "id": "Rv9Jdscyn3o4",
        "outputId": "7d76c2f2-139e-4d90-ec5c-42d8fb764ad7"
      },
      "execution_count": 33,
      "outputs": [
        {
          "output_type": "stream",
          "name": "stdout",
          "text": [
            "Enter the name: Bee\n",
            "Enter a number: 15\n",
            "Too high\n",
            "Too high\n",
            "Too high\n"
          ]
        }
      ]
    },
    {
      "cell_type": "code",
      "source": [
        "total = 0\n",
        "for i in range(0,5):\n",
        "  num = int(input(\"Enter a number: \"))\n",
        "  ans = str(input(\"if they want to include?:  y/n:  \"))\n",
        "  if ans == \"y\":\n",
        "    total = total +num\n",
        "\n",
        "print(total)"
      ],
      "metadata": {
        "colab": {
          "base_uri": "https://localhost:8080/"
        },
        "id": "DWL-XlsfqWrg",
        "outputId": "55bdd358-8737-4b93-f7fb-6845b55f16f0"
      },
      "execution_count": 40,
      "outputs": [
        {
          "output_type": "stream",
          "name": "stdout",
          "text": [
            "Enter a number: 5\n",
            "if they want to include?:  y/n:  n\n",
            "Enter a number: 45\n",
            "if they want to include?:  y/n:  y\n",
            "Enter a number: 34\n",
            "if they want to include?:  y/n:  n\n",
            "Enter a number: 3\n",
            "if they want to include?:  y/n:  n\n",
            "Enter a number: 54\n",
            "if they want to include?:  y/n:  n\n",
            "45\n"
          ]
        }
      ]
    },
    {
      "cell_type": "code",
      "source": [
        "direction = str(input(\"Which direction the user wants to count?  up/down: \"))\n",
        "if direction == \"up\":\n",
        "  num = int(input(\"Enter the top number: \"))\n",
        "  for i in range (1,num+1):\n",
        "    print (i)\n",
        "elif direction == \"down\":\n",
        "  num = int(input(\"Enter the number below 20 : \"))\n",
        "  for i in range (20,num-1,-1):\n",
        "    print (i)\n",
        "else:\n",
        "  print(\"I don't understand!\")\n"
      ],
      "metadata": {
        "colab": {
          "base_uri": "https://localhost:8080/"
        },
        "id": "m6D9dnQLtlZU",
        "outputId": "8de510b7-8956-48ea-fa6c-86b94f13676b"
      },
      "execution_count": 47,
      "outputs": [
        {
          "output_type": "stream",
          "name": "stdout",
          "text": [
            "Which direction the user wants to count?  up/down: tghgy\n",
            "I don't understand!\n"
          ]
        }
      ]
    },
    {
      "cell_type": "code",
      "source": [
        "num = int(input(\"No. of people the user want to invite for the party ? \"))\n",
        "if num < 10 :\n",
        "  for i in range (0,num):\n",
        "    name = str(input(\"Enter the name: \"))\n",
        "    print( name , \"has been invited !\")\n",
        "elif num >= 10 :\n",
        "  print(\"Too many people !\")"
      ],
      "metadata": {
        "colab": {
          "base_uri": "https://localhost:8080/"
        },
        "id": "eFGHlQykwrVi",
        "outputId": "06d0f071-261e-4312-c90d-68d0711a4b66"
      },
      "execution_count": 49,
      "outputs": [
        {
          "output_type": "stream",
          "name": "stdout",
          "text": [
            "No. of people the user want to invite for the party ? 7\n",
            "Enter the name: Berlin\n",
            "Berlin has been invited !\n",
            "Enter the name: Surekha\n",
            "Surekha has been invited !\n",
            "Enter the name: Bryan\n",
            "Bryan has been invited !\n",
            "Enter the name: Steve\n",
            "Steve has been invited !\n",
            "Enter the name: Suku\n",
            "Suku has been invited !\n",
            "Enter the name: Renjini\n",
            "Renjini has been invited !\n",
            "Enter the name: Sooraj\n",
            "Sooraj has been invited !\n"
          ]
        }
      ]
    },
    {
      "cell_type": "code",
      "source": [],
      "metadata": {
        "id": "9Z1wcX4oySSY"
      },
      "execution_count": null,
      "outputs": []
    }
  ]
}