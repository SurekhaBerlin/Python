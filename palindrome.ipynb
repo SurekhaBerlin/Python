{
  "nbformat": 4,
  "nbformat_minor": 0,
  "metadata": {
    "colab": {
      "provenance": [],
      "authorship_tag": "ABX9TyMkS3PWGIs1zhrllQqLINB+",
      "include_colab_link": true
    },
    "kernelspec": {
      "name": "python3",
      "display_name": "Python 3"
    },
    "language_info": {
      "name": "python"
    }
  },
  "cells": [
    {
      "cell_type": "markdown",
      "metadata": {
        "id": "view-in-github",
        "colab_type": "text"
      },
      "source": [
        "<a href=\"https://colab.research.google.com/github/SurekhaBerlin/Python/blob/master/palindrome.ipynb\" target=\"_parent\"><img src=\"https://colab.research.google.com/assets/colab-badge.svg\" alt=\"Open In Colab\"/></a>"
      ]
    },
    {
      "cell_type": "code",
      "execution_count": 1,
      "metadata": {
        "colab": {
          "base_uri": "https://localhost:8080/"
        },
        "id": "r0rnOAbsQZeJ",
        "outputId": "05268717-d18c-4d81-85aa-ad680b33f2d7"
      },
      "outputs": [
        {
          "output_type": "stream",
          "name": "stdout",
          "text": [
            "Yes\n"
          ]
        }
      ],
      "source": [
        "# function which return reverse of a string\n",
        "\n",
        "def isPalindrome(s):\n",
        "\treturn s == s[::-1]\n",
        "\n",
        "\n",
        "# Driver code\n",
        "s = \"malayalam\"\n",
        "ans = isPalindrome(s)\n",
        "\n",
        "if ans:\n",
        "\tprint(\"Yes\")\n",
        "else:\n",
        "\tprint(\"No\")\n",
        "\n"
      ]
    },
    {
      "cell_type": "code",
      "source": [],
      "metadata": {
        "id": "grxBGLTFV0cw"
      },
      "execution_count": null,
      "outputs": []
    },
    {
      "cell_type": "markdown",
      "source": [
        "Method 2 – Using the reverse and compare method"
      ],
      "metadata": {
        "id": "JNiRflATcg8r"
      }
    },
    {
      "cell_type": "code",
      "source": [
        "def ispalindrome(string):\n",
        "  if(string == string[::-1]):\n",
        "    return (\"The string is Palindrome\")\n",
        "  else:\n",
        "    return (\"The string is not Palindrome\")\n",
        "string = input(\"Enter the String:   \")\n",
        "print(ispalindrome(string))\n"
      ],
      "metadata": {
        "colab": {
          "base_uri": "https://localhost:8080/"
        },
        "id": "00IKHtafiEMQ",
        "outputId": "caa65cc9-6c38-4e30-b133-cca07122df15"
      },
      "execution_count": 8,
      "outputs": [
        {
          "output_type": "stream",
          "name": "stdout",
          "text": [
            "Enter the String:   malayalam\n",
            "The string is Palindrome\n"
          ]
        }
      ]
    },
    {
      "cell_type": "code",
      "source": [
        "\n",
        "def isPalindrome(string):\n",
        "  if (string == string[::-1]):\n",
        "    return (\"The string is a Palindrome\")\n",
        "  else:\n",
        "    return (\"The string is not a Palindrome\")\n",
        "\n",
        "string = input(\"The string is:  \")\n",
        "print(isPalindrome(string))"
      ],
      "metadata": {
        "colab": {
          "base_uri": "https://localhost:8080/"
        },
        "id": "vY-uK5d2ixPL",
        "outputId": "caa487fc-f60e-4a90-80ca-2b512de1c383"
      },
      "execution_count": 2,
      "outputs": [
        {
          "output_type": "stream",
          "name": "stdout",
          "text": [
            "The string is:  MALAYALAM\n",
            "The string is a Palindrome\n"
          ]
        }
      ]
    },
    {
      "cell_type": "code",
      "source": [],
      "metadata": {
        "id": "UrRNl2q2i2vy"
      },
      "execution_count": 2,
      "outputs": []
    }
  ]
}