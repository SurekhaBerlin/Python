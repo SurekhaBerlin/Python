{
  "nbformat": 4,
  "nbformat_minor": 0,
  "metadata": {
    "colab": {
      "provenance": [],
      "authorship_tag": "ABX9TyNl7/Z4Yxn0GtZKSOQTtsOg",
      "include_colab_link": true
    },
    "kernelspec": {
      "name": "python3",
      "display_name": "Python 3"
    },
    "language_info": {
      "name": "python"
    }
  },
  "cells": [
    {
      "cell_type": "markdown",
      "metadata": {
        "id": "view-in-github",
        "colab_type": "text"
      },
      "source": [
        "<a href=\"https://colab.research.google.com/github/SurekhaBerlin/Python/blob/main/Data_Science.ipynb\" target=\"_parent\"><img src=\"https://colab.research.google.com/assets/colab-badge.svg\" alt=\"Open In Colab\"/></a>"
      ]
    },
    {
      "cell_type": "code",
      "execution_count": 1,
      "metadata": {
        "id": "_udyOk28WhWS"
      },
      "outputs": [],
      "source": [
        "users = [\n",
        "    { \"id\": 0, \"name\": \"Hero\" },\n",
        "    { \"id\": 1, \"name\": \"Dunn\" },\n",
        "    { \"id\": 2, \"name\": \"Sue\" },\n",
        "    { \"id\": 3, \"name\": \"Chi\" },\n",
        "    { \"id\": 4, \"name\": \"Thor\" },\n",
        "    { \"id\": 5, \"name\": \"Clive\" },\n",
        "    { \"id\": 6, \"name\": \"Hicks\" },\n",
        "    { \"id\": 7, \"name\": \"Devin\" },\n",
        "    { \"id\": 8, \"name\": \"Kate\" },\n",
        "    { \"id\": 9, \"name\": \"Klein\" }\n",
        "]"
      ]
    },
    {
      "cell_type": "code",
      "source": [
        "friendship_pairs = [(0, 1), (0, 2), (1, 2), (1, 3), (2, 3), (3, 4),\n",
        "                    (4, 5), (5, 6), (5, 7), (6, 8), (7, 8), (8, 9)]"
      ],
      "metadata": {
        "id": "0P9wuwBOWoTg"
      },
      "execution_count": 2,
      "outputs": []
    },
    {
      "cell_type": "code",
      "source": [
        "# Initialize the dict with an empty list for each user id:\n",
        "friendships = {user[\"id\"]: [] for user in users}\n",
        "\n",
        "# And loop over the friendship pairs to populate it:\n",
        "for i, j in friendship_pairs:\n",
        "    friendships[i].append(j)  # Add j as a friend of user i\n",
        "    friendships[j].append(i)  # Add i as a friend of user j"
      ],
      "metadata": {
        "id": "TyXQZFWEWrWF"
      },
      "execution_count": 3,
      "outputs": []
    },
    {
      "cell_type": "code",
      "source": [
        "def number_of_friends(user):\n",
        "    \"\"\"How many friends does _user_ have?\"\"\"\n",
        "    user_id = user[\"id\"]\n",
        "    friend_ids = friendships[user_id]\n",
        "    return len(friend_ids)\n",
        "\n",
        "total_connections = sum(number_of_friends(user)\n",
        "                        for user in users)"
      ],
      "metadata": {
        "id": "TFVzee8nW0g0"
      },
      "execution_count": 4,
      "outputs": []
    },
    {
      "cell_type": "code",
      "source": [
        "num_users = len(users)                            # length of the users list\n",
        "avg_connections = total_connections / num_users"
      ],
      "metadata": {
        "id": "H8srEOa3W7iy"
      },
      "execution_count": null,
      "outputs": []
    }
  ]
}