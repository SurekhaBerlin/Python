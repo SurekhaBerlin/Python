{
  "nbformat": 4,
  "nbformat_minor": 0,
  "metadata": {
    "colab": {
      "provenance": [],
      "authorship_tag": "ABX9TyOYtXzB+/CGAE/QIES/TCnY",
      "include_colab_link": true
    },
    "kernelspec": {
      "name": "python3",
      "display_name": "Python 3"
    },
    "language_info": {
      "name": "python"
    }
  },
  "cells": [
    {
      "cell_type": "markdown",
      "metadata": {
        "id": "view-in-github",
        "colab_type": "text"
      },
      "source": [
        "<a href=\"https://colab.research.google.com/github/SurekhaBerlin/Python/blob/main/Data_Science.ipynb\" target=\"_parent\"><img src=\"https://colab.research.google.com/assets/colab-badge.svg\" alt=\"Open In Colab\"/></a>"
      ]
    },
    {
      "cell_type": "code",
      "execution_count": 1,
      "metadata": {
        "id": "_udyOk28WhWS"
      },
      "outputs": [],
      "source": [
        "users = [\n",
        "    { \"id\": 0, \"name\": \"Hero\" },\n",
        "    { \"id\": 1, \"name\": \"Dunn\" },\n",
        "    { \"id\": 2, \"name\": \"Sue\" },\n",
        "    { \"id\": 3, \"name\": \"Chi\" },\n",
        "    { \"id\": 4, \"name\": \"Thor\" },\n",
        "    { \"id\": 5, \"name\": \"Clive\" },\n",
        "    { \"id\": 6, \"name\": \"Hicks\" },\n",
        "    { \"id\": 7, \"name\": \"Devin\" },\n",
        "    { \"id\": 8, \"name\": \"Kate\" },\n",
        "    { \"id\": 9, \"name\": \"Klein\" }\n",
        "]"
      ]
    },
    {
      "cell_type": "code",
      "source": [
        "friendship_pairs = [(0, 1), (0, 2), (1, 2), (1, 3), (2, 3), (3, 4),\n",
        "                    (4, 5), (5, 6), (5, 7), (6, 8), (7, 8), (8, 9)]"
      ],
      "metadata": {
        "id": "0P9wuwBOWoTg"
      },
      "execution_count": 2,
      "outputs": []
    },
    {
      "cell_type": "code",
      "source": [
        "# Initialize the dict with an empty list for each user id:\n",
        "friendships = {user[\"id\"]: [] for user in users}\n",
        "\n",
        "# And loop over the friendship pairs to populate it:\n",
        "for i, j in friendship_pairs:\n",
        "    friendships[i].append(j)  # Add j as a friend of user i\n",
        "    friendships[j].append(i)  # Add i as a friend of user j"
      ],
      "metadata": {
        "id": "TyXQZFWEWrWF"
      },
      "execution_count": 3,
      "outputs": []
    },
    {
      "cell_type": "code",
      "source": [
        "def number_of_friends(user):\n",
        "    \"\"\"How many friends does _user_ have?\"\"\"\n",
        "    user_id = user[\"id\"]\n",
        "    friend_ids = friendships[user_id]\n",
        "    return len(friend_ids)\n",
        "\n",
        "total_connections = sum(number_of_friends(user)\n",
        "                        for user in users)"
      ],
      "metadata": {
        "id": "TFVzee8nW0g0"
      },
      "execution_count": 4,
      "outputs": []
    },
    {
      "cell_type": "code",
      "source": [
        "num_users = len(users)                            # length of the users list\n",
        "avg_connections = total_connections / num_users"
      ],
      "metadata": {
        "id": "H8srEOa3W7iy"
      },
      "execution_count": 5,
      "outputs": []
    },
    {
      "cell_type": "code",
      "source": [
        "# Create a list (user_id, number_of_friends).\n",
        "num_friends_by_id = [(user[\"id\"], number_of_friends(user))\n",
        "                     for user in users]\n",
        "\n",
        "num_friends_by_id.sort(                                # Sort the list\n",
        "       key=lambda id_and_friends: id_and_friends[1],   # by num_friends\n",
        "       reverse=True)                                   # largest to smallest\n",
        "\n",
        "# Each pair is (user_id, num_friends):\n",
        "# [(1, 3), (2, 3), (3, 3), (5, 3), (8, 3),\n",
        "#  (0, 2), (4, 2), (6, 2), (7, 2), (9, 1)]"
      ],
      "metadata": {
        "id": "10yaUYiiXilq"
      },
      "execution_count": 6,
      "outputs": []
    },
    {
      "cell_type": "code",
      "source": [
        "def foaf_ids_bad(user):\n",
        "    \"\"\"foaf is short for \"friend of a friend\" \"\"\"\n",
        "    return [foaf_id\n",
        "            for friend_id in friendships[user[\"id\"]]\n",
        "            for foaf_id in friendships[friend_id]]"
      ],
      "metadata": {
        "id": "P24obPfwXozY"
      },
      "execution_count": 7,
      "outputs": []
    },
    {
      "cell_type": "code",
      "source": [
        "print(friendships[0])  # [1, 2]\n",
        "print(friendships[1])  # [0, 2, 3]\n",
        "print(friendships[2])  # [0, 1, 3]\n"
      ],
      "metadata": {
        "colab": {
          "base_uri": "https://localhost:8080/"
        },
        "id": "Z7bXLp27X23c",
        "outputId": "5e5e8ceb-352c-42f8-b2f5-5cc4daeb648d"
      },
      "execution_count": 8,
      "outputs": [
        {
          "output_type": "stream",
          "name": "stdout",
          "text": [
            "[1, 2]\n",
            "[0, 2, 3]\n",
            "[0, 1, 3]\n"
          ]
        }
      ]
    },
    {
      "cell_type": "code",
      "source": [
        "from collections import Counter                   # not loaded by default\n",
        "\n",
        "def friends_of_friends(user):\n",
        "    user_id = user[\"id\"]\n",
        "    return Counter(\n",
        "        foaf_id\n",
        "        for friend_id in friendships[user_id]     # For each of my friends,\n",
        "        for foaf_id in friendships[friend_id]     # find their friends\n",
        "        if foaf_id != user_id                     # who aren't me\n",
        "        and foaf_id not in friendships[user_id]   # and aren't my friends.\n",
        "    )\n",
        "\n",
        "\n",
        "print(friends_of_friends(users[3]))"
      ],
      "metadata": {
        "colab": {
          "base_uri": "https://localhost:8080/"
        },
        "id": "k5VpiHMUX6EE",
        "outputId": "ed740619-2fd0-4239-f4ca-4f21876a2eb9"
      },
      "execution_count": 9,
      "outputs": [
        {
          "output_type": "stream",
          "name": "stdout",
          "text": [
            "Counter({0: 2, 5: 1})\n"
          ]
        }
      ]
    },
    {
      "cell_type": "code",
      "source": [],
      "metadata": {
        "id": "n2gB7EvPYKyQ"
      },
      "execution_count": null,
      "outputs": []
    }
  ]
}