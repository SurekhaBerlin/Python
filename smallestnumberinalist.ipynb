{
  "nbformat": 4,
  "nbformat_minor": 0,
  "metadata": {
    "colab": {
      "provenance": [],
      "authorship_tag": "ABX9TyOt/aUlypkkFwfdZdRjeqcr",
      "include_colab_link": true
    },
    "kernelspec": {
      "name": "python3",
      "display_name": "Python 3"
    },
    "language_info": {
      "name": "python"
    }
  },
  "cells": [
    {
      "cell_type": "markdown",
      "metadata": {
        "id": "view-in-github",
        "colab_type": "text"
      },
      "source": [
        "<a href=\"https://colab.research.google.com/github/SurekhaBerlin/Python/blob/master/smallestnumberinalist.ipynb\" target=\"_parent\"><img src=\"https://colab.research.google.com/assets/colab-badge.svg\" alt=\"Open In Colab\"/></a>"
      ]
    },
    {
      "cell_type": "code",
      "execution_count": null,
      "metadata": {
        "id": "EWA4AAU1Ji5h"
      },
      "outputs": [],
      "source": []
    },
    {
      "cell_type": "markdown",
      "source": [
        "# *Python program to find smallest number in a list*"
      ],
      "metadata": {
        "id": "7r5KV6kTJrpz"
      }
    },
    {
      "cell_type": "code",
      "source": [
        "list1 = [10, 20, 4, 45, 99]"
      ],
      "metadata": {
        "id": "-mWcnmXxJ41n"
      },
      "execution_count": 1,
      "outputs": []
    },
    {
      "cell_type": "code",
      "source": [
        "list1.sort()"
      ],
      "metadata": {
        "id": "usKgndpeJ8lk"
      },
      "execution_count": 2,
      "outputs": []
    },
    {
      "cell_type": "code",
      "source": [
        "list1"
      ],
      "metadata": {
        "colab": {
          "base_uri": "https://localhost:8080/"
        },
        "id": "95EpAveTKATT",
        "outputId": "c79c9099-5bc2-46c7-d3f6-def6de9a3419"
      },
      "execution_count": 3,
      "outputs": [
        {
          "output_type": "execute_result",
          "data": {
            "text/plain": [
              "[4, 10, 20, 45, 99]"
            ]
          },
          "metadata": {},
          "execution_count": 3
        }
      ]
    },
    {
      "cell_type": "code",
      "source": [
        "list1[0]"
      ],
      "metadata": {
        "colab": {
          "base_uri": "https://localhost:8080/"
        },
        "id": "k83mFPjSKBbD",
        "outputId": "1b175762-f3ee-4cfa-c6dd-fa4a5bb7fe6b"
      },
      "execution_count": 4,
      "outputs": [
        {
          "output_type": "execute_result",
          "data": {
            "text/plain": [
              "4"
            ]
          },
          "metadata": {},
          "execution_count": 4
        }
      ]
    },
    {
      "cell_type": "code",
      "source": [
        "print(\"Smallest element in the list is:\" , list1[0])"
      ],
      "metadata": {
        "colab": {
          "base_uri": "https://localhost:8080/"
        },
        "id": "RC0wxgWeKGBz",
        "outputId": "2c978869-469b-40b9-9f34-688c44e024df"
      },
      "execution_count": 7,
      "outputs": [
        {
          "output_type": "stream",
          "name": "stdout",
          "text": [
            "Smallest element in the list is: 4\n"
          ]
        }
      ]
    },
    {
      "cell_type": "code",
      "source": [],
      "metadata": {
        "id": "69hkzBoGKRBT"
      },
      "execution_count": null,
      "outputs": []
    },
    {
      "cell_type": "markdown",
      "source": [
        "*second method\n",
        "\n",
        "\n",
        "\n"
      ],
      "metadata": {
        "id": "TDNUyXNNKiqm"
      }
    },
    {
      "cell_type": "code",
      "source": [],
      "metadata": {
        "id": "3OXQESsYKvHh"
      },
      "execution_count": null,
      "outputs": []
    },
    {
      "cell_type": "code",
      "source": [
        "list1 = [10, 20, 4, 45, 99]"
      ],
      "metadata": {
        "id": "_bSZNQDfKwDi"
      },
      "execution_count": 13,
      "outputs": []
    },
    {
      "cell_type": "code",
      "source": [
        "list1.sort()"
      ],
      "metadata": {
        "id": "MN49qYT-KxMh"
      },
      "execution_count": 14,
      "outputs": []
    },
    {
      "cell_type": "code",
      "source": [
        "list1.sort(reverse=True)"
      ],
      "metadata": {
        "id": "lsFYVOHcKyzh"
      },
      "execution_count": 15,
      "outputs": []
    },
    {
      "cell_type": "code",
      "source": [
        "print(\"Smallest element in the list is:\",list1[-1])"
      ],
      "metadata": {
        "colab": {
          "base_uri": "https://localhost:8080/"
        },
        "id": "NH72HxbdK9aw",
        "outputId": "df3ac3ce-69f4-4c4c-d48f-408ec4f46ef8"
      },
      "execution_count": 16,
      "outputs": [
        {
          "output_type": "stream",
          "name": "stdout",
          "text": [
            "Smallest element in the list is: 4\n"
          ]
        }
      ]
    },
    {
      "cell_type": "markdown",
      "source": [
        "Third Method"
      ],
      "metadata": {
        "id": "5s1vhVPaLGnn"
      }
    },
    {
      "cell_type": "code",
      "source": [
        "list1 = [10, 20, 4, 45, 99]"
      ],
      "metadata": {
        "id": "Y-bzslhdLIDA"
      },
      "execution_count": 17,
      "outputs": []
    },
    {
      "cell_type": "code",
      "source": [
        "print(\"Smallest element in the list is:\",min(list1))"
      ],
      "metadata": {
        "colab": {
          "base_uri": "https://localhost:8080/"
        },
        "id": "WK_uXuzpLPMP",
        "outputId": "bdeef8f4-d572-4d8e-8748-8ef095047c65"
      },
      "execution_count": 19,
      "outputs": [
        {
          "output_type": "stream",
          "name": "stdout",
          "text": [
            "Smallest element in the list is: 4\n"
          ]
        }
      ]
    },
    {
      "cell_type": "code",
      "source": [],
      "metadata": {
        "id": "wi45dHKwLV3v"
      },
      "execution_count": null,
      "outputs": []
    },
    {
      "cell_type": "markdown",
      "source": [
        "Find minimum list element for a user defined list"
      ],
      "metadata": {
        "id": "GkvuQwsSLfEA"
      }
    },
    {
      "cell_type": "code",
      "source": [],
      "metadata": {
        "id": "EUd3d8nSLit9"
      },
      "execution_count": 20,
      "outputs": []
    },
    {
      "cell_type": "code",
      "source": [
        "list1 = []\n",
        "num = int(input(\"Enter number of elements in list: \"))\n",
        "\n",
        "for i in range(1, num + 1):\n",
        "  ele = int(input(\"Enter elements:\"))\n",
        "  list1.append(ele)\n",
        "print(\"Smallest element in the list is:\", min(list1))\n",
        "\n",
        ""
      ],
      "metadata": {
        "colab": {
          "base_uri": "https://localhost:8080/"
        },
        "id": "DOH7FIcTN6VH",
        "outputId": "593f0108-3591-4135-e92c-c6693d30b789"
      },
      "execution_count": 27,
      "outputs": [
        {
          "output_type": "stream",
          "name": "stdout",
          "text": [
            "Enter number of elements in list: 5\n",
            "Enter elements:55\n",
            "Enter elements:44\n",
            "Enter elements:33\n",
            "Enter elements:22\n",
            "Enter elements:11\n",
            "Smallest element in the list is: 11\n"
          ]
        }
      ]
    },
    {
      "cell_type": "code",
      "source": [
        "# Python program to find smallest\n",
        "# number in a list\n",
        "\n",
        "# creating empty list\n",
        "list1 = []\n",
        "\n",
        "# asking number of elements to put in list\n",
        "num = int(input(\"Enter number of elements in list: \"))\n",
        "\n",
        "# iterating till num to append elements in list\n",
        "for i in range(1, num + 1):\n",
        "\tele= int(input(\"Enter elements: \"))\n",
        "\tlist1.append(ele)\n",
        "\n",
        "# print minimum element:\n",
        "print(\"Smallest element is:\", min(list1))\n"
      ],
      "metadata": {
        "colab": {
          "base_uri": "https://localhost:8080/"
        },
        "id": "UNHx0EKHOoWE",
        "outputId": "59981bbd-c599-4557-8bda-bc89619ce0a4"
      },
      "execution_count": 26,
      "outputs": [
        {
          "output_type": "stream",
          "name": "stdout",
          "text": [
            "Enter number of elements in list: 5\n",
            "Enter elements: 55\n",
            "Enter elements: 66\n",
            "Enter elements: 33\n",
            "Enter elements: 55\n",
            "Enter elements: 11\n",
            "Smallest element is: 11\n"
          ]
        }
      ]
    },
    {
      "cell_type": "code",
      "source": [],
      "metadata": {
        "id": "1Qq80hPdPKeE"
      },
      "execution_count": null,
      "outputs": []
    }
  ]
}