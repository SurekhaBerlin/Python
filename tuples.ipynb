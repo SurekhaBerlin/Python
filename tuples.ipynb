{
  "nbformat": 4,
  "nbformat_minor": 0,
  "metadata": {
    "colab": {
      "provenance": [],
      "authorship_tag": "ABX9TyPwSnuvNuAP5pdcgBtnRLD0",
      "include_colab_link": true
    },
    "kernelspec": {
      "name": "python3",
      "display_name": "Python 3"
    },
    "language_info": {
      "name": "python"
    }
  },
  "cells": [
    {
      "cell_type": "markdown",
      "metadata": {
        "id": "view-in-github",
        "colab_type": "text"
      },
      "source": [
        "<a href=\"https://colab.research.google.com/github/SurekhaBerlin/Python/blob/master/tuples.ipynb\" target=\"_parent\"><img src=\"https://colab.research.google.com/assets/colab-badge.svg\" alt=\"Open In Colab\"/></a>"
      ]
    },
    {
      "cell_type": "code",
      "execution_count": null,
      "metadata": {
        "id": "khesAj6mvuJ9"
      },
      "outputs": [],
      "source": []
    },
    {
      "cell_type": "markdown",
      "source": [
        ">Tuples are ordered sequence of mixed\n",
        "data types\n",
        ">Tuples are written in comma seperated elements within parenthesis"
      ],
      "metadata": {
        "id": "_G_dS1_pv1LJ"
      }
    },
    {
      "cell_type": "code",
      "source": [
        "t1=(1,2,3,4,5)"
      ],
      "metadata": {
        "id": "0HshCQHcwJ71"
      },
      "execution_count": 1,
      "outputs": []
    },
    {
      "cell_type": "code",
      "source": [
        "type (t1)"
      ],
      "metadata": {
        "colab": {
          "base_uri": "https://localhost:8080/"
        },
        "id": "q72G_91fwslo",
        "outputId": "d2523d5e-e6da-4c7e-d56a-7fb527336092"
      },
      "execution_count": 3,
      "outputs": [
        {
          "output_type": "execute_result",
          "data": {
            "text/plain": [
              "tuple"
            ]
          },
          "metadata": {},
          "execution_count": 3
        }
      ]
    },
    {
      "cell_type": "code",
      "source": [
        "t2 = (4,5,6,7,8,5)"
      ],
      "metadata": {
        "id": "hSO5Ni5iwtyo"
      },
      "execution_count": 4,
      "outputs": []
    },
    {
      "cell_type": "code",
      "source": [
        "nested_tup = (1,2,3,4,(4,4,5,6,7))"
      ],
      "metadata": {
        "id": "0CZb5xg0wz-Y"
      },
      "execution_count": 5,
      "outputs": []
    },
    {
      "cell_type": "code",
      "source": [
        "type(nested_tup)"
      ],
      "metadata": {
        "colab": {
          "base_uri": "https://localhost:8080/"
        },
        "id": "Phtn8Eclw6L4",
        "outputId": "3c9738c4-0f5c-4130-e7bd-7757b46c7f0b"
      },
      "execution_count": 6,
      "outputs": [
        {
          "output_type": "execute_result",
          "data": {
            "text/plain": [
              "tuple"
            ]
          },
          "metadata": {},
          "execution_count": 6
        }
      ]
    },
    {
      "cell_type": "code",
      "source": [
        "t1 = ('hello',5,5.5,[2,3,4])"
      ],
      "metadata": {
        "id": "i4vpL2AJw8bY"
      },
      "execution_count": 7,
      "outputs": []
    },
    {
      "cell_type": "code",
      "source": [
        "t1[3]"
      ],
      "metadata": {
        "colab": {
          "base_uri": "https://localhost:8080/"
        },
        "id": "IExZP3PtxYaW",
        "outputId": "14b7e5df-ff09-45be-f71a-ff1679e186d0"
      },
      "execution_count": 9,
      "outputs": [
        {
          "output_type": "execute_result",
          "data": {
            "text/plain": [
              "[2, 3, 4]"
            ]
          },
          "metadata": {},
          "execution_count": 9
        }
      ]
    },
    {
      "cell_type": "code",
      "source": [
        "t1[3][1]"
      ],
      "metadata": {
        "colab": {
          "base_uri": "https://localhost:8080/"
        },
        "id": "ecfk3Z05xcr2",
        "outputId": "2a32ef24-dfb0-4e71-fcad-0ba5cacf7630"
      },
      "execution_count": 10,
      "outputs": [
        {
          "output_type": "execute_result",
          "data": {
            "text/plain": [
              "3"
            ]
          },
          "metadata": {},
          "execution_count": 10
        }
      ]
    },
    {
      "cell_type": "code",
      "source": [],
      "metadata": {
        "id": "wm6uEJsaxjWm"
      },
      "execution_count": null,
      "outputs": []
    },
    {
      "cell_type": "markdown",
      "source": [
        "Immutability"
      ],
      "metadata": {
        "id": "gYHGgCdvyg4V"
      }
    },
    {
      "cell_type": "code",
      "source": [
        "list_1 = [\"Bio\",\"Chem\",\"Phy\",\"Math\"]"
      ],
      "metadata": {
        "id": "1yLjvWqDyiSD"
      },
      "execution_count": 11,
      "outputs": []
    },
    {
      "cell_type": "code",
      "source": [
        "list_1[0] = \"Comp\""
      ],
      "metadata": {
        "id": "rv18gbQ20jNc"
      },
      "execution_count": 12,
      "outputs": []
    },
    {
      "cell_type": "code",
      "source": [
        "print(list_1)"
      ],
      "metadata": {
        "colab": {
          "base_uri": "https://localhost:8080/"
        },
        "id": "jKzVW0SE0pm7",
        "outputId": "144488c2-9259-4230-a939-010dbc862474"
      },
      "execution_count": 13,
      "outputs": [
        {
          "output_type": "stream",
          "name": "stdout",
          "text": [
            "['Comp', 'Chem', 'Phy', 'Math']\n"
          ]
        }
      ]
    },
    {
      "cell_type": "code",
      "source": [
        "tuple1_1 = (\"Bio\",\"Chem\",\"Phy\",\"Math\")"
      ],
      "metadata": {
        "id": "QLL76YPl0sJ7"
      },
      "execution_count": 14,
      "outputs": []
    },
    {
      "cell_type": "code",
      "source": [
        "t = (\"Hello\", \"Welcome\",5,10,\"world\",\"of\",\"Analytics\")"
      ],
      "metadata": {
        "id": "PLKjIUZr1Pkq"
      },
      "execution_count": 21,
      "outputs": []
    },
    {
      "cell_type": "code",
      "source": [
        "t[0:2]"
      ],
      "metadata": {
        "colab": {
          "base_uri": "https://localhost:8080/"
        },
        "id": "SiXbMqbN1suG",
        "outputId": "fa0c9f79-af0c-46b0-f7fd-9d98f9bddb5a"
      },
      "execution_count": 22,
      "outputs": [
        {
          "output_type": "execute_result",
          "data": {
            "text/plain": [
              "('Hello', 'Welcome')"
            ]
          },
          "metadata": {},
          "execution_count": 22
        }
      ]
    },
    {
      "cell_type": "code",
      "source": [
        "t[4:]"
      ],
      "metadata": {
        "colab": {
          "base_uri": "https://localhost:8080/"
        },
        "id": "MAzGSkj51zX3",
        "outputId": "ad3b82bc-9a4f-4470-816e-4d13a186875b"
      },
      "execution_count": 23,
      "outputs": [
        {
          "output_type": "execute_result",
          "data": {
            "text/plain": [
              "('world', 'of', 'Analytics')"
            ]
          },
          "metadata": {},
          "execution_count": 23
        }
      ]
    },
    {
      "cell_type": "code",
      "source": [
        "new_tuple = t[0:2] + (\"to\", \"the\") +t[4:]"
      ],
      "metadata": {
        "id": "fK4sCxBp156H"
      },
      "execution_count": 25,
      "outputs": []
    },
    {
      "cell_type": "code",
      "source": [
        "new_tuple"
      ],
      "metadata": {
        "colab": {
          "base_uri": "https://localhost:8080/"
        },
        "id": "9ggOlMiW2GrG",
        "outputId": "1ae444c0-37dc-4b33-c181-2dcb2fd5c742"
      },
      "execution_count": 26,
      "outputs": [
        {
          "output_type": "execute_result",
          "data": {
            "text/plain": [
              "('Hello', 'Welcome', 'to', 'the', 'world', 'of', 'Analytics')"
            ]
          },
          "metadata": {},
          "execution_count": 26
        }
      ]
    },
    {
      "cell_type": "code",
      "source": [],
      "metadata": {
        "id": "ivxe14z92NcW"
      },
      "execution_count": null,
      "outputs": []
    },
    {
      "cell_type": "markdown",
      "source": [
        "Sorting in tuple"
      ],
      "metadata": {
        "id": "AMjYwIXn2Wj2"
      }
    },
    {
      "cell_type": "code",
      "source": [],
      "metadata": {
        "id": "PYiEgWaZ2YAV"
      },
      "execution_count": null,
      "outputs": []
    }
  ]
}