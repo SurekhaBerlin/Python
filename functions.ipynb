{
  "nbformat": 4,
  "nbformat_minor": 0,
  "metadata": {
    "colab": {
      "provenance": [],
      "authorship_tag": "ABX9TyMvnmNf48ZJ2G+4l4j/DDb2",
      "include_colab_link": true
    },
    "kernelspec": {
      "name": "python3",
      "display_name": "Python 3"
    },
    "language_info": {
      "name": "python"
    }
  },
  "cells": [
    {
      "cell_type": "markdown",
      "metadata": {
        "id": "view-in-github",
        "colab_type": "text"
      },
      "source": [
        "<a href=\"https://colab.research.google.com/github/SurekhaBerlin/Python/blob/master/functions.ipynb\" target=\"_parent\"><img src=\"https://colab.research.google.com/assets/colab-badge.svg\" alt=\"Open In Colab\"/></a>"
      ]
    },
    {
      "cell_type": "code",
      "execution_count": 1,
      "metadata": {
        "id": "-adgGQOmhxn7"
      },
      "outputs": [],
      "source": [
        "def even_odd(x):\n",
        "  if x % 2 == 0:\n",
        "    return \"even\"\n",
        "  else:\n",
        "    return \"odd\""
      ]
    },
    {
      "cell_type": "code",
      "source": [
        "even_odd(1445567)"
      ],
      "metadata": {
        "colab": {
          "base_uri": "https://localhost:8080/",
          "height": 35
        },
        "id": "Gtk_pyK2jEfc",
        "outputId": "04ba4428-e11a-444d-9b0a-0d8d9a4c6148"
      },
      "execution_count": 2,
      "outputs": [
        {
          "output_type": "execute_result",
          "data": {
            "text/plain": [
              "'odd'"
            ],
            "application/vnd.google.colaboratory.intrinsic+json": {
              "type": "string"
            }
          },
          "metadata": {},
          "execution_count": 2
        }
      ]
    },
    {
      "cell_type": "code",
      "source": [],
      "metadata": {
        "id": "7GDpDyCUjUDZ"
      },
      "execution_count": null,
      "outputs": []
    },
    {
      "cell_type": "markdown",
      "source": [
        "Factorial\n"
      ],
      "metadata": {
        "id": "GSRybSTejpHZ"
      }
    },
    {
      "cell_type": "code",
      "source": [
        "def fact(n):\n",
        "  f =1\n",
        "  for i in range(1, n+1):\n",
        "    f = f*i\n",
        "  return f\n"
      ],
      "metadata": {
        "id": "VYw-C0zBjrLn"
      },
      "execution_count": 6,
      "outputs": []
    },
    {
      "cell_type": "code",
      "source": [
        "fact(4)"
      ],
      "metadata": {
        "colab": {
          "base_uri": "https://localhost:8080/"
        },
        "id": "lhWXSNt6knmp",
        "outputId": "989f1b74-59b3-44c7-ff9e-d3b5ad57dba8"
      },
      "execution_count": 7,
      "outputs": [
        {
          "output_type": "execute_result",
          "data": {
            "text/plain": [
              "24"
            ]
          },
          "metadata": {},
          "execution_count": 7
        }
      ]
    },
    {
      "cell_type": "code",
      "source": [
        "fact(5)"
      ],
      "metadata": {
        "colab": {
          "base_uri": "https://localhost:8080/"
        },
        "id": "gyGnSGTwkulE",
        "outputId": "bdd768dc-b9db-4c44-9ba1-b8bded0af0c7"
      },
      "execution_count": 8,
      "outputs": [
        {
          "output_type": "execute_result",
          "data": {
            "text/plain": [
              "120"
            ]
          },
          "metadata": {},
          "execution_count": 8
        }
      ]
    },
    {
      "cell_type": "code",
      "source": [
        "\n",
        "  f = 1\n",
        "  for i in range(1,5):\n",
        "   f = f * i\n",
        "   print(f)"
      ],
      "metadata": {
        "colab": {
          "base_uri": "https://localhost:8080/"
        },
        "id": "TyC_N9ANk0Dl",
        "outputId": "6059e5fe-e8e3-4591-b44c-c97e20a01697"
      },
      "execution_count": 27,
      "outputs": [
        {
          "output_type": "stream",
          "name": "stdout",
          "text": [
            "1\n",
            "2\n",
            "6\n",
            "24\n"
          ]
        }
      ]
    },
    {
      "cell_type": "markdown",
      "source": [
        "Write a function to check if a number is odd or even.\n",
        "Write a function to calculate the factorial of a number.\n",
        "Write a function to find the maximum number in a list.\n",
        "Write a function to find the minimum number in a list.\n",
        "Write a function to calculate the sum of all numbers in a list.\n",
        "Write a function to find the average of all numbers in a list.\n",
        "Write a function to check if a given string is a palindrome.\n",
        "Write a function to reverse a string.\n",
        "Write a function to count the number of vowels in a string.\n",
        "Write a function to check if a given number is a prime number.\n",
        "\n"
      ],
      "metadata": {
        "id": "PDCtBjp5mYsm"
      }
    },
    {
      "cell_type": "code",
      "source": [
        "def fact_number(n):\n",
        "  fact = 1\n",
        "\n",
        "  for i in range(1,n+1):\n",
        "    fact = fact * 1"
      ],
      "metadata": {
        "id": "IijO-JQUlNPT"
      },
      "execution_count": 4,
      "outputs": []
    },
    {
      "cell_type": "code",
      "source": [
        "fact_number(4)"
      ],
      "metadata": {
        "id": "ycbpUL6z-dG4"
      },
      "execution_count": 5,
      "outputs": []
    },
    {
      "cell_type": "code",
      "source": [],
      "metadata": {
        "id": "Eg7i_JOo-rJW"
      },
      "execution_count": null,
      "outputs": []
    },
    {
      "cell_type": "code",
      "source": [
        "def fact_number(n):\n",
        "  fact = 1\n",
        "\n",
        "  for i in range(1,n+1):\n",
        "    fact = fact * i\n",
        "  return fact"
      ],
      "metadata": {
        "id": "fTEs2_5C-2iM"
      },
      "execution_count": 13,
      "outputs": []
    },
    {
      "cell_type": "code",
      "source": [
        "\n",
        "fact_number(6)"
      ],
      "metadata": {
        "colab": {
          "base_uri": "https://localhost:8080/"
        },
        "id": "RwOJ3tDU-3L1",
        "outputId": "9f8f7863-2883-40a0-e754-276eee093e9c"
      },
      "execution_count": 14,
      "outputs": [
        {
          "output_type": "execute_result",
          "data": {
            "text/plain": [
              "720"
            ]
          },
          "metadata": {},
          "execution_count": 14
        }
      ]
    },
    {
      "cell_type": "code",
      "source": [],
      "metadata": {
        "id": "3wcSH-US-5pU"
      },
      "execution_count": null,
      "outputs": []
    }
  ]
}