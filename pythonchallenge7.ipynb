{
  "nbformat": 4,
  "nbformat_minor": 0,
  "metadata": {
    "colab": {
      "provenance": [],
      "authorship_tag": "ABX9TyNzZq7Y02I32xRbPhhlf9nI",
      "include_colab_link": true
    },
    "kernelspec": {
      "name": "python3",
      "display_name": "Python 3"
    },
    "language_info": {
      "name": "python"
    }
  },
  "cells": [
    {
      "cell_type": "markdown",
      "metadata": {
        "id": "view-in-github",
        "colab_type": "text"
      },
      "source": [
        "<a href=\"https://colab.research.google.com/github/SurekhaBerlin/Python/blob/main/pythonchallenge7.ipynb\" target=\"_parent\"><img src=\"https://colab.research.google.com/assets/colab-badge.svg\" alt=\"Open In Colab\"/></a>"
      ]
    },
    {
      "cell_type": "code",
      "execution_count": 2,
      "metadata": {
        "colab": {
          "base_uri": "https://localhost:8080/"
        },
        "id": "5Sq90I8uJU-4",
        "outputId": "8a18933b-6d16-4aba-cc66-902cfaa1b71d"
      },
      "outputs": [
        {
          "output_type": "stream",
          "name": "stdout",
          "text": [
            "600\n"
          ]
        }
      ],
      "source": [
        "import random\n",
        "num = random.randint(0,9)\n",
        "num = num * 100\n",
        "print(num)"
      ]
    },
    {
      "cell_type": "code",
      "source": [
        "num1 = random.randint(0,1000)\n",
        "num2 = random.randint(0,1000)\n",
        "newrand = num1/num2\n",
        "print(newrand)"
      ],
      "metadata": {
        "colab": {
          "base_uri": "https://localhost:8080/"
        },
        "id": "XmLATELeJtCj",
        "outputId": "0eaf219b-3fbd-4779-9888-a590c19e37e7"
      },
      "execution_count": 3,
      "outputs": [
        {
          "output_type": "stream",
          "name": "stdout",
          "text": [
            "1.0386052303860522\n"
          ]
        }
      ]
    },
    {
      "cell_type": "code",
      "source": [
        "num = random.randrange(0,100,5)"
      ],
      "metadata": {
        "id": "WElclhFTKefE"
      },
      "execution_count": 4,
      "outputs": []
    },
    {
      "cell_type": "code",
      "source": [
        "print (num)"
      ],
      "metadata": {
        "colab": {
          "base_uri": "https://localhost:8080/"
        },
        "id": "OKnhLHRyKo84",
        "outputId": "93a9353e-af69-493a-a9b8-5b5984c718ef"
      },
      "execution_count": 5,
      "outputs": [
        {
          "output_type": "stream",
          "name": "stdout",
          "text": [
            "60\n"
          ]
        }
      ]
    },
    {
      "cell_type": "code",
      "source": [
        "colour = random.choice([\"red\",\"green\",\"blue\"])\n",
        "print(colour)"
      ],
      "metadata": {
        "colab": {
          "base_uri": "https://localhost:8080/"
        },
        "id": "uP7c0Cw5KrHn",
        "outputId": "4578bb00-b612-47f7-a7d4-ca3c43105235"
      },
      "execution_count": 7,
      "outputs": [
        {
          "output_type": "stream",
          "name": "stdout",
          "text": [
            "green\n"
          ]
        }
      ]
    },
    {
      "cell_type": "code",
      "source": [
        "num = random.randint(1,100)\n",
        "print (num)"
      ],
      "metadata": {
        "colab": {
          "base_uri": "https://localhost:8080/"
        },
        "id": "Jq_NgY33K3xs",
        "outputId": "33abc99c-0b5a-464f-f763-1d87303ab8ae"
      },
      "execution_count": 9,
      "outputs": [
        {
          "output_type": "stream",
          "name": "stdout",
          "text": [
            "33\n"
          ]
        }
      ]
    },
    {
      "cell_type": "code",
      "source": [
        "fruit = random.choice([\"orange\",\"blue\",\"green\",\"yellow\",\"black\"])\n",
        "print(fruit)"
      ],
      "metadata": {
        "colab": {
          "base_uri": "https://localhost:8080/"
        },
        "id": "Vlf2HcDQLN_M",
        "outputId": "b9ca62db-6c7f-48c2-e8b0-5f16f833ccf9"
      },
      "execution_count": 10,
      "outputs": [
        {
          "output_type": "stream",
          "name": "stdout",
          "text": [
            "green\n"
          ]
        }
      ]
    },
    {
      "cell_type": "code",
      "source": [
        "import random\n",
        "coin = random.choice([\"h\",\"t\"])\n",
        "if coin == \"h\":\n",
        "  print(\"You win\")\n",
        "else:\n",
        "  print(\"You lose\")"
      ],
      "metadata": {
        "colab": {
          "base_uri": "https://localhost:8080/"
        },
        "id": "BxrLg5HiLgS4",
        "outputId": "e72dde35-7e11-4756-f4cc-c699189cab92"
      },
      "execution_count": 13,
      "outputs": [
        {
          "output_type": "stream",
          "name": "stdout",
          "text": [
            "You win\n"
          ]
        }
      ]
    },
    {
      "cell_type": "code",
      "source": [
        "num = random.randint(1,5)\n",
        "guess = int(input ( \"Pick a number: \" ))\n",
        "if guess == num:\n",
        "  print(\"Well done !!\")\n",
        "elif guess > num:\n",
        "  print(\"Too high\")\n",
        "  guess= int(input(\"Pick a second number: \"))\n",
        "  if guess == num:\n",
        "    print(\"Correct\")\n",
        "  else:\n",
        "    print(\"You lose\")\n",
        "elif guess < num:\n",
        "  print(\"Too low\")\n",
        "  guess = int(input(\"Pick a second number: \"))\n",
        "  if guess == num:\n",
        "    print(\"Correct\")\n",
        "  else:\n",
        "    print(\"You lose\")"
      ],
      "metadata": {
        "colab": {
          "base_uri": "https://localhost:8080/"
        },
        "id": "0fiks1ALMpne",
        "outputId": "54e53224-6f8f-4a52-83f8-e08399388fed"
      },
      "execution_count": 17,
      "outputs": [
        {
          "output_type": "stream",
          "name": "stdout",
          "text": [
            "Pick a number: 5\n",
            "Too high\n",
            "Pick a second number: 3\n",
            "Correct\n"
          ]
        }
      ]
    },
    {
      "cell_type": "code",
      "source": [
        "num = random.randint(1,10)\n",
        "correct = False\n",
        "\n",
        "while correct == False:\n",
        "  guess = int(input ( \"Enter a number: \" ))\n",
        "  if guess == num:\n",
        "    correct = True\n",
        "    print(\"The number is exactly the random number !\")\n",
        "  elif guess < num:\n",
        "    print(\"Too Low\")\n",
        "  else:\n",
        "    print(\"Too High\")"
      ],
      "metadata": {
        "colab": {
          "base_uri": "https://localhost:8080/"
        },
        "id": "kEwUt7IrPHgK",
        "outputId": "0788acda-3dfa-4303-e15d-cc377fbd22cc"
      },
      "execution_count": 30,
      "outputs": [
        {
          "output_type": "stream",
          "name": "stdout",
          "text": [
            "Enter a number: 1\n",
            "Too Low\n",
            "Enter a number: 5\n",
            "Too Low\n",
            "Enter a number: 8\n",
            "The number is exactly the random number !\n"
          ]
        }
      ]
    },
    {
      "cell_type": "code",
      "source": [
        "import random\n",
        "colour = random.choice([\"red\",\"green\",\"blue\",\"black\",\"pink\"])\n",
        "correct = False\n",
        "guess = str(input ( \"Pick a color: \" ))\n",
        "while correct == False:\n",
        "  if guess == colour:\n",
        "    correct = True\n",
        "    print(\"Well done !!!\")\n",
        "  else:\n",
        "    if guess == 'red':\n",
        "      print(\"I bet you are red with envy !\")\n",
        "      guess = str(input ( \"Pick a color: \" ))\n",
        "    elif guess == 'green':\n",
        "      print(\"I bet you are green with envy !\")\n",
        "      guess = str(input ( \"Pick a color: \" ))\n",
        "    elif guess == 'blue':\n",
        "      print(\"You are probably feeling blue right now ! \")\n",
        "      guess = str(input ( \"Pick a color: \" ))\n",
        "    elif guess == 'black':\n",
        "      print(\"I bet you are black with envy ! \")\n",
        "      guess = str(input ( \"Pick a color: \" ))\n",
        "    elif guess == 'pink':\n",
        "      print(\"I bet you are pink with envy ! \")\n",
        "      guess = str(input ( \"Pick a color: \" ))\n",
        "    else:\n",
        "      print(\"Incorrect ! \")\n",
        "      guess = str(input ( \"Pick a color: \" ))"
      ],
      "metadata": {
        "colab": {
          "base_uri": "https://localhost:8080/"
        },
        "id": "_cDvjyLhSqZP",
        "outputId": "9733b683-6076-4e04-e8c6-8c0c2ac99805"
      },
      "execution_count": 42,
      "outputs": [
        {
          "output_type": "stream",
          "name": "stdout",
          "text": [
            "Pick a color: red\n",
            "I bet you are red with envy !\n",
            "Pick a color: green\n",
            "I bet you are green with envy !\n",
            "Pick a color: blue\n",
            "Well done !!!\n"
          ]
        }
      ]
    },
    {
      "cell_type": "code",
      "source": [],
      "metadata": {
        "id": "hSpS9IwiDGFt"
      },
      "execution_count": null,
      "outputs": []
    }
  ]
}