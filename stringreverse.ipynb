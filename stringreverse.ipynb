{
  "nbformat": 4,
  "nbformat_minor": 0,
  "metadata": {
    "colab": {
      "provenance": [],
      "authorship_tag": "ABX9TyP0Ou9bImOlLJv2SthH9Mqa",
      "include_colab_link": true
    },
    "kernelspec": {
      "name": "python3",
      "display_name": "Python 3"
    },
    "language_info": {
      "name": "python"
    }
  },
  "cells": [
    {
      "cell_type": "markdown",
      "metadata": {
        "id": "view-in-github",
        "colab_type": "text"
      },
      "source": [
        "<a href=\"https://colab.research.google.com/github/SurekhaBerlin/Python/blob/master/stringreverse.ipynb\" target=\"_parent\"><img src=\"https://colab.research.google.com/assets/colab-badge.svg\" alt=\"Open In Colab\"/></a>"
      ]
    },
    {
      "cell_type": "code",
      "execution_count": null,
      "metadata": {
        "id": "Pk9SCz09g7-D"
      },
      "outputs": [],
      "source": []
    },
    {
      "cell_type": "markdown",
      "source": [
        "Reverse a string in Python using a loop"
      ],
      "metadata": {
        "id": "05WyG-0tg_Vt"
      }
    },
    {
      "cell_type": "code",
      "source": [
        "def reverse(string):\n",
        "  str = \" \"\n",
        "  for i in string:\n",
        "    str = i + str\n",
        "  return str\n",
        "string = input(\"Enter the String: \" )\n",
        "\n",
        "print (\"The original string is : \",end = \" \")\n",
        "print (string)\n",
        "\n",
        "\n",
        "print(\"The reversed string is :  \",end = \" \")\n",
        "print(reverse(string))\n"
      ],
      "metadata": {
        "colab": {
          "base_uri": "https://localhost:8080/"
        },
        "id": "TNaJjKqGhEi3",
        "outputId": "6ab47782-437d-4916-8eaf-e5ce8db3f45f"
      },
      "execution_count": 8,
      "outputs": [
        {
          "output_type": "stream",
          "name": "stdout",
          "text": [
            "Enter the String:  Geeksforgeeks\n",
            "The original string is :   Geeksforgeeks\n",
            "The reversed string is :   skeegrofskeeG  \n"
          ]
        }
      ]
    },
    {
      "cell_type": "code",
      "source": [],
      "metadata": {
        "id": "oRTwZc_6h5a9"
      },
      "execution_count": 2,
      "outputs": []
    },
    {
      "cell_type": "markdown",
      "source": [
        "Reverse a string in Python using recursion\n"
      ],
      "metadata": {
        "id": "P_IIxW2WjaHK"
      }
    },
    {
      "cell_type": "code",
      "source": [
        "def reverse(s):\n",
        "  if len(s) == 0:\n",
        "    return s\n",
        "  else:\n",
        "    return reverse(s[1: ])+s[0]\n",
        "\n",
        "\n",
        "\n",
        "s = input(\"Enter the string:  \")\n",
        "print (\"The original string is : \",end = \" \")\n",
        "print (s)\n",
        "\n",
        "\n",
        "print(\"The reversed string is :  \",end = \" \")\n",
        "print(reverse(s))"
      ],
      "metadata": {
        "colab": {
          "base_uri": "https://localhost:8080/"
        },
        "id": "SRnBeiDojc7t",
        "outputId": "56612790-43e2-4964-b8e6-2a1a265bb703"
      },
      "execution_count": 27,
      "outputs": [
        {
          "output_type": "stream",
          "name": "stdout",
          "text": [
            "Enter the string:  Geeksforgeeks\n",
            "The original string is :  Geeksforgeeks\n",
            "The reversed string is :   skeegrofskeeG\n"
          ]
        }
      ]
    },
    {
      "cell_type": "code",
      "source": [
        "def reverse(s):\n",
        "\tif len(s) == 0:\n",
        "\t\treturn s\n",
        "\telse:\n",
        "\t\treturn reverse(s[1:]) + s[0]\n",
        "\n",
        "\n",
        "s = input(\"Enter the String: \")\n",
        "\n",
        "print(\"The original string is : \", end=\"\")\n",
        "print(s)\n",
        "\n",
        "print(\"The reversed string(using recursion) is : \", end=\"\")\n",
        "print(reverse(s))\n"
      ],
      "metadata": {
        "colab": {
          "base_uri": "https://localhost:8080/"
        },
        "id": "IPNWLbDom-ZV",
        "outputId": "9da1b765-27d9-459a-b8a3-f3bafd14c0f4"
      },
      "execution_count": 25,
      "outputs": [
        {
          "output_type": "stream",
          "name": "stdout",
          "text": [
            "Enter the String: Geeksforgeeks\n",
            "The original string is : Geeksforgeeks\n",
            "The reversed string(using recursion) is : skeegrofskeeG\n"
          ]
        }
      ]
    },
    {
      "cell_type": "code",
      "source": [],
      "metadata": {
        "id": "4rJEr77knU5C"
      },
      "execution_count": null,
      "outputs": []
    }
  ]
}